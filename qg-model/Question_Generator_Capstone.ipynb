{
  "cells": [
    {
      "cell_type": "markdown",
      "metadata": {
        "id": "wAr5azfEqaty"
      },
      "source": [
        "# Question Generator (QG) Model Using HuggingFace T5"
      ]
    },
    {
      "cell_type": "markdown",
      "metadata": {
        "id": "bluzWYavqn6t"
      },
      "source": [
        "## Install and Import Needed Library"
      ]
    },
    {
      "cell_type": "code",
      "execution_count": null,
      "metadata": {
        "colab": {
          "base_uri": "https://localhost:8080/"
        },
        "id": "yr9nPpVE2KJA",
        "outputId": "c08bbe88-80bb-4995-eff3-71dffb85e4cb"
      },
      "outputs": [
        {
          "name": "stdout",
          "output_type": "stream",
          "text": [
            "Requirement already satisfied: transformers in /usr/local/lib/python3.11/dist-packages (4.52.2)\n",
            "Requirement already satisfied: datasets in /usr/local/lib/python3.11/dist-packages (2.14.4)\n",
            "Requirement already satisfied: sentencepiece in /usr/local/lib/python3.11/dist-packages (0.2.0)\n",
            "Requirement already satisfied: filelock in /usr/local/lib/python3.11/dist-packages (from transformers) (3.18.0)\n",
            "Requirement already satisfied: huggingface-hub<1.0,>=0.30.0 in /usr/local/lib/python3.11/dist-packages (from transformers) (0.31.4)\n",
            "Requirement already satisfied: numpy>=1.17 in /usr/local/lib/python3.11/dist-packages (from transformers) (2.0.2)\n",
            "Requirement already satisfied: packaging>=20.0 in /usr/local/lib/python3.11/dist-packages (from transformers) (24.2)\n",
            "Requirement already satisfied: pyyaml>=5.1 in /usr/local/lib/python3.11/dist-packages (from transformers) (6.0.2)\n",
            "Requirement already satisfied: regex!=2019.12.17 in /usr/local/lib/python3.11/dist-packages (from transformers) (2024.11.6)\n",
            "Requirement already satisfied: requests in /usr/local/lib/python3.11/dist-packages (from transformers) (2.32.3)\n",
            "Requirement already satisfied: tokenizers<0.22,>=0.21 in /usr/local/lib/python3.11/dist-packages (from transformers) (0.21.1)\n",
            "Requirement already satisfied: safetensors>=0.4.3 in /usr/local/lib/python3.11/dist-packages (from transformers) (0.5.3)\n",
            "Requirement already satisfied: tqdm>=4.27 in /usr/local/lib/python3.11/dist-packages (from transformers) (4.67.1)\n",
            "Requirement already satisfied: pyarrow>=8.0.0 in /usr/local/lib/python3.11/dist-packages (from datasets) (18.1.0)\n",
            "Requirement already satisfied: dill<0.3.8,>=0.3.0 in /usr/local/lib/python3.11/dist-packages (from datasets) (0.3.7)\n",
            "Requirement already satisfied: pandas in /usr/local/lib/python3.11/dist-packages (from datasets) (2.2.2)\n",
            "Requirement already satisfied: xxhash in /usr/local/lib/python3.11/dist-packages (from datasets) (3.5.0)\n",
            "Requirement already satisfied: multiprocess in /usr/local/lib/python3.11/dist-packages (from datasets) (0.70.15)\n",
            "Requirement already satisfied: fsspec>=2021.11.1 in /usr/local/lib/python3.11/dist-packages (from fsspec[http]>=2021.11.1->datasets) (2025.3.2)\n",
            "Requirement already satisfied: aiohttp in /usr/local/lib/python3.11/dist-packages (from datasets) (3.11.15)\n",
            "Requirement already satisfied: aiohappyeyeballs>=2.3.0 in /usr/local/lib/python3.11/dist-packages (from aiohttp->datasets) (2.6.1)\n",
            "Requirement already satisfied: aiosignal>=1.1.2 in /usr/local/lib/python3.11/dist-packages (from aiohttp->datasets) (1.3.2)\n",
            "Requirement already satisfied: attrs>=17.3.0 in /usr/local/lib/python3.11/dist-packages (from aiohttp->datasets) (25.3.0)\n",
            "Requirement already satisfied: frozenlist>=1.1.1 in /usr/local/lib/python3.11/dist-packages (from aiohttp->datasets) (1.6.0)\n",
            "Requirement already satisfied: multidict<7.0,>=4.5 in /usr/local/lib/python3.11/dist-packages (from aiohttp->datasets) (6.4.4)\n",
            "Requirement already satisfied: propcache>=0.2.0 in /usr/local/lib/python3.11/dist-packages (from aiohttp->datasets) (0.3.1)\n",
            "Requirement already satisfied: yarl<2.0,>=1.17.0 in /usr/local/lib/python3.11/dist-packages (from aiohttp->datasets) (1.20.0)\n",
            "Requirement already satisfied: typing-extensions>=3.7.4.3 in /usr/local/lib/python3.11/dist-packages (from huggingface-hub<1.0,>=0.30.0->transformers) (4.13.2)\n",
            "Requirement already satisfied: charset-normalizer<4,>=2 in /usr/local/lib/python3.11/dist-packages (from requests->transformers) (3.4.2)\n",
            "Requirement already satisfied: idna<4,>=2.5 in /usr/local/lib/python3.11/dist-packages (from requests->transformers) (3.10)\n",
            "Requirement already satisfied: urllib3<3,>=1.21.1 in /usr/local/lib/python3.11/dist-packages (from requests->transformers) (2.4.0)\n",
            "Requirement already satisfied: certifi>=2017.4.17 in /usr/local/lib/python3.11/dist-packages (from requests->transformers) (2025.4.26)\n",
            "Requirement already satisfied: python-dateutil>=2.8.2 in /usr/local/lib/python3.11/dist-packages (from pandas->datasets) (2.9.0.post0)\n",
            "Requirement already satisfied: pytz>=2020.1 in /usr/local/lib/python3.11/dist-packages (from pandas->datasets) (2025.2)\n",
            "Requirement already satisfied: tzdata>=2022.7 in /usr/local/lib/python3.11/dist-packages (from pandas->datasets) (2025.2)\n",
            "Requirement already satisfied: six>=1.5 in /usr/local/lib/python3.11/dist-packages (from python-dateutil>=2.8.2->pandas->datasets) (1.17.0)\n"
          ]
        }
      ],
      "source": [
        "!pip install transformers datasets sentencepiece"
      ]
    },
    {
      "cell_type": "code",
      "execution_count": null,
      "metadata": {
        "colab": {
          "base_uri": "https://localhost:8080/"
        },
        "id": "cqDMjc7hvEos",
        "outputId": "ef22e6c2-72d0-44b4-e44c-d204ece919ab"
      },
      "outputs": [
        {
          "name": "stdout",
          "output_type": "stream",
          "text": [
            "Requirement already satisfied: transformers in /usr/local/lib/python3.11/dist-packages (4.52.2)\n",
            "Collecting seqeval\n",
            "  Downloading seqeval-1.2.2.tar.gz (43 kB)\n",
            "\u001b[2K     \u001b[90m━━━━━━━━━━━━━━━━━━━━━━━━━━━━━━━━━━━━━━━━\u001b[0m \u001b[32m43.6/43.6 kB\u001b[0m \u001b[31m2.0 MB/s\u001b[0m eta \u001b[36m0:00:00\u001b[0m\n",
            "\u001b[?25h  Preparing metadata (setup.py) ... \u001b[?25l\u001b[?25hdone\n",
            "Requirement already satisfied: filelock in /usr/local/lib/python3.11/dist-packages (from transformers) (3.18.0)\n",
            "Requirement already satisfied: huggingface-hub<1.0,>=0.30.0 in /usr/local/lib/python3.11/dist-packages (from transformers) (0.31.4)\n",
            "Requirement already satisfied: numpy>=1.17 in /usr/local/lib/python3.11/dist-packages (from transformers) (2.0.2)\n",
            "Requirement already satisfied: packaging>=20.0 in /usr/local/lib/python3.11/dist-packages (from transformers) (24.2)\n",
            "Requirement already satisfied: pyyaml>=5.1 in /usr/local/lib/python3.11/dist-packages (from transformers) (6.0.2)\n",
            "Requirement already satisfied: regex!=2019.12.17 in /usr/local/lib/python3.11/dist-packages (from transformers) (2024.11.6)\n",
            "Requirement already satisfied: requests in /usr/local/lib/python3.11/dist-packages (from transformers) (2.32.3)\n",
            "Requirement already satisfied: tokenizers<0.22,>=0.21 in /usr/local/lib/python3.11/dist-packages (from transformers) (0.21.1)\n",
            "Requirement already satisfied: safetensors>=0.4.3 in /usr/local/lib/python3.11/dist-packages (from transformers) (0.5.3)\n",
            "Requirement already satisfied: tqdm>=4.27 in /usr/local/lib/python3.11/dist-packages (from transformers) (4.67.1)\n",
            "Requirement already satisfied: scikit-learn>=0.21.3 in /usr/local/lib/python3.11/dist-packages (from seqeval) (1.6.1)\n",
            "Requirement already satisfied: fsspec>=2023.5.0 in /usr/local/lib/python3.11/dist-packages (from huggingface-hub<1.0,>=0.30.0->transformers) (2025.3.2)\n",
            "Requirement already satisfied: typing-extensions>=3.7.4.3 in /usr/local/lib/python3.11/dist-packages (from huggingface-hub<1.0,>=0.30.0->transformers) (4.13.2)\n",
            "Requirement already satisfied: scipy>=1.6.0 in /usr/local/lib/python3.11/dist-packages (from scikit-learn>=0.21.3->seqeval) (1.15.3)\n",
            "Requirement already satisfied: joblib>=1.2.0 in /usr/local/lib/python3.11/dist-packages (from scikit-learn>=0.21.3->seqeval) (1.5.0)\n",
            "Requirement already satisfied: threadpoolctl>=3.1.0 in /usr/local/lib/python3.11/dist-packages (from scikit-learn>=0.21.3->seqeval) (3.6.0)\n",
            "Requirement already satisfied: charset-normalizer<4,>=2 in /usr/local/lib/python3.11/dist-packages (from requests->transformers) (3.4.2)\n",
            "Requirement already satisfied: idna<4,>=2.5 in /usr/local/lib/python3.11/dist-packages (from requests->transformers) (3.10)\n",
            "Requirement already satisfied: urllib3<3,>=1.21.1 in /usr/local/lib/python3.11/dist-packages (from requests->transformers) (2.4.0)\n",
            "Requirement already satisfied: certifi>=2017.4.17 in /usr/local/lib/python3.11/dist-packages (from requests->transformers) (2025.4.26)\n",
            "Building wheels for collected packages: seqeval\n",
            "  Building wheel for seqeval (setup.py) ... \u001b[?25l\u001b[?25hdone\n",
            "  Created wheel for seqeval: filename=seqeval-1.2.2-py3-none-any.whl size=16162 sha256=806845b3c46655f96a8b89d10fb6255a6033e511b644b87017646ee65df3d28e\n",
            "  Stored in directory: /root/.cache/pip/wheels/bc/92/f0/243288f899c2eacdfa8c5f9aede4c71a9bad0ee26a01dc5ead\n",
            "Successfully built seqeval\n",
            "Installing collected packages: seqeval\n",
            "Successfully installed seqeval-1.2.2\n"
          ]
        }
      ],
      "source": [
        "!pip install transformers seqeval"
      ]
    },
    {
      "cell_type": "code",
      "execution_count": 1,
      "metadata": {
        "colab": {
          "base_uri": "https://localhost:8080/"
        },
        "id": "1rEGfngDMG8V",
        "outputId": "fddf3a06-1c46-4a88-da62-812e48e73405"
      },
      "outputs": [
        {
          "output_type": "stream",
          "name": "stdout",
          "text": [
            "Collecting rouge-score\n",
            "  Downloading rouge_score-0.1.2.tar.gz (17 kB)\n",
            "  Preparing metadata (setup.py) ... \u001b[?25l\u001b[?25hdone\n",
            "Requirement already satisfied: absl-py in /usr/local/lib/python3.11/dist-packages (from rouge-score) (1.4.0)\n",
            "Requirement already satisfied: nltk in /usr/local/lib/python3.11/dist-packages (from rouge-score) (3.9.1)\n",
            "Requirement already satisfied: numpy in /usr/local/lib/python3.11/dist-packages (from rouge-score) (2.0.2)\n",
            "Requirement already satisfied: six>=1.14.0 in /usr/local/lib/python3.11/dist-packages (from rouge-score) (1.17.0)\n",
            "Requirement already satisfied: click in /usr/local/lib/python3.11/dist-packages (from nltk->rouge-score) (8.2.1)\n",
            "Requirement already satisfied: joblib in /usr/local/lib/python3.11/dist-packages (from nltk->rouge-score) (1.5.1)\n",
            "Requirement already satisfied: regex>=2021.8.3 in /usr/local/lib/python3.11/dist-packages (from nltk->rouge-score) (2024.11.6)\n",
            "Requirement already satisfied: tqdm in /usr/local/lib/python3.11/dist-packages (from nltk->rouge-score) (4.67.1)\n",
            "Building wheels for collected packages: rouge-score\n",
            "  Building wheel for rouge-score (setup.py) ... \u001b[?25l\u001b[?25hdone\n",
            "  Created wheel for rouge-score: filename=rouge_score-0.1.2-py3-none-any.whl size=24934 sha256=6f8df877fa72ffd3479a3a80ed34fd1821e618ce2d033ab1673b82880e861a3e\n",
            "  Stored in directory: /root/.cache/pip/wheels/1e/19/43/8a442dc83660ca25e163e1bd1f89919284ab0d0c1475475148\n",
            "Successfully built rouge-score\n",
            "Installing collected packages: rouge-score\n",
            "Successfully installed rouge-score-0.1.2\n"
          ]
        }
      ],
      "source": [
        "!pip install rouge-score"
      ]
    },
    {
      "cell_type": "code",
      "execution_count": 3,
      "metadata": {
        "id": "pfBskCJn3tJu"
      },
      "outputs": [],
      "source": [
        "from google.colab import drive\n",
        "from google.colab import files\n",
        "import pandas as pd\n",
        "import random\n",
        "from datasets import Dataset\n",
        "import torch\n",
        "import re\n",
        "from transformers import T5Tokenizer, T5ForConditionalGeneration, TrainingArguments, Trainer\n",
        "from transformers import AutoTokenizer, AutoModelForTokenClassification, pipeline\n",
        "from rouge_score import rouge_scorer"
      ]
    },
    {
      "cell_type": "markdown",
      "metadata": {
        "id": "HxF-pWQfrIAI"
      },
      "source": [
        "## Data Loading"
      ]
    },
    {
      "cell_type": "code",
      "execution_count": 4,
      "metadata": {
        "colab": {
          "base_uri": "https://localhost:8080/"
        },
        "id": "i_4SOyYy3v2f",
        "outputId": "24375b71-36a5-4b6e-8193-c62275222308"
      },
      "outputs": [
        {
          "output_type": "stream",
          "name": "stdout",
          "text": [
            "Mounted at /content/drive\n"
          ]
        }
      ],
      "source": [
        "drive.mount('/content/drive')"
      ]
    },
    {
      "cell_type": "code",
      "execution_count": 5,
      "metadata": {
        "id": "OyeyNBEH3x4W"
      },
      "outputs": [],
      "source": [
        "!mkdir -p ~/.kaggle\n",
        "!cp \"/content/drive/MyDrive/Semester 6 (Coding Camp 2025 powered by DBS Foundation + Asdos)/Coding Camp/Capstone/kaggle/kaggle.json\" ~/.kaggle/\n",
        "!chmod 600 ~/.kaggle/kaggle.json"
      ]
    },
    {
      "cell_type": "code",
      "execution_count": 6,
      "metadata": {
        "colab": {
          "base_uri": "https://localhost:8080/"
        },
        "id": "RcVV1rvL322t",
        "outputId": "ba8cc643-3fb9-4b0b-e08a-53ef6d0db233"
      },
      "outputs": [
        {
          "output_type": "stream",
          "name": "stdout",
          "text": [
            "Dataset URL: https://www.kaggle.com/datasets/mintupsidup/squad-variated-indo\n",
            "License(s): apache-2.0\n",
            "Downloading squad-variated-indo.zip to /content\n",
            "  0% 0.00/103M [00:00<?, ?B/s]\n",
            "100% 103M/103M [00:00<00:00, 1.33GB/s]\n",
            "Archive:  squad-variated-indo.zip\n",
            "  inflating: dev-v2.0.json           \n",
            "  inflating: glove_50d_Indo.txt      \n",
            "  inflating: train-v2.0.json         \n",
            "  inflating: train_df_variated_new.csv  \n",
            "  inflating: valid_df_variated_new.csv  \n"
          ]
        }
      ],
      "source": [
        "!kaggle datasets download -d mintupsidup/squad-variated-indo\n",
        "!unzip squad-variated-indo.zip"
      ]
    },
    {
      "cell_type": "code",
      "execution_count": 7,
      "metadata": {
        "colab": {
          "base_uri": "https://localhost:8080/",
          "height": 424
        },
        "id": "uh1D7cuL4E6L",
        "outputId": "af150ee0-dacb-4d3a-a25e-d819a7913cae"
      },
      "outputs": [
        {
          "output_type": "execute_result",
          "data": {
            "text/plain": [
              "    version                                               data\n",
              "0      v2.0  {'title': 'Beyoncé', 'paragraphs': [{'context'...\n",
              "1      v2.0  {'title': 'Frédéric_Chopin', 'paragraphs': [{'...\n",
              "2      v2.0  {'title': 'Sino-Tibetan_relations_during_the_M...\n",
              "3      v2.0  {'title': 'IPod', 'paragraphs': [{'context': '...\n",
              "4      v2.0  {'title': 'The_Legend_of_Zelda:_Twilight_Princ...\n",
              "..      ...                                                ...\n",
              "472    v2.0  {'title': 'Islamism', 'paragraphs': [{'context...\n",
              "473    v2.0  {'title': 'Imperialism', 'paragraphs': [{'cont...\n",
              "474    v2.0  {'title': 'Warsaw', 'paragraphs': [{'context':...\n",
              "475    v2.0  {'title': 'French_and_Indian_War', 'paragraphs...\n",
              "476    v2.0  {'title': 'Force', 'paragraphs': [{'context': ...\n",
              "\n",
              "[477 rows x 2 columns]"
            ],
            "text/html": [
              "\n",
              "  <div id=\"df-463635d1-1746-4103-9f9a-f3f73af909f4\" class=\"colab-df-container\">\n",
              "    <div>\n",
              "<style scoped>\n",
              "    .dataframe tbody tr th:only-of-type {\n",
              "        vertical-align: middle;\n",
              "    }\n",
              "\n",
              "    .dataframe tbody tr th {\n",
              "        vertical-align: top;\n",
              "    }\n",
              "\n",
              "    .dataframe thead th {\n",
              "        text-align: right;\n",
              "    }\n",
              "</style>\n",
              "<table border=\"1\" class=\"dataframe\">\n",
              "  <thead>\n",
              "    <tr style=\"text-align: right;\">\n",
              "      <th></th>\n",
              "      <th>version</th>\n",
              "      <th>data</th>\n",
              "    </tr>\n",
              "  </thead>\n",
              "  <tbody>\n",
              "    <tr>\n",
              "      <th>0</th>\n",
              "      <td>v2.0</td>\n",
              "      <td>{'title': 'Beyoncé', 'paragraphs': [{'context'...</td>\n",
              "    </tr>\n",
              "    <tr>\n",
              "      <th>1</th>\n",
              "      <td>v2.0</td>\n",
              "      <td>{'title': 'Frédéric_Chopin', 'paragraphs': [{'...</td>\n",
              "    </tr>\n",
              "    <tr>\n",
              "      <th>2</th>\n",
              "      <td>v2.0</td>\n",
              "      <td>{'title': 'Sino-Tibetan_relations_during_the_M...</td>\n",
              "    </tr>\n",
              "    <tr>\n",
              "      <th>3</th>\n",
              "      <td>v2.0</td>\n",
              "      <td>{'title': 'IPod', 'paragraphs': [{'context': '...</td>\n",
              "    </tr>\n",
              "    <tr>\n",
              "      <th>4</th>\n",
              "      <td>v2.0</td>\n",
              "      <td>{'title': 'The_Legend_of_Zelda:_Twilight_Princ...</td>\n",
              "    </tr>\n",
              "    <tr>\n",
              "      <th>...</th>\n",
              "      <td>...</td>\n",
              "      <td>...</td>\n",
              "    </tr>\n",
              "    <tr>\n",
              "      <th>472</th>\n",
              "      <td>v2.0</td>\n",
              "      <td>{'title': 'Islamism', 'paragraphs': [{'context...</td>\n",
              "    </tr>\n",
              "    <tr>\n",
              "      <th>473</th>\n",
              "      <td>v2.0</td>\n",
              "      <td>{'title': 'Imperialism', 'paragraphs': [{'cont...</td>\n",
              "    </tr>\n",
              "    <tr>\n",
              "      <th>474</th>\n",
              "      <td>v2.0</td>\n",
              "      <td>{'title': 'Warsaw', 'paragraphs': [{'context':...</td>\n",
              "    </tr>\n",
              "    <tr>\n",
              "      <th>475</th>\n",
              "      <td>v2.0</td>\n",
              "      <td>{'title': 'French_and_Indian_War', 'paragraphs...</td>\n",
              "    </tr>\n",
              "    <tr>\n",
              "      <th>476</th>\n",
              "      <td>v2.0</td>\n",
              "      <td>{'title': 'Force', 'paragraphs': [{'context': ...</td>\n",
              "    </tr>\n",
              "  </tbody>\n",
              "</table>\n",
              "<p>477 rows × 2 columns</p>\n",
              "</div>\n",
              "    <div class=\"colab-df-buttons\">\n",
              "\n",
              "  <div class=\"colab-df-container\">\n",
              "    <button class=\"colab-df-convert\" onclick=\"convertToInteractive('df-463635d1-1746-4103-9f9a-f3f73af909f4')\"\n",
              "            title=\"Convert this dataframe to an interactive table.\"\n",
              "            style=\"display:none;\">\n",
              "\n",
              "  <svg xmlns=\"http://www.w3.org/2000/svg\" height=\"24px\" viewBox=\"0 -960 960 960\">\n",
              "    <path d=\"M120-120v-720h720v720H120Zm60-500h600v-160H180v160Zm220 220h160v-160H400v160Zm0 220h160v-160H400v160ZM180-400h160v-160H180v160Zm440 0h160v-160H620v160ZM180-180h160v-160H180v160Zm440 0h160v-160H620v160Z\"/>\n",
              "  </svg>\n",
              "    </button>\n",
              "\n",
              "  <style>\n",
              "    .colab-df-container {\n",
              "      display:flex;\n",
              "      gap: 12px;\n",
              "    }\n",
              "\n",
              "    .colab-df-convert {\n",
              "      background-color: #E8F0FE;\n",
              "      border: none;\n",
              "      border-radius: 50%;\n",
              "      cursor: pointer;\n",
              "      display: none;\n",
              "      fill: #1967D2;\n",
              "      height: 32px;\n",
              "      padding: 0 0 0 0;\n",
              "      width: 32px;\n",
              "    }\n",
              "\n",
              "    .colab-df-convert:hover {\n",
              "      background-color: #E2EBFA;\n",
              "      box-shadow: 0px 1px 2px rgba(60, 64, 67, 0.3), 0px 1px 3px 1px rgba(60, 64, 67, 0.15);\n",
              "      fill: #174EA6;\n",
              "    }\n",
              "\n",
              "    .colab-df-buttons div {\n",
              "      margin-bottom: 4px;\n",
              "    }\n",
              "\n",
              "    [theme=dark] .colab-df-convert {\n",
              "      background-color: #3B4455;\n",
              "      fill: #D2E3FC;\n",
              "    }\n",
              "\n",
              "    [theme=dark] .colab-df-convert:hover {\n",
              "      background-color: #434B5C;\n",
              "      box-shadow: 0px 1px 3px 1px rgba(0, 0, 0, 0.15);\n",
              "      filter: drop-shadow(0px 1px 2px rgba(0, 0, 0, 0.3));\n",
              "      fill: #FFFFFF;\n",
              "    }\n",
              "  </style>\n",
              "\n",
              "    <script>\n",
              "      const buttonEl =\n",
              "        document.querySelector('#df-463635d1-1746-4103-9f9a-f3f73af909f4 button.colab-df-convert');\n",
              "      buttonEl.style.display =\n",
              "        google.colab.kernel.accessAllowed ? 'block' : 'none';\n",
              "\n",
              "      async function convertToInteractive(key) {\n",
              "        const element = document.querySelector('#df-463635d1-1746-4103-9f9a-f3f73af909f4');\n",
              "        const dataTable =\n",
              "          await google.colab.kernel.invokeFunction('convertToInteractive',\n",
              "                                                    [key], {});\n",
              "        if (!dataTable) return;\n",
              "\n",
              "        const docLinkHtml = 'Like what you see? Visit the ' +\n",
              "          '<a target=\"_blank\" href=https://colab.research.google.com/notebooks/data_table.ipynb>data table notebook</a>'\n",
              "          + ' to learn more about interactive tables.';\n",
              "        element.innerHTML = '';\n",
              "        dataTable['output_type'] = 'display_data';\n",
              "        await google.colab.output.renderOutput(dataTable, element);\n",
              "        const docLink = document.createElement('div');\n",
              "        docLink.innerHTML = docLinkHtml;\n",
              "        element.appendChild(docLink);\n",
              "      }\n",
              "    </script>\n",
              "  </div>\n",
              "\n",
              "\n",
              "    <div id=\"df-2e5cc7d2-a763-4c42-b7e2-c0d98f2d8285\">\n",
              "      <button class=\"colab-df-quickchart\" onclick=\"quickchart('df-2e5cc7d2-a763-4c42-b7e2-c0d98f2d8285')\"\n",
              "                title=\"Suggest charts\"\n",
              "                style=\"display:none;\">\n",
              "\n",
              "<svg xmlns=\"http://www.w3.org/2000/svg\" height=\"24px\"viewBox=\"0 0 24 24\"\n",
              "     width=\"24px\">\n",
              "    <g>\n",
              "        <path d=\"M19 3H5c-1.1 0-2 .9-2 2v14c0 1.1.9 2 2 2h14c1.1 0 2-.9 2-2V5c0-1.1-.9-2-2-2zM9 17H7v-7h2v7zm4 0h-2V7h2v10zm4 0h-2v-4h2v4z\"/>\n",
              "    </g>\n",
              "</svg>\n",
              "      </button>\n",
              "\n",
              "<style>\n",
              "  .colab-df-quickchart {\n",
              "      --bg-color: #E8F0FE;\n",
              "      --fill-color: #1967D2;\n",
              "      --hover-bg-color: #E2EBFA;\n",
              "      --hover-fill-color: #174EA6;\n",
              "      --disabled-fill-color: #AAA;\n",
              "      --disabled-bg-color: #DDD;\n",
              "  }\n",
              "\n",
              "  [theme=dark] .colab-df-quickchart {\n",
              "      --bg-color: #3B4455;\n",
              "      --fill-color: #D2E3FC;\n",
              "      --hover-bg-color: #434B5C;\n",
              "      --hover-fill-color: #FFFFFF;\n",
              "      --disabled-bg-color: #3B4455;\n",
              "      --disabled-fill-color: #666;\n",
              "  }\n",
              "\n",
              "  .colab-df-quickchart {\n",
              "    background-color: var(--bg-color);\n",
              "    border: none;\n",
              "    border-radius: 50%;\n",
              "    cursor: pointer;\n",
              "    display: none;\n",
              "    fill: var(--fill-color);\n",
              "    height: 32px;\n",
              "    padding: 0;\n",
              "    width: 32px;\n",
              "  }\n",
              "\n",
              "  .colab-df-quickchart:hover {\n",
              "    background-color: var(--hover-bg-color);\n",
              "    box-shadow: 0 1px 2px rgba(60, 64, 67, 0.3), 0 1px 3px 1px rgba(60, 64, 67, 0.15);\n",
              "    fill: var(--button-hover-fill-color);\n",
              "  }\n",
              "\n",
              "  .colab-df-quickchart-complete:disabled,\n",
              "  .colab-df-quickchart-complete:disabled:hover {\n",
              "    background-color: var(--disabled-bg-color);\n",
              "    fill: var(--disabled-fill-color);\n",
              "    box-shadow: none;\n",
              "  }\n",
              "\n",
              "  .colab-df-spinner {\n",
              "    border: 2px solid var(--fill-color);\n",
              "    border-color: transparent;\n",
              "    border-bottom-color: var(--fill-color);\n",
              "    animation:\n",
              "      spin 1s steps(1) infinite;\n",
              "  }\n",
              "\n",
              "  @keyframes spin {\n",
              "    0% {\n",
              "      border-color: transparent;\n",
              "      border-bottom-color: var(--fill-color);\n",
              "      border-left-color: var(--fill-color);\n",
              "    }\n",
              "    20% {\n",
              "      border-color: transparent;\n",
              "      border-left-color: var(--fill-color);\n",
              "      border-top-color: var(--fill-color);\n",
              "    }\n",
              "    30% {\n",
              "      border-color: transparent;\n",
              "      border-left-color: var(--fill-color);\n",
              "      border-top-color: var(--fill-color);\n",
              "      border-right-color: var(--fill-color);\n",
              "    }\n",
              "    40% {\n",
              "      border-color: transparent;\n",
              "      border-right-color: var(--fill-color);\n",
              "      border-top-color: var(--fill-color);\n",
              "    }\n",
              "    60% {\n",
              "      border-color: transparent;\n",
              "      border-right-color: var(--fill-color);\n",
              "    }\n",
              "    80% {\n",
              "      border-color: transparent;\n",
              "      border-right-color: var(--fill-color);\n",
              "      border-bottom-color: var(--fill-color);\n",
              "    }\n",
              "    90% {\n",
              "      border-color: transparent;\n",
              "      border-bottom-color: var(--fill-color);\n",
              "    }\n",
              "  }\n",
              "</style>\n",
              "\n",
              "      <script>\n",
              "        async function quickchart(key) {\n",
              "          const quickchartButtonEl =\n",
              "            document.querySelector('#' + key + ' button');\n",
              "          quickchartButtonEl.disabled = true;  // To prevent multiple clicks.\n",
              "          quickchartButtonEl.classList.add('colab-df-spinner');\n",
              "          try {\n",
              "            const charts = await google.colab.kernel.invokeFunction(\n",
              "                'suggestCharts', [key], {});\n",
              "          } catch (error) {\n",
              "            console.error('Error during call to suggestCharts:', error);\n",
              "          }\n",
              "          quickchartButtonEl.classList.remove('colab-df-spinner');\n",
              "          quickchartButtonEl.classList.add('colab-df-quickchart-complete');\n",
              "        }\n",
              "        (() => {\n",
              "          let quickchartButtonEl =\n",
              "            document.querySelector('#df-2e5cc7d2-a763-4c42-b7e2-c0d98f2d8285 button');\n",
              "          quickchartButtonEl.style.display =\n",
              "            google.colab.kernel.accessAllowed ? 'block' : 'none';\n",
              "        })();\n",
              "      </script>\n",
              "    </div>\n",
              "\n",
              "  <div id=\"id_ff94a19a-f0ea-4379-864f-a1f85aaf1f83\">\n",
              "    <style>\n",
              "      .colab-df-generate {\n",
              "        background-color: #E8F0FE;\n",
              "        border: none;\n",
              "        border-radius: 50%;\n",
              "        cursor: pointer;\n",
              "        display: none;\n",
              "        fill: #1967D2;\n",
              "        height: 32px;\n",
              "        padding: 0 0 0 0;\n",
              "        width: 32px;\n",
              "      }\n",
              "\n",
              "      .colab-df-generate:hover {\n",
              "        background-color: #E2EBFA;\n",
              "        box-shadow: 0px 1px 2px rgba(60, 64, 67, 0.3), 0px 1px 3px 1px rgba(60, 64, 67, 0.15);\n",
              "        fill: #174EA6;\n",
              "      }\n",
              "\n",
              "      [theme=dark] .colab-df-generate {\n",
              "        background-color: #3B4455;\n",
              "        fill: #D2E3FC;\n",
              "      }\n",
              "\n",
              "      [theme=dark] .colab-df-generate:hover {\n",
              "        background-color: #434B5C;\n",
              "        box-shadow: 0px 1px 3px 1px rgba(0, 0, 0, 0.15);\n",
              "        filter: drop-shadow(0px 1px 2px rgba(0, 0, 0, 0.3));\n",
              "        fill: #FFFFFF;\n",
              "      }\n",
              "    </style>\n",
              "    <button class=\"colab-df-generate\" onclick=\"generateWithVariable('init_df')\"\n",
              "            title=\"Generate code using this dataframe.\"\n",
              "            style=\"display:none;\">\n",
              "\n",
              "  <svg xmlns=\"http://www.w3.org/2000/svg\" height=\"24px\"viewBox=\"0 0 24 24\"\n",
              "       width=\"24px\">\n",
              "    <path d=\"M7,19H8.4L18.45,9,17,7.55,7,17.6ZM5,21V16.75L18.45,3.32a2,2,0,0,1,2.83,0l1.4,1.43a1.91,1.91,0,0,1,.58,1.4,1.91,1.91,0,0,1-.58,1.4L9.25,21ZM18.45,9,17,7.55Zm-12,3A5.31,5.31,0,0,0,4.9,8.1,5.31,5.31,0,0,0,1,6.5,5.31,5.31,0,0,0,4.9,4.9,5.31,5.31,0,0,0,6.5,1,5.31,5.31,0,0,0,8.1,4.9,5.31,5.31,0,0,0,12,6.5,5.46,5.46,0,0,0,6.5,12Z\"/>\n",
              "  </svg>\n",
              "    </button>\n",
              "    <script>\n",
              "      (() => {\n",
              "      const buttonEl =\n",
              "        document.querySelector('#id_ff94a19a-f0ea-4379-864f-a1f85aaf1f83 button.colab-df-generate');\n",
              "      buttonEl.style.display =\n",
              "        google.colab.kernel.accessAllowed ? 'block' : 'none';\n",
              "\n",
              "      buttonEl.onclick = () => {\n",
              "        google.colab.notebook.generateWithVariable('init_df');\n",
              "      }\n",
              "      })();\n",
              "    </script>\n",
              "  </div>\n",
              "\n",
              "    </div>\n",
              "  </div>\n"
            ],
            "application/vnd.google.colaboratory.intrinsic+json": {
              "type": "dataframe",
              "variable_name": "init_df",
              "summary": "{\n  \"name\": \"init_df\",\n  \"rows\": 477,\n  \"fields\": [\n    {\n      \"column\": \"version\",\n      \"properties\": {\n        \"dtype\": \"category\",\n        \"num_unique_values\": 1,\n        \"samples\": [\n          \"v2.0\"\n        ],\n        \"semantic_type\": \"\",\n        \"description\": \"\"\n      }\n    },\n    {\n      \"column\": \"data\",\n      \"properties\": {\n        \"dtype\": \"object\",\n        \"semantic_type\": \"\",\n        \"description\": \"\"\n      }\n    }\n  ]\n}"
            }
          },
          "metadata": {},
          "execution_count": 7
        }
      ],
      "source": [
        "train = pd.read_json('train-v2.0.json', orient='column')\n",
        "dev = pd.read_json('dev-v2.0.json', orient='column')\n",
        "\n",
        "init_df = pd.concat([train, dev], ignore_index=True)\n",
        "init_df"
      ]
    },
    {
      "cell_type": "code",
      "execution_count": 8,
      "metadata": {
        "colab": {
          "base_uri": "https://localhost:8080/"
        },
        "id": "WAvJD0LWTSRp",
        "outputId": "34c9a8b4-9f6b-4463-e425-6c92045c48d0"
      },
      "outputs": [
        {
          "output_type": "stream",
          "name": "stdout",
          "text": [
            "<class 'pandas.core.frame.DataFrame'>\n",
            "RangeIndex: 477 entries, 0 to 476\n",
            "Data columns (total 2 columns):\n",
            " #   Column   Non-Null Count  Dtype \n",
            "---  ------   --------------  ----- \n",
            " 0   version  477 non-null    object\n",
            " 1   data     477 non-null    object\n",
            "dtypes: object(2)\n",
            "memory usage: 7.6+ KB\n"
          ]
        }
      ],
      "source": [
        "init_df.info()"
      ]
    },
    {
      "cell_type": "markdown",
      "metadata": {
        "id": "pZu8eXLLsK6I"
      },
      "source": [
        "## Data Preparation"
      ]
    },
    {
      "cell_type": "markdown",
      "metadata": {
        "id": "xR5gHudurQdp"
      },
      "source": [
        "### Extract Features"
      ]
    },
    {
      "cell_type": "code",
      "execution_count": 9,
      "metadata": {
        "colab": {
          "base_uri": "https://localhost:8080/"
        },
        "id": "4dkQdZRt4RVN",
        "outputId": "d3359f7a-9105-4d89-b2ea-f65c58b4562c"
      },
      "outputs": [
        {
          "output_type": "stream",
          "name": "stdout",
          "text": [
            "Total data pertanyaan: 92749\n"
          ]
        }
      ],
      "source": [
        "contexts, questions, answers = [], [], []\n",
        "\n",
        "for data in init_df['data']:\n",
        "    for para in data['paragraphs']:\n",
        "        context = para['context']\n",
        "        for all_questions in para['qas']:\n",
        "            if not all_questions.get(\"is_impossible\", False):\n",
        "                question = all_questions['question']\n",
        "                answer_list = all_questions['answers']\n",
        "                if len(answer_list) > 0:\n",
        "                    answer = answer_list[0]['text']\n",
        "                    questions.append(question)\n",
        "                    contexts.append(context)\n",
        "                    answers.append(answer)\n",
        "\n",
        "print(f\"Total data pertanyaan: {len(questions)}\")"
      ]
    },
    {
      "cell_type": "code",
      "execution_count": 10,
      "metadata": {
        "colab": {
          "base_uri": "https://localhost:8080/",
          "height": 424
        },
        "id": "qYWycFeKJ3Ec",
        "outputId": "2542fb31-4871-4bb9-a1e1-2d5dfb8eab2a"
      },
      "outputs": [
        {
          "output_type": "execute_result",
          "data": {
            "text/plain": [
              "                                                 context  \\\n",
              "0      Beyoncé Giselle Knowles-Carter (/bijanse / bee...   \n",
              "1      Beyoncé Giselle Knowles-Carter (/bijanse / bee...   \n",
              "2      Beyoncé Giselle Knowles-Carter (/bijanse / bee...   \n",
              "3      Beyoncé Giselle Knowles-Carter (/bijanse / bee...   \n",
              "4      Beyoncé Giselle Knowles-Carter (/bijanse / bee...   \n",
              "...                                                  ...   \n",
              "92744  Pound-force memiliki mitra metrik, kurang umum...   \n",
              "92745  Pound-force memiliki mitra metrik, kurang umum...   \n",
              "92746  Pound-force memiliki mitra metrik, kurang umum...   \n",
              "92747  Pound-force memiliki mitra metrik, kurang umum...   \n",
              "92748  Pound-force memiliki mitra metrik, kurang umum...   \n",
              "\n",
              "                                                question              answer  \n",
              "0                   Kapan Beyonce mulai menjadi populer?  pada akhir 1990-an  \n",
              "1      Daerah mana saja yang bersaing dengan Beyonce ...        menyanyi dan  \n",
              "2      Kapan Beyonce meninggalkan Destiny's Child dan...                2003  \n",
              "3                Di kota dan negara mana Beyonce tumbuh?      Houston, Texas  \n",
              "4             Pada dekade mana Beyonce menjadi terkenal?       akhir 1990-an  \n",
              "...                                                  ...                 ...  \n",
              "92744  Apa istilah metrik yang kurang digunakan dari ...      kilogram-force  \n",
              "92745  Apa daya kilogram kadang-kadang direffer ke se...            kilopond  \n",
              "92746  Apa yang jarang digunakan unit massa dalam sis...               siput  \n",
              "92747  Apa yang jarang digunakan istilah unit kekuata...                 kip  \n",
              "92748  Apa yang jarang digunakan unit gaya sama denga...              sthène  \n",
              "\n",
              "[92749 rows x 3 columns]"
            ],
            "text/html": [
              "\n",
              "  <div id=\"df-15cfccf3-43c0-4691-8d0d-69e3a827e5dd\" class=\"colab-df-container\">\n",
              "    <div>\n",
              "<style scoped>\n",
              "    .dataframe tbody tr th:only-of-type {\n",
              "        vertical-align: middle;\n",
              "    }\n",
              "\n",
              "    .dataframe tbody tr th {\n",
              "        vertical-align: top;\n",
              "    }\n",
              "\n",
              "    .dataframe thead th {\n",
              "        text-align: right;\n",
              "    }\n",
              "</style>\n",
              "<table border=\"1\" class=\"dataframe\">\n",
              "  <thead>\n",
              "    <tr style=\"text-align: right;\">\n",
              "      <th></th>\n",
              "      <th>context</th>\n",
              "      <th>question</th>\n",
              "      <th>answer</th>\n",
              "    </tr>\n",
              "  </thead>\n",
              "  <tbody>\n",
              "    <tr>\n",
              "      <th>0</th>\n",
              "      <td>Beyoncé Giselle Knowles-Carter (/bijanse / bee...</td>\n",
              "      <td>Kapan Beyonce mulai menjadi populer?</td>\n",
              "      <td>pada akhir 1990-an</td>\n",
              "    </tr>\n",
              "    <tr>\n",
              "      <th>1</th>\n",
              "      <td>Beyoncé Giselle Knowles-Carter (/bijanse / bee...</td>\n",
              "      <td>Daerah mana saja yang bersaing dengan Beyonce ...</td>\n",
              "      <td>menyanyi dan</td>\n",
              "    </tr>\n",
              "    <tr>\n",
              "      <th>2</th>\n",
              "      <td>Beyoncé Giselle Knowles-Carter (/bijanse / bee...</td>\n",
              "      <td>Kapan Beyonce meninggalkan Destiny's Child dan...</td>\n",
              "      <td>2003</td>\n",
              "    </tr>\n",
              "    <tr>\n",
              "      <th>3</th>\n",
              "      <td>Beyoncé Giselle Knowles-Carter (/bijanse / bee...</td>\n",
              "      <td>Di kota dan negara mana Beyonce tumbuh?</td>\n",
              "      <td>Houston, Texas</td>\n",
              "    </tr>\n",
              "    <tr>\n",
              "      <th>4</th>\n",
              "      <td>Beyoncé Giselle Knowles-Carter (/bijanse / bee...</td>\n",
              "      <td>Pada dekade mana Beyonce menjadi terkenal?</td>\n",
              "      <td>akhir 1990-an</td>\n",
              "    </tr>\n",
              "    <tr>\n",
              "      <th>...</th>\n",
              "      <td>...</td>\n",
              "      <td>...</td>\n",
              "      <td>...</td>\n",
              "    </tr>\n",
              "    <tr>\n",
              "      <th>92744</th>\n",
              "      <td>Pound-force memiliki mitra metrik, kurang umum...</td>\n",
              "      <td>Apa istilah metrik yang kurang digunakan dari ...</td>\n",
              "      <td>kilogram-force</td>\n",
              "    </tr>\n",
              "    <tr>\n",
              "      <th>92745</th>\n",
              "      <td>Pound-force memiliki mitra metrik, kurang umum...</td>\n",
              "      <td>Apa daya kilogram kadang-kadang direffer ke se...</td>\n",
              "      <td>kilopond</td>\n",
              "    </tr>\n",
              "    <tr>\n",
              "      <th>92746</th>\n",
              "      <td>Pound-force memiliki mitra metrik, kurang umum...</td>\n",
              "      <td>Apa yang jarang digunakan unit massa dalam sis...</td>\n",
              "      <td>siput</td>\n",
              "    </tr>\n",
              "    <tr>\n",
              "      <th>92747</th>\n",
              "      <td>Pound-force memiliki mitra metrik, kurang umum...</td>\n",
              "      <td>Apa yang jarang digunakan istilah unit kekuata...</td>\n",
              "      <td>kip</td>\n",
              "    </tr>\n",
              "    <tr>\n",
              "      <th>92748</th>\n",
              "      <td>Pound-force memiliki mitra metrik, kurang umum...</td>\n",
              "      <td>Apa yang jarang digunakan unit gaya sama denga...</td>\n",
              "      <td>sthène</td>\n",
              "    </tr>\n",
              "  </tbody>\n",
              "</table>\n",
              "<p>92749 rows × 3 columns</p>\n",
              "</div>\n",
              "    <div class=\"colab-df-buttons\">\n",
              "\n",
              "  <div class=\"colab-df-container\">\n",
              "    <button class=\"colab-df-convert\" onclick=\"convertToInteractive('df-15cfccf3-43c0-4691-8d0d-69e3a827e5dd')\"\n",
              "            title=\"Convert this dataframe to an interactive table.\"\n",
              "            style=\"display:none;\">\n",
              "\n",
              "  <svg xmlns=\"http://www.w3.org/2000/svg\" height=\"24px\" viewBox=\"0 -960 960 960\">\n",
              "    <path d=\"M120-120v-720h720v720H120Zm60-500h600v-160H180v160Zm220 220h160v-160H400v160Zm0 220h160v-160H400v160ZM180-400h160v-160H180v160Zm440 0h160v-160H620v160ZM180-180h160v-160H180v160Zm440 0h160v-160H620v160Z\"/>\n",
              "  </svg>\n",
              "    </button>\n",
              "\n",
              "  <style>\n",
              "    .colab-df-container {\n",
              "      display:flex;\n",
              "      gap: 12px;\n",
              "    }\n",
              "\n",
              "    .colab-df-convert {\n",
              "      background-color: #E8F0FE;\n",
              "      border: none;\n",
              "      border-radius: 50%;\n",
              "      cursor: pointer;\n",
              "      display: none;\n",
              "      fill: #1967D2;\n",
              "      height: 32px;\n",
              "      padding: 0 0 0 0;\n",
              "      width: 32px;\n",
              "    }\n",
              "\n",
              "    .colab-df-convert:hover {\n",
              "      background-color: #E2EBFA;\n",
              "      box-shadow: 0px 1px 2px rgba(60, 64, 67, 0.3), 0px 1px 3px 1px rgba(60, 64, 67, 0.15);\n",
              "      fill: #174EA6;\n",
              "    }\n",
              "\n",
              "    .colab-df-buttons div {\n",
              "      margin-bottom: 4px;\n",
              "    }\n",
              "\n",
              "    [theme=dark] .colab-df-convert {\n",
              "      background-color: #3B4455;\n",
              "      fill: #D2E3FC;\n",
              "    }\n",
              "\n",
              "    [theme=dark] .colab-df-convert:hover {\n",
              "      background-color: #434B5C;\n",
              "      box-shadow: 0px 1px 3px 1px rgba(0, 0, 0, 0.15);\n",
              "      filter: drop-shadow(0px 1px 2px rgba(0, 0, 0, 0.3));\n",
              "      fill: #FFFFFF;\n",
              "    }\n",
              "  </style>\n",
              "\n",
              "    <script>\n",
              "      const buttonEl =\n",
              "        document.querySelector('#df-15cfccf3-43c0-4691-8d0d-69e3a827e5dd button.colab-df-convert');\n",
              "      buttonEl.style.display =\n",
              "        google.colab.kernel.accessAllowed ? 'block' : 'none';\n",
              "\n",
              "      async function convertToInteractive(key) {\n",
              "        const element = document.querySelector('#df-15cfccf3-43c0-4691-8d0d-69e3a827e5dd');\n",
              "        const dataTable =\n",
              "          await google.colab.kernel.invokeFunction('convertToInteractive',\n",
              "                                                    [key], {});\n",
              "        if (!dataTable) return;\n",
              "\n",
              "        const docLinkHtml = 'Like what you see? Visit the ' +\n",
              "          '<a target=\"_blank\" href=https://colab.research.google.com/notebooks/data_table.ipynb>data table notebook</a>'\n",
              "          + ' to learn more about interactive tables.';\n",
              "        element.innerHTML = '';\n",
              "        dataTable['output_type'] = 'display_data';\n",
              "        await google.colab.output.renderOutput(dataTable, element);\n",
              "        const docLink = document.createElement('div');\n",
              "        docLink.innerHTML = docLinkHtml;\n",
              "        element.appendChild(docLink);\n",
              "      }\n",
              "    </script>\n",
              "  </div>\n",
              "\n",
              "\n",
              "    <div id=\"df-fa1160db-e8cf-4e1c-8ff9-dccf058b636e\">\n",
              "      <button class=\"colab-df-quickchart\" onclick=\"quickchart('df-fa1160db-e8cf-4e1c-8ff9-dccf058b636e')\"\n",
              "                title=\"Suggest charts\"\n",
              "                style=\"display:none;\">\n",
              "\n",
              "<svg xmlns=\"http://www.w3.org/2000/svg\" height=\"24px\"viewBox=\"0 0 24 24\"\n",
              "     width=\"24px\">\n",
              "    <g>\n",
              "        <path d=\"M19 3H5c-1.1 0-2 .9-2 2v14c0 1.1.9 2 2 2h14c1.1 0 2-.9 2-2V5c0-1.1-.9-2-2-2zM9 17H7v-7h2v7zm4 0h-2V7h2v10zm4 0h-2v-4h2v4z\"/>\n",
              "    </g>\n",
              "</svg>\n",
              "      </button>\n",
              "\n",
              "<style>\n",
              "  .colab-df-quickchart {\n",
              "      --bg-color: #E8F0FE;\n",
              "      --fill-color: #1967D2;\n",
              "      --hover-bg-color: #E2EBFA;\n",
              "      --hover-fill-color: #174EA6;\n",
              "      --disabled-fill-color: #AAA;\n",
              "      --disabled-bg-color: #DDD;\n",
              "  }\n",
              "\n",
              "  [theme=dark] .colab-df-quickchart {\n",
              "      --bg-color: #3B4455;\n",
              "      --fill-color: #D2E3FC;\n",
              "      --hover-bg-color: #434B5C;\n",
              "      --hover-fill-color: #FFFFFF;\n",
              "      --disabled-bg-color: #3B4455;\n",
              "      --disabled-fill-color: #666;\n",
              "  }\n",
              "\n",
              "  .colab-df-quickchart {\n",
              "    background-color: var(--bg-color);\n",
              "    border: none;\n",
              "    border-radius: 50%;\n",
              "    cursor: pointer;\n",
              "    display: none;\n",
              "    fill: var(--fill-color);\n",
              "    height: 32px;\n",
              "    padding: 0;\n",
              "    width: 32px;\n",
              "  }\n",
              "\n",
              "  .colab-df-quickchart:hover {\n",
              "    background-color: var(--hover-bg-color);\n",
              "    box-shadow: 0 1px 2px rgba(60, 64, 67, 0.3), 0 1px 3px 1px rgba(60, 64, 67, 0.15);\n",
              "    fill: var(--button-hover-fill-color);\n",
              "  }\n",
              "\n",
              "  .colab-df-quickchart-complete:disabled,\n",
              "  .colab-df-quickchart-complete:disabled:hover {\n",
              "    background-color: var(--disabled-bg-color);\n",
              "    fill: var(--disabled-fill-color);\n",
              "    box-shadow: none;\n",
              "  }\n",
              "\n",
              "  .colab-df-spinner {\n",
              "    border: 2px solid var(--fill-color);\n",
              "    border-color: transparent;\n",
              "    border-bottom-color: var(--fill-color);\n",
              "    animation:\n",
              "      spin 1s steps(1) infinite;\n",
              "  }\n",
              "\n",
              "  @keyframes spin {\n",
              "    0% {\n",
              "      border-color: transparent;\n",
              "      border-bottom-color: var(--fill-color);\n",
              "      border-left-color: var(--fill-color);\n",
              "    }\n",
              "    20% {\n",
              "      border-color: transparent;\n",
              "      border-left-color: var(--fill-color);\n",
              "      border-top-color: var(--fill-color);\n",
              "    }\n",
              "    30% {\n",
              "      border-color: transparent;\n",
              "      border-left-color: var(--fill-color);\n",
              "      border-top-color: var(--fill-color);\n",
              "      border-right-color: var(--fill-color);\n",
              "    }\n",
              "    40% {\n",
              "      border-color: transparent;\n",
              "      border-right-color: var(--fill-color);\n",
              "      border-top-color: var(--fill-color);\n",
              "    }\n",
              "    60% {\n",
              "      border-color: transparent;\n",
              "      border-right-color: var(--fill-color);\n",
              "    }\n",
              "    80% {\n",
              "      border-color: transparent;\n",
              "      border-right-color: var(--fill-color);\n",
              "      border-bottom-color: var(--fill-color);\n",
              "    }\n",
              "    90% {\n",
              "      border-color: transparent;\n",
              "      border-bottom-color: var(--fill-color);\n",
              "    }\n",
              "  }\n",
              "</style>\n",
              "\n",
              "      <script>\n",
              "        async function quickchart(key) {\n",
              "          const quickchartButtonEl =\n",
              "            document.querySelector('#' + key + ' button');\n",
              "          quickchartButtonEl.disabled = true;  // To prevent multiple clicks.\n",
              "          quickchartButtonEl.classList.add('colab-df-spinner');\n",
              "          try {\n",
              "            const charts = await google.colab.kernel.invokeFunction(\n",
              "                'suggestCharts', [key], {});\n",
              "          } catch (error) {\n",
              "            console.error('Error during call to suggestCharts:', error);\n",
              "          }\n",
              "          quickchartButtonEl.classList.remove('colab-df-spinner');\n",
              "          quickchartButtonEl.classList.add('colab-df-quickchart-complete');\n",
              "        }\n",
              "        (() => {\n",
              "          let quickchartButtonEl =\n",
              "            document.querySelector('#df-fa1160db-e8cf-4e1c-8ff9-dccf058b636e button');\n",
              "          quickchartButtonEl.style.display =\n",
              "            google.colab.kernel.accessAllowed ? 'block' : 'none';\n",
              "        })();\n",
              "      </script>\n",
              "    </div>\n",
              "\n",
              "  <div id=\"id_bb6b8c9f-34f7-4804-aedc-9fc7b3c69c46\">\n",
              "    <style>\n",
              "      .colab-df-generate {\n",
              "        background-color: #E8F0FE;\n",
              "        border: none;\n",
              "        border-radius: 50%;\n",
              "        cursor: pointer;\n",
              "        display: none;\n",
              "        fill: #1967D2;\n",
              "        height: 32px;\n",
              "        padding: 0 0 0 0;\n",
              "        width: 32px;\n",
              "      }\n",
              "\n",
              "      .colab-df-generate:hover {\n",
              "        background-color: #E2EBFA;\n",
              "        box-shadow: 0px 1px 2px rgba(60, 64, 67, 0.3), 0px 1px 3px 1px rgba(60, 64, 67, 0.15);\n",
              "        fill: #174EA6;\n",
              "      }\n",
              "\n",
              "      [theme=dark] .colab-df-generate {\n",
              "        background-color: #3B4455;\n",
              "        fill: #D2E3FC;\n",
              "      }\n",
              "\n",
              "      [theme=dark] .colab-df-generate:hover {\n",
              "        background-color: #434B5C;\n",
              "        box-shadow: 0px 1px 3px 1px rgba(0, 0, 0, 0.15);\n",
              "        filter: drop-shadow(0px 1px 2px rgba(0, 0, 0, 0.3));\n",
              "        fill: #FFFFFF;\n",
              "      }\n",
              "    </style>\n",
              "    <button class=\"colab-df-generate\" onclick=\"generateWithVariable('df')\"\n",
              "            title=\"Generate code using this dataframe.\"\n",
              "            style=\"display:none;\">\n",
              "\n",
              "  <svg xmlns=\"http://www.w3.org/2000/svg\" height=\"24px\"viewBox=\"0 0 24 24\"\n",
              "       width=\"24px\">\n",
              "    <path d=\"M7,19H8.4L18.45,9,17,7.55,7,17.6ZM5,21V16.75L18.45,3.32a2,2,0,0,1,2.83,0l1.4,1.43a1.91,1.91,0,0,1,.58,1.4,1.91,1.91,0,0,1-.58,1.4L9.25,21ZM18.45,9,17,7.55Zm-12,3A5.31,5.31,0,0,0,4.9,8.1,5.31,5.31,0,0,0,1,6.5,5.31,5.31,0,0,0,4.9,4.9,5.31,5.31,0,0,0,6.5,1,5.31,5.31,0,0,0,8.1,4.9,5.31,5.31,0,0,0,12,6.5,5.46,5.46,0,0,0,6.5,12Z\"/>\n",
              "  </svg>\n",
              "    </button>\n",
              "    <script>\n",
              "      (() => {\n",
              "      const buttonEl =\n",
              "        document.querySelector('#id_bb6b8c9f-34f7-4804-aedc-9fc7b3c69c46 button.colab-df-generate');\n",
              "      buttonEl.style.display =\n",
              "        google.colab.kernel.accessAllowed ? 'block' : 'none';\n",
              "\n",
              "      buttonEl.onclick = () => {\n",
              "        google.colab.notebook.generateWithVariable('df');\n",
              "      }\n",
              "      })();\n",
              "    </script>\n",
              "  </div>\n",
              "\n",
              "    </div>\n",
              "  </div>\n"
            ],
            "application/vnd.google.colaboratory.intrinsic+json": {
              "type": "dataframe",
              "variable_name": "df",
              "summary": "{\n  \"name\": \"df\",\n  \"rows\": 92749,\n  \"fields\": [\n    {\n      \"column\": \"context\",\n      \"properties\": {\n        \"dtype\": \"category\",\n        \"num_unique_values\": 20081,\n        \"samples\": [\n          \"Sebagaimana disebutkan di atas, ada 55 kirkhundla di Swaziland dan masing - masing memilih satu wakil ke Gedung Kebaktian Swaziland. Setiap inkhundla memiliki komite pengembangan (bucopho) terpilih dari berbagai konstituen kepemimpinan di daerahnya selama lima tahun. Bucopho membawa ke Inkhundla segala sesuatu yang menarik perhatian dan perhatian kepada berbagai tokoh terkemuka mereka, dan membawa kembali ke kerajaan-kerajaan terkemuka keputusan-keputusan inkhundla. Ketua bucopho terpilih di Inkhundla dan disebut indvuna kalian nkhundla.\",\n          \"Pada tahun 1903, Josiah White III membeli sebidang tanah dekat Ohio Avenue dan boardwalk dan membangun Queen Anne gaya Marlborough House. Hotel itu sukses dan, pada tahun 190506, ia memilih untuk memperluas hotel dan membeli sebidang tanah lain di sebelah rumah Marlborough nya. Dalam upaya menjadikan hotel barunya sebagai sumber percakapan, White menyewa perusahaan arsitektur Price dan McLanahan. Perusahaan itu menggunakan beton yang diperkuat, bahan bangunan baru yang ditemukan oleh Jean-Louis Lambot pada tahun 1848 (Joseph Monier menerima paten pada tahun 1867). The hotel Spanyol dan Moor temaes, ditutup dengan kubah tanda tangan dan cerobong asap, mewakili sebuah langkah maju dari hotel-hotel lain yang memiliki pengaruh klasik dirancang. White bernama hotel baru Blenheim dan menggabungkan dua hotel ke Marlborough-Blenheim. Kota Atlantik Bally belakangan dibangun di lokasi ini.\",\n          \"Gereja - gereja Armenia yang pertama dibangun antara abad ke - 4 dan ke - 7, dimulai sewaktu Armenia beralih ke Kekristenan, dan berakhir dengan penyerbuan Arab di Armenia. Gereja - gereja masa awal sebagian besar adalah basilika sederhana, tetapi beberapa dengan apes sampingan. Pada abad kelima, kerucut cupola yang khas di tengahnya telah digunakan secara luas. Pada abad ketujuh, gereja - gereja yang direncanakan secara pusat telah dibangun dan gaya Himpunan pantat yang lebih rumit serta radiate Hrip'sim\\u00e9 telah terbentuk. Pada saat invasi Arab, sebagian besar yang kita sekarang tahu sebagai arsitektur klasik Armenia telah terbentuk.\"\n        ],\n        \"semantic_type\": \"\",\n        \"description\": \"\"\n      }\n    },\n    {\n      \"column\": \"question\",\n      \"properties\": {\n        \"dtype\": \"string\",\n        \"num_unique_values\": 92589,\n        \"samples\": [\n          \"Di mana Sekretaris Permanen melayani sebagai PNS senior?\",\n          \"Pada tahun berapa Comcast mengambil alih mayoritas minat di QVC?\",\n          \"Ethnohistory dapat mempelajari sejarah kelompok jenis apa yang mungkin ada atau tidak ada dewasa ini?\"\n        ],\n        \"semantic_type\": \"\",\n        \"description\": \"\"\n      }\n    },\n    {\n      \"column\": \"answer\",\n      \"properties\": {\n        \"dtype\": \"string\",\n        \"num_unique_values\": 67837,\n        \"samples\": [\n          \"Myanma Ekonomi Bank berbagi 51 persen\",\n          \"untuk merekam data atau menyampaikan informasi langsung\",\n          \"Ritchie Blackmore\"\n        ],\n        \"semantic_type\": \"\",\n        \"description\": \"\"\n      }\n    }\n  ]\n}"
            }
          },
          "metadata": {},
          "execution_count": 10
        }
      ],
      "source": [
        "df = pd.DataFrame({\n",
        "    \"context\": contexts,\n",
        "    \"question\": questions,\n",
        "    \"answer\": answers\n",
        "})\n",
        "\n",
        "df"
      ]
    },
    {
      "cell_type": "markdown",
      "metadata": {
        "id": "MUpxL4-_sT44"
      },
      "source": [
        "### Handling Missing Values and Duplicated Data"
      ]
    },
    {
      "cell_type": "code",
      "execution_count": 11,
      "metadata": {
        "colab": {
          "base_uri": "https://localhost:8080/"
        },
        "id": "6IfICG1gKuSD",
        "outputId": "2666710b-c751-4e16-87f9-18dea7bf81ba"
      },
      "outputs": [
        {
          "output_type": "stream",
          "name": "stdout",
          "text": [
            "<class 'pandas.core.frame.DataFrame'>\n",
            "RangeIndex: 92749 entries, 0 to 92748\n",
            "Data columns (total 3 columns):\n",
            " #   Column    Non-Null Count  Dtype \n",
            "---  ------    --------------  ----- \n",
            " 0   context   92749 non-null  object\n",
            " 1   question  92749 non-null  object\n",
            " 2   answer    92749 non-null  object\n",
            "dtypes: object(3)\n",
            "memory usage: 2.1+ MB\n"
          ]
        }
      ],
      "source": [
        "df.info()"
      ]
    },
    {
      "cell_type": "code",
      "execution_count": 12,
      "metadata": {
        "colab": {
          "base_uri": "https://localhost:8080/"
        },
        "id": "KhhBXctBK0ta",
        "outputId": "f41669d5-369b-4169-e8b2-1f7dbcadc07f"
      },
      "outputs": [
        {
          "output_type": "stream",
          "name": "stdout",
          "text": [
            "Missing values:\n",
            " context     0\n",
            "question    0\n",
            "answer      0\n",
            "dtype: int64\n",
            "\n",
            "Duplikasi baris: 55\n"
          ]
        }
      ],
      "source": [
        "print(\"Missing values:\\n\", df.isnull().sum())\n",
        "print(\"\\nDuplikasi baris:\", df.duplicated().sum())"
      ]
    },
    {
      "cell_type": "code",
      "execution_count": 13,
      "metadata": {
        "colab": {
          "base_uri": "https://localhost:8080/",
          "height": 424
        },
        "id": "7N4CR3yVLJ41",
        "outputId": "4836b473-53b9-4b11-f503-80b8de32bc79"
      },
      "outputs": [
        {
          "output_type": "execute_result",
          "data": {
            "text/plain": [
              "                                                 context  \\\n",
              "0      Beyoncé Giselle Knowles-Carter (/bijanse / bee...   \n",
              "1      Beyoncé Giselle Knowles-Carter (/bijanse / bee...   \n",
              "2      Beyoncé Giselle Knowles-Carter (/bijanse / bee...   \n",
              "3      Beyoncé Giselle Knowles-Carter (/bijanse / bee...   \n",
              "4      Beyoncé Giselle Knowles-Carter (/bijanse / bee...   \n",
              "...                                                  ...   \n",
              "92689  Pound-force memiliki mitra metrik, kurang umum...   \n",
              "92690  Pound-force memiliki mitra metrik, kurang umum...   \n",
              "92691  Pound-force memiliki mitra metrik, kurang umum...   \n",
              "92692  Pound-force memiliki mitra metrik, kurang umum...   \n",
              "92693  Pound-force memiliki mitra metrik, kurang umum...   \n",
              "\n",
              "                                                question              answer  \n",
              "0                   Kapan Beyonce mulai menjadi populer?  pada akhir 1990-an  \n",
              "1      Daerah mana saja yang bersaing dengan Beyonce ...        menyanyi dan  \n",
              "2      Kapan Beyonce meninggalkan Destiny's Child dan...                2003  \n",
              "3                Di kota dan negara mana Beyonce tumbuh?      Houston, Texas  \n",
              "4             Pada dekade mana Beyonce menjadi terkenal?       akhir 1990-an  \n",
              "...                                                  ...                 ...  \n",
              "92689  Apa istilah metrik yang kurang digunakan dari ...      kilogram-force  \n",
              "92690  Apa daya kilogram kadang-kadang direffer ke se...            kilopond  \n",
              "92691  Apa yang jarang digunakan unit massa dalam sis...               siput  \n",
              "92692  Apa yang jarang digunakan istilah unit kekuata...                 kip  \n",
              "92693  Apa yang jarang digunakan unit gaya sama denga...              sthène  \n",
              "\n",
              "[92694 rows x 3 columns]"
            ],
            "text/html": [
              "\n",
              "  <div id=\"df-1e19a27b-60fa-411b-bd4c-eb94e87c876e\" class=\"colab-df-container\">\n",
              "    <div>\n",
              "<style scoped>\n",
              "    .dataframe tbody tr th:only-of-type {\n",
              "        vertical-align: middle;\n",
              "    }\n",
              "\n",
              "    .dataframe tbody tr th {\n",
              "        vertical-align: top;\n",
              "    }\n",
              "\n",
              "    .dataframe thead th {\n",
              "        text-align: right;\n",
              "    }\n",
              "</style>\n",
              "<table border=\"1\" class=\"dataframe\">\n",
              "  <thead>\n",
              "    <tr style=\"text-align: right;\">\n",
              "      <th></th>\n",
              "      <th>context</th>\n",
              "      <th>question</th>\n",
              "      <th>answer</th>\n",
              "    </tr>\n",
              "  </thead>\n",
              "  <tbody>\n",
              "    <tr>\n",
              "      <th>0</th>\n",
              "      <td>Beyoncé Giselle Knowles-Carter (/bijanse / bee...</td>\n",
              "      <td>Kapan Beyonce mulai menjadi populer?</td>\n",
              "      <td>pada akhir 1990-an</td>\n",
              "    </tr>\n",
              "    <tr>\n",
              "      <th>1</th>\n",
              "      <td>Beyoncé Giselle Knowles-Carter (/bijanse / bee...</td>\n",
              "      <td>Daerah mana saja yang bersaing dengan Beyonce ...</td>\n",
              "      <td>menyanyi dan</td>\n",
              "    </tr>\n",
              "    <tr>\n",
              "      <th>2</th>\n",
              "      <td>Beyoncé Giselle Knowles-Carter (/bijanse / bee...</td>\n",
              "      <td>Kapan Beyonce meninggalkan Destiny's Child dan...</td>\n",
              "      <td>2003</td>\n",
              "    </tr>\n",
              "    <tr>\n",
              "      <th>3</th>\n",
              "      <td>Beyoncé Giselle Knowles-Carter (/bijanse / bee...</td>\n",
              "      <td>Di kota dan negara mana Beyonce tumbuh?</td>\n",
              "      <td>Houston, Texas</td>\n",
              "    </tr>\n",
              "    <tr>\n",
              "      <th>4</th>\n",
              "      <td>Beyoncé Giselle Knowles-Carter (/bijanse / bee...</td>\n",
              "      <td>Pada dekade mana Beyonce menjadi terkenal?</td>\n",
              "      <td>akhir 1990-an</td>\n",
              "    </tr>\n",
              "    <tr>\n",
              "      <th>...</th>\n",
              "      <td>...</td>\n",
              "      <td>...</td>\n",
              "      <td>...</td>\n",
              "    </tr>\n",
              "    <tr>\n",
              "      <th>92689</th>\n",
              "      <td>Pound-force memiliki mitra metrik, kurang umum...</td>\n",
              "      <td>Apa istilah metrik yang kurang digunakan dari ...</td>\n",
              "      <td>kilogram-force</td>\n",
              "    </tr>\n",
              "    <tr>\n",
              "      <th>92690</th>\n",
              "      <td>Pound-force memiliki mitra metrik, kurang umum...</td>\n",
              "      <td>Apa daya kilogram kadang-kadang direffer ke se...</td>\n",
              "      <td>kilopond</td>\n",
              "    </tr>\n",
              "    <tr>\n",
              "      <th>92691</th>\n",
              "      <td>Pound-force memiliki mitra metrik, kurang umum...</td>\n",
              "      <td>Apa yang jarang digunakan unit massa dalam sis...</td>\n",
              "      <td>siput</td>\n",
              "    </tr>\n",
              "    <tr>\n",
              "      <th>92692</th>\n",
              "      <td>Pound-force memiliki mitra metrik, kurang umum...</td>\n",
              "      <td>Apa yang jarang digunakan istilah unit kekuata...</td>\n",
              "      <td>kip</td>\n",
              "    </tr>\n",
              "    <tr>\n",
              "      <th>92693</th>\n",
              "      <td>Pound-force memiliki mitra metrik, kurang umum...</td>\n",
              "      <td>Apa yang jarang digunakan unit gaya sama denga...</td>\n",
              "      <td>sthène</td>\n",
              "    </tr>\n",
              "  </tbody>\n",
              "</table>\n",
              "<p>92694 rows × 3 columns</p>\n",
              "</div>\n",
              "    <div class=\"colab-df-buttons\">\n",
              "\n",
              "  <div class=\"colab-df-container\">\n",
              "    <button class=\"colab-df-convert\" onclick=\"convertToInteractive('df-1e19a27b-60fa-411b-bd4c-eb94e87c876e')\"\n",
              "            title=\"Convert this dataframe to an interactive table.\"\n",
              "            style=\"display:none;\">\n",
              "\n",
              "  <svg xmlns=\"http://www.w3.org/2000/svg\" height=\"24px\" viewBox=\"0 -960 960 960\">\n",
              "    <path d=\"M120-120v-720h720v720H120Zm60-500h600v-160H180v160Zm220 220h160v-160H400v160Zm0 220h160v-160H400v160ZM180-400h160v-160H180v160Zm440 0h160v-160H620v160ZM180-180h160v-160H180v160Zm440 0h160v-160H620v160Z\"/>\n",
              "  </svg>\n",
              "    </button>\n",
              "\n",
              "  <style>\n",
              "    .colab-df-container {\n",
              "      display:flex;\n",
              "      gap: 12px;\n",
              "    }\n",
              "\n",
              "    .colab-df-convert {\n",
              "      background-color: #E8F0FE;\n",
              "      border: none;\n",
              "      border-radius: 50%;\n",
              "      cursor: pointer;\n",
              "      display: none;\n",
              "      fill: #1967D2;\n",
              "      height: 32px;\n",
              "      padding: 0 0 0 0;\n",
              "      width: 32px;\n",
              "    }\n",
              "\n",
              "    .colab-df-convert:hover {\n",
              "      background-color: #E2EBFA;\n",
              "      box-shadow: 0px 1px 2px rgba(60, 64, 67, 0.3), 0px 1px 3px 1px rgba(60, 64, 67, 0.15);\n",
              "      fill: #174EA6;\n",
              "    }\n",
              "\n",
              "    .colab-df-buttons div {\n",
              "      margin-bottom: 4px;\n",
              "    }\n",
              "\n",
              "    [theme=dark] .colab-df-convert {\n",
              "      background-color: #3B4455;\n",
              "      fill: #D2E3FC;\n",
              "    }\n",
              "\n",
              "    [theme=dark] .colab-df-convert:hover {\n",
              "      background-color: #434B5C;\n",
              "      box-shadow: 0px 1px 3px 1px rgba(0, 0, 0, 0.15);\n",
              "      filter: drop-shadow(0px 1px 2px rgba(0, 0, 0, 0.3));\n",
              "      fill: #FFFFFF;\n",
              "    }\n",
              "  </style>\n",
              "\n",
              "    <script>\n",
              "      const buttonEl =\n",
              "        document.querySelector('#df-1e19a27b-60fa-411b-bd4c-eb94e87c876e button.colab-df-convert');\n",
              "      buttonEl.style.display =\n",
              "        google.colab.kernel.accessAllowed ? 'block' : 'none';\n",
              "\n",
              "      async function convertToInteractive(key) {\n",
              "        const element = document.querySelector('#df-1e19a27b-60fa-411b-bd4c-eb94e87c876e');\n",
              "        const dataTable =\n",
              "          await google.colab.kernel.invokeFunction('convertToInteractive',\n",
              "                                                    [key], {});\n",
              "        if (!dataTable) return;\n",
              "\n",
              "        const docLinkHtml = 'Like what you see? Visit the ' +\n",
              "          '<a target=\"_blank\" href=https://colab.research.google.com/notebooks/data_table.ipynb>data table notebook</a>'\n",
              "          + ' to learn more about interactive tables.';\n",
              "        element.innerHTML = '';\n",
              "        dataTable['output_type'] = 'display_data';\n",
              "        await google.colab.output.renderOutput(dataTable, element);\n",
              "        const docLink = document.createElement('div');\n",
              "        docLink.innerHTML = docLinkHtml;\n",
              "        element.appendChild(docLink);\n",
              "      }\n",
              "    </script>\n",
              "  </div>\n",
              "\n",
              "\n",
              "    <div id=\"df-5882ffcb-d2d8-4232-9520-750f6b5a8a74\">\n",
              "      <button class=\"colab-df-quickchart\" onclick=\"quickchart('df-5882ffcb-d2d8-4232-9520-750f6b5a8a74')\"\n",
              "                title=\"Suggest charts\"\n",
              "                style=\"display:none;\">\n",
              "\n",
              "<svg xmlns=\"http://www.w3.org/2000/svg\" height=\"24px\"viewBox=\"0 0 24 24\"\n",
              "     width=\"24px\">\n",
              "    <g>\n",
              "        <path d=\"M19 3H5c-1.1 0-2 .9-2 2v14c0 1.1.9 2 2 2h14c1.1 0 2-.9 2-2V5c0-1.1-.9-2-2-2zM9 17H7v-7h2v7zm4 0h-2V7h2v10zm4 0h-2v-4h2v4z\"/>\n",
              "    </g>\n",
              "</svg>\n",
              "      </button>\n",
              "\n",
              "<style>\n",
              "  .colab-df-quickchart {\n",
              "      --bg-color: #E8F0FE;\n",
              "      --fill-color: #1967D2;\n",
              "      --hover-bg-color: #E2EBFA;\n",
              "      --hover-fill-color: #174EA6;\n",
              "      --disabled-fill-color: #AAA;\n",
              "      --disabled-bg-color: #DDD;\n",
              "  }\n",
              "\n",
              "  [theme=dark] .colab-df-quickchart {\n",
              "      --bg-color: #3B4455;\n",
              "      --fill-color: #D2E3FC;\n",
              "      --hover-bg-color: #434B5C;\n",
              "      --hover-fill-color: #FFFFFF;\n",
              "      --disabled-bg-color: #3B4455;\n",
              "      --disabled-fill-color: #666;\n",
              "  }\n",
              "\n",
              "  .colab-df-quickchart {\n",
              "    background-color: var(--bg-color);\n",
              "    border: none;\n",
              "    border-radius: 50%;\n",
              "    cursor: pointer;\n",
              "    display: none;\n",
              "    fill: var(--fill-color);\n",
              "    height: 32px;\n",
              "    padding: 0;\n",
              "    width: 32px;\n",
              "  }\n",
              "\n",
              "  .colab-df-quickchart:hover {\n",
              "    background-color: var(--hover-bg-color);\n",
              "    box-shadow: 0 1px 2px rgba(60, 64, 67, 0.3), 0 1px 3px 1px rgba(60, 64, 67, 0.15);\n",
              "    fill: var(--button-hover-fill-color);\n",
              "  }\n",
              "\n",
              "  .colab-df-quickchart-complete:disabled,\n",
              "  .colab-df-quickchart-complete:disabled:hover {\n",
              "    background-color: var(--disabled-bg-color);\n",
              "    fill: var(--disabled-fill-color);\n",
              "    box-shadow: none;\n",
              "  }\n",
              "\n",
              "  .colab-df-spinner {\n",
              "    border: 2px solid var(--fill-color);\n",
              "    border-color: transparent;\n",
              "    border-bottom-color: var(--fill-color);\n",
              "    animation:\n",
              "      spin 1s steps(1) infinite;\n",
              "  }\n",
              "\n",
              "  @keyframes spin {\n",
              "    0% {\n",
              "      border-color: transparent;\n",
              "      border-bottom-color: var(--fill-color);\n",
              "      border-left-color: var(--fill-color);\n",
              "    }\n",
              "    20% {\n",
              "      border-color: transparent;\n",
              "      border-left-color: var(--fill-color);\n",
              "      border-top-color: var(--fill-color);\n",
              "    }\n",
              "    30% {\n",
              "      border-color: transparent;\n",
              "      border-left-color: var(--fill-color);\n",
              "      border-top-color: var(--fill-color);\n",
              "      border-right-color: var(--fill-color);\n",
              "    }\n",
              "    40% {\n",
              "      border-color: transparent;\n",
              "      border-right-color: var(--fill-color);\n",
              "      border-top-color: var(--fill-color);\n",
              "    }\n",
              "    60% {\n",
              "      border-color: transparent;\n",
              "      border-right-color: var(--fill-color);\n",
              "    }\n",
              "    80% {\n",
              "      border-color: transparent;\n",
              "      border-right-color: var(--fill-color);\n",
              "      border-bottom-color: var(--fill-color);\n",
              "    }\n",
              "    90% {\n",
              "      border-color: transparent;\n",
              "      border-bottom-color: var(--fill-color);\n",
              "    }\n",
              "  }\n",
              "</style>\n",
              "\n",
              "      <script>\n",
              "        async function quickchart(key) {\n",
              "          const quickchartButtonEl =\n",
              "            document.querySelector('#' + key + ' button');\n",
              "          quickchartButtonEl.disabled = true;  // To prevent multiple clicks.\n",
              "          quickchartButtonEl.classList.add('colab-df-spinner');\n",
              "          try {\n",
              "            const charts = await google.colab.kernel.invokeFunction(\n",
              "                'suggestCharts', [key], {});\n",
              "          } catch (error) {\n",
              "            console.error('Error during call to suggestCharts:', error);\n",
              "          }\n",
              "          quickchartButtonEl.classList.remove('colab-df-spinner');\n",
              "          quickchartButtonEl.classList.add('colab-df-quickchart-complete');\n",
              "        }\n",
              "        (() => {\n",
              "          let quickchartButtonEl =\n",
              "            document.querySelector('#df-5882ffcb-d2d8-4232-9520-750f6b5a8a74 button');\n",
              "          quickchartButtonEl.style.display =\n",
              "            google.colab.kernel.accessAllowed ? 'block' : 'none';\n",
              "        })();\n",
              "      </script>\n",
              "    </div>\n",
              "\n",
              "  <div id=\"id_05959299-391b-4137-a30e-d7dcc9f29aea\">\n",
              "    <style>\n",
              "      .colab-df-generate {\n",
              "        background-color: #E8F0FE;\n",
              "        border: none;\n",
              "        border-radius: 50%;\n",
              "        cursor: pointer;\n",
              "        display: none;\n",
              "        fill: #1967D2;\n",
              "        height: 32px;\n",
              "        padding: 0 0 0 0;\n",
              "        width: 32px;\n",
              "      }\n",
              "\n",
              "      .colab-df-generate:hover {\n",
              "        background-color: #E2EBFA;\n",
              "        box-shadow: 0px 1px 2px rgba(60, 64, 67, 0.3), 0px 1px 3px 1px rgba(60, 64, 67, 0.15);\n",
              "        fill: #174EA6;\n",
              "      }\n",
              "\n",
              "      [theme=dark] .colab-df-generate {\n",
              "        background-color: #3B4455;\n",
              "        fill: #D2E3FC;\n",
              "      }\n",
              "\n",
              "      [theme=dark] .colab-df-generate:hover {\n",
              "        background-color: #434B5C;\n",
              "        box-shadow: 0px 1px 3px 1px rgba(0, 0, 0, 0.15);\n",
              "        filter: drop-shadow(0px 1px 2px rgba(0, 0, 0, 0.3));\n",
              "        fill: #FFFFFF;\n",
              "      }\n",
              "    </style>\n",
              "    <button class=\"colab-df-generate\" onclick=\"generateWithVariable('df')\"\n",
              "            title=\"Generate code using this dataframe.\"\n",
              "            style=\"display:none;\">\n",
              "\n",
              "  <svg xmlns=\"http://www.w3.org/2000/svg\" height=\"24px\"viewBox=\"0 0 24 24\"\n",
              "       width=\"24px\">\n",
              "    <path d=\"M7,19H8.4L18.45,9,17,7.55,7,17.6ZM5,21V16.75L18.45,3.32a2,2,0,0,1,2.83,0l1.4,1.43a1.91,1.91,0,0,1,.58,1.4,1.91,1.91,0,0,1-.58,1.4L9.25,21ZM18.45,9,17,7.55Zm-12,3A5.31,5.31,0,0,0,4.9,8.1,5.31,5.31,0,0,0,1,6.5,5.31,5.31,0,0,0,4.9,4.9,5.31,5.31,0,0,0,6.5,1,5.31,5.31,0,0,0,8.1,4.9,5.31,5.31,0,0,0,12,6.5,5.46,5.46,0,0,0,6.5,12Z\"/>\n",
              "  </svg>\n",
              "    </button>\n",
              "    <script>\n",
              "      (() => {\n",
              "      const buttonEl =\n",
              "        document.querySelector('#id_05959299-391b-4137-a30e-d7dcc9f29aea button.colab-df-generate');\n",
              "      buttonEl.style.display =\n",
              "        google.colab.kernel.accessAllowed ? 'block' : 'none';\n",
              "\n",
              "      buttonEl.onclick = () => {\n",
              "        google.colab.notebook.generateWithVariable('df');\n",
              "      }\n",
              "      })();\n",
              "    </script>\n",
              "  </div>\n",
              "\n",
              "    </div>\n",
              "  </div>\n"
            ],
            "application/vnd.google.colaboratory.intrinsic+json": {
              "type": "dataframe",
              "variable_name": "df",
              "summary": "{\n  \"name\": \"df\",\n  \"rows\": 92694,\n  \"fields\": [\n    {\n      \"column\": \"context\",\n      \"properties\": {\n        \"dtype\": \"category\",\n        \"num_unique_values\": 20081,\n        \"samples\": [\n          \"Sebagaimana disebutkan di atas, ada 55 kirkhundla di Swaziland dan masing - masing memilih satu wakil ke Gedung Kebaktian Swaziland. Setiap inkhundla memiliki komite pengembangan (bucopho) terpilih dari berbagai konstituen kepemimpinan di daerahnya selama lima tahun. Bucopho membawa ke Inkhundla segala sesuatu yang menarik perhatian dan perhatian kepada berbagai tokoh terkemuka mereka, dan membawa kembali ke kerajaan-kerajaan terkemuka keputusan-keputusan inkhundla. Ketua bucopho terpilih di Inkhundla dan disebut indvuna kalian nkhundla.\",\n          \"Pada tahun 1903, Josiah White III membeli sebidang tanah dekat Ohio Avenue dan boardwalk dan membangun Queen Anne gaya Marlborough House. Hotel itu sukses dan, pada tahun 190506, ia memilih untuk memperluas hotel dan membeli sebidang tanah lain di sebelah rumah Marlborough nya. Dalam upaya menjadikan hotel barunya sebagai sumber percakapan, White menyewa perusahaan arsitektur Price dan McLanahan. Perusahaan itu menggunakan beton yang diperkuat, bahan bangunan baru yang ditemukan oleh Jean-Louis Lambot pada tahun 1848 (Joseph Monier menerima paten pada tahun 1867). The hotel Spanyol dan Moor temaes, ditutup dengan kubah tanda tangan dan cerobong asap, mewakili sebuah langkah maju dari hotel-hotel lain yang memiliki pengaruh klasik dirancang. White bernama hotel baru Blenheim dan menggabungkan dua hotel ke Marlborough-Blenheim. Kota Atlantik Bally belakangan dibangun di lokasi ini.\",\n          \"Gereja - gereja Armenia yang pertama dibangun antara abad ke - 4 dan ke - 7, dimulai sewaktu Armenia beralih ke Kekristenan, dan berakhir dengan penyerbuan Arab di Armenia. Gereja - gereja masa awal sebagian besar adalah basilika sederhana, tetapi beberapa dengan apes sampingan. Pada abad kelima, kerucut cupola yang khas di tengahnya telah digunakan secara luas. Pada abad ketujuh, gereja - gereja yang direncanakan secara pusat telah dibangun dan gaya Himpunan pantat yang lebih rumit serta radiate Hrip'sim\\u00e9 telah terbentuk. Pada saat invasi Arab, sebagian besar yang kita sekarang tahu sebagai arsitektur klasik Armenia telah terbentuk.\"\n        ],\n        \"semantic_type\": \"\",\n        \"description\": \"\"\n      }\n    },\n    {\n      \"column\": \"question\",\n      \"properties\": {\n        \"dtype\": \"string\",\n        \"num_unique_values\": 92589,\n        \"samples\": [\n          \"Di mana Sekretaris Permanen melayani sebagai PNS senior?\",\n          \"Pada tahun berapa Comcast mengambil alih mayoritas minat di QVC?\",\n          \"Ethnohistory dapat mempelajari sejarah kelompok jenis apa yang mungkin ada atau tidak ada dewasa ini?\"\n        ],\n        \"semantic_type\": \"\",\n        \"description\": \"\"\n      }\n    },\n    {\n      \"column\": \"answer\",\n      \"properties\": {\n        \"dtype\": \"string\",\n        \"num_unique_values\": 67837,\n        \"samples\": [\n          \"Myanma Ekonomi Bank berbagi 51 persen\",\n          \"untuk merekam data atau menyampaikan informasi langsung\",\n          \"Ritchie Blackmore\"\n        ],\n        \"semantic_type\": \"\",\n        \"description\": \"\"\n      }\n    }\n  ]\n}"
            }
          },
          "metadata": {},
          "execution_count": 13
        }
      ],
      "source": [
        "df.drop_duplicates(inplace=True)\n",
        "df.reset_index(drop=True, inplace=True)\n",
        "df"
      ]
    },
    {
      "cell_type": "code",
      "execution_count": 14,
      "metadata": {
        "colab": {
          "base_uri": "https://localhost:8080/"
        },
        "id": "LGIUiBGVMJwC",
        "outputId": "8338e08e-fe92-452c-dc21-0b2ea5047b95"
      },
      "outputs": [
        {
          "output_type": "stream",
          "name": "stdout",
          "text": [
            "Duplikasi baris: 0\n"
          ]
        }
      ],
      "source": [
        "print(\"Duplikasi baris:\", df.duplicated().sum())"
      ]
    },
    {
      "cell_type": "markdown",
      "metadata": {
        "id": "dj1apfiGsjLY"
      },
      "source": [
        "### Data Sampling, Convert to HuggingFace Dataset & Split to Train and Test"
      ]
    },
    {
      "cell_type": "code",
      "execution_count": 15,
      "metadata": {
        "colab": {
          "base_uri": "https://localhost:8080/"
        },
        "id": "Rcjn-Dc2MQBQ",
        "outputId": "7194d9a1-61fe-4424-c6e6-f47918cac16d"
      },
      "outputs": [
        {
          "output_type": "execute_result",
          "data": {
            "text/plain": [
              "DatasetDict({\n",
              "    train: Dataset({\n",
              "        features: ['context', 'question', 'answer'],\n",
              "        num_rows: 1600\n",
              "    })\n",
              "    test: Dataset({\n",
              "        features: ['context', 'question', 'answer'],\n",
              "        num_rows: 400\n",
              "    })\n",
              "})"
            ]
          },
          "metadata": {},
          "execution_count": 15
        }
      ],
      "source": [
        "sample_size = 2000\n",
        "df_sample = df.sample(n=sample_size, random_state=42).reset_index(drop=True)\n",
        "\n",
        "contexts_list = df_sample['context'].tolist()\n",
        "questions_list = df_sample['question'].tolist()\n",
        "answers_list = df_sample['answer'].tolist()\n",
        "\n",
        "raw_dataset = Dataset.from_dict({\n",
        "    \"context\": contexts_list,\n",
        "    \"question\": questions_list,\n",
        "    \"answer\": answers_list\n",
        "})\n",
        "\n",
        "raw_dataset = raw_dataset.train_test_split(test_size=0.2)\n",
        "raw_dataset"
      ]
    },
    {
      "cell_type": "markdown",
      "metadata": {
        "id": "9tdNYA1As4oH"
      },
      "source": [
        "### Preprocessing and Tokenization"
      ]
    },
    {
      "cell_type": "code",
      "execution_count": 16,
      "metadata": {
        "colab": {
          "base_uri": "https://localhost:8080/",
          "height": 385,
          "referenced_widgets": [
            "da2be51794144674a1c72cc6e3496a4e",
            "12ed27c91042412e9229f98dbbb665ec",
            "b961bb6ffd9e4311a9068ef95fa01f80",
            "5e7b3980cf1b472384d5b1cd255d236e",
            "344613316bec4242af653d9a5d60897e",
            "664f9655ae9d4cfba973f58d744f6c11",
            "08fc0059641f4512bc1f41658c073f1a",
            "c2d1e3c117d84ca68949fdd247c3e543",
            "b6cb1ecf78c24e7f906fd564890e3cd0",
            "1e7bb3f8be9a4672b8dac803aa974e4d",
            "03712c918908484c89e2f91d6097c771",
            "c7e629e955634e9f8c7015e68acd094c",
            "6b6a299fa5274c11aeb0314f25fdd419",
            "0a3cbd20410346bdab00f9d37ebb2cf5",
            "df51f7815e7644998be85a8e3e78fc2c",
            "8fa30604895c4978bc4cf7d73c35751d",
            "7a3afccf2c69491d9ab9a9b10368c327",
            "ea8244e9731d48259f9a9b57f7335181",
            "2d334a521fef438b96fb671fcf4e2cd0",
            "f77a0a6fa8da4987a2bd2cd6b39a4b03",
            "eafa68f185d74d358c4b5794469cf9ff",
            "9211bce2379f42df80de32ab8784ad35",
            "1091fbf029be4b26b8d3de6a558d838b",
            "c3c23eb208bb4d758bf72c1794ae93ef",
            "dec63919ab244dbdaed9f146a651e147",
            "48f88fd07e1a48e0a201cee3409ffd0c",
            "f72e64e2663d434a95bfede03ceb82d9",
            "148ac41a805a4f859155d27201d806a5",
            "a832e4dfc8d04cb5adeded1b49d5d76a",
            "c3cd8e2be06c4319b9db918a697786e1",
            "77a9e96b360946278160e1e0257307bd",
            "1493a013394547aa9610e1b2033ca6b4",
            "ce1d9ba8faf94d2d91c981183cb3e98f",
            "c127378036b54faa913be7aa91d64e8e",
            "72735ac45e984cc28c9ab584de1100da",
            "292a7f62ee4441d2b5d0d8a19ada6ecf",
            "47724e6fd23d46bfa5ba938fbcd2dedf",
            "33479480dc7b46d998adbaf9e347d8aa",
            "ec20a9f55b0b4af699064d66584cebe7",
            "c279974b9f5543148f5cec4252ca18b0",
            "d9f58eef3e114386a84d3441a4a9ed25",
            "9dfffe3520384ef68597b8aa2148ffee",
            "b63e52d6a9364a8f80266ff1ea39ea77",
            "51327500137447d4af61856829c43c4a",
            "83108fbd9da144bdbd425abd41d99342",
            "ea139dc106bc48f0a8223892782c7728",
            "29a06bfccaa043e28203936f3c7e25a0",
            "7c13448c90ff460cb1de0a4fd76877e2",
            "b49823b3a637416b8c0f0b571d3223ca",
            "3d472e2fcd7e41ef805f7a9becc8d122",
            "4c74b55d6dba46b8bd7aa8eee85e3718",
            "b58a1f6718d04411912fcb11a6e62d79",
            "78e6f049d51140b19ba043fe037bc7f5",
            "eb99915d62c645de951dcad51762bec0",
            "271d5db105f14403ac410f58be5d2eea",
            "e95a0d88409d43c3904f35e09e67ca00",
            "7a0e318ab23943ca8bde8c3a47047503",
            "789b33869ba6444081bb68192a8981c7",
            "c6708abcd12d4947b48ca2ff41f115ce",
            "3c06a58b95c74be593d2e078fc72a8c8",
            "e223872fd49946c8991861e6ad823b3b",
            "468dbbe4222d44c1b93f1c31cb9ef86b",
            "a7d7770c03d24bf8a9ec49cc1e7e841c",
            "5a5ebe8ce5ee4e91a23240a357954163",
            "a459c037efda4bd58780051d56316bf9",
            "61e4b8b63eea4e39ad2939ea8a6c3157"
          ]
        },
        "id": "8NRek5nr4jha",
        "outputId": "d39404c3-2d59-45f5-fd80-8ac0a9373ce4"
      },
      "outputs": [
        {
          "output_type": "stream",
          "name": "stderr",
          "text": [
            "/usr/local/lib/python3.11/dist-packages/huggingface_hub/utils/_auth.py:94: UserWarning: \n",
            "The secret `HF_TOKEN` does not exist in your Colab secrets.\n",
            "To authenticate with the Hugging Face Hub, create a token in your settings tab (https://huggingface.co/settings/tokens), set it as secret in your Google Colab and restart your session.\n",
            "You will be able to reuse this secret in all of your notebooks.\n",
            "Please note that authentication is recommended but still optional to access public models or datasets.\n",
            "  warnings.warn(\n"
          ]
        },
        {
          "output_type": "display_data",
          "data": {
            "text/plain": [
              "tokenizer_config.json:   0%|          | 0.00/2.07k [00:00<?, ?B/s]"
            ],
            "application/vnd.jupyter.widget-view+json": {
              "version_major": 2,
              "version_minor": 0,
              "model_id": "da2be51794144674a1c72cc6e3496a4e"
            }
          },
          "metadata": {}
        },
        {
          "output_type": "display_data",
          "data": {
            "text/plain": [
              "spiece.model:   0%|          | 0.00/793k [00:00<?, ?B/s]"
            ],
            "application/vnd.jupyter.widget-view+json": {
              "version_major": 2,
              "version_minor": 0,
              "model_id": "c7e629e955634e9f8c7015e68acd094c"
            }
          },
          "metadata": {}
        },
        {
          "output_type": "display_data",
          "data": {
            "text/plain": [
              "special_tokens_map.json:   0%|          | 0.00/1.79k [00:00<?, ?B/s]"
            ],
            "application/vnd.jupyter.widget-view+json": {
              "version_major": 2,
              "version_minor": 0,
              "model_id": "1091fbf029be4b26b8d3de6a558d838b"
            }
          },
          "metadata": {}
        },
        {
          "output_type": "display_data",
          "data": {
            "text/plain": [
              "config.json:   0%|          | 0.00/657 [00:00<?, ?B/s]"
            ],
            "application/vnd.jupyter.widget-view+json": {
              "version_major": 2,
              "version_minor": 0,
              "model_id": "c127378036b54faa913be7aa91d64e8e"
            }
          },
          "metadata": {}
        },
        {
          "output_type": "stream",
          "name": "stderr",
          "text": [
            "You are using the default legacy behaviour of the <class 'transformers.models.t5.tokenization_t5.T5Tokenizer'>. This is expected, and simply means that the `legacy` (previous) behavior will be used so nothing changes for you. If you want to use the new behaviour, set `legacy=False`. This should only be set if you understand what it means, and thoroughly read the reason why this was added as explained in https://github.com/huggingface/transformers/pull/24565\n"
          ]
        },
        {
          "output_type": "display_data",
          "data": {
            "text/plain": [
              "Map:   0%|          | 0/1600 [00:00<?, ? examples/s]"
            ],
            "application/vnd.jupyter.widget-view+json": {
              "version_major": 2,
              "version_minor": 0,
              "model_id": "83108fbd9da144bdbd425abd41d99342"
            }
          },
          "metadata": {}
        },
        {
          "output_type": "stream",
          "name": "stderr",
          "text": [
            "/usr/local/lib/python3.11/dist-packages/transformers/tokenization_utils_base.py:3959: UserWarning: `as_target_tokenizer` is deprecated and will be removed in v5 of Transformers. You can tokenize your labels by using the argument `text_target` of the regular `__call__` method (either in the same call as your input texts if you use the same keyword arguments, or in a separate call.\n",
            "  warnings.warn(\n"
          ]
        },
        {
          "output_type": "display_data",
          "data": {
            "text/plain": [
              "Map:   0%|          | 0/400 [00:00<?, ? examples/s]"
            ],
            "application/vnd.jupyter.widget-view+json": {
              "version_major": 2,
              "version_minor": 0,
              "model_id": "e95a0d88409d43c3904f35e09e67ca00"
            }
          },
          "metadata": {}
        }
      ],
      "source": [
        "tokenizer = T5Tokenizer.from_pretrained(\"cahya/t5-base-indonesian-summarization-cased\")\n",
        "\n",
        "def preprocess(text):\n",
        "    input_text = f\"generate question: context: {text['context']} answer: {text['answer']}\"\n",
        "    target_text = text[\"question\"]\n",
        "\n",
        "    model_inputs = tokenizer(\n",
        "        input_text, max_length=512, padding=\"max_length\", truncation=True\n",
        "    )\n",
        "\n",
        "    with tokenizer.as_target_tokenizer():\n",
        "        labels = tokenizer(\n",
        "            target_text, max_length=64, padding=\"max_length\", truncation=True\n",
        "        )\n",
        "\n",
        "    model_inputs[\"labels\"] = labels[\"input_ids\"]\n",
        "    return model_inputs\n",
        "\n",
        "\n",
        "tokenized_dataset = raw_dataset.map(preprocess, batched=False)"
      ]
    },
    {
      "cell_type": "markdown",
      "metadata": {
        "id": "vk-PcvJrt5g5"
      },
      "source": [
        "## Load and Configure T5 Model"
      ]
    },
    {
      "cell_type": "code",
      "execution_count": 17,
      "metadata": {
        "id": "Fn9e9yFh2SNZ",
        "colab": {
          "base_uri": "https://localhost:8080/",
          "height": 49,
          "referenced_widgets": [
            "7d2fd2047bb24537a4980f80a485ce25",
            "367f01a7626d442f9340524d865a1f1f",
            "c623d87ed36142dc92a50431d9145d84",
            "ee82f6b1ab1d48b6aa6acdeb535c1883",
            "664c5cdbd946456ba97a79df3eede7d2",
            "bf31684053184793bd597a98dc9ecf64",
            "0bc4c11a25b34aad9de8d82cf8ac4ce0",
            "c95baad23c8441f9ae92fd5fc6c52779",
            "1468eadb93cd4b2a8d1953980e0298bc",
            "804d486675fd462ebf35d98b266bbb24",
            "cd24872550354ca387e6f700b719ece1"
          ]
        },
        "outputId": "0cf2c137-59fb-4c67-993b-d90f47ce04ec"
      },
      "outputs": [
        {
          "output_type": "display_data",
          "data": {
            "text/plain": [
              "pytorch_model.bin:   0%|          | 0.00/892M [00:00<?, ?B/s]"
            ],
            "application/vnd.jupyter.widget-view+json": {
              "version_major": 2,
              "version_minor": 0,
              "model_id": "7d2fd2047bb24537a4980f80a485ce25"
            }
          },
          "metadata": {}
        }
      ],
      "source": [
        "t5_model = T5ForConditionalGeneration.from_pretrained(\"cahya/t5-base-indonesian-summarization-cased\")"
      ]
    },
    {
      "cell_type": "code",
      "execution_count": 18,
      "metadata": {
        "colab": {
          "base_uri": "https://localhost:8080/",
          "height": 322,
          "referenced_widgets": [
            "6cc4419185f847c4a807230e3a04796f",
            "9a98a49060e94d5a8555344f7aef6763",
            "7b39dddd37304a18bdf3ffc4ee09c3a0",
            "e9899d60909d40d6998d15a71b33600c",
            "2867da45a0ee4e92865900aa6a982e28",
            "aa3f30be4d904674895cf43d23c1df7a",
            "ea192970e5234566a8ec4a0e915c94a1",
            "d1141fd12be241958e4324a1269a08f3",
            "105bab20838c4d83b7fa65df8c10bbf4",
            "f51c963107bb48909113bb9f7bb17ad0",
            "d8d754ac53074c4b85365d6e7ae51965"
          ]
        },
        "id": "hXFCgf7l7hUj",
        "outputId": "1b7fd7a2-566a-4b56-80de-8a63db385376"
      },
      "outputs": [
        {
          "output_type": "display_data",
          "data": {
            "text/plain": [
              "model.safetensors:   0%|          | 0.00/892M [00:00<?, ?B/s]"
            ],
            "application/vnd.jupyter.widget-view+json": {
              "version_major": 2,
              "version_minor": 0,
              "model_id": "6cc4419185f847c4a807230e3a04796f"
            }
          },
          "metadata": {}
        },
        {
          "output_type": "stream",
          "name": "stderr",
          "text": [
            "Passing a tuple of `past_key_values` is deprecated and will be removed in Transformers v4.48.0. You should pass an instance of `EncoderDecoderCache` instead, e.g. `past_key_values=EncoderDecoderCache.from_legacy_cache(past_key_values)`.\n"
          ]
        },
        {
          "output_type": "display_data",
          "data": {
            "text/plain": [
              "<IPython.core.display.HTML object>"
            ],
            "text/html": [
              "\n",
              "    <div>\n",
              "      \n",
              "      <progress value='400' max='400' style='width:300px; height:20px; vertical-align: middle;'></progress>\n",
              "      [400/400 02:39, Epoch 1/1]\n",
              "    </div>\n",
              "    <table border=\"1\" class=\"dataframe\">\n",
              "  <thead>\n",
              " <tr style=\"text-align: left;\">\n",
              "      <th>Step</th>\n",
              "      <th>Training Loss</th>\n",
              "    </tr>\n",
              "  </thead>\n",
              "  <tbody>\n",
              "    <tr>\n",
              "      <td>100</td>\n",
              "      <td>1.082200</td>\n",
              "    </tr>\n",
              "    <tr>\n",
              "      <td>200</td>\n",
              "      <td>0.598100</td>\n",
              "    </tr>\n",
              "    <tr>\n",
              "      <td>300</td>\n",
              "      <td>0.591900</td>\n",
              "    </tr>\n",
              "    <tr>\n",
              "      <td>400</td>\n",
              "      <td>0.545600</td>\n",
              "    </tr>\n",
              "  </tbody>\n",
              "</table><p>"
            ]
          },
          "metadata": {}
        },
        {
          "output_type": "execute_result",
          "data": {
            "text/plain": [
              "TrainOutput(global_step=400, training_loss=0.7044423198699952, metrics={'train_runtime': 162.5272, 'train_samples_per_second': 9.845, 'train_steps_per_second': 2.461, 'total_flos': 974332624896000.0, 'train_loss': 0.7044423198699952, 'epoch': 1.0})"
            ]
          },
          "metadata": {},
          "execution_count": 18
        }
      ],
      "source": [
        "training_args = TrainingArguments(\n",
        "    output_dir=\"./results\",\n",
        "    learning_rate=2e-4,\n",
        "    per_device_train_batch_size=4,\n",
        "    per_device_eval_batch_size=4,\n",
        "    num_train_epochs=1,\n",
        "    weight_decay=0.01,\n",
        "    logging_dir=\"./logs\",\n",
        "    logging_steps=100,\n",
        "    report_to=\"none\",\n",
        "    fp16=True\n",
        ")\n",
        "\n",
        "trainer = Trainer(\n",
        "    model=t5_model,\n",
        "    args=training_args,\n",
        "    train_dataset=tokenized_dataset[\"train\"],\n",
        "    eval_dataset=tokenized_dataset[\"test\"],\n",
        ")\n",
        "\n",
        "trainer.train()"
      ]
    },
    {
      "cell_type": "markdown",
      "metadata": {
        "id": "cj4WSU-Ct_84"
      },
      "source": [
        "## Load Indonesian Named Entity Recognition (NER) Model"
      ]
    },
    {
      "cell_type": "code",
      "execution_count": 19,
      "metadata": {
        "colab": {
          "base_uri": "https://localhost:8080/",
          "height": 301,
          "referenced_widgets": [
            "3d1271c5fd4442dc9ed1e4cd6f8cfd9c",
            "425be0da4aba45f795ffcdb381a2708c",
            "632df017f6df469085262b6a5e2fff4f",
            "1e6cf6336d1a411b98753b51c828b5e4",
            "a6f8b7c967fa493ba32a7517413c6baa",
            "6a79474f7778426c9266d5be865be06d",
            "6d7a073a689a458f8c4c6ccafd5daf5f",
            "cf5f271f74b54848823b41be8df28cfd",
            "c72e767b42b04124b84b28c8e88a3c3e",
            "fedce63c818b418aa567bab26bda6816",
            "73e3291417a44a74be433f91904c7756",
            "5e6ac5f7669e42dd930eedf1b2c44cff",
            "e3b1532bcf6f437d830d0b7fa145e614",
            "5945ee1b825e493b9071465a32473a38",
            "94ada5244c504b96aec626b40b8e3a48",
            "34b0c051b16e43aa9149b3ac4a904772",
            "af2c11a6c36849b48a8a949dcc155eb2",
            "daa9e9761a054262bbc2ab2be5bf1457",
            "348775a5325d4c62999403d585d1360e",
            "051bea86bb3045219c8a522e61628907",
            "0add621ab0cb4c7da26a7d683d5d04be",
            "79ec618d72b74d9ba91c78e034a9ef68",
            "7f2a0431821b452a97a4a65a0509d29e",
            "06c22697b2f1473c98355441426fcbaa",
            "2b6faf5dee8e4ee5ada57c6c82e4897e",
            "431b07c05d7c455785bf79df07c44325",
            "100039ffdc9a4feabba24e0cac87bd26",
            "04473a3508b443d49c9b38db0adc736c",
            "c22e8f32c70a45bf856459787830edbe",
            "e9db79bd4f584a818e231ab00191195a",
            "91a474845f8a4312bf4bdca0f67d67d3",
            "7653f2ae7abf4717b24f9d9f01da3c3e",
            "87805abbf4ab43e59d0c79c3ce907f12",
            "f26bbd3f3389454ca052b96d21b038bd",
            "fb50dc403d8f4c0598ab8a638d891c66",
            "d68472004e604c0c88eb087207098f25",
            "72a20608d6204d10b8ce7acdc304320e",
            "1696fbea382d431b8364f8404761797d",
            "504be568e80b4e7fb6dc88e2a720c96c",
            "270ab3e033724a019c54b3c8530536d5",
            "0c802448203b492f85eccf3c0eef767c",
            "fa9b7f97b7484ec0a2e50a128a18ac01",
            "97edc7f7373444fe9bf0e7dca7065636",
            "2aac0dca2f0646a2b25bb4f7740beea7",
            "3c2f2bb7fa0d454e8cc79539e2bd4235",
            "445fbf13e82f48cb90eab84b7e1952aa",
            "06629ec6260b414d8bbee00b664a655f",
            "bdb7099269d04cf2823a1106e8e2b838",
            "eb0578bc66a04baeb46749547ee245d0",
            "8fb49c42a6084a5ebaf10d481c64e69b",
            "25cf70b469c6417ba6dc01bd84c37bb4",
            "8320d974eb434dc9afdc18d64f9cd141",
            "1f0f458f070245b091efed0cc40b9f63",
            "aef54709daa646b28832d8be619ea876",
            "ae979428572f4137b20025f446553c4f"
          ]
        },
        "id": "nty1M7Y_v-Lw",
        "outputId": "49d0b2a1-b8c5-4583-ad90-ad65e67e6081"
      },
      "outputs": [
        {
          "output_type": "display_data",
          "data": {
            "text/plain": [
              "tokenizer_config.json:   0%|          | 0.00/85.0 [00:00<?, ?B/s]"
            ],
            "application/vnd.jupyter.widget-view+json": {
              "version_major": 2,
              "version_minor": 0,
              "model_id": "3d1271c5fd4442dc9ed1e4cd6f8cfd9c"
            }
          },
          "metadata": {}
        },
        {
          "output_type": "display_data",
          "data": {
            "text/plain": [
              "config.json:   0%|          | 0.00/1.97k [00:00<?, ?B/s]"
            ],
            "application/vnd.jupyter.widget-view+json": {
              "version_major": 2,
              "version_minor": 0,
              "model_id": "5e6ac5f7669e42dd930eedf1b2c44cff"
            }
          },
          "metadata": {}
        },
        {
          "output_type": "display_data",
          "data": {
            "text/plain": [
              "vocab.txt:   0%|          | 0.00/230k [00:00<?, ?B/s]"
            ],
            "application/vnd.jupyter.widget-view+json": {
              "version_major": 2,
              "version_minor": 0,
              "model_id": "7f2a0431821b452a97a4a65a0509d29e"
            }
          },
          "metadata": {}
        },
        {
          "output_type": "display_data",
          "data": {
            "text/plain": [
              "special_tokens_map.json:   0%|          | 0.00/112 [00:00<?, ?B/s]"
            ],
            "application/vnd.jupyter.widget-view+json": {
              "version_major": 2,
              "version_minor": 0,
              "model_id": "f26bbd3f3389454ca052b96d21b038bd"
            }
          },
          "metadata": {}
        },
        {
          "output_type": "display_data",
          "data": {
            "text/plain": [
              "pytorch_model.bin:   0%|          | 0.00/443M [00:00<?, ?B/s]"
            ],
            "application/vnd.jupyter.widget-view+json": {
              "version_major": 2,
              "version_minor": 0,
              "model_id": "3c2f2bb7fa0d454e8cc79539e2bd4235"
            }
          },
          "metadata": {}
        },
        {
          "output_type": "stream",
          "name": "stderr",
          "text": [
            "Some weights of the model checkpoint at cahya/bert-base-indonesian-NER were not used when initializing BertForTokenClassification: ['bert.pooler.dense.bias', 'bert.pooler.dense.weight']\n",
            "- This IS expected if you are initializing BertForTokenClassification from the checkpoint of a model trained on another task or with another architecture (e.g. initializing a BertForSequenceClassification model from a BertForPreTraining model).\n",
            "- This IS NOT expected if you are initializing BertForTokenClassification from the checkpoint of a model that you expect to be exactly identical (initializing a BertForSequenceClassification model from a BertForSequenceClassification model).\n",
            "Device set to use cuda:0\n",
            "/usr/local/lib/python3.11/dist-packages/transformers/pipelines/token_classification.py:170: UserWarning: `grouped_entities` is deprecated and will be removed in version v5.0.0, defaulted to `aggregation_strategy=\"AggregationStrategy.SIMPLE\"` instead.\n",
            "  warnings.warn(\n"
          ]
        }
      ],
      "source": [
        "ner_tokenizer = AutoTokenizer.from_pretrained(\"cahya/bert-base-indonesian-NER\")\n",
        "ner_model = AutoModelForTokenClassification.from_pretrained(\"cahya/bert-base-indonesian-NER\")\n",
        "\n",
        "ner_pipe = pipeline(\"ner\", model=ner_model, tokenizer=ner_tokenizer, grouped_entities=True)"
      ]
    },
    {
      "cell_type": "markdown",
      "metadata": {
        "id": "Xenp2jt2uqdK"
      },
      "source": [
        "## Functions"
      ]
    },
    {
      "cell_type": "code",
      "execution_count": 20,
      "metadata": {
        "id": "RZjbT79IeP_p"
      },
      "outputs": [],
      "source": [
        "def extract_entities(text, max_entities=5):\n",
        "    entities = ner_pipe(text)\n",
        "    answers = []\n",
        "    for entity in entities:\n",
        "        if entity['entity_group'] in ['PER', 'LOC', 'DAT']:\n",
        "            word = entity['word'].replace('##', '').strip()\n",
        "            if word not in answers:\n",
        "                answers.append(word)\n",
        "        if len(answers) >= max_entities:\n",
        "            break\n",
        "    return answers"
      ]
    },
    {
      "cell_type": "code",
      "execution_count": 21,
      "metadata": {
        "id": "mwr6aZjpZmja"
      },
      "outputs": [],
      "source": [
        "device = torch.device(\"cuda\" if torch.cuda.is_available() else \"cpu\")\n",
        "t5_model.to(device)\n",
        "\n",
        "def get_sentence_with_answer(text, answer):\n",
        "    sentences = re.split(r'(?<=[.!?]) +', text)\n",
        "    for sentence in sentences:\n",
        "        if answer in sentence:\n",
        "            return sentence\n",
        "    return text\n",
        "\n",
        "def generate_question_from_input(input_text):\n",
        "    inputs = tokenizer(\n",
        "        input_text,\n",
        "        return_tensors=\"pt\",\n",
        "        padding=True,\n",
        "        truncation=True,\n",
        "        max_length=512\n",
        "    ).to(device)\n",
        "\n",
        "    outputs = t5_model.generate(\n",
        "        inputs[\"input_ids\"],\n",
        "        max_length=64,\n",
        "        num_return_sequences=1,\n",
        "        do_sample=True,\n",
        "        top_k=50,\n",
        "        top_p=0.95,\n",
        "        temperature=0.8\n",
        "    )\n",
        "\n",
        "    return tokenizer.decode(outputs[0], skip_special_tokens=True)\n",
        "\n",
        "def generate_questions(text, num_questions=5):\n",
        "    answers = extract_entities(text, max_entities=num_questions)\n",
        "    questions = []\n",
        "\n",
        "    if answers:\n",
        "        for ans in answers:\n",
        "            context = get_sentence_with_answer(text, ans)\n",
        "            input_text = f\"generate question: context: {context} answer: {ans}\"\n",
        "            question = generate_question_from_input(input_text)\n",
        "            questions.append(question)\n",
        "            remaining_questions = num_questions - len(questions)\n",
        "        if remaining_questions > 0:\n",
        "            for i in range(remaining_questions):\n",
        "                input_text = f\"generate question: context: {text}\"\n",
        "                question = generate_question_from_input(input_text)\n",
        "                questions.append(question)\n",
        "    else:\n",
        "        for _ in range(num_questions):\n",
        "            input_text = f\"generate question: context: {text}\"\n",
        "            question = generate_question_from_input(input_text)\n",
        "            questions.append(question)\n",
        "\n",
        "    return questions"
      ]
    },
    {
      "cell_type": "markdown",
      "metadata": {
        "id": "KshIvBcNui-E"
      },
      "source": [
        "## Inference Process"
      ]
    },
    {
      "cell_type": "code",
      "execution_count": 22,
      "metadata": {
        "colab": {
          "base_uri": "https://localhost:8080/"
        },
        "id": "kPQO-ffDYj3h",
        "outputId": "a49771c1-ebe3-43a3-a49b-dcb954951bc3"
      },
      "outputs": [
        {
          "output_type": "stream",
          "name": "stderr",
          "text": [
            "Asking to truncate to max_length but no maximum length is provided and the model has no predefined maximum length. Default to no truncation.\n"
          ]
        },
        {
          "output_type": "stream",
          "name": "stdout",
          "text": [
            "1. Kapan Presiden pertama Indonesia dan Dokuritsu Junbi Cosakai pada tanggal 1 Juni 1945?\n",
            "2. Apa yang dilakukan oleh Presiden pertama Indonesia sejak tanggal 1 Juni 1945?\n",
            "3. Kapan Sidang pertama Soekarno di tanggal 29 Mei 1945?\n",
            "4. Kapan presiden pertama Soekarno menyampaikan pidato pertama di Indonesia pada tanggal 1 Juni 1945?\n",
            "5. Kapan The Voecology diadakan?\n"
          ]
        }
      ],
      "source": [
        "text = \"Hari lahir Pancasila jatuh pada tanggal 1 Juni yang ditandai oleh pidato yang dilakukan oleh Presiden pertama Indonesia Ir Soekarno pada tanggal 1 Juni 1945 dalam sidang Dokuritsu Junbi Cosakai (Badan Penyelidik Usaha Persiapan Kemerdekaan). Dalam pidatonya pertama kali mengemukakan konsep awal Pancasila yang menjadi dasar negara Indonesia. Adapun sejarahnya berawal dari kekalahan Jepang pada perang pasifik, mereka kemudian berusaha mendapatkan hati masyarakat dengan menjanjikan kemerdekaan kepada Indonesia dan membentuk sebuah Lembaga yang tugasnya untuk mempersiapkan hal tersebut. Lembaga ini dinamai Dokuritsu Junbi Cosakai. Pada sidang pertamanya di tanggal 29 Mei 1945 yang diadakan di Gedung Chuo Sangi In (sekarang Gedung Pancasila), para anggota membahas mengenai tema dasar negara. Sidang berjalan sekitar hampir 5 hari, kemudian pada tanggal 1 Juni 1945, Soekarno menyampaikan ide serta gagasannya terkait dasar negara Indonesia, yang dinamai “Pancasila”. Panca artinya lima, sedangkan sila artinya prinsip atau asas.\"\n",
        "questions = generate_questions(text, num_questions=5)\n",
        "\n",
        "for i, q in enumerate(questions, 1):\n",
        "    print(f\"{i}. {q}\")"
      ]
    },
    {
      "cell_type": "markdown",
      "source": [
        "## Evaluation"
      ],
      "metadata": {
        "id": "4xqdfy5fSym8"
      }
    },
    {
      "cell_type": "code",
      "source": [
        "scorer = rouge_scorer.RougeScorer(['rouge1', 'rouge2', 'rougeL'], use_stemmer=True)"
      ],
      "metadata": {
        "id": "hCeONS8bcgaF"
      },
      "execution_count": 23,
      "outputs": []
    },
    {
      "cell_type": "markdown",
      "source": [
        "### Data Train 500"
      ],
      "metadata": {
        "id": "lwWAqyD7dYpn"
      }
    },
    {
      "cell_type": "code",
      "source": [
        "sample_data = raw_dataset['train'][500]\n",
        "context_500 = sample_data['context']\n",
        "reference_question_500 = sample_data['question']\n",
        "\n",
        "print(\"Konteks:\\n\", context_500)\n",
        "print(\"\\nPertanyaan:\\n\", reference_question_500)"
      ],
      "metadata": {
        "colab": {
          "base_uri": "https://localhost:8080/"
        },
        "id": "JTfyK-rnTfE1",
        "outputId": "b156cf04-61a5-4b2c-8980-8345043f771a"
      },
      "execution_count": 24,
      "outputs": [
        {
          "output_type": "stream",
          "name": "stdout",
          "text": [
            "Konteks:\n",
            " Setiap spesies patogen memiliki spektrum karakteristik interaksi dengan host manusia nya. Beberapa organisme, seperti Staphylococcus atau Streptococcus, dapat menyebabkan infeksi kulit, pneumonia, meningitis, dan bahkan sepsi yang luar biasa, respon inflamasi sistemik yang menghasilkan kejutan, vasodilasi besar dan kematian. Namun organisme ini juga merupakan bagian dari flora manusia normal dan biasanya ada di kulit atau di hidung tanpa menyebabkan penyakit sama sekali. Organisme lain selalu menyebabkan penyakit pada manusia, seperti Rickettsia, yang adalah parasit intraseluler yang dapat bertumbuh dan berkembang biak hanya dalam sel - sel organisme lain. Salah satu spesies Rickettia menyebabkan tifus, sedangkan yang lain menyebabkan demam Rocky Mountain terlihat. Chlamydia, phylum parasit intraseluler lainnya, mengandung spesies - spesies yang dapat menyebabkan pneumonia, atau infeksi saluran kencing dan mungkin terlibat dalam penyakit jantung koroner. Akhirnya, beberapa spesies, seperti Pseudomonas aeruginosa, Burkholderia cenocepacia, dan Mycobakterium avium, adalah patogen oportunistik dan menyebabkan penyakit terutama pada orang yang menderita immunosuppression atau fibrosis sistik.\n",
            "\n",
            "Pertanyaan:\n",
            " Bakteri mana yang menyebabkan demam Rocky Mountain terlihat berkurang?\n"
          ]
        }
      ]
    },
    {
      "cell_type": "code",
      "source": [
        "questions_500 = generate_questions(context_500, num_questions=5)\n",
        "generated_question_500 = []\n",
        "\n",
        "for i, q in enumerate(questions_500, 1):\n",
        "    generated_question_500.append(q)\n",
        "    print(f\"{i}. {q}\")"
      ],
      "metadata": {
        "colab": {
          "base_uri": "https://localhost:8080/"
        },
        "id": "ITTrf6PXT2U_",
        "outputId": "b82f8297-a6b6-4c86-a15c-ec78ab9c1d6d"
      },
      "execution_count": 25,
      "outputs": [
        {
          "output_type": "stream",
          "name": "stdout",
          "text": [
            "1. Apa - apa yang sering berperan dalam demam Rocky Mountain?\n",
            "2. Apa yang terjadi di luar tubuh manusia?\n",
            "3. Apa jenis parasit yang selalu menyebabkan penyakit manusia?\n",
            "4. Apa yang diketahui oleh manusia untuk penyakit lain?\n",
            "5. Apa yang menyebabkan penyakit dari berbagai spesies yang berbeza?\n"
          ]
        }
      ]
    },
    {
      "cell_type": "code",
      "source": [
        "for i, q in enumerate(generated_question_500, 1):\n",
        "    scores = scorer.score(reference_question_500, q)\n",
        "    print(f\"{i}. {scores}\")"
      ],
      "metadata": {
        "colab": {
          "base_uri": "https://localhost:8080/"
        },
        "id": "cIUyCXjcS2a5",
        "outputId": "51fc2cf1-23fc-454f-8bf9-4e4621c878ea"
      },
      "execution_count": 26,
      "outputs": [
        {
          "output_type": "stream",
          "name": "stdout",
          "text": [
            "1. {'rouge1': Score(precision=0.4444444444444444, recall=0.4444444444444444, fmeasure=0.4444444444444444), 'rouge2': Score(precision=0.25, recall=0.25, fmeasure=0.25), 'rougeL': Score(precision=0.4444444444444444, recall=0.4444444444444444, fmeasure=0.4444444444444444)}\n",
            "2. {'rouge1': Score(precision=0.14285714285714285, recall=0.1111111111111111, fmeasure=0.125), 'rouge2': Score(precision=0.0, recall=0.0, fmeasure=0.0), 'rougeL': Score(precision=0.14285714285714285, recall=0.1111111111111111, fmeasure=0.125)}\n",
            "3. {'rouge1': Score(precision=0.25, recall=0.2222222222222222, fmeasure=0.23529411764705882), 'rouge2': Score(precision=0.0, recall=0.0, fmeasure=0.0), 'rougeL': Score(precision=0.25, recall=0.2222222222222222, fmeasure=0.23529411764705882)}\n",
            "4. {'rouge1': Score(precision=0.125, recall=0.1111111111111111, fmeasure=0.11764705882352941), 'rouge2': Score(precision=0.0, recall=0.0, fmeasure=0.0), 'rougeL': Score(precision=0.125, recall=0.1111111111111111, fmeasure=0.11764705882352941)}\n",
            "5. {'rouge1': Score(precision=0.2222222222222222, recall=0.2222222222222222, fmeasure=0.2222222222222222), 'rouge2': Score(precision=0.125, recall=0.125, fmeasure=0.125), 'rougeL': Score(precision=0.2222222222222222, recall=0.2222222222222222, fmeasure=0.2222222222222222)}\n"
          ]
        }
      ]
    },
    {
      "cell_type": "markdown",
      "source": [
        "### Data Train 250"
      ],
      "metadata": {
        "id": "MT30W-snderu"
      }
    },
    {
      "cell_type": "code",
      "source": [
        "sample_data = raw_dataset['train'][250]\n",
        "context_250 = sample_data['context']\n",
        "reference_question_250 = sample_data['question']\n",
        "\n",
        "print(\"Konteks:\\n\", context_250)\n",
        "print(\"\\nPertanyaan:\\n\", reference_question_250)"
      ],
      "metadata": {
        "colab": {
          "base_uri": "https://localhost:8080/"
        },
        "id": "pTObfB4CZbQx",
        "outputId": "27a1f1de-015e-4814-b214-fe0af332c7d2"
      },
      "execution_count": 27,
      "outputs": [
        {
          "output_type": "stream",
          "name": "stdout",
          "text": [
            "Konteks:\n",
            " Perjalanan dan pariwisata terus menjadi sangat penting bagi Portugal, dengan jumlah pengunjung yang diperkirakan akan meningkat secara signifikan di masa depan. Oleh karena itu, negara ini perlu berfokus pada daya tariknya, seperti kesehatan, alam, dan pedesaan, untuk tetap berada di depan para pesaingnya.\n",
            "\n",
            "Pertanyaan:\n",
            " Bagaimana Portugal bersaing dengan daerah - daerah lain bagi wisatawan?\n"
          ]
        }
      ]
    },
    {
      "cell_type": "code",
      "source": [
        "questions_250 = generate_questions(context_250, num_questions=5)\n",
        "generated_question_250 = []\n",
        "\n",
        "for i, q in enumerate(questions_250, 1):\n",
        "    generated_question_250.append(q)\n",
        "    print(f\"{i}. {q}\")"
      ],
      "metadata": {
        "colab": {
          "base_uri": "https://localhost:8080/"
        },
        "id": "1j1Zl6lNZkFR",
        "outputId": "e4df64c1-f279-4a94-9a8f-024c0ced9a8f"
      },
      "execution_count": 28,
      "outputs": [
        {
          "output_type": "stream",
          "name": "stdout",
          "text": [
            "1. Apa yang telah berlaku di Portugal selama tahun berapa?\n",
            "2. Siapa yang melihat jumlah pengunjung yang diperkirakan meningkat secara signifikan?\n",
            "3. Berapa banyak kunjungan pengunjung ke Portugal?\n",
            "4. Negara mana yang meningkatkan jadwal pelancongan?\n",
            "5. Negara apa yang perlu fokus pada apa?\n"
          ]
        }
      ]
    },
    {
      "cell_type": "code",
      "source": [
        "for i, q in enumerate(generated_question_250, 1):\n",
        "    scores = scorer.score(reference_question_250, q)\n",
        "    print(f\"{i}. {scores}\")"
      ],
      "metadata": {
        "colab": {
          "base_uri": "https://localhost:8080/"
        },
        "id": "OrzGzR38cV7L",
        "outputId": "4a25538a-f192-4a84-8c6f-05dbdcf8055a"
      },
      "execution_count": 29,
      "outputs": [
        {
          "output_type": "stream",
          "name": "stdout",
          "text": [
            "1. {'rouge1': Score(precision=0.1111111111111111, recall=0.1111111111111111, fmeasure=0.1111111111111111), 'rouge2': Score(precision=0.0, recall=0.0, fmeasure=0.0), 'rougeL': Score(precision=0.1111111111111111, recall=0.1111111111111111, fmeasure=0.1111111111111111)}\n",
            "2. {'rouge1': Score(precision=0.0, recall=0.0, fmeasure=0.0), 'rouge2': Score(precision=0.0, recall=0.0, fmeasure=0.0), 'rougeL': Score(precision=0.0, recall=0.0, fmeasure=0.0)}\n",
            "3. {'rouge1': Score(precision=0.16666666666666666, recall=0.1111111111111111, fmeasure=0.13333333333333333), 'rouge2': Score(precision=0.0, recall=0.0, fmeasure=0.0), 'rougeL': Score(precision=0.16666666666666666, recall=0.1111111111111111, fmeasure=0.13333333333333333)}\n",
            "4. {'rouge1': Score(precision=0.0, recall=0.0, fmeasure=0.0), 'rouge2': Score(precision=0.0, recall=0.0, fmeasure=0.0), 'rougeL': Score(precision=0.0, recall=0.0, fmeasure=0.0)}\n",
            "5. {'rouge1': Score(precision=0.0, recall=0.0, fmeasure=0.0), 'rouge2': Score(precision=0.0, recall=0.0, fmeasure=0.0), 'rougeL': Score(precision=0.0, recall=0.0, fmeasure=0.0)}\n"
          ]
        }
      ]
    },
    {
      "cell_type": "markdown",
      "source": [
        "### Data Train 150"
      ],
      "metadata": {
        "id": "M_Qtap90do-R"
      }
    },
    {
      "cell_type": "code",
      "source": [
        "sample_data = raw_dataset['train'][150]\n",
        "context_150 = sample_data['context']\n",
        "reference_question_150 = sample_data['question']\n",
        "\n",
        "print(\"Konteks:\\n\", context_150)\n",
        "print(\"\\nPertanyaan:\\n\", reference_question_150)"
      ],
      "metadata": {
        "colab": {
          "base_uri": "https://localhost:8080/"
        },
        "id": "dUrUrAk-dzBC",
        "outputId": "e63068f2-8153-4684-8fdd-78962d85228d"
      },
      "execution_count": 30,
      "outputs": [
        {
          "output_type": "stream",
          "name": "stdout",
          "text": [
            "Konteks:\n",
            " Dalam bukunya, Humanism (1997), Tony Davies menyebut kritikus ini \"manusia anti-manusia.\" Para kritikus antihumanisme, terutama Jürgen Habermas, membantah bahwa meskipun para antihumanis mungkin menonjolkan kegagalan humanisme untuk memenuhi standar emansipasinya, mereka tidak menawarkan proyek emansipasi alternatif mereka sendiri. Lainnya, seperti filsuf Jerman Heidegger menganggap diri humanis pada model Yunani kuno, tetapi berpikir humanisme diterapkan hanya untuk \"race\" Jerman dan khusus untuk Nazi dan dengan demikian, dengan kata-kata Davies, adalah humanis anti-humanis. Membaca pikiran Heidegger itu sendiri sangat kontroversial; Heidegger mencakup pandangannya sendiri dan kritik Humanisme dalam Letter On Humanism. Davies mengakui bahwa setelah pengalaman mengerikan dari perang-perang abad ke-20 seharusnya tidak lagi mungkin untuk merumuskan frase seperti 'takdir manusia' atau 'bahasa manusia' tanpa kesadaran instan kebodohan dan kebrutalan mereka menyeret di belakang mereka\" Karena \"hampir mustahil untuk memikirkan kejahatan yang belum dilakukan atas nama alasan manusia.\" Namun, ia melanjutkan, \" tidaklah bijaksana untuk begitu saja meninggalkan tanah yang diduduki oleh humanisme sejarah. Untuk satu hal humanisme tetap pada banyak kesempatan alternatif hanya tersedia untuk kefanatikan dan penganiayaan. Kebebasan untuk berbicara dan menulis, untuk mengatur dan berkampanye dalam membela kepentingan individu atau kolektif, untuk memprotes dan tidak taat: semua ini hanya dapat diartikulasikan dalam istilah humanis. \"\n",
            "\n",
            "Pertanyaan:\n",
            " Siapa yang menulis buku humanisme?\n"
          ]
        }
      ]
    },
    {
      "cell_type": "code",
      "source": [
        "questions_150 = generate_questions(context_150, num_questions=5)\n",
        "generated_question_150 = []\n",
        "\n",
        "for i, q in enumerate(questions_150, 1):\n",
        "    generated_question_150.append(q)\n",
        "    print(f\"{i}. {q}\")"
      ],
      "metadata": {
        "colab": {
          "base_uri": "https://localhost:8080/"
        },
        "id": "52g485CjeK38",
        "outputId": "ccafc321-d117-4d4d-e9bc-09e48daceb45"
      },
      "execution_count": 31,
      "outputs": [
        {
          "output_type": "stream",
          "name": "stdout",
          "text": [
            "1. Dalam bukunya Humanism, ia menyebut para antihumanis sebagai musuh manusia seperti apa?\n",
            "2. Apa kata pengkritik terkenal dengan kritikus anti-manusia?\n",
            "3. Siapa yang mengkritik Humanisme?\n",
            "4. Siapa yang mengkritik Humanisme?\n",
            "5. Siapa yang menyatakan humanisme?\n"
          ]
        }
      ]
    },
    {
      "cell_type": "code",
      "source": [
        "for i, q in enumerate(generated_question_150, 1):\n",
        "    scores = scorer.score(reference_question_150, q)\n",
        "    print(f\"{i}. {scores}\")"
      ],
      "metadata": {
        "colab": {
          "base_uri": "https://localhost:8080/"
        },
        "id": "t9_RITbNeRYr",
        "outputId": "fdc6558c-8312-4f22-f614-9d1be8da232d"
      },
      "execution_count": 32,
      "outputs": [
        {
          "output_type": "stream",
          "name": "stdout",
          "text": [
            "1. {'rouge1': Score(precision=0.0, recall=0.0, fmeasure=0.0), 'rouge2': Score(precision=0.0, recall=0.0, fmeasure=0.0), 'rougeL': Score(precision=0.0, recall=0.0, fmeasure=0.0)}\n",
            "2. {'rouge1': Score(precision=0.0, recall=0.0, fmeasure=0.0), 'rouge2': Score(precision=0.0, recall=0.0, fmeasure=0.0), 'rougeL': Score(precision=0.0, recall=0.0, fmeasure=0.0)}\n",
            "3. {'rouge1': Score(precision=0.75, recall=0.6, fmeasure=0.6666666666666665), 'rouge2': Score(precision=0.3333333333333333, recall=0.25, fmeasure=0.28571428571428575), 'rougeL': Score(precision=0.75, recall=0.6, fmeasure=0.6666666666666665)}\n",
            "4. {'rouge1': Score(precision=0.75, recall=0.6, fmeasure=0.6666666666666665), 'rouge2': Score(precision=0.3333333333333333, recall=0.25, fmeasure=0.28571428571428575), 'rougeL': Score(precision=0.75, recall=0.6, fmeasure=0.6666666666666665)}\n",
            "5. {'rouge1': Score(precision=0.75, recall=0.6, fmeasure=0.6666666666666665), 'rouge2': Score(precision=0.3333333333333333, recall=0.25, fmeasure=0.28571428571428575), 'rougeL': Score(precision=0.75, recall=0.6, fmeasure=0.6666666666666665)}\n"
          ]
        }
      ]
    },
    {
      "cell_type": "markdown",
      "source": [
        "### Data Train 50"
      ],
      "metadata": {
        "id": "_NMuU3IOwDhe"
      }
    },
    {
      "cell_type": "code",
      "source": [
        "sample_data = raw_dataset['train'][50]\n",
        "context_50 = sample_data['context']\n",
        "reference_question_50 = sample_data['question']\n",
        "\n",
        "print(\"Konteks:\\n\", context_50)\n",
        "print(\"\\nPertanyaan:\\n\", reference_question_50)"
      ],
      "metadata": {
        "colab": {
          "base_uri": "https://localhost:8080/"
        },
        "id": "hjjgYyQiwGC0",
        "outputId": "3ae3f0a0-db65-47f3-9609-fdd68caf50ba"
      },
      "execution_count": 33,
      "outputs": [
        {
          "output_type": "stream",
          "name": "stdout",
          "text": [
            "Konteks:\n",
            " Pada bulan Mei 2008 mencetak The Times beralih dari Wapping ke tanaman baru di Broxbourne di pinggiran London, dan Merseyside dan Glasgow, memungkinkan kertas diproduksi dengan warna penuh di setiap halaman untuk pertama kalinya.\n",
            "\n",
            "Pertanyaan:\n",
            " Pada bulan Mei 2008, The Times beralih dari tanaman apa ke tanaman baru di Broxbourne, Merseyside, dan Glasgow?\n"
          ]
        }
      ]
    },
    {
      "cell_type": "code",
      "source": [
        "questions_50 = generate_questions(context_50, num_questions=5)\n",
        "generated_question_50 = []\n",
        "\n",
        "for i, q in enumerate(questions_50, 1):\n",
        "    generated_question_50.append(q)\n",
        "    print(f\"{i}. {q}\")"
      ],
      "metadata": {
        "colab": {
          "base_uri": "https://localhost:8080/"
        },
        "id": "1R4KS4QKwMJe",
        "outputId": "68243178-b0c6-4d0b-fadc-3d948a995eb9"
      },
      "execution_count": 34,
      "outputs": [
        {
          "output_type": "stream",
          "name": "stdout",
          "text": [
            "1. Apa yang memungkinkan kertas The Times di musim panas 2008 yang digunakan di Broxbourne dan Merseyside Glasgow?\n",
            "2. Apa tanaman baru di Wapping?\n",
            "3. Pada bulan November 2008, The Times mencetak The Times dalam keadaan warna penuh di berbagai halaman.\n",
            "4. Di mana The Times dicetak?\n",
            "5. The Times mencetak anting-anting, dari tanaman di pinggiran London, di pinggiran mana?\n"
          ]
        }
      ]
    },
    {
      "cell_type": "code",
      "source": [
        "for i, q in enumerate(generated_question_50, 1):\n",
        "    scores = scorer.score(reference_question_50, q)\n",
        "    print(f\"{i}. {scores}\")"
      ],
      "metadata": {
        "colab": {
          "base_uri": "https://localhost:8080/"
        },
        "id": "7Ozgl_r1wSDR",
        "outputId": "f14167c7-7288-40d5-a377-e0b4ce3cda32"
      },
      "execution_count": 35,
      "outputs": [
        {
          "output_type": "stream",
          "name": "stdout",
          "text": [
            "1. {'rouge1': Score(precision=0.5294117647058824, recall=0.5, fmeasure=0.5142857142857143), 'rouge2': Score(precision=0.125, recall=0.11764705882352941, fmeasure=0.12121212121212122), 'rougeL': Score(precision=0.35294117647058826, recall=0.3333333333333333, fmeasure=0.34285714285714286)}\n",
            "2. {'rouge1': Score(precision=0.8, recall=0.2222222222222222, fmeasure=0.3478260869565218), 'rouge2': Score(precision=0.5, recall=0.11764705882352941, fmeasure=0.19047619047619047), 'rougeL': Score(precision=0.8, recall=0.2222222222222222, fmeasure=0.3478260869565218)}\n",
            "3. {'rouge1': Score(precision=0.375, recall=0.3333333333333333, fmeasure=0.35294117647058826), 'rouge2': Score(precision=0.2, recall=0.17647058823529413, fmeasure=0.18750000000000003), 'rougeL': Score(precision=0.375, recall=0.3333333333333333, fmeasure=0.35294117647058826)}\n",
            "4. {'rouge1': Score(precision=0.6, recall=0.16666666666666666, fmeasure=0.2608695652173913), 'rouge2': Score(precision=0.25, recall=0.058823529411764705, fmeasure=0.09523809523809523), 'rougeL': Score(precision=0.4, recall=0.1111111111111111, fmeasure=0.1739130434782609)}\n",
            "5. {'rouge1': Score(precision=0.38461538461538464, recall=0.2777777777777778, fmeasure=0.3225806451612903), 'rouge2': Score(precision=0.16666666666666666, recall=0.11764705882352941, fmeasure=0.13793103448275862), 'rougeL': Score(precision=0.38461538461538464, recall=0.2777777777777778, fmeasure=0.3225806451612903)}\n"
          ]
        }
      ]
    },
    {
      "cell_type": "markdown",
      "source": [
        "### Data Train 5"
      ],
      "metadata": {
        "id": "VxVawvTvwtpp"
      }
    },
    {
      "cell_type": "code",
      "source": [
        "sample_data = raw_dataset['train'][5]\n",
        "context_5 = sample_data['context']\n",
        "reference_question_5 = sample_data['question']\n",
        "\n",
        "print(\"Konteks:\\n\", context_5)\n",
        "print(\"\\nPertanyaan:\\n\", reference_question_5)"
      ],
      "metadata": {
        "colab": {
          "base_uri": "https://localhost:8080/"
        },
        "id": "cmQh3Xd5wwRw",
        "outputId": "93ec92b1-2331-4a1a-fe7a-85e58477c7e5"
      },
      "execution_count": 36,
      "outputs": [
        {
          "output_type": "stream",
          "name": "stdout",
          "text": [
            "Konteks:\n",
            " Armenia mendirikan sebuah Gereja yang masih berdiri secara independen di antara gereja Katolik maupun Gereja Ortodoks Timur, yang telah menjadi demikian pada tahun 451 AD akibat pendiriannya mengenai Konsili Chalcedon. Dewasa ini, gereja ini dikenal sebagai Gereja Rasuli Armenia, yang merupakan bagian dari persekutuan Ortodoks Timur, tidak boleh disalahartikan dengan persekutuan Ortodoks Timur. Selama gerhana politiknya belakangan, Armenia bergantung pada gereja untuk melestarikan dan melindungi identitasnya yang unik. Lokasi semula penganut Katolik Armenia adalah Echmiadzin. Akan tetapi, pergolakan yang terus - menerus terjadi, yang menjadi ciri adegan politik Armenia, membuat kekuasaan politik pindah ke tempat - tempat yang lebih aman. Pusat Gereja juga pindah ke berbagai lokasi bersama dengan otoritas politik. Oleh karena itu, ia akhirnya pindah ke Kilikia sebagai Pribadi Suci Kilikia.\n",
            "\n",
            "Pertanyaan:\n",
            " Di mana Katolikosat Armenia pindah ke?\n"
          ]
        }
      ]
    },
    {
      "cell_type": "code",
      "source": [
        "questions_5 = generate_questions(context_5, num_questions=5)\n",
        "generated_question_5 = []\n",
        "\n",
        "for i, q in enumerate(questions_5, 1):\n",
        "    generated_question_5.append(q)\n",
        "    print(f\"{i}. {q}\")"
      ],
      "metadata": {
        "colab": {
          "base_uri": "https://localhost:8080/"
        },
        "id": "x03fOxtWw1AC",
        "outputId": "de8103c3-3854-4026-ba77-0a2a7a604187"
      },
      "execution_count": 37,
      "outputs": [
        {
          "output_type": "stream",
          "name": "stdout",
          "text": [
            "1. Apa gereja yang masih berdiri secara independen di antara gereja Katolik atau gereja Ortodoks,?\n",
            "2. Echmiadzin pindah ke Kilikia dengan tujuan untuk melindungi gereja-gereja di Armenia.\n",
            "3. Apa gereja yang dianggap sebagai bagian dari persekutuan Ortodoks Timur?\n",
            "4. Apa yang menjadi salah satu pusat agama Katolik Armenia?\n",
            "5. Kapan Gereja Rasuli Armenia baru diciptakan?\n"
          ]
        }
      ]
    },
    {
      "cell_type": "code",
      "source": [
        "for i, q in enumerate(generated_question_5, 1):\n",
        "    scores = scorer.score(reference_question_5, q)\n",
        "    print(f\"{i}. {scores}\")"
      ],
      "metadata": {
        "colab": {
          "base_uri": "https://localhost:8080/"
        },
        "id": "paKSjwE7w7l5",
        "outputId": "38e4ef9d-87c4-4990-fdf6-36cb78d27f3c"
      },
      "execution_count": 38,
      "outputs": [
        {
          "output_type": "stream",
          "name": "stdout",
          "text": [
            "1. {'rouge1': Score(precision=0.07142857142857142, recall=0.16666666666666666, fmeasure=0.1), 'rouge2': Score(precision=0.0, recall=0.0, fmeasure=0.0), 'rougeL': Score(precision=0.07142857142857142, recall=0.16666666666666666, fmeasure=0.1)}\n",
            "2. {'rouge1': Score(precision=0.3333333333333333, recall=0.6666666666666666, fmeasure=0.4444444444444444), 'rouge2': Score(precision=0.09090909090909091, recall=0.2, fmeasure=0.12500000000000003), 'rougeL': Score(precision=0.16666666666666666, recall=0.3333333333333333, fmeasure=0.2222222222222222)}\n",
            "3. {'rouge1': Score(precision=0.0, recall=0.0, fmeasure=0.0), 'rouge2': Score(precision=0.0, recall=0.0, fmeasure=0.0), 'rougeL': Score(precision=0.0, recall=0.0, fmeasure=0.0)}\n",
            "4. {'rouge1': Score(precision=0.1111111111111111, recall=0.16666666666666666, fmeasure=0.13333333333333333), 'rouge2': Score(precision=0.0, recall=0.0, fmeasure=0.0), 'rougeL': Score(precision=0.1111111111111111, recall=0.16666666666666666, fmeasure=0.13333333333333333)}\n",
            "5. {'rouge1': Score(precision=0.16666666666666666, recall=0.16666666666666666, fmeasure=0.16666666666666666), 'rouge2': Score(precision=0.0, recall=0.0, fmeasure=0.0), 'rougeL': Score(precision=0.16666666666666666, recall=0.16666666666666666, fmeasure=0.16666666666666666)}\n"
          ]
        }
      ]
    },
    {
      "cell_type": "markdown",
      "metadata": {
        "id": "qIgEOJqquOLg"
      },
      "source": [
        "## Save Pretrained Model and Tokenizer"
      ]
    },
    {
      "cell_type": "code",
      "execution_count": 39,
      "metadata": {
        "colab": {
          "base_uri": "https://localhost:8080/"
        },
        "id": "tbBkqaqweOZT",
        "outputId": "3b14b35f-0b00-4896-8a61-638aef7c256f"
      },
      "outputs": [
        {
          "output_type": "execute_result",
          "data": {
            "text/plain": [
              "('qg_model/tokenizer_config.json',\n",
              " 'qg_model/special_tokens_map.json',\n",
              " 'qg_model/spiece.model',\n",
              " 'qg_model/added_tokens.json')"
            ]
          },
          "metadata": {},
          "execution_count": 39
        }
      ],
      "source": [
        "t5_model.save_pretrained(\"qg_model\")\n",
        "tokenizer.save_pretrained(\"qg_model\")"
      ]
    }
  ],
  "metadata": {
    "colab": {
      "provenance": [],
      "gpuType": "T4"
    },
    "kernelspec": {
      "display_name": "Python 3",
      "name": "python3"
    },
    "language_info": {
      "name": "python"
    },
    "accelerator": "GPU"
  },
  "nbformat": 4,
  "nbformat_minor": 0
}
