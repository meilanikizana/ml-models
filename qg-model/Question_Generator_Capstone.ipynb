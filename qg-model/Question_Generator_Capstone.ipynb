{
  "cells": [
    {
      "cell_type": "markdown",
      "metadata": {
        "id": "wAr5azfEqaty"
      },
      "source": [
        "# Question Generator (QG) Model Using HuggingFace T5"
      ]
    },
    {
      "cell_type": "markdown",
      "metadata": {
        "id": "bluzWYavqn6t"
      },
      "source": [
        "## Install and Import Needed Library"
      ]
    },
    {
      "cell_type": "code",
      "execution_count": null,
      "metadata": {
        "colab": {
          "base_uri": "https://localhost:8080/"
        },
        "id": "yr9nPpVE2KJA",
        "outputId": "c08bbe88-80bb-4995-eff3-71dffb85e4cb"
      },
      "outputs": [
        {
          "name": "stdout",
          "output_type": "stream",
          "text": [
            "Requirement already satisfied: transformers in /usr/local/lib/python3.11/dist-packages (4.52.2)\n",
            "Requirement already satisfied: datasets in /usr/local/lib/python3.11/dist-packages (2.14.4)\n",
            "Requirement already satisfied: sentencepiece in /usr/local/lib/python3.11/dist-packages (0.2.0)\n",
            "Requirement already satisfied: filelock in /usr/local/lib/python3.11/dist-packages (from transformers) (3.18.0)\n",
            "Requirement already satisfied: huggingface-hub<1.0,>=0.30.0 in /usr/local/lib/python3.11/dist-packages (from transformers) (0.31.4)\n",
            "Requirement already satisfied: numpy>=1.17 in /usr/local/lib/python3.11/dist-packages (from transformers) (2.0.2)\n",
            "Requirement already satisfied: packaging>=20.0 in /usr/local/lib/python3.11/dist-packages (from transformers) (24.2)\n",
            "Requirement already satisfied: pyyaml>=5.1 in /usr/local/lib/python3.11/dist-packages (from transformers) (6.0.2)\n",
            "Requirement already satisfied: regex!=2019.12.17 in /usr/local/lib/python3.11/dist-packages (from transformers) (2024.11.6)\n",
            "Requirement already satisfied: requests in /usr/local/lib/python3.11/dist-packages (from transformers) (2.32.3)\n",
            "Requirement already satisfied: tokenizers<0.22,>=0.21 in /usr/local/lib/python3.11/dist-packages (from transformers) (0.21.1)\n",
            "Requirement already satisfied: safetensors>=0.4.3 in /usr/local/lib/python3.11/dist-packages (from transformers) (0.5.3)\n",
            "Requirement already satisfied: tqdm>=4.27 in /usr/local/lib/python3.11/dist-packages (from transformers) (4.67.1)\n",
            "Requirement already satisfied: pyarrow>=8.0.0 in /usr/local/lib/python3.11/dist-packages (from datasets) (18.1.0)\n",
            "Requirement already satisfied: dill<0.3.8,>=0.3.0 in /usr/local/lib/python3.11/dist-packages (from datasets) (0.3.7)\n",
            "Requirement already satisfied: pandas in /usr/local/lib/python3.11/dist-packages (from datasets) (2.2.2)\n",
            "Requirement already satisfied: xxhash in /usr/local/lib/python3.11/dist-packages (from datasets) (3.5.0)\n",
            "Requirement already satisfied: multiprocess in /usr/local/lib/python3.11/dist-packages (from datasets) (0.70.15)\n",
            "Requirement already satisfied: fsspec>=2021.11.1 in /usr/local/lib/python3.11/dist-packages (from fsspec[http]>=2021.11.1->datasets) (2025.3.2)\n",
            "Requirement already satisfied: aiohttp in /usr/local/lib/python3.11/dist-packages (from datasets) (3.11.15)\n",
            "Requirement already satisfied: aiohappyeyeballs>=2.3.0 in /usr/local/lib/python3.11/dist-packages (from aiohttp->datasets) (2.6.1)\n",
            "Requirement already satisfied: aiosignal>=1.1.2 in /usr/local/lib/python3.11/dist-packages (from aiohttp->datasets) (1.3.2)\n",
            "Requirement already satisfied: attrs>=17.3.0 in /usr/local/lib/python3.11/dist-packages (from aiohttp->datasets) (25.3.0)\n",
            "Requirement already satisfied: frozenlist>=1.1.1 in /usr/local/lib/python3.11/dist-packages (from aiohttp->datasets) (1.6.0)\n",
            "Requirement already satisfied: multidict<7.0,>=4.5 in /usr/local/lib/python3.11/dist-packages (from aiohttp->datasets) (6.4.4)\n",
            "Requirement already satisfied: propcache>=0.2.0 in /usr/local/lib/python3.11/dist-packages (from aiohttp->datasets) (0.3.1)\n",
            "Requirement already satisfied: yarl<2.0,>=1.17.0 in /usr/local/lib/python3.11/dist-packages (from aiohttp->datasets) (1.20.0)\n",
            "Requirement already satisfied: typing-extensions>=3.7.4.3 in /usr/local/lib/python3.11/dist-packages (from huggingface-hub<1.0,>=0.30.0->transformers) (4.13.2)\n",
            "Requirement already satisfied: charset-normalizer<4,>=2 in /usr/local/lib/python3.11/dist-packages (from requests->transformers) (3.4.2)\n",
            "Requirement already satisfied: idna<4,>=2.5 in /usr/local/lib/python3.11/dist-packages (from requests->transformers) (3.10)\n",
            "Requirement already satisfied: urllib3<3,>=1.21.1 in /usr/local/lib/python3.11/dist-packages (from requests->transformers) (2.4.0)\n",
            "Requirement already satisfied: certifi>=2017.4.17 in /usr/local/lib/python3.11/dist-packages (from requests->transformers) (2025.4.26)\n",
            "Requirement already satisfied: python-dateutil>=2.8.2 in /usr/local/lib/python3.11/dist-packages (from pandas->datasets) (2.9.0.post0)\n",
            "Requirement already satisfied: pytz>=2020.1 in /usr/local/lib/python3.11/dist-packages (from pandas->datasets) (2025.2)\n",
            "Requirement already satisfied: tzdata>=2022.7 in /usr/local/lib/python3.11/dist-packages (from pandas->datasets) (2025.2)\n",
            "Requirement already satisfied: six>=1.5 in /usr/local/lib/python3.11/dist-packages (from python-dateutil>=2.8.2->pandas->datasets) (1.17.0)\n"
          ]
        }
      ],
      "source": [
        "!pip install transformers datasets sentencepiece"
      ]
    },
    {
      "cell_type": "code",
      "execution_count": null,
      "metadata": {
        "colab": {
          "base_uri": "https://localhost:8080/"
        },
        "id": "cqDMjc7hvEos",
        "outputId": "ef22e6c2-72d0-44b4-e44c-d204ece919ab"
      },
      "outputs": [
        {
          "name": "stdout",
          "output_type": "stream",
          "text": [
            "Requirement already satisfied: transformers in /usr/local/lib/python3.11/dist-packages (4.52.2)\n",
            "Collecting seqeval\n",
            "  Downloading seqeval-1.2.2.tar.gz (43 kB)\n",
            "\u001b[2K     \u001b[90m━━━━━━━━━━━━━━━━━━━━━━━━━━━━━━━━━━━━━━━━\u001b[0m \u001b[32m43.6/43.6 kB\u001b[0m \u001b[31m2.0 MB/s\u001b[0m eta \u001b[36m0:00:00\u001b[0m\n",
            "\u001b[?25h  Preparing metadata (setup.py) ... \u001b[?25l\u001b[?25hdone\n",
            "Requirement already satisfied: filelock in /usr/local/lib/python3.11/dist-packages (from transformers) (3.18.0)\n",
            "Requirement already satisfied: huggingface-hub<1.0,>=0.30.0 in /usr/local/lib/python3.11/dist-packages (from transformers) (0.31.4)\n",
            "Requirement already satisfied: numpy>=1.17 in /usr/local/lib/python3.11/dist-packages (from transformers) (2.0.2)\n",
            "Requirement already satisfied: packaging>=20.0 in /usr/local/lib/python3.11/dist-packages (from transformers) (24.2)\n",
            "Requirement already satisfied: pyyaml>=5.1 in /usr/local/lib/python3.11/dist-packages (from transformers) (6.0.2)\n",
            "Requirement already satisfied: regex!=2019.12.17 in /usr/local/lib/python3.11/dist-packages (from transformers) (2024.11.6)\n",
            "Requirement already satisfied: requests in /usr/local/lib/python3.11/dist-packages (from transformers) (2.32.3)\n",
            "Requirement already satisfied: tokenizers<0.22,>=0.21 in /usr/local/lib/python3.11/dist-packages (from transformers) (0.21.1)\n",
            "Requirement already satisfied: safetensors>=0.4.3 in /usr/local/lib/python3.11/dist-packages (from transformers) (0.5.3)\n",
            "Requirement already satisfied: tqdm>=4.27 in /usr/local/lib/python3.11/dist-packages (from transformers) (4.67.1)\n",
            "Requirement already satisfied: scikit-learn>=0.21.3 in /usr/local/lib/python3.11/dist-packages (from seqeval) (1.6.1)\n",
            "Requirement already satisfied: fsspec>=2023.5.0 in /usr/local/lib/python3.11/dist-packages (from huggingface-hub<1.0,>=0.30.0->transformers) (2025.3.2)\n",
            "Requirement already satisfied: typing-extensions>=3.7.4.3 in /usr/local/lib/python3.11/dist-packages (from huggingface-hub<1.0,>=0.30.0->transformers) (4.13.2)\n",
            "Requirement already satisfied: scipy>=1.6.0 in /usr/local/lib/python3.11/dist-packages (from scikit-learn>=0.21.3->seqeval) (1.15.3)\n",
            "Requirement already satisfied: joblib>=1.2.0 in /usr/local/lib/python3.11/dist-packages (from scikit-learn>=0.21.3->seqeval) (1.5.0)\n",
            "Requirement already satisfied: threadpoolctl>=3.1.0 in /usr/local/lib/python3.11/dist-packages (from scikit-learn>=0.21.3->seqeval) (3.6.0)\n",
            "Requirement already satisfied: charset-normalizer<4,>=2 in /usr/local/lib/python3.11/dist-packages (from requests->transformers) (3.4.2)\n",
            "Requirement already satisfied: idna<4,>=2.5 in /usr/local/lib/python3.11/dist-packages (from requests->transformers) (3.10)\n",
            "Requirement already satisfied: urllib3<3,>=1.21.1 in /usr/local/lib/python3.11/dist-packages (from requests->transformers) (2.4.0)\n",
            "Requirement already satisfied: certifi>=2017.4.17 in /usr/local/lib/python3.11/dist-packages (from requests->transformers) (2025.4.26)\n",
            "Building wheels for collected packages: seqeval\n",
            "  Building wheel for seqeval (setup.py) ... \u001b[?25l\u001b[?25hdone\n",
            "  Created wheel for seqeval: filename=seqeval-1.2.2-py3-none-any.whl size=16162 sha256=806845b3c46655f96a8b89d10fb6255a6033e511b644b87017646ee65df3d28e\n",
            "  Stored in directory: /root/.cache/pip/wheels/bc/92/f0/243288f899c2eacdfa8c5f9aede4c71a9bad0ee26a01dc5ead\n",
            "Successfully built seqeval\n",
            "Installing collected packages: seqeval\n",
            "Successfully installed seqeval-1.2.2\n"
          ]
        }
      ],
      "source": [
        "!pip install transformers seqeval"
      ]
    },
    {
      "cell_type": "code",
      "execution_count": 2,
      "metadata": {
        "colab": {
          "base_uri": "https://localhost:8080/"
        },
        "id": "1rEGfngDMG8V",
        "outputId": "b5f92350-daf3-47ee-e197-329a5cae6477"
      },
      "outputs": [
        {
          "output_type": "stream",
          "name": "stdout",
          "text": [
            "Collecting rouge-score\n",
            "  Downloading rouge_score-0.1.2.tar.gz (17 kB)\n",
            "  Preparing metadata (setup.py) ... \u001b[?25l\u001b[?25hdone\n",
            "Requirement already satisfied: absl-py in /usr/local/lib/python3.11/dist-packages (from rouge-score) (1.4.0)\n",
            "Requirement already satisfied: nltk in /usr/local/lib/python3.11/dist-packages (from rouge-score) (3.9.1)\n",
            "Requirement already satisfied: numpy in /usr/local/lib/python3.11/dist-packages (from rouge-score) (2.0.2)\n",
            "Requirement already satisfied: six>=1.14.0 in /usr/local/lib/python3.11/dist-packages (from rouge-score) (1.17.0)\n",
            "Requirement already satisfied: click in /usr/local/lib/python3.11/dist-packages (from nltk->rouge-score) (8.2.1)\n",
            "Requirement already satisfied: joblib in /usr/local/lib/python3.11/dist-packages (from nltk->rouge-score) (1.5.1)\n",
            "Requirement already satisfied: regex>=2021.8.3 in /usr/local/lib/python3.11/dist-packages (from nltk->rouge-score) (2024.11.6)\n",
            "Requirement already satisfied: tqdm in /usr/local/lib/python3.11/dist-packages (from nltk->rouge-score) (4.67.1)\n",
            "Building wheels for collected packages: rouge-score\n",
            "  Building wheel for rouge-score (setup.py) ... \u001b[?25l\u001b[?25hdone\n",
            "  Created wheel for rouge-score: filename=rouge_score-0.1.2-py3-none-any.whl size=24934 sha256=e1346d2080fc6469f5da7a8819631ab024523637d89506228c49e204a5805495\n",
            "  Stored in directory: /root/.cache/pip/wheels/1e/19/43/8a442dc83660ca25e163e1bd1f89919284ab0d0c1475475148\n",
            "Successfully built rouge-score\n",
            "Installing collected packages: rouge-score\n",
            "Successfully installed rouge-score-0.1.2\n"
          ]
        }
      ],
      "source": [
        "!pip install rouge-score"
      ]
    },
    {
      "cell_type": "code",
      "execution_count": 3,
      "metadata": {
        "id": "pfBskCJn3tJu"
      },
      "outputs": [],
      "source": [
        "from google.colab import files\n",
        "import pandas as pd\n",
        "import random\n",
        "from datasets import Dataset\n",
        "import torch\n",
        "import re\n",
        "from transformers import T5Tokenizer, T5ForConditionalGeneration, TrainingArguments, Trainer\n",
        "from transformers import AutoTokenizer, AutoModelForTokenClassification, pipeline\n",
        "from rouge_score import rouge_scorer"
      ]
    },
    {
      "cell_type": "markdown",
      "metadata": {
        "id": "HxF-pWQfrIAI"
      },
      "source": [
        "## Data Loading"
      ]
    },
    {
      "cell_type": "code",
      "execution_count": 4,
      "metadata": {
        "colab": {
          "base_uri": "https://localhost:8080/",
          "height": 90
        },
        "id": "i_4SOyYy3v2f",
        "outputId": "956d85b2-5b1d-4c40-a170-4e9f6c35f5bf"
      },
      "outputs": [
        {
          "output_type": "display_data",
          "data": {
            "text/plain": [
              "<IPython.core.display.HTML object>"
            ],
            "text/html": [
              "\n",
              "     <input type=\"file\" id=\"files-9a083863-2c09-465d-bfb2-6b6321e9efc2\" name=\"files[]\" multiple disabled\n",
              "        style=\"border:none\" />\n",
              "     <output id=\"result-9a083863-2c09-465d-bfb2-6b6321e9efc2\">\n",
              "      Upload widget is only available when the cell has been executed in the\n",
              "      current browser session. Please rerun this cell to enable.\n",
              "      </output>\n",
              "      <script>// Copyright 2017 Google LLC\n",
              "//\n",
              "// Licensed under the Apache License, Version 2.0 (the \"License\");\n",
              "// you may not use this file except in compliance with the License.\n",
              "// You may obtain a copy of the License at\n",
              "//\n",
              "//      http://www.apache.org/licenses/LICENSE-2.0\n",
              "//\n",
              "// Unless required by applicable law or agreed to in writing, software\n",
              "// distributed under the License is distributed on an \"AS IS\" BASIS,\n",
              "// WITHOUT WARRANTIES OR CONDITIONS OF ANY KIND, either express or implied.\n",
              "// See the License for the specific language governing permissions and\n",
              "// limitations under the License.\n",
              "\n",
              "/**\n",
              " * @fileoverview Helpers for google.colab Python module.\n",
              " */\n",
              "(function(scope) {\n",
              "function span(text, styleAttributes = {}) {\n",
              "  const element = document.createElement('span');\n",
              "  element.textContent = text;\n",
              "  for (const key of Object.keys(styleAttributes)) {\n",
              "    element.style[key] = styleAttributes[key];\n",
              "  }\n",
              "  return element;\n",
              "}\n",
              "\n",
              "// Max number of bytes which will be uploaded at a time.\n",
              "const MAX_PAYLOAD_SIZE = 100 * 1024;\n",
              "\n",
              "function _uploadFiles(inputId, outputId) {\n",
              "  const steps = uploadFilesStep(inputId, outputId);\n",
              "  const outputElement = document.getElementById(outputId);\n",
              "  // Cache steps on the outputElement to make it available for the next call\n",
              "  // to uploadFilesContinue from Python.\n",
              "  outputElement.steps = steps;\n",
              "\n",
              "  return _uploadFilesContinue(outputId);\n",
              "}\n",
              "\n",
              "// This is roughly an async generator (not supported in the browser yet),\n",
              "// where there are multiple asynchronous steps and the Python side is going\n",
              "// to poll for completion of each step.\n",
              "// This uses a Promise to block the python side on completion of each step,\n",
              "// then passes the result of the previous step as the input to the next step.\n",
              "function _uploadFilesContinue(outputId) {\n",
              "  const outputElement = document.getElementById(outputId);\n",
              "  const steps = outputElement.steps;\n",
              "\n",
              "  const next = steps.next(outputElement.lastPromiseValue);\n",
              "  return Promise.resolve(next.value.promise).then((value) => {\n",
              "    // Cache the last promise value to make it available to the next\n",
              "    // step of the generator.\n",
              "    outputElement.lastPromiseValue = value;\n",
              "    return next.value.response;\n",
              "  });\n",
              "}\n",
              "\n",
              "/**\n",
              " * Generator function which is called between each async step of the upload\n",
              " * process.\n",
              " * @param {string} inputId Element ID of the input file picker element.\n",
              " * @param {string} outputId Element ID of the output display.\n",
              " * @return {!Iterable<!Object>} Iterable of next steps.\n",
              " */\n",
              "function* uploadFilesStep(inputId, outputId) {\n",
              "  const inputElement = document.getElementById(inputId);\n",
              "  inputElement.disabled = false;\n",
              "\n",
              "  const outputElement = document.getElementById(outputId);\n",
              "  outputElement.innerHTML = '';\n",
              "\n",
              "  const pickedPromise = new Promise((resolve) => {\n",
              "    inputElement.addEventListener('change', (e) => {\n",
              "      resolve(e.target.files);\n",
              "    });\n",
              "  });\n",
              "\n",
              "  const cancel = document.createElement('button');\n",
              "  inputElement.parentElement.appendChild(cancel);\n",
              "  cancel.textContent = 'Cancel upload';\n",
              "  const cancelPromise = new Promise((resolve) => {\n",
              "    cancel.onclick = () => {\n",
              "      resolve(null);\n",
              "    };\n",
              "  });\n",
              "\n",
              "  // Wait for the user to pick the files.\n",
              "  const files = yield {\n",
              "    promise: Promise.race([pickedPromise, cancelPromise]),\n",
              "    response: {\n",
              "      action: 'starting',\n",
              "    }\n",
              "  };\n",
              "\n",
              "  cancel.remove();\n",
              "\n",
              "  // Disable the input element since further picks are not allowed.\n",
              "  inputElement.disabled = true;\n",
              "\n",
              "  if (!files) {\n",
              "    return {\n",
              "      response: {\n",
              "        action: 'complete',\n",
              "      }\n",
              "    };\n",
              "  }\n",
              "\n",
              "  for (const file of files) {\n",
              "    const li = document.createElement('li');\n",
              "    li.append(span(file.name, {fontWeight: 'bold'}));\n",
              "    li.append(span(\n",
              "        `(${file.type || 'n/a'}) - ${file.size} bytes, ` +\n",
              "        `last modified: ${\n",
              "            file.lastModifiedDate ? file.lastModifiedDate.toLocaleDateString() :\n",
              "                                    'n/a'} - `));\n",
              "    const percent = span('0% done');\n",
              "    li.appendChild(percent);\n",
              "\n",
              "    outputElement.appendChild(li);\n",
              "\n",
              "    const fileDataPromise = new Promise((resolve) => {\n",
              "      const reader = new FileReader();\n",
              "      reader.onload = (e) => {\n",
              "        resolve(e.target.result);\n",
              "      };\n",
              "      reader.readAsArrayBuffer(file);\n",
              "    });\n",
              "    // Wait for the data to be ready.\n",
              "    let fileData = yield {\n",
              "      promise: fileDataPromise,\n",
              "      response: {\n",
              "        action: 'continue',\n",
              "      }\n",
              "    };\n",
              "\n",
              "    // Use a chunked sending to avoid message size limits. See b/62115660.\n",
              "    let position = 0;\n",
              "    do {\n",
              "      const length = Math.min(fileData.byteLength - position, MAX_PAYLOAD_SIZE);\n",
              "      const chunk = new Uint8Array(fileData, position, length);\n",
              "      position += length;\n",
              "\n",
              "      const base64 = btoa(String.fromCharCode.apply(null, chunk));\n",
              "      yield {\n",
              "        response: {\n",
              "          action: 'append',\n",
              "          file: file.name,\n",
              "          data: base64,\n",
              "        },\n",
              "      };\n",
              "\n",
              "      let percentDone = fileData.byteLength === 0 ?\n",
              "          100 :\n",
              "          Math.round((position / fileData.byteLength) * 100);\n",
              "      percent.textContent = `${percentDone}% done`;\n",
              "\n",
              "    } while (position < fileData.byteLength);\n",
              "  }\n",
              "\n",
              "  // All done.\n",
              "  yield {\n",
              "    response: {\n",
              "      action: 'complete',\n",
              "    }\n",
              "  };\n",
              "}\n",
              "\n",
              "scope.google = scope.google || {};\n",
              "scope.google.colab = scope.google.colab || {};\n",
              "scope.google.colab._files = {\n",
              "  _uploadFiles,\n",
              "  _uploadFilesContinue,\n",
              "};\n",
              "})(self);\n",
              "</script> "
            ]
          },
          "metadata": {}
        },
        {
          "output_type": "stream",
          "name": "stdout",
          "text": [
            "Saving kaggle.json to kaggle.json\n"
          ]
        },
        {
          "output_type": "execute_result",
          "data": {
            "text/plain": [
              "{'kaggle.json': b'{\"username\":\"meilanikizana\",\"key\":\"230db92153864ff31f16103462e6c659\"}'}"
            ]
          },
          "metadata": {},
          "execution_count": 4
        }
      ],
      "source": [
        "files.upload()"
      ]
    },
    {
      "cell_type": "code",
      "execution_count": 5,
      "metadata": {
        "id": "OyeyNBEH3x4W"
      },
      "outputs": [],
      "source": [
        "!mkdir -p ~/.kaggle\n",
        "!cp kaggle.json ~/.kaggle/\n",
        "!chmod 600 ~/.kaggle/kaggle.json"
      ]
    },
    {
      "cell_type": "code",
      "execution_count": 6,
      "metadata": {
        "colab": {
          "base_uri": "https://localhost:8080/"
        },
        "id": "RcVV1rvL322t",
        "outputId": "d8c8df22-d93e-445e-cb3f-b74498b1d43e"
      },
      "outputs": [
        {
          "output_type": "stream",
          "name": "stdout",
          "text": [
            "Dataset URL: https://www.kaggle.com/datasets/mintupsidup/squad-variated-indo\n",
            "License(s): apache-2.0\n",
            "Downloading squad-variated-indo.zip to /content\n",
            " 86% 88.0M/103M [00:00<00:00, 919MB/s]\n",
            "100% 103M/103M [00:00<00:00, 922MB/s] \n",
            "Archive:  squad-variated-indo.zip\n",
            "  inflating: dev-v2.0.json           \n",
            "  inflating: glove_50d_Indo.txt      \n",
            "  inflating: train-v2.0.json         \n",
            "  inflating: train_df_variated_new.csv  \n",
            "  inflating: valid_df_variated_new.csv  \n"
          ]
        }
      ],
      "source": [
        "!kaggle datasets download -d mintupsidup/squad-variated-indo\n",
        "!unzip squad-variated-indo.zip"
      ]
    },
    {
      "cell_type": "code",
      "execution_count": 7,
      "metadata": {
        "colab": {
          "base_uri": "https://localhost:8080/",
          "height": 424
        },
        "id": "uh1D7cuL4E6L",
        "outputId": "e50e5860-6b53-42de-df79-9ecd7e2d130c"
      },
      "outputs": [
        {
          "output_type": "execute_result",
          "data": {
            "text/plain": [
              "    version                                               data\n",
              "0      v2.0  {'title': 'Beyoncé', 'paragraphs': [{'context'...\n",
              "1      v2.0  {'title': 'Frédéric_Chopin', 'paragraphs': [{'...\n",
              "2      v2.0  {'title': 'Sino-Tibetan_relations_during_the_M...\n",
              "3      v2.0  {'title': 'IPod', 'paragraphs': [{'context': '...\n",
              "4      v2.0  {'title': 'The_Legend_of_Zelda:_Twilight_Princ...\n",
              "..      ...                                                ...\n",
              "472    v2.0  {'title': 'Islamism', 'paragraphs': [{'context...\n",
              "473    v2.0  {'title': 'Imperialism', 'paragraphs': [{'cont...\n",
              "474    v2.0  {'title': 'Warsaw', 'paragraphs': [{'context':...\n",
              "475    v2.0  {'title': 'French_and_Indian_War', 'paragraphs...\n",
              "476    v2.0  {'title': 'Force', 'paragraphs': [{'context': ...\n",
              "\n",
              "[477 rows x 2 columns]"
            ],
            "text/html": [
              "\n",
              "  <div id=\"df-2200f50a-5702-4854-a67f-292412d9e63e\" class=\"colab-df-container\">\n",
              "    <div>\n",
              "<style scoped>\n",
              "    .dataframe tbody tr th:only-of-type {\n",
              "        vertical-align: middle;\n",
              "    }\n",
              "\n",
              "    .dataframe tbody tr th {\n",
              "        vertical-align: top;\n",
              "    }\n",
              "\n",
              "    .dataframe thead th {\n",
              "        text-align: right;\n",
              "    }\n",
              "</style>\n",
              "<table border=\"1\" class=\"dataframe\">\n",
              "  <thead>\n",
              "    <tr style=\"text-align: right;\">\n",
              "      <th></th>\n",
              "      <th>version</th>\n",
              "      <th>data</th>\n",
              "    </tr>\n",
              "  </thead>\n",
              "  <tbody>\n",
              "    <tr>\n",
              "      <th>0</th>\n",
              "      <td>v2.0</td>\n",
              "      <td>{'title': 'Beyoncé', 'paragraphs': [{'context'...</td>\n",
              "    </tr>\n",
              "    <tr>\n",
              "      <th>1</th>\n",
              "      <td>v2.0</td>\n",
              "      <td>{'title': 'Frédéric_Chopin', 'paragraphs': [{'...</td>\n",
              "    </tr>\n",
              "    <tr>\n",
              "      <th>2</th>\n",
              "      <td>v2.0</td>\n",
              "      <td>{'title': 'Sino-Tibetan_relations_during_the_M...</td>\n",
              "    </tr>\n",
              "    <tr>\n",
              "      <th>3</th>\n",
              "      <td>v2.0</td>\n",
              "      <td>{'title': 'IPod', 'paragraphs': [{'context': '...</td>\n",
              "    </tr>\n",
              "    <tr>\n",
              "      <th>4</th>\n",
              "      <td>v2.0</td>\n",
              "      <td>{'title': 'The_Legend_of_Zelda:_Twilight_Princ...</td>\n",
              "    </tr>\n",
              "    <tr>\n",
              "      <th>...</th>\n",
              "      <td>...</td>\n",
              "      <td>...</td>\n",
              "    </tr>\n",
              "    <tr>\n",
              "      <th>472</th>\n",
              "      <td>v2.0</td>\n",
              "      <td>{'title': 'Islamism', 'paragraphs': [{'context...</td>\n",
              "    </tr>\n",
              "    <tr>\n",
              "      <th>473</th>\n",
              "      <td>v2.0</td>\n",
              "      <td>{'title': 'Imperialism', 'paragraphs': [{'cont...</td>\n",
              "    </tr>\n",
              "    <tr>\n",
              "      <th>474</th>\n",
              "      <td>v2.0</td>\n",
              "      <td>{'title': 'Warsaw', 'paragraphs': [{'context':...</td>\n",
              "    </tr>\n",
              "    <tr>\n",
              "      <th>475</th>\n",
              "      <td>v2.0</td>\n",
              "      <td>{'title': 'French_and_Indian_War', 'paragraphs...</td>\n",
              "    </tr>\n",
              "    <tr>\n",
              "      <th>476</th>\n",
              "      <td>v2.0</td>\n",
              "      <td>{'title': 'Force', 'paragraphs': [{'context': ...</td>\n",
              "    </tr>\n",
              "  </tbody>\n",
              "</table>\n",
              "<p>477 rows × 2 columns</p>\n",
              "</div>\n",
              "    <div class=\"colab-df-buttons\">\n",
              "\n",
              "  <div class=\"colab-df-container\">\n",
              "    <button class=\"colab-df-convert\" onclick=\"convertToInteractive('df-2200f50a-5702-4854-a67f-292412d9e63e')\"\n",
              "            title=\"Convert this dataframe to an interactive table.\"\n",
              "            style=\"display:none;\">\n",
              "\n",
              "  <svg xmlns=\"http://www.w3.org/2000/svg\" height=\"24px\" viewBox=\"0 -960 960 960\">\n",
              "    <path d=\"M120-120v-720h720v720H120Zm60-500h600v-160H180v160Zm220 220h160v-160H400v160Zm0 220h160v-160H400v160ZM180-400h160v-160H180v160Zm440 0h160v-160H620v160ZM180-180h160v-160H180v160Zm440 0h160v-160H620v160Z\"/>\n",
              "  </svg>\n",
              "    </button>\n",
              "\n",
              "  <style>\n",
              "    .colab-df-container {\n",
              "      display:flex;\n",
              "      gap: 12px;\n",
              "    }\n",
              "\n",
              "    .colab-df-convert {\n",
              "      background-color: #E8F0FE;\n",
              "      border: none;\n",
              "      border-radius: 50%;\n",
              "      cursor: pointer;\n",
              "      display: none;\n",
              "      fill: #1967D2;\n",
              "      height: 32px;\n",
              "      padding: 0 0 0 0;\n",
              "      width: 32px;\n",
              "    }\n",
              "\n",
              "    .colab-df-convert:hover {\n",
              "      background-color: #E2EBFA;\n",
              "      box-shadow: 0px 1px 2px rgba(60, 64, 67, 0.3), 0px 1px 3px 1px rgba(60, 64, 67, 0.15);\n",
              "      fill: #174EA6;\n",
              "    }\n",
              "\n",
              "    .colab-df-buttons div {\n",
              "      margin-bottom: 4px;\n",
              "    }\n",
              "\n",
              "    [theme=dark] .colab-df-convert {\n",
              "      background-color: #3B4455;\n",
              "      fill: #D2E3FC;\n",
              "    }\n",
              "\n",
              "    [theme=dark] .colab-df-convert:hover {\n",
              "      background-color: #434B5C;\n",
              "      box-shadow: 0px 1px 3px 1px rgba(0, 0, 0, 0.15);\n",
              "      filter: drop-shadow(0px 1px 2px rgba(0, 0, 0, 0.3));\n",
              "      fill: #FFFFFF;\n",
              "    }\n",
              "  </style>\n",
              "\n",
              "    <script>\n",
              "      const buttonEl =\n",
              "        document.querySelector('#df-2200f50a-5702-4854-a67f-292412d9e63e button.colab-df-convert');\n",
              "      buttonEl.style.display =\n",
              "        google.colab.kernel.accessAllowed ? 'block' : 'none';\n",
              "\n",
              "      async function convertToInteractive(key) {\n",
              "        const element = document.querySelector('#df-2200f50a-5702-4854-a67f-292412d9e63e');\n",
              "        const dataTable =\n",
              "          await google.colab.kernel.invokeFunction('convertToInteractive',\n",
              "                                                    [key], {});\n",
              "        if (!dataTable) return;\n",
              "\n",
              "        const docLinkHtml = 'Like what you see? Visit the ' +\n",
              "          '<a target=\"_blank\" href=https://colab.research.google.com/notebooks/data_table.ipynb>data table notebook</a>'\n",
              "          + ' to learn more about interactive tables.';\n",
              "        element.innerHTML = '';\n",
              "        dataTable['output_type'] = 'display_data';\n",
              "        await google.colab.output.renderOutput(dataTable, element);\n",
              "        const docLink = document.createElement('div');\n",
              "        docLink.innerHTML = docLinkHtml;\n",
              "        element.appendChild(docLink);\n",
              "      }\n",
              "    </script>\n",
              "  </div>\n",
              "\n",
              "\n",
              "    <div id=\"df-7ac6d0b0-2e9f-43c9-9dd1-341ebf756da0\">\n",
              "      <button class=\"colab-df-quickchart\" onclick=\"quickchart('df-7ac6d0b0-2e9f-43c9-9dd1-341ebf756da0')\"\n",
              "                title=\"Suggest charts\"\n",
              "                style=\"display:none;\">\n",
              "\n",
              "<svg xmlns=\"http://www.w3.org/2000/svg\" height=\"24px\"viewBox=\"0 0 24 24\"\n",
              "     width=\"24px\">\n",
              "    <g>\n",
              "        <path d=\"M19 3H5c-1.1 0-2 .9-2 2v14c0 1.1.9 2 2 2h14c1.1 0 2-.9 2-2V5c0-1.1-.9-2-2-2zM9 17H7v-7h2v7zm4 0h-2V7h2v10zm4 0h-2v-4h2v4z\"/>\n",
              "    </g>\n",
              "</svg>\n",
              "      </button>\n",
              "\n",
              "<style>\n",
              "  .colab-df-quickchart {\n",
              "      --bg-color: #E8F0FE;\n",
              "      --fill-color: #1967D2;\n",
              "      --hover-bg-color: #E2EBFA;\n",
              "      --hover-fill-color: #174EA6;\n",
              "      --disabled-fill-color: #AAA;\n",
              "      --disabled-bg-color: #DDD;\n",
              "  }\n",
              "\n",
              "  [theme=dark] .colab-df-quickchart {\n",
              "      --bg-color: #3B4455;\n",
              "      --fill-color: #D2E3FC;\n",
              "      --hover-bg-color: #434B5C;\n",
              "      --hover-fill-color: #FFFFFF;\n",
              "      --disabled-bg-color: #3B4455;\n",
              "      --disabled-fill-color: #666;\n",
              "  }\n",
              "\n",
              "  .colab-df-quickchart {\n",
              "    background-color: var(--bg-color);\n",
              "    border: none;\n",
              "    border-radius: 50%;\n",
              "    cursor: pointer;\n",
              "    display: none;\n",
              "    fill: var(--fill-color);\n",
              "    height: 32px;\n",
              "    padding: 0;\n",
              "    width: 32px;\n",
              "  }\n",
              "\n",
              "  .colab-df-quickchart:hover {\n",
              "    background-color: var(--hover-bg-color);\n",
              "    box-shadow: 0 1px 2px rgba(60, 64, 67, 0.3), 0 1px 3px 1px rgba(60, 64, 67, 0.15);\n",
              "    fill: var(--button-hover-fill-color);\n",
              "  }\n",
              "\n",
              "  .colab-df-quickchart-complete:disabled,\n",
              "  .colab-df-quickchart-complete:disabled:hover {\n",
              "    background-color: var(--disabled-bg-color);\n",
              "    fill: var(--disabled-fill-color);\n",
              "    box-shadow: none;\n",
              "  }\n",
              "\n",
              "  .colab-df-spinner {\n",
              "    border: 2px solid var(--fill-color);\n",
              "    border-color: transparent;\n",
              "    border-bottom-color: var(--fill-color);\n",
              "    animation:\n",
              "      spin 1s steps(1) infinite;\n",
              "  }\n",
              "\n",
              "  @keyframes spin {\n",
              "    0% {\n",
              "      border-color: transparent;\n",
              "      border-bottom-color: var(--fill-color);\n",
              "      border-left-color: var(--fill-color);\n",
              "    }\n",
              "    20% {\n",
              "      border-color: transparent;\n",
              "      border-left-color: var(--fill-color);\n",
              "      border-top-color: var(--fill-color);\n",
              "    }\n",
              "    30% {\n",
              "      border-color: transparent;\n",
              "      border-left-color: var(--fill-color);\n",
              "      border-top-color: var(--fill-color);\n",
              "      border-right-color: var(--fill-color);\n",
              "    }\n",
              "    40% {\n",
              "      border-color: transparent;\n",
              "      border-right-color: var(--fill-color);\n",
              "      border-top-color: var(--fill-color);\n",
              "    }\n",
              "    60% {\n",
              "      border-color: transparent;\n",
              "      border-right-color: var(--fill-color);\n",
              "    }\n",
              "    80% {\n",
              "      border-color: transparent;\n",
              "      border-right-color: var(--fill-color);\n",
              "      border-bottom-color: var(--fill-color);\n",
              "    }\n",
              "    90% {\n",
              "      border-color: transparent;\n",
              "      border-bottom-color: var(--fill-color);\n",
              "    }\n",
              "  }\n",
              "</style>\n",
              "\n",
              "      <script>\n",
              "        async function quickchart(key) {\n",
              "          const quickchartButtonEl =\n",
              "            document.querySelector('#' + key + ' button');\n",
              "          quickchartButtonEl.disabled = true;  // To prevent multiple clicks.\n",
              "          quickchartButtonEl.classList.add('colab-df-spinner');\n",
              "          try {\n",
              "            const charts = await google.colab.kernel.invokeFunction(\n",
              "                'suggestCharts', [key], {});\n",
              "          } catch (error) {\n",
              "            console.error('Error during call to suggestCharts:', error);\n",
              "          }\n",
              "          quickchartButtonEl.classList.remove('colab-df-spinner');\n",
              "          quickchartButtonEl.classList.add('colab-df-quickchart-complete');\n",
              "        }\n",
              "        (() => {\n",
              "          let quickchartButtonEl =\n",
              "            document.querySelector('#df-7ac6d0b0-2e9f-43c9-9dd1-341ebf756da0 button');\n",
              "          quickchartButtonEl.style.display =\n",
              "            google.colab.kernel.accessAllowed ? 'block' : 'none';\n",
              "        })();\n",
              "      </script>\n",
              "    </div>\n",
              "\n",
              "  <div id=\"id_f91f32b2-1bb5-45b3-9b3e-b93c828387f6\">\n",
              "    <style>\n",
              "      .colab-df-generate {\n",
              "        background-color: #E8F0FE;\n",
              "        border: none;\n",
              "        border-radius: 50%;\n",
              "        cursor: pointer;\n",
              "        display: none;\n",
              "        fill: #1967D2;\n",
              "        height: 32px;\n",
              "        padding: 0 0 0 0;\n",
              "        width: 32px;\n",
              "      }\n",
              "\n",
              "      .colab-df-generate:hover {\n",
              "        background-color: #E2EBFA;\n",
              "        box-shadow: 0px 1px 2px rgba(60, 64, 67, 0.3), 0px 1px 3px 1px rgba(60, 64, 67, 0.15);\n",
              "        fill: #174EA6;\n",
              "      }\n",
              "\n",
              "      [theme=dark] .colab-df-generate {\n",
              "        background-color: #3B4455;\n",
              "        fill: #D2E3FC;\n",
              "      }\n",
              "\n",
              "      [theme=dark] .colab-df-generate:hover {\n",
              "        background-color: #434B5C;\n",
              "        box-shadow: 0px 1px 3px 1px rgba(0, 0, 0, 0.15);\n",
              "        filter: drop-shadow(0px 1px 2px rgba(0, 0, 0, 0.3));\n",
              "        fill: #FFFFFF;\n",
              "      }\n",
              "    </style>\n",
              "    <button class=\"colab-df-generate\" onclick=\"generateWithVariable('init_df')\"\n",
              "            title=\"Generate code using this dataframe.\"\n",
              "            style=\"display:none;\">\n",
              "\n",
              "  <svg xmlns=\"http://www.w3.org/2000/svg\" height=\"24px\"viewBox=\"0 0 24 24\"\n",
              "       width=\"24px\">\n",
              "    <path d=\"M7,19H8.4L18.45,9,17,7.55,7,17.6ZM5,21V16.75L18.45,3.32a2,2,0,0,1,2.83,0l1.4,1.43a1.91,1.91,0,0,1,.58,1.4,1.91,1.91,0,0,1-.58,1.4L9.25,21ZM18.45,9,17,7.55Zm-12,3A5.31,5.31,0,0,0,4.9,8.1,5.31,5.31,0,0,0,1,6.5,5.31,5.31,0,0,0,4.9,4.9,5.31,5.31,0,0,0,6.5,1,5.31,5.31,0,0,0,8.1,4.9,5.31,5.31,0,0,0,12,6.5,5.46,5.46,0,0,0,6.5,12Z\"/>\n",
              "  </svg>\n",
              "    </button>\n",
              "    <script>\n",
              "      (() => {\n",
              "      const buttonEl =\n",
              "        document.querySelector('#id_f91f32b2-1bb5-45b3-9b3e-b93c828387f6 button.colab-df-generate');\n",
              "      buttonEl.style.display =\n",
              "        google.colab.kernel.accessAllowed ? 'block' : 'none';\n",
              "\n",
              "      buttonEl.onclick = () => {\n",
              "        google.colab.notebook.generateWithVariable('init_df');\n",
              "      }\n",
              "      })();\n",
              "    </script>\n",
              "  </div>\n",
              "\n",
              "    </div>\n",
              "  </div>\n"
            ],
            "application/vnd.google.colaboratory.intrinsic+json": {
              "type": "dataframe",
              "variable_name": "init_df",
              "summary": "{\n  \"name\": \"init_df\",\n  \"rows\": 477,\n  \"fields\": [\n    {\n      \"column\": \"version\",\n      \"properties\": {\n        \"dtype\": \"category\",\n        \"num_unique_values\": 1,\n        \"samples\": [\n          \"v2.0\"\n        ],\n        \"semantic_type\": \"\",\n        \"description\": \"\"\n      }\n    },\n    {\n      \"column\": \"data\",\n      \"properties\": {\n        \"dtype\": \"object\",\n        \"semantic_type\": \"\",\n        \"description\": \"\"\n      }\n    }\n  ]\n}"
            }
          },
          "metadata": {},
          "execution_count": 7
        }
      ],
      "source": [
        "train = pd.read_json('train-v2.0.json', orient='column')\n",
        "dev = pd.read_json('dev-v2.0.json', orient='column')\n",
        "\n",
        "init_df = pd.concat([train, dev], ignore_index=True)\n",
        "init_df"
      ]
    },
    {
      "cell_type": "code",
      "execution_count": 8,
      "metadata": {
        "colab": {
          "base_uri": "https://localhost:8080/"
        },
        "id": "WAvJD0LWTSRp",
        "outputId": "c3dd68b6-736a-43a6-cf74-e5b62b906fde"
      },
      "outputs": [
        {
          "output_type": "stream",
          "name": "stdout",
          "text": [
            "<class 'pandas.core.frame.DataFrame'>\n",
            "RangeIndex: 477 entries, 0 to 476\n",
            "Data columns (total 2 columns):\n",
            " #   Column   Non-Null Count  Dtype \n",
            "---  ------   --------------  ----- \n",
            " 0   version  477 non-null    object\n",
            " 1   data     477 non-null    object\n",
            "dtypes: object(2)\n",
            "memory usage: 7.6+ KB\n"
          ]
        }
      ],
      "source": [
        "init_df.info()"
      ]
    },
    {
      "cell_type": "markdown",
      "metadata": {
        "id": "pZu8eXLLsK6I"
      },
      "source": [
        "## Data Preparation"
      ]
    },
    {
      "cell_type": "markdown",
      "metadata": {
        "id": "xR5gHudurQdp"
      },
      "source": [
        "### Extract Features"
      ]
    },
    {
      "cell_type": "code",
      "execution_count": 9,
      "metadata": {
        "colab": {
          "base_uri": "https://localhost:8080/"
        },
        "id": "4dkQdZRt4RVN",
        "outputId": "4f3da352-7b7c-4a60-b374-68e83c02b9b4"
      },
      "outputs": [
        {
          "output_type": "stream",
          "name": "stdout",
          "text": [
            "Total data pertanyaan: 92749\n"
          ]
        }
      ],
      "source": [
        "contexts, questions, answers = [], [], []\n",
        "\n",
        "for data in init_df['data']:\n",
        "    for para in data['paragraphs']:\n",
        "        context = para['context']\n",
        "        for all_questions in para['qas']:\n",
        "            if not all_questions.get(\"is_impossible\", False):\n",
        "                question = all_questions['question']\n",
        "                answer_list = all_questions['answers']\n",
        "                if len(answer_list) > 0:\n",
        "                    answer = answer_list[0]['text']\n",
        "                    questions.append(question)\n",
        "                    contexts.append(context)\n",
        "                    answers.append(answer)\n",
        "\n",
        "print(f\"Total data pertanyaan: {len(questions)}\")"
      ]
    },
    {
      "cell_type": "code",
      "execution_count": 10,
      "metadata": {
        "colab": {
          "base_uri": "https://localhost:8080/",
          "height": 424
        },
        "id": "qYWycFeKJ3Ec",
        "outputId": "074e2b15-0981-40bc-d119-e18917ce0425"
      },
      "outputs": [
        {
          "output_type": "execute_result",
          "data": {
            "text/plain": [
              "                                                 context  \\\n",
              "0      Beyoncé Giselle Knowles-Carter (/bijanse / bee...   \n",
              "1      Beyoncé Giselle Knowles-Carter (/bijanse / bee...   \n",
              "2      Beyoncé Giselle Knowles-Carter (/bijanse / bee...   \n",
              "3      Beyoncé Giselle Knowles-Carter (/bijanse / bee...   \n",
              "4      Beyoncé Giselle Knowles-Carter (/bijanse / bee...   \n",
              "...                                                  ...   \n",
              "92744  Pound-force memiliki mitra metrik, kurang umum...   \n",
              "92745  Pound-force memiliki mitra metrik, kurang umum...   \n",
              "92746  Pound-force memiliki mitra metrik, kurang umum...   \n",
              "92747  Pound-force memiliki mitra metrik, kurang umum...   \n",
              "92748  Pound-force memiliki mitra metrik, kurang umum...   \n",
              "\n",
              "                                                question              answer  \n",
              "0                   Kapan Beyonce mulai menjadi populer?  pada akhir 1990-an  \n",
              "1      Daerah mana saja yang bersaing dengan Beyonce ...        menyanyi dan  \n",
              "2      Kapan Beyonce meninggalkan Destiny's Child dan...                2003  \n",
              "3                Di kota dan negara mana Beyonce tumbuh?      Houston, Texas  \n",
              "4             Pada dekade mana Beyonce menjadi terkenal?       akhir 1990-an  \n",
              "...                                                  ...                 ...  \n",
              "92744  Apa istilah metrik yang kurang digunakan dari ...      kilogram-force  \n",
              "92745  Apa daya kilogram kadang-kadang direffer ke se...            kilopond  \n",
              "92746  Apa yang jarang digunakan unit massa dalam sis...               siput  \n",
              "92747  Apa yang jarang digunakan istilah unit kekuata...                 kip  \n",
              "92748  Apa yang jarang digunakan unit gaya sama denga...              sthène  \n",
              "\n",
              "[92749 rows x 3 columns]"
            ],
            "text/html": [
              "\n",
              "  <div id=\"df-84f73de0-ad9b-4963-b0b5-b727e8a8a6ea\" class=\"colab-df-container\">\n",
              "    <div>\n",
              "<style scoped>\n",
              "    .dataframe tbody tr th:only-of-type {\n",
              "        vertical-align: middle;\n",
              "    }\n",
              "\n",
              "    .dataframe tbody tr th {\n",
              "        vertical-align: top;\n",
              "    }\n",
              "\n",
              "    .dataframe thead th {\n",
              "        text-align: right;\n",
              "    }\n",
              "</style>\n",
              "<table border=\"1\" class=\"dataframe\">\n",
              "  <thead>\n",
              "    <tr style=\"text-align: right;\">\n",
              "      <th></th>\n",
              "      <th>context</th>\n",
              "      <th>question</th>\n",
              "      <th>answer</th>\n",
              "    </tr>\n",
              "  </thead>\n",
              "  <tbody>\n",
              "    <tr>\n",
              "      <th>0</th>\n",
              "      <td>Beyoncé Giselle Knowles-Carter (/bijanse / bee...</td>\n",
              "      <td>Kapan Beyonce mulai menjadi populer?</td>\n",
              "      <td>pada akhir 1990-an</td>\n",
              "    </tr>\n",
              "    <tr>\n",
              "      <th>1</th>\n",
              "      <td>Beyoncé Giselle Knowles-Carter (/bijanse / bee...</td>\n",
              "      <td>Daerah mana saja yang bersaing dengan Beyonce ...</td>\n",
              "      <td>menyanyi dan</td>\n",
              "    </tr>\n",
              "    <tr>\n",
              "      <th>2</th>\n",
              "      <td>Beyoncé Giselle Knowles-Carter (/bijanse / bee...</td>\n",
              "      <td>Kapan Beyonce meninggalkan Destiny's Child dan...</td>\n",
              "      <td>2003</td>\n",
              "    </tr>\n",
              "    <tr>\n",
              "      <th>3</th>\n",
              "      <td>Beyoncé Giselle Knowles-Carter (/bijanse / bee...</td>\n",
              "      <td>Di kota dan negara mana Beyonce tumbuh?</td>\n",
              "      <td>Houston, Texas</td>\n",
              "    </tr>\n",
              "    <tr>\n",
              "      <th>4</th>\n",
              "      <td>Beyoncé Giselle Knowles-Carter (/bijanse / bee...</td>\n",
              "      <td>Pada dekade mana Beyonce menjadi terkenal?</td>\n",
              "      <td>akhir 1990-an</td>\n",
              "    </tr>\n",
              "    <tr>\n",
              "      <th>...</th>\n",
              "      <td>...</td>\n",
              "      <td>...</td>\n",
              "      <td>...</td>\n",
              "    </tr>\n",
              "    <tr>\n",
              "      <th>92744</th>\n",
              "      <td>Pound-force memiliki mitra metrik, kurang umum...</td>\n",
              "      <td>Apa istilah metrik yang kurang digunakan dari ...</td>\n",
              "      <td>kilogram-force</td>\n",
              "    </tr>\n",
              "    <tr>\n",
              "      <th>92745</th>\n",
              "      <td>Pound-force memiliki mitra metrik, kurang umum...</td>\n",
              "      <td>Apa daya kilogram kadang-kadang direffer ke se...</td>\n",
              "      <td>kilopond</td>\n",
              "    </tr>\n",
              "    <tr>\n",
              "      <th>92746</th>\n",
              "      <td>Pound-force memiliki mitra metrik, kurang umum...</td>\n",
              "      <td>Apa yang jarang digunakan unit massa dalam sis...</td>\n",
              "      <td>siput</td>\n",
              "    </tr>\n",
              "    <tr>\n",
              "      <th>92747</th>\n",
              "      <td>Pound-force memiliki mitra metrik, kurang umum...</td>\n",
              "      <td>Apa yang jarang digunakan istilah unit kekuata...</td>\n",
              "      <td>kip</td>\n",
              "    </tr>\n",
              "    <tr>\n",
              "      <th>92748</th>\n",
              "      <td>Pound-force memiliki mitra metrik, kurang umum...</td>\n",
              "      <td>Apa yang jarang digunakan unit gaya sama denga...</td>\n",
              "      <td>sthène</td>\n",
              "    </tr>\n",
              "  </tbody>\n",
              "</table>\n",
              "<p>92749 rows × 3 columns</p>\n",
              "</div>\n",
              "    <div class=\"colab-df-buttons\">\n",
              "\n",
              "  <div class=\"colab-df-container\">\n",
              "    <button class=\"colab-df-convert\" onclick=\"convertToInteractive('df-84f73de0-ad9b-4963-b0b5-b727e8a8a6ea')\"\n",
              "            title=\"Convert this dataframe to an interactive table.\"\n",
              "            style=\"display:none;\">\n",
              "\n",
              "  <svg xmlns=\"http://www.w3.org/2000/svg\" height=\"24px\" viewBox=\"0 -960 960 960\">\n",
              "    <path d=\"M120-120v-720h720v720H120Zm60-500h600v-160H180v160Zm220 220h160v-160H400v160Zm0 220h160v-160H400v160ZM180-400h160v-160H180v160Zm440 0h160v-160H620v160ZM180-180h160v-160H180v160Zm440 0h160v-160H620v160Z\"/>\n",
              "  </svg>\n",
              "    </button>\n",
              "\n",
              "  <style>\n",
              "    .colab-df-container {\n",
              "      display:flex;\n",
              "      gap: 12px;\n",
              "    }\n",
              "\n",
              "    .colab-df-convert {\n",
              "      background-color: #E8F0FE;\n",
              "      border: none;\n",
              "      border-radius: 50%;\n",
              "      cursor: pointer;\n",
              "      display: none;\n",
              "      fill: #1967D2;\n",
              "      height: 32px;\n",
              "      padding: 0 0 0 0;\n",
              "      width: 32px;\n",
              "    }\n",
              "\n",
              "    .colab-df-convert:hover {\n",
              "      background-color: #E2EBFA;\n",
              "      box-shadow: 0px 1px 2px rgba(60, 64, 67, 0.3), 0px 1px 3px 1px rgba(60, 64, 67, 0.15);\n",
              "      fill: #174EA6;\n",
              "    }\n",
              "\n",
              "    .colab-df-buttons div {\n",
              "      margin-bottom: 4px;\n",
              "    }\n",
              "\n",
              "    [theme=dark] .colab-df-convert {\n",
              "      background-color: #3B4455;\n",
              "      fill: #D2E3FC;\n",
              "    }\n",
              "\n",
              "    [theme=dark] .colab-df-convert:hover {\n",
              "      background-color: #434B5C;\n",
              "      box-shadow: 0px 1px 3px 1px rgba(0, 0, 0, 0.15);\n",
              "      filter: drop-shadow(0px 1px 2px rgba(0, 0, 0, 0.3));\n",
              "      fill: #FFFFFF;\n",
              "    }\n",
              "  </style>\n",
              "\n",
              "    <script>\n",
              "      const buttonEl =\n",
              "        document.querySelector('#df-84f73de0-ad9b-4963-b0b5-b727e8a8a6ea button.colab-df-convert');\n",
              "      buttonEl.style.display =\n",
              "        google.colab.kernel.accessAllowed ? 'block' : 'none';\n",
              "\n",
              "      async function convertToInteractive(key) {\n",
              "        const element = document.querySelector('#df-84f73de0-ad9b-4963-b0b5-b727e8a8a6ea');\n",
              "        const dataTable =\n",
              "          await google.colab.kernel.invokeFunction('convertToInteractive',\n",
              "                                                    [key], {});\n",
              "        if (!dataTable) return;\n",
              "\n",
              "        const docLinkHtml = 'Like what you see? Visit the ' +\n",
              "          '<a target=\"_blank\" href=https://colab.research.google.com/notebooks/data_table.ipynb>data table notebook</a>'\n",
              "          + ' to learn more about interactive tables.';\n",
              "        element.innerHTML = '';\n",
              "        dataTable['output_type'] = 'display_data';\n",
              "        await google.colab.output.renderOutput(dataTable, element);\n",
              "        const docLink = document.createElement('div');\n",
              "        docLink.innerHTML = docLinkHtml;\n",
              "        element.appendChild(docLink);\n",
              "      }\n",
              "    </script>\n",
              "  </div>\n",
              "\n",
              "\n",
              "    <div id=\"df-83790b80-370c-406f-9a4d-4fc60e53ea2a\">\n",
              "      <button class=\"colab-df-quickchart\" onclick=\"quickchart('df-83790b80-370c-406f-9a4d-4fc60e53ea2a')\"\n",
              "                title=\"Suggest charts\"\n",
              "                style=\"display:none;\">\n",
              "\n",
              "<svg xmlns=\"http://www.w3.org/2000/svg\" height=\"24px\"viewBox=\"0 0 24 24\"\n",
              "     width=\"24px\">\n",
              "    <g>\n",
              "        <path d=\"M19 3H5c-1.1 0-2 .9-2 2v14c0 1.1.9 2 2 2h14c1.1 0 2-.9 2-2V5c0-1.1-.9-2-2-2zM9 17H7v-7h2v7zm4 0h-2V7h2v10zm4 0h-2v-4h2v4z\"/>\n",
              "    </g>\n",
              "</svg>\n",
              "      </button>\n",
              "\n",
              "<style>\n",
              "  .colab-df-quickchart {\n",
              "      --bg-color: #E8F0FE;\n",
              "      --fill-color: #1967D2;\n",
              "      --hover-bg-color: #E2EBFA;\n",
              "      --hover-fill-color: #174EA6;\n",
              "      --disabled-fill-color: #AAA;\n",
              "      --disabled-bg-color: #DDD;\n",
              "  }\n",
              "\n",
              "  [theme=dark] .colab-df-quickchart {\n",
              "      --bg-color: #3B4455;\n",
              "      --fill-color: #D2E3FC;\n",
              "      --hover-bg-color: #434B5C;\n",
              "      --hover-fill-color: #FFFFFF;\n",
              "      --disabled-bg-color: #3B4455;\n",
              "      --disabled-fill-color: #666;\n",
              "  }\n",
              "\n",
              "  .colab-df-quickchart {\n",
              "    background-color: var(--bg-color);\n",
              "    border: none;\n",
              "    border-radius: 50%;\n",
              "    cursor: pointer;\n",
              "    display: none;\n",
              "    fill: var(--fill-color);\n",
              "    height: 32px;\n",
              "    padding: 0;\n",
              "    width: 32px;\n",
              "  }\n",
              "\n",
              "  .colab-df-quickchart:hover {\n",
              "    background-color: var(--hover-bg-color);\n",
              "    box-shadow: 0 1px 2px rgba(60, 64, 67, 0.3), 0 1px 3px 1px rgba(60, 64, 67, 0.15);\n",
              "    fill: var(--button-hover-fill-color);\n",
              "  }\n",
              "\n",
              "  .colab-df-quickchart-complete:disabled,\n",
              "  .colab-df-quickchart-complete:disabled:hover {\n",
              "    background-color: var(--disabled-bg-color);\n",
              "    fill: var(--disabled-fill-color);\n",
              "    box-shadow: none;\n",
              "  }\n",
              "\n",
              "  .colab-df-spinner {\n",
              "    border: 2px solid var(--fill-color);\n",
              "    border-color: transparent;\n",
              "    border-bottom-color: var(--fill-color);\n",
              "    animation:\n",
              "      spin 1s steps(1) infinite;\n",
              "  }\n",
              "\n",
              "  @keyframes spin {\n",
              "    0% {\n",
              "      border-color: transparent;\n",
              "      border-bottom-color: var(--fill-color);\n",
              "      border-left-color: var(--fill-color);\n",
              "    }\n",
              "    20% {\n",
              "      border-color: transparent;\n",
              "      border-left-color: var(--fill-color);\n",
              "      border-top-color: var(--fill-color);\n",
              "    }\n",
              "    30% {\n",
              "      border-color: transparent;\n",
              "      border-left-color: var(--fill-color);\n",
              "      border-top-color: var(--fill-color);\n",
              "      border-right-color: var(--fill-color);\n",
              "    }\n",
              "    40% {\n",
              "      border-color: transparent;\n",
              "      border-right-color: var(--fill-color);\n",
              "      border-top-color: var(--fill-color);\n",
              "    }\n",
              "    60% {\n",
              "      border-color: transparent;\n",
              "      border-right-color: var(--fill-color);\n",
              "    }\n",
              "    80% {\n",
              "      border-color: transparent;\n",
              "      border-right-color: var(--fill-color);\n",
              "      border-bottom-color: var(--fill-color);\n",
              "    }\n",
              "    90% {\n",
              "      border-color: transparent;\n",
              "      border-bottom-color: var(--fill-color);\n",
              "    }\n",
              "  }\n",
              "</style>\n",
              "\n",
              "      <script>\n",
              "        async function quickchart(key) {\n",
              "          const quickchartButtonEl =\n",
              "            document.querySelector('#' + key + ' button');\n",
              "          quickchartButtonEl.disabled = true;  // To prevent multiple clicks.\n",
              "          quickchartButtonEl.classList.add('colab-df-spinner');\n",
              "          try {\n",
              "            const charts = await google.colab.kernel.invokeFunction(\n",
              "                'suggestCharts', [key], {});\n",
              "          } catch (error) {\n",
              "            console.error('Error during call to suggestCharts:', error);\n",
              "          }\n",
              "          quickchartButtonEl.classList.remove('colab-df-spinner');\n",
              "          quickchartButtonEl.classList.add('colab-df-quickchart-complete');\n",
              "        }\n",
              "        (() => {\n",
              "          let quickchartButtonEl =\n",
              "            document.querySelector('#df-83790b80-370c-406f-9a4d-4fc60e53ea2a button');\n",
              "          quickchartButtonEl.style.display =\n",
              "            google.colab.kernel.accessAllowed ? 'block' : 'none';\n",
              "        })();\n",
              "      </script>\n",
              "    </div>\n",
              "\n",
              "  <div id=\"id_9beffb10-5c6b-4297-ba7e-9c9991713e31\">\n",
              "    <style>\n",
              "      .colab-df-generate {\n",
              "        background-color: #E8F0FE;\n",
              "        border: none;\n",
              "        border-radius: 50%;\n",
              "        cursor: pointer;\n",
              "        display: none;\n",
              "        fill: #1967D2;\n",
              "        height: 32px;\n",
              "        padding: 0 0 0 0;\n",
              "        width: 32px;\n",
              "      }\n",
              "\n",
              "      .colab-df-generate:hover {\n",
              "        background-color: #E2EBFA;\n",
              "        box-shadow: 0px 1px 2px rgba(60, 64, 67, 0.3), 0px 1px 3px 1px rgba(60, 64, 67, 0.15);\n",
              "        fill: #174EA6;\n",
              "      }\n",
              "\n",
              "      [theme=dark] .colab-df-generate {\n",
              "        background-color: #3B4455;\n",
              "        fill: #D2E3FC;\n",
              "      }\n",
              "\n",
              "      [theme=dark] .colab-df-generate:hover {\n",
              "        background-color: #434B5C;\n",
              "        box-shadow: 0px 1px 3px 1px rgba(0, 0, 0, 0.15);\n",
              "        filter: drop-shadow(0px 1px 2px rgba(0, 0, 0, 0.3));\n",
              "        fill: #FFFFFF;\n",
              "      }\n",
              "    </style>\n",
              "    <button class=\"colab-df-generate\" onclick=\"generateWithVariable('df')\"\n",
              "            title=\"Generate code using this dataframe.\"\n",
              "            style=\"display:none;\">\n",
              "\n",
              "  <svg xmlns=\"http://www.w3.org/2000/svg\" height=\"24px\"viewBox=\"0 0 24 24\"\n",
              "       width=\"24px\">\n",
              "    <path d=\"M7,19H8.4L18.45,9,17,7.55,7,17.6ZM5,21V16.75L18.45,3.32a2,2,0,0,1,2.83,0l1.4,1.43a1.91,1.91,0,0,1,.58,1.4,1.91,1.91,0,0,1-.58,1.4L9.25,21ZM18.45,9,17,7.55Zm-12,3A5.31,5.31,0,0,0,4.9,8.1,5.31,5.31,0,0,0,1,6.5,5.31,5.31,0,0,0,4.9,4.9,5.31,5.31,0,0,0,6.5,1,5.31,5.31,0,0,0,8.1,4.9,5.31,5.31,0,0,0,12,6.5,5.46,5.46,0,0,0,6.5,12Z\"/>\n",
              "  </svg>\n",
              "    </button>\n",
              "    <script>\n",
              "      (() => {\n",
              "      const buttonEl =\n",
              "        document.querySelector('#id_9beffb10-5c6b-4297-ba7e-9c9991713e31 button.colab-df-generate');\n",
              "      buttonEl.style.display =\n",
              "        google.colab.kernel.accessAllowed ? 'block' : 'none';\n",
              "\n",
              "      buttonEl.onclick = () => {\n",
              "        google.colab.notebook.generateWithVariable('df');\n",
              "      }\n",
              "      })();\n",
              "    </script>\n",
              "  </div>\n",
              "\n",
              "    </div>\n",
              "  </div>\n"
            ],
            "application/vnd.google.colaboratory.intrinsic+json": {
              "type": "dataframe",
              "variable_name": "df",
              "summary": "{\n  \"name\": \"df\",\n  \"rows\": 92749,\n  \"fields\": [\n    {\n      \"column\": \"context\",\n      \"properties\": {\n        \"dtype\": \"category\",\n        \"num_unique_values\": 20081,\n        \"samples\": [\n          \"Sebagaimana disebutkan di atas, ada 55 kirkhundla di Swaziland dan masing - masing memilih satu wakil ke Gedung Kebaktian Swaziland. Setiap inkhundla memiliki komite pengembangan (bucopho) terpilih dari berbagai konstituen kepemimpinan di daerahnya selama lima tahun. Bucopho membawa ke Inkhundla segala sesuatu yang menarik perhatian dan perhatian kepada berbagai tokoh terkemuka mereka, dan membawa kembali ke kerajaan-kerajaan terkemuka keputusan-keputusan inkhundla. Ketua bucopho terpilih di Inkhundla dan disebut indvuna kalian nkhundla.\",\n          \"Pada tahun 1903, Josiah White III membeli sebidang tanah dekat Ohio Avenue dan boardwalk dan membangun Queen Anne gaya Marlborough House. Hotel itu sukses dan, pada tahun 190506, ia memilih untuk memperluas hotel dan membeli sebidang tanah lain di sebelah rumah Marlborough nya. Dalam upaya menjadikan hotel barunya sebagai sumber percakapan, White menyewa perusahaan arsitektur Price dan McLanahan. Perusahaan itu menggunakan beton yang diperkuat, bahan bangunan baru yang ditemukan oleh Jean-Louis Lambot pada tahun 1848 (Joseph Monier menerima paten pada tahun 1867). The hotel Spanyol dan Moor temaes, ditutup dengan kubah tanda tangan dan cerobong asap, mewakili sebuah langkah maju dari hotel-hotel lain yang memiliki pengaruh klasik dirancang. White bernama hotel baru Blenheim dan menggabungkan dua hotel ke Marlborough-Blenheim. Kota Atlantik Bally belakangan dibangun di lokasi ini.\",\n          \"Gereja - gereja Armenia yang pertama dibangun antara abad ke - 4 dan ke - 7, dimulai sewaktu Armenia beralih ke Kekristenan, dan berakhir dengan penyerbuan Arab di Armenia. Gereja - gereja masa awal sebagian besar adalah basilika sederhana, tetapi beberapa dengan apes sampingan. Pada abad kelima, kerucut cupola yang khas di tengahnya telah digunakan secara luas. Pada abad ketujuh, gereja - gereja yang direncanakan secara pusat telah dibangun dan gaya Himpunan pantat yang lebih rumit serta radiate Hrip'sim\\u00e9 telah terbentuk. Pada saat invasi Arab, sebagian besar yang kita sekarang tahu sebagai arsitektur klasik Armenia telah terbentuk.\"\n        ],\n        \"semantic_type\": \"\",\n        \"description\": \"\"\n      }\n    },\n    {\n      \"column\": \"question\",\n      \"properties\": {\n        \"dtype\": \"string\",\n        \"num_unique_values\": 92589,\n        \"samples\": [\n          \"Di mana Sekretaris Permanen melayani sebagai PNS senior?\",\n          \"Pada tahun berapa Comcast mengambil alih mayoritas minat di QVC?\",\n          \"Ethnohistory dapat mempelajari sejarah kelompok jenis apa yang mungkin ada atau tidak ada dewasa ini?\"\n        ],\n        \"semantic_type\": \"\",\n        \"description\": \"\"\n      }\n    },\n    {\n      \"column\": \"answer\",\n      \"properties\": {\n        \"dtype\": \"string\",\n        \"num_unique_values\": 67837,\n        \"samples\": [\n          \"Myanma Ekonomi Bank berbagi 51 persen\",\n          \"untuk merekam data atau menyampaikan informasi langsung\",\n          \"Ritchie Blackmore\"\n        ],\n        \"semantic_type\": \"\",\n        \"description\": \"\"\n      }\n    }\n  ]\n}"
            }
          },
          "metadata": {},
          "execution_count": 10
        }
      ],
      "source": [
        "df = pd.DataFrame({\n",
        "    \"context\": contexts,\n",
        "    \"question\": questions,\n",
        "    \"answer\": answers\n",
        "})\n",
        "\n",
        "df"
      ]
    },
    {
      "cell_type": "markdown",
      "metadata": {
        "id": "MUpxL4-_sT44"
      },
      "source": [
        "### Handling Missing Values and Duplicated Data"
      ]
    },
    {
      "cell_type": "code",
      "execution_count": 11,
      "metadata": {
        "colab": {
          "base_uri": "https://localhost:8080/"
        },
        "id": "6IfICG1gKuSD",
        "outputId": "94984e83-99a4-4d83-9485-ee74c3b48aab"
      },
      "outputs": [
        {
          "output_type": "stream",
          "name": "stdout",
          "text": [
            "<class 'pandas.core.frame.DataFrame'>\n",
            "RangeIndex: 92749 entries, 0 to 92748\n",
            "Data columns (total 3 columns):\n",
            " #   Column    Non-Null Count  Dtype \n",
            "---  ------    --------------  ----- \n",
            " 0   context   92749 non-null  object\n",
            " 1   question  92749 non-null  object\n",
            " 2   answer    92749 non-null  object\n",
            "dtypes: object(3)\n",
            "memory usage: 2.1+ MB\n"
          ]
        }
      ],
      "source": [
        "df.info()"
      ]
    },
    {
      "cell_type": "code",
      "execution_count": 12,
      "metadata": {
        "colab": {
          "base_uri": "https://localhost:8080/"
        },
        "id": "KhhBXctBK0ta",
        "outputId": "89047eef-e1da-46a9-9393-969204a32f4d"
      },
      "outputs": [
        {
          "output_type": "stream",
          "name": "stdout",
          "text": [
            "Missing values:\n",
            " context     0\n",
            "question    0\n",
            "answer      0\n",
            "dtype: int64\n",
            "\n",
            "Duplikasi baris: 55\n"
          ]
        }
      ],
      "source": [
        "print(\"Missing values:\\n\", df.isnull().sum())\n",
        "print(\"\\nDuplikasi baris:\", df.duplicated().sum())"
      ]
    },
    {
      "cell_type": "code",
      "execution_count": 13,
      "metadata": {
        "colab": {
          "base_uri": "https://localhost:8080/",
          "height": 424
        },
        "id": "7N4CR3yVLJ41",
        "outputId": "6826572f-956b-4c2d-916f-f2a9f7af819b"
      },
      "outputs": [
        {
          "output_type": "execute_result",
          "data": {
            "text/plain": [
              "                                                 context  \\\n",
              "0      Beyoncé Giselle Knowles-Carter (/bijanse / bee...   \n",
              "1      Beyoncé Giselle Knowles-Carter (/bijanse / bee...   \n",
              "2      Beyoncé Giselle Knowles-Carter (/bijanse / bee...   \n",
              "3      Beyoncé Giselle Knowles-Carter (/bijanse / bee...   \n",
              "4      Beyoncé Giselle Knowles-Carter (/bijanse / bee...   \n",
              "...                                                  ...   \n",
              "92689  Pound-force memiliki mitra metrik, kurang umum...   \n",
              "92690  Pound-force memiliki mitra metrik, kurang umum...   \n",
              "92691  Pound-force memiliki mitra metrik, kurang umum...   \n",
              "92692  Pound-force memiliki mitra metrik, kurang umum...   \n",
              "92693  Pound-force memiliki mitra metrik, kurang umum...   \n",
              "\n",
              "                                                question              answer  \n",
              "0                   Kapan Beyonce mulai menjadi populer?  pada akhir 1990-an  \n",
              "1      Daerah mana saja yang bersaing dengan Beyonce ...        menyanyi dan  \n",
              "2      Kapan Beyonce meninggalkan Destiny's Child dan...                2003  \n",
              "3                Di kota dan negara mana Beyonce tumbuh?      Houston, Texas  \n",
              "4             Pada dekade mana Beyonce menjadi terkenal?       akhir 1990-an  \n",
              "...                                                  ...                 ...  \n",
              "92689  Apa istilah metrik yang kurang digunakan dari ...      kilogram-force  \n",
              "92690  Apa daya kilogram kadang-kadang direffer ke se...            kilopond  \n",
              "92691  Apa yang jarang digunakan unit massa dalam sis...               siput  \n",
              "92692  Apa yang jarang digunakan istilah unit kekuata...                 kip  \n",
              "92693  Apa yang jarang digunakan unit gaya sama denga...              sthène  \n",
              "\n",
              "[92694 rows x 3 columns]"
            ],
            "text/html": [
              "\n",
              "  <div id=\"df-908d4ecc-2ddd-403b-b11d-459797d2fd69\" class=\"colab-df-container\">\n",
              "    <div>\n",
              "<style scoped>\n",
              "    .dataframe tbody tr th:only-of-type {\n",
              "        vertical-align: middle;\n",
              "    }\n",
              "\n",
              "    .dataframe tbody tr th {\n",
              "        vertical-align: top;\n",
              "    }\n",
              "\n",
              "    .dataframe thead th {\n",
              "        text-align: right;\n",
              "    }\n",
              "</style>\n",
              "<table border=\"1\" class=\"dataframe\">\n",
              "  <thead>\n",
              "    <tr style=\"text-align: right;\">\n",
              "      <th></th>\n",
              "      <th>context</th>\n",
              "      <th>question</th>\n",
              "      <th>answer</th>\n",
              "    </tr>\n",
              "  </thead>\n",
              "  <tbody>\n",
              "    <tr>\n",
              "      <th>0</th>\n",
              "      <td>Beyoncé Giselle Knowles-Carter (/bijanse / bee...</td>\n",
              "      <td>Kapan Beyonce mulai menjadi populer?</td>\n",
              "      <td>pada akhir 1990-an</td>\n",
              "    </tr>\n",
              "    <tr>\n",
              "      <th>1</th>\n",
              "      <td>Beyoncé Giselle Knowles-Carter (/bijanse / bee...</td>\n",
              "      <td>Daerah mana saja yang bersaing dengan Beyonce ...</td>\n",
              "      <td>menyanyi dan</td>\n",
              "    </tr>\n",
              "    <tr>\n",
              "      <th>2</th>\n",
              "      <td>Beyoncé Giselle Knowles-Carter (/bijanse / bee...</td>\n",
              "      <td>Kapan Beyonce meninggalkan Destiny's Child dan...</td>\n",
              "      <td>2003</td>\n",
              "    </tr>\n",
              "    <tr>\n",
              "      <th>3</th>\n",
              "      <td>Beyoncé Giselle Knowles-Carter (/bijanse / bee...</td>\n",
              "      <td>Di kota dan negara mana Beyonce tumbuh?</td>\n",
              "      <td>Houston, Texas</td>\n",
              "    </tr>\n",
              "    <tr>\n",
              "      <th>4</th>\n",
              "      <td>Beyoncé Giselle Knowles-Carter (/bijanse / bee...</td>\n",
              "      <td>Pada dekade mana Beyonce menjadi terkenal?</td>\n",
              "      <td>akhir 1990-an</td>\n",
              "    </tr>\n",
              "    <tr>\n",
              "      <th>...</th>\n",
              "      <td>...</td>\n",
              "      <td>...</td>\n",
              "      <td>...</td>\n",
              "    </tr>\n",
              "    <tr>\n",
              "      <th>92689</th>\n",
              "      <td>Pound-force memiliki mitra metrik, kurang umum...</td>\n",
              "      <td>Apa istilah metrik yang kurang digunakan dari ...</td>\n",
              "      <td>kilogram-force</td>\n",
              "    </tr>\n",
              "    <tr>\n",
              "      <th>92690</th>\n",
              "      <td>Pound-force memiliki mitra metrik, kurang umum...</td>\n",
              "      <td>Apa daya kilogram kadang-kadang direffer ke se...</td>\n",
              "      <td>kilopond</td>\n",
              "    </tr>\n",
              "    <tr>\n",
              "      <th>92691</th>\n",
              "      <td>Pound-force memiliki mitra metrik, kurang umum...</td>\n",
              "      <td>Apa yang jarang digunakan unit massa dalam sis...</td>\n",
              "      <td>siput</td>\n",
              "    </tr>\n",
              "    <tr>\n",
              "      <th>92692</th>\n",
              "      <td>Pound-force memiliki mitra metrik, kurang umum...</td>\n",
              "      <td>Apa yang jarang digunakan istilah unit kekuata...</td>\n",
              "      <td>kip</td>\n",
              "    </tr>\n",
              "    <tr>\n",
              "      <th>92693</th>\n",
              "      <td>Pound-force memiliki mitra metrik, kurang umum...</td>\n",
              "      <td>Apa yang jarang digunakan unit gaya sama denga...</td>\n",
              "      <td>sthène</td>\n",
              "    </tr>\n",
              "  </tbody>\n",
              "</table>\n",
              "<p>92694 rows × 3 columns</p>\n",
              "</div>\n",
              "    <div class=\"colab-df-buttons\">\n",
              "\n",
              "  <div class=\"colab-df-container\">\n",
              "    <button class=\"colab-df-convert\" onclick=\"convertToInteractive('df-908d4ecc-2ddd-403b-b11d-459797d2fd69')\"\n",
              "            title=\"Convert this dataframe to an interactive table.\"\n",
              "            style=\"display:none;\">\n",
              "\n",
              "  <svg xmlns=\"http://www.w3.org/2000/svg\" height=\"24px\" viewBox=\"0 -960 960 960\">\n",
              "    <path d=\"M120-120v-720h720v720H120Zm60-500h600v-160H180v160Zm220 220h160v-160H400v160Zm0 220h160v-160H400v160ZM180-400h160v-160H180v160Zm440 0h160v-160H620v160ZM180-180h160v-160H180v160Zm440 0h160v-160H620v160Z\"/>\n",
              "  </svg>\n",
              "    </button>\n",
              "\n",
              "  <style>\n",
              "    .colab-df-container {\n",
              "      display:flex;\n",
              "      gap: 12px;\n",
              "    }\n",
              "\n",
              "    .colab-df-convert {\n",
              "      background-color: #E8F0FE;\n",
              "      border: none;\n",
              "      border-radius: 50%;\n",
              "      cursor: pointer;\n",
              "      display: none;\n",
              "      fill: #1967D2;\n",
              "      height: 32px;\n",
              "      padding: 0 0 0 0;\n",
              "      width: 32px;\n",
              "    }\n",
              "\n",
              "    .colab-df-convert:hover {\n",
              "      background-color: #E2EBFA;\n",
              "      box-shadow: 0px 1px 2px rgba(60, 64, 67, 0.3), 0px 1px 3px 1px rgba(60, 64, 67, 0.15);\n",
              "      fill: #174EA6;\n",
              "    }\n",
              "\n",
              "    .colab-df-buttons div {\n",
              "      margin-bottom: 4px;\n",
              "    }\n",
              "\n",
              "    [theme=dark] .colab-df-convert {\n",
              "      background-color: #3B4455;\n",
              "      fill: #D2E3FC;\n",
              "    }\n",
              "\n",
              "    [theme=dark] .colab-df-convert:hover {\n",
              "      background-color: #434B5C;\n",
              "      box-shadow: 0px 1px 3px 1px rgba(0, 0, 0, 0.15);\n",
              "      filter: drop-shadow(0px 1px 2px rgba(0, 0, 0, 0.3));\n",
              "      fill: #FFFFFF;\n",
              "    }\n",
              "  </style>\n",
              "\n",
              "    <script>\n",
              "      const buttonEl =\n",
              "        document.querySelector('#df-908d4ecc-2ddd-403b-b11d-459797d2fd69 button.colab-df-convert');\n",
              "      buttonEl.style.display =\n",
              "        google.colab.kernel.accessAllowed ? 'block' : 'none';\n",
              "\n",
              "      async function convertToInteractive(key) {\n",
              "        const element = document.querySelector('#df-908d4ecc-2ddd-403b-b11d-459797d2fd69');\n",
              "        const dataTable =\n",
              "          await google.colab.kernel.invokeFunction('convertToInteractive',\n",
              "                                                    [key], {});\n",
              "        if (!dataTable) return;\n",
              "\n",
              "        const docLinkHtml = 'Like what you see? Visit the ' +\n",
              "          '<a target=\"_blank\" href=https://colab.research.google.com/notebooks/data_table.ipynb>data table notebook</a>'\n",
              "          + ' to learn more about interactive tables.';\n",
              "        element.innerHTML = '';\n",
              "        dataTable['output_type'] = 'display_data';\n",
              "        await google.colab.output.renderOutput(dataTable, element);\n",
              "        const docLink = document.createElement('div');\n",
              "        docLink.innerHTML = docLinkHtml;\n",
              "        element.appendChild(docLink);\n",
              "      }\n",
              "    </script>\n",
              "  </div>\n",
              "\n",
              "\n",
              "    <div id=\"df-aa72ef61-6483-40bd-815b-ed4c198ab002\">\n",
              "      <button class=\"colab-df-quickchart\" onclick=\"quickchart('df-aa72ef61-6483-40bd-815b-ed4c198ab002')\"\n",
              "                title=\"Suggest charts\"\n",
              "                style=\"display:none;\">\n",
              "\n",
              "<svg xmlns=\"http://www.w3.org/2000/svg\" height=\"24px\"viewBox=\"0 0 24 24\"\n",
              "     width=\"24px\">\n",
              "    <g>\n",
              "        <path d=\"M19 3H5c-1.1 0-2 .9-2 2v14c0 1.1.9 2 2 2h14c1.1 0 2-.9 2-2V5c0-1.1-.9-2-2-2zM9 17H7v-7h2v7zm4 0h-2V7h2v10zm4 0h-2v-4h2v4z\"/>\n",
              "    </g>\n",
              "</svg>\n",
              "      </button>\n",
              "\n",
              "<style>\n",
              "  .colab-df-quickchart {\n",
              "      --bg-color: #E8F0FE;\n",
              "      --fill-color: #1967D2;\n",
              "      --hover-bg-color: #E2EBFA;\n",
              "      --hover-fill-color: #174EA6;\n",
              "      --disabled-fill-color: #AAA;\n",
              "      --disabled-bg-color: #DDD;\n",
              "  }\n",
              "\n",
              "  [theme=dark] .colab-df-quickchart {\n",
              "      --bg-color: #3B4455;\n",
              "      --fill-color: #D2E3FC;\n",
              "      --hover-bg-color: #434B5C;\n",
              "      --hover-fill-color: #FFFFFF;\n",
              "      --disabled-bg-color: #3B4455;\n",
              "      --disabled-fill-color: #666;\n",
              "  }\n",
              "\n",
              "  .colab-df-quickchart {\n",
              "    background-color: var(--bg-color);\n",
              "    border: none;\n",
              "    border-radius: 50%;\n",
              "    cursor: pointer;\n",
              "    display: none;\n",
              "    fill: var(--fill-color);\n",
              "    height: 32px;\n",
              "    padding: 0;\n",
              "    width: 32px;\n",
              "  }\n",
              "\n",
              "  .colab-df-quickchart:hover {\n",
              "    background-color: var(--hover-bg-color);\n",
              "    box-shadow: 0 1px 2px rgba(60, 64, 67, 0.3), 0 1px 3px 1px rgba(60, 64, 67, 0.15);\n",
              "    fill: var(--button-hover-fill-color);\n",
              "  }\n",
              "\n",
              "  .colab-df-quickchart-complete:disabled,\n",
              "  .colab-df-quickchart-complete:disabled:hover {\n",
              "    background-color: var(--disabled-bg-color);\n",
              "    fill: var(--disabled-fill-color);\n",
              "    box-shadow: none;\n",
              "  }\n",
              "\n",
              "  .colab-df-spinner {\n",
              "    border: 2px solid var(--fill-color);\n",
              "    border-color: transparent;\n",
              "    border-bottom-color: var(--fill-color);\n",
              "    animation:\n",
              "      spin 1s steps(1) infinite;\n",
              "  }\n",
              "\n",
              "  @keyframes spin {\n",
              "    0% {\n",
              "      border-color: transparent;\n",
              "      border-bottom-color: var(--fill-color);\n",
              "      border-left-color: var(--fill-color);\n",
              "    }\n",
              "    20% {\n",
              "      border-color: transparent;\n",
              "      border-left-color: var(--fill-color);\n",
              "      border-top-color: var(--fill-color);\n",
              "    }\n",
              "    30% {\n",
              "      border-color: transparent;\n",
              "      border-left-color: var(--fill-color);\n",
              "      border-top-color: var(--fill-color);\n",
              "      border-right-color: var(--fill-color);\n",
              "    }\n",
              "    40% {\n",
              "      border-color: transparent;\n",
              "      border-right-color: var(--fill-color);\n",
              "      border-top-color: var(--fill-color);\n",
              "    }\n",
              "    60% {\n",
              "      border-color: transparent;\n",
              "      border-right-color: var(--fill-color);\n",
              "    }\n",
              "    80% {\n",
              "      border-color: transparent;\n",
              "      border-right-color: var(--fill-color);\n",
              "      border-bottom-color: var(--fill-color);\n",
              "    }\n",
              "    90% {\n",
              "      border-color: transparent;\n",
              "      border-bottom-color: var(--fill-color);\n",
              "    }\n",
              "  }\n",
              "</style>\n",
              "\n",
              "      <script>\n",
              "        async function quickchart(key) {\n",
              "          const quickchartButtonEl =\n",
              "            document.querySelector('#' + key + ' button');\n",
              "          quickchartButtonEl.disabled = true;  // To prevent multiple clicks.\n",
              "          quickchartButtonEl.classList.add('colab-df-spinner');\n",
              "          try {\n",
              "            const charts = await google.colab.kernel.invokeFunction(\n",
              "                'suggestCharts', [key], {});\n",
              "          } catch (error) {\n",
              "            console.error('Error during call to suggestCharts:', error);\n",
              "          }\n",
              "          quickchartButtonEl.classList.remove('colab-df-spinner');\n",
              "          quickchartButtonEl.classList.add('colab-df-quickchart-complete');\n",
              "        }\n",
              "        (() => {\n",
              "          let quickchartButtonEl =\n",
              "            document.querySelector('#df-aa72ef61-6483-40bd-815b-ed4c198ab002 button');\n",
              "          quickchartButtonEl.style.display =\n",
              "            google.colab.kernel.accessAllowed ? 'block' : 'none';\n",
              "        })();\n",
              "      </script>\n",
              "    </div>\n",
              "\n",
              "  <div id=\"id_9ae6ab21-753c-4340-80a7-9aab75e6de76\">\n",
              "    <style>\n",
              "      .colab-df-generate {\n",
              "        background-color: #E8F0FE;\n",
              "        border: none;\n",
              "        border-radius: 50%;\n",
              "        cursor: pointer;\n",
              "        display: none;\n",
              "        fill: #1967D2;\n",
              "        height: 32px;\n",
              "        padding: 0 0 0 0;\n",
              "        width: 32px;\n",
              "      }\n",
              "\n",
              "      .colab-df-generate:hover {\n",
              "        background-color: #E2EBFA;\n",
              "        box-shadow: 0px 1px 2px rgba(60, 64, 67, 0.3), 0px 1px 3px 1px rgba(60, 64, 67, 0.15);\n",
              "        fill: #174EA6;\n",
              "      }\n",
              "\n",
              "      [theme=dark] .colab-df-generate {\n",
              "        background-color: #3B4455;\n",
              "        fill: #D2E3FC;\n",
              "      }\n",
              "\n",
              "      [theme=dark] .colab-df-generate:hover {\n",
              "        background-color: #434B5C;\n",
              "        box-shadow: 0px 1px 3px 1px rgba(0, 0, 0, 0.15);\n",
              "        filter: drop-shadow(0px 1px 2px rgba(0, 0, 0, 0.3));\n",
              "        fill: #FFFFFF;\n",
              "      }\n",
              "    </style>\n",
              "    <button class=\"colab-df-generate\" onclick=\"generateWithVariable('df')\"\n",
              "            title=\"Generate code using this dataframe.\"\n",
              "            style=\"display:none;\">\n",
              "\n",
              "  <svg xmlns=\"http://www.w3.org/2000/svg\" height=\"24px\"viewBox=\"0 0 24 24\"\n",
              "       width=\"24px\">\n",
              "    <path d=\"M7,19H8.4L18.45,9,17,7.55,7,17.6ZM5,21V16.75L18.45,3.32a2,2,0,0,1,2.83,0l1.4,1.43a1.91,1.91,0,0,1,.58,1.4,1.91,1.91,0,0,1-.58,1.4L9.25,21ZM18.45,9,17,7.55Zm-12,3A5.31,5.31,0,0,0,4.9,8.1,5.31,5.31,0,0,0,1,6.5,5.31,5.31,0,0,0,4.9,4.9,5.31,5.31,0,0,0,6.5,1,5.31,5.31,0,0,0,8.1,4.9,5.31,5.31,0,0,0,12,6.5,5.46,5.46,0,0,0,6.5,12Z\"/>\n",
              "  </svg>\n",
              "    </button>\n",
              "    <script>\n",
              "      (() => {\n",
              "      const buttonEl =\n",
              "        document.querySelector('#id_9ae6ab21-753c-4340-80a7-9aab75e6de76 button.colab-df-generate');\n",
              "      buttonEl.style.display =\n",
              "        google.colab.kernel.accessAllowed ? 'block' : 'none';\n",
              "\n",
              "      buttonEl.onclick = () => {\n",
              "        google.colab.notebook.generateWithVariable('df');\n",
              "      }\n",
              "      })();\n",
              "    </script>\n",
              "  </div>\n",
              "\n",
              "    </div>\n",
              "  </div>\n"
            ],
            "application/vnd.google.colaboratory.intrinsic+json": {
              "type": "dataframe",
              "variable_name": "df",
              "summary": "{\n  \"name\": \"df\",\n  \"rows\": 92694,\n  \"fields\": [\n    {\n      \"column\": \"context\",\n      \"properties\": {\n        \"dtype\": \"category\",\n        \"num_unique_values\": 20081,\n        \"samples\": [\n          \"Sebagaimana disebutkan di atas, ada 55 kirkhundla di Swaziland dan masing - masing memilih satu wakil ke Gedung Kebaktian Swaziland. Setiap inkhundla memiliki komite pengembangan (bucopho) terpilih dari berbagai konstituen kepemimpinan di daerahnya selama lima tahun. Bucopho membawa ke Inkhundla segala sesuatu yang menarik perhatian dan perhatian kepada berbagai tokoh terkemuka mereka, dan membawa kembali ke kerajaan-kerajaan terkemuka keputusan-keputusan inkhundla. Ketua bucopho terpilih di Inkhundla dan disebut indvuna kalian nkhundla.\",\n          \"Pada tahun 1903, Josiah White III membeli sebidang tanah dekat Ohio Avenue dan boardwalk dan membangun Queen Anne gaya Marlborough House. Hotel itu sukses dan, pada tahun 190506, ia memilih untuk memperluas hotel dan membeli sebidang tanah lain di sebelah rumah Marlborough nya. Dalam upaya menjadikan hotel barunya sebagai sumber percakapan, White menyewa perusahaan arsitektur Price dan McLanahan. Perusahaan itu menggunakan beton yang diperkuat, bahan bangunan baru yang ditemukan oleh Jean-Louis Lambot pada tahun 1848 (Joseph Monier menerima paten pada tahun 1867). The hotel Spanyol dan Moor temaes, ditutup dengan kubah tanda tangan dan cerobong asap, mewakili sebuah langkah maju dari hotel-hotel lain yang memiliki pengaruh klasik dirancang. White bernama hotel baru Blenheim dan menggabungkan dua hotel ke Marlborough-Blenheim. Kota Atlantik Bally belakangan dibangun di lokasi ini.\",\n          \"Gereja - gereja Armenia yang pertama dibangun antara abad ke - 4 dan ke - 7, dimulai sewaktu Armenia beralih ke Kekristenan, dan berakhir dengan penyerbuan Arab di Armenia. Gereja - gereja masa awal sebagian besar adalah basilika sederhana, tetapi beberapa dengan apes sampingan. Pada abad kelima, kerucut cupola yang khas di tengahnya telah digunakan secara luas. Pada abad ketujuh, gereja - gereja yang direncanakan secara pusat telah dibangun dan gaya Himpunan pantat yang lebih rumit serta radiate Hrip'sim\\u00e9 telah terbentuk. Pada saat invasi Arab, sebagian besar yang kita sekarang tahu sebagai arsitektur klasik Armenia telah terbentuk.\"\n        ],\n        \"semantic_type\": \"\",\n        \"description\": \"\"\n      }\n    },\n    {\n      \"column\": \"question\",\n      \"properties\": {\n        \"dtype\": \"string\",\n        \"num_unique_values\": 92589,\n        \"samples\": [\n          \"Di mana Sekretaris Permanen melayani sebagai PNS senior?\",\n          \"Pada tahun berapa Comcast mengambil alih mayoritas minat di QVC?\",\n          \"Ethnohistory dapat mempelajari sejarah kelompok jenis apa yang mungkin ada atau tidak ada dewasa ini?\"\n        ],\n        \"semantic_type\": \"\",\n        \"description\": \"\"\n      }\n    },\n    {\n      \"column\": \"answer\",\n      \"properties\": {\n        \"dtype\": \"string\",\n        \"num_unique_values\": 67837,\n        \"samples\": [\n          \"Myanma Ekonomi Bank berbagi 51 persen\",\n          \"untuk merekam data atau menyampaikan informasi langsung\",\n          \"Ritchie Blackmore\"\n        ],\n        \"semantic_type\": \"\",\n        \"description\": \"\"\n      }\n    }\n  ]\n}"
            }
          },
          "metadata": {},
          "execution_count": 13
        }
      ],
      "source": [
        "df.drop_duplicates(inplace=True)\n",
        "df.reset_index(drop=True, inplace=True)\n",
        "df"
      ]
    },
    {
      "cell_type": "code",
      "execution_count": 14,
      "metadata": {
        "colab": {
          "base_uri": "https://localhost:8080/"
        },
        "id": "LGIUiBGVMJwC",
        "outputId": "49da4428-9b0d-4c11-9e37-01f6f44d1b07"
      },
      "outputs": [
        {
          "output_type": "stream",
          "name": "stdout",
          "text": [
            "Duplikasi baris: 0\n"
          ]
        }
      ],
      "source": [
        "print(\"Duplikasi baris:\", df.duplicated().sum())"
      ]
    },
    {
      "cell_type": "markdown",
      "metadata": {
        "id": "dj1apfiGsjLY"
      },
      "source": [
        "### Data Sampling, Convert to HuggingFace Dataset & Split to Train and Test"
      ]
    },
    {
      "cell_type": "code",
      "execution_count": 84,
      "metadata": {
        "colab": {
          "base_uri": "https://localhost:8080/"
        },
        "id": "Rcjn-Dc2MQBQ",
        "outputId": "85539a19-26ca-4614-d8ea-73cf981b8195"
      },
      "outputs": [
        {
          "output_type": "execute_result",
          "data": {
            "text/plain": [
              "DatasetDict({\n",
              "    train: Dataset({\n",
              "        features: ['context', 'question', 'answer'],\n",
              "        num_rows: 1600\n",
              "    })\n",
              "    test: Dataset({\n",
              "        features: ['context', 'question', 'answer'],\n",
              "        num_rows: 400\n",
              "    })\n",
              "})"
            ]
          },
          "metadata": {},
          "execution_count": 84
        }
      ],
      "source": [
        "sample_size = 2000\n",
        "df_sample = df.sample(n=sample_size, random_state=42).reset_index(drop=True)\n",
        "\n",
        "contexts_list = df_sample['context'].tolist()\n",
        "questions_list = df_sample['question'].tolist()\n",
        "answers_list = df_sample['answer'].tolist()\n",
        "\n",
        "raw_dataset = Dataset.from_dict({\n",
        "    \"context\": contexts_list,\n",
        "    \"question\": questions_list,\n",
        "    \"answer\": answers_list\n",
        "})\n",
        "\n",
        "raw_dataset = raw_dataset.train_test_split(test_size=0.2)\n",
        "raw_dataset"
      ]
    },
    {
      "cell_type": "markdown",
      "metadata": {
        "id": "9tdNYA1As4oH"
      },
      "source": [
        "### Preprocessing and Tokenization"
      ]
    },
    {
      "cell_type": "code",
      "execution_count": 85,
      "metadata": {
        "colab": {
          "base_uri": "https://localhost:8080/",
          "height": 136,
          "referenced_widgets": [
            "6d9d6d23f0b9484088c863a1c076738d",
            "f05389aae3b24c698537eca30463161c",
            "672d3a87791d4bbdaf9426e5107c8c5d",
            "35b50b6a99f64e50b7c5fbad847fcfa5",
            "28d020f0804b405d95725a44adfcbd4a",
            "8c1957339b714acaa5a5ad4b37713c12",
            "b280fe92f1474dbc971b2c441bc99789",
            "66fa8dc11197405caa78190bc2bd3f49",
            "a047abdb027a4ff4af5e6aab44445651",
            "faec33e5e5f143a38c80efb4df23f303",
            "e5024ef06cf6409b9b35aaf042b1a976",
            "d2fcd926338a41a4a613e665458bab08",
            "98bf8cfca0db425da659d89dfec178ce",
            "96fffe29dd3d4ad9badd10e3b10a08d5",
            "2cad095dfa224df393e22a9128d75017",
            "70faf87ebafa4423aba71f85b1d8fc24",
            "da321fabf99c44c2b3da1dfca4915291",
            "4aa66b10942f4496aa486fccbe7dd9fb",
            "74c19486d9be433390af4cf16b056412",
            "ec3e97bfc047439d9e1d4a03899c1e24",
            "ce9c3e8fa8d2406483a886413fd0b8c7",
            "544175e17e444f08b6165a1bcfd5f4aa"
          ]
        },
        "id": "8NRek5nr4jha",
        "outputId": "06032326-5556-42a5-d7e4-c54019a1612c"
      },
      "outputs": [
        {
          "output_type": "display_data",
          "data": {
            "text/plain": [
              "Map:   0%|          | 0/1600 [00:00<?, ? examples/s]"
            ],
            "application/vnd.jupyter.widget-view+json": {
              "version_major": 2,
              "version_minor": 0,
              "model_id": "6d9d6d23f0b9484088c863a1c076738d"
            }
          },
          "metadata": {}
        },
        {
          "output_type": "stream",
          "name": "stderr",
          "text": [
            "/usr/local/lib/python3.11/dist-packages/transformers/tokenization_utils_base.py:3959: UserWarning: `as_target_tokenizer` is deprecated and will be removed in v5 of Transformers. You can tokenize your labels by using the argument `text_target` of the regular `__call__` method (either in the same call as your input texts if you use the same keyword arguments, or in a separate call.\n",
            "  warnings.warn(\n"
          ]
        },
        {
          "output_type": "display_data",
          "data": {
            "text/plain": [
              "Map:   0%|          | 0/400 [00:00<?, ? examples/s]"
            ],
            "application/vnd.jupyter.widget-view+json": {
              "version_major": 2,
              "version_minor": 0,
              "model_id": "d2fcd926338a41a4a613e665458bab08"
            }
          },
          "metadata": {}
        }
      ],
      "source": [
        "tokenizer = T5Tokenizer.from_pretrained(\"cahya/t5-base-indonesian-summarization-cased\")\n",
        "\n",
        "def preprocess(text):\n",
        "    input_text = f\"generate question: context: {text['context']} answer: {text['answer']}\"\n",
        "    target_text = text[\"question\"]\n",
        "\n",
        "    model_inputs = tokenizer(\n",
        "        input_text, max_length=512, padding=\"max_length\", truncation=True\n",
        "    )\n",
        "\n",
        "    with tokenizer.as_target_tokenizer():\n",
        "        labels = tokenizer(\n",
        "            target_text, max_length=64, padding=\"max_length\", truncation=True\n",
        "        )\n",
        "\n",
        "    model_inputs[\"labels\"] = labels[\"input_ids\"]\n",
        "    return model_inputs\n",
        "\n",
        "\n",
        "tokenized_dataset = raw_dataset.map(preprocess, batched=False)"
      ]
    },
    {
      "cell_type": "markdown",
      "metadata": {
        "id": "vk-PcvJrt5g5"
      },
      "source": [
        "## Load and Configure T5 Model"
      ]
    },
    {
      "cell_type": "code",
      "execution_count": 90,
      "metadata": {
        "id": "Fn9e9yFh2SNZ"
      },
      "outputs": [],
      "source": [
        "t5_model = T5ForConditionalGeneration.from_pretrained(\"cahya/t5-base-indonesian-summarization-cased\")"
      ]
    },
    {
      "cell_type": "code",
      "execution_count": 91,
      "metadata": {
        "colab": {
          "base_uri": "https://localhost:8080/",
          "height": 253
        },
        "id": "hXFCgf7l7hUj",
        "outputId": "9376c50c-98e5-440b-d7eb-37cecc08d4f7"
      },
      "outputs": [
        {
          "output_type": "display_data",
          "data": {
            "text/plain": [
              "<IPython.core.display.HTML object>"
            ],
            "text/html": [
              "\n",
              "    <div>\n",
              "      \n",
              "      <progress value='400' max='400' style='width:300px; height:20px; vertical-align: middle;'></progress>\n",
              "      [400/400 03:21, Epoch 1/1]\n",
              "    </div>\n",
              "    <table border=\"1\" class=\"dataframe\">\n",
              "  <thead>\n",
              " <tr style=\"text-align: left;\">\n",
              "      <th>Step</th>\n",
              "      <th>Training Loss</th>\n",
              "    </tr>\n",
              "  </thead>\n",
              "  <tbody>\n",
              "    <tr>\n",
              "      <td>100</td>\n",
              "      <td>1.074300</td>\n",
              "    </tr>\n",
              "    <tr>\n",
              "      <td>200</td>\n",
              "      <td>0.612100</td>\n",
              "    </tr>\n",
              "    <tr>\n",
              "      <td>300</td>\n",
              "      <td>0.613000</td>\n",
              "    </tr>\n",
              "    <tr>\n",
              "      <td>400</td>\n",
              "      <td>0.586900</td>\n",
              "    </tr>\n",
              "  </tbody>\n",
              "</table><p>"
            ]
          },
          "metadata": {}
        },
        {
          "output_type": "execute_result",
          "data": {
            "text/plain": [
              "TrainOutput(global_step=400, training_loss=0.7215832233428955, metrics={'train_runtime': 202.1154, 'train_samples_per_second': 7.916, 'train_steps_per_second': 1.979, 'total_flos': 974332624896000.0, 'train_loss': 0.7215832233428955, 'epoch': 1.0})"
            ]
          },
          "metadata": {},
          "execution_count": 91
        }
      ],
      "source": [
        "training_args = TrainingArguments(\n",
        "    output_dir=\"./results\",\n",
        "    learning_rate=2e-4,\n",
        "    per_device_train_batch_size=4,\n",
        "    per_device_eval_batch_size=4,\n",
        "    num_train_epochs=1,\n",
        "    weight_decay=0.01,\n",
        "    logging_dir=\"./logs\",\n",
        "    logging_steps=100,\n",
        "    report_to=\"none\",\n",
        "    fp16=True\n",
        ")\n",
        "\n",
        "trainer = Trainer(\n",
        "    model=t5_model,\n",
        "    args=training_args,\n",
        "    train_dataset=tokenized_dataset[\"train\"],\n",
        "    eval_dataset=tokenized_dataset[\"test\"],\n",
        ")\n",
        "\n",
        "trainer.train()"
      ]
    },
    {
      "cell_type": "markdown",
      "metadata": {
        "id": "cj4WSU-Ct_84"
      },
      "source": [
        "## Load Indonesian Named Entity Recognition (NER) Model"
      ]
    },
    {
      "cell_type": "code",
      "execution_count": 93,
      "metadata": {
        "colab": {
          "base_uri": "https://localhost:8080/"
        },
        "id": "nty1M7Y_v-Lw",
        "outputId": "cee450ce-2272-4235-f215-734c2259e5cc"
      },
      "outputs": [
        {
          "output_type": "stream",
          "name": "stderr",
          "text": [
            "Some weights of the model checkpoint at cahya/bert-base-indonesian-NER were not used when initializing BertForTokenClassification: ['bert.pooler.dense.bias', 'bert.pooler.dense.weight']\n",
            "- This IS expected if you are initializing BertForTokenClassification from the checkpoint of a model trained on another task or with another architecture (e.g. initializing a BertForSequenceClassification model from a BertForPreTraining model).\n",
            "- This IS NOT expected if you are initializing BertForTokenClassification from the checkpoint of a model that you expect to be exactly identical (initializing a BertForSequenceClassification model from a BertForSequenceClassification model).\n",
            "Device set to use cuda:0\n",
            "/usr/local/lib/python3.11/dist-packages/transformers/pipelines/token_classification.py:170: UserWarning: `grouped_entities` is deprecated and will be removed in version v5.0.0, defaulted to `aggregation_strategy=\"AggregationStrategy.SIMPLE\"` instead.\n",
            "  warnings.warn(\n"
          ]
        }
      ],
      "source": [
        "ner_tokenizer = AutoTokenizer.from_pretrained(\"cahya/bert-base-indonesian-NER\")\n",
        "ner_model = AutoModelForTokenClassification.from_pretrained(\"cahya/bert-base-indonesian-NER\")\n",
        "\n",
        "ner_pipe = pipeline(\"ner\", model=ner_model, tokenizer=ner_tokenizer, grouped_entities=True)"
      ]
    },
    {
      "cell_type": "markdown",
      "metadata": {
        "id": "Xenp2jt2uqdK"
      },
      "source": [
        "## Functions"
      ]
    },
    {
      "cell_type": "code",
      "execution_count": 94,
      "metadata": {
        "id": "RZjbT79IeP_p"
      },
      "outputs": [],
      "source": [
        "def extract_entities(text, max_entities=5):\n",
        "    entities = ner_pipe(text)\n",
        "    answers = []\n",
        "    for entity in entities:\n",
        "        if entity['entity_group'] in ['PER', 'LOC', 'DAT']:\n",
        "            word = entity['word'].replace('##', '').strip()\n",
        "            if word not in answers:\n",
        "                answers.append(word)\n",
        "        if len(answers) >= max_entities:\n",
        "            break\n",
        "    return answers"
      ]
    },
    {
      "cell_type": "code",
      "execution_count": 95,
      "metadata": {
        "id": "mwr6aZjpZmja"
      },
      "outputs": [],
      "source": [
        "device = torch.device(\"cuda\" if torch.cuda.is_available() else \"cpu\")\n",
        "t5_model.to(device)\n",
        "\n",
        "def get_sentence_with_answer(text, answer):\n",
        "    sentences = re.split(r'(?<=[.!?]) +', text)\n",
        "    for sentence in sentences:\n",
        "        if answer in sentence:\n",
        "            return sentence\n",
        "    return text\n",
        "\n",
        "def generate_question_from_input(input_text):\n",
        "    inputs = tokenizer(\n",
        "        input_text,\n",
        "        return_tensors=\"pt\",\n",
        "        padding=True,\n",
        "        truncation=True,\n",
        "        max_length=512\n",
        "    ).to(device)\n",
        "\n",
        "    outputs = t5_model.generate(\n",
        "        inputs[\"input_ids\"],\n",
        "        max_length=64,\n",
        "        num_return_sequences=1,\n",
        "        do_sample=True,\n",
        "        top_k=50,\n",
        "        top_p=0.95,\n",
        "        temperature=0.8\n",
        "    )\n",
        "\n",
        "    return tokenizer.decode(outputs[0], skip_special_tokens=True)\n",
        "\n",
        "def generate_questions(text, num_questions=5):\n",
        "    answers = extract_entities(text, max_entities=num_questions)\n",
        "    questions = []\n",
        "\n",
        "    if answers:\n",
        "        for ans in answers:\n",
        "            context = get_sentence_with_answer(text, ans)\n",
        "            input_text = f\"generate question: context: {context} answer: {ans}\"\n",
        "            question = generate_question_from_input(input_text)\n",
        "            questions.append(question)\n",
        "            remaining_questions = num_questions - len(questions)\n",
        "        if remaining_questions > 0:\n",
        "            for i in range(remaining_questions):\n",
        "                input_text = f\"generate question: context: {text}\"\n",
        "                question = generate_question_from_input(input_text)\n",
        "                questions.append(question)\n",
        "    else:\n",
        "        for _ in range(num_questions):\n",
        "            input_text = f\"generate question: context: {text}\"\n",
        "            question = generate_question_from_input(input_text)\n",
        "            questions.append(question)\n",
        "\n",
        "    return questions"
      ]
    },
    {
      "cell_type": "markdown",
      "metadata": {
        "id": "KshIvBcNui-E"
      },
      "source": [
        "## Inference Process"
      ]
    },
    {
      "cell_type": "code",
      "execution_count": 96,
      "metadata": {
        "colab": {
          "base_uri": "https://localhost:8080/"
        },
        "id": "kPQO-ffDYj3h",
        "outputId": "e9a0de24-9c1a-48da-987d-59ded8dcecce"
      },
      "outputs": [
        {
          "output_type": "stream",
          "name": "stderr",
          "text": [
            "Asking to truncate to max_length but no maximum length is provided and the model has no predefined maximum length. Default to no truncation.\n"
          ]
        },
        {
          "output_type": "stream",
          "name": "stdout",
          "text": [
            "1. Tahun berapa persidangan Dokuritsu Junbi membuat sebuah kesimpulan mengenai Pancasila?\n",
            "2. Kapan Soekarno menyampaikan ide tentang dasar negara?\n",
            "3. Kapan pidato Presiden pertama Soekarno memberikan ide penting kepada Pancasila?\n",
            "4. Kapan sidang Dokuritsu Junbi Cosakai berakhir?\n",
            "5. Kapan Soeserto dan Dokuritsu?\n"
          ]
        }
      ],
      "source": [
        "text = \"Hari lahir Pancasila jatuh pada tanggal 1 Juni yang ditandai oleh pidato yang dilakukan oleh Presiden pertama Indonesia Ir Soekarno pada tanggal 1 Juni 1945 dalam sidang Dokuritsu Junbi Cosakai (Badan Penyelidik Usaha Persiapan Kemerdekaan). Dalam pidatonya pertama kali mengemukakan konsep awal Pancasila yang menjadi dasar negara Indonesia. Adapun sejarahnya berawal dari kekalahan Jepang pada perang pasifik, mereka kemudian berusaha mendapatkan hati masyarakat dengan menjanjikan kemerdekaan kepada Indonesia dan membentuk sebuah Lembaga yang tugasnya untuk mempersiapkan hal tersebut. Lembaga ini dinamai Dokuritsu Junbi Cosakai. Pada sidang pertamanya di tanggal 29 Mei 1945 yang diadakan di Gedung Chuo Sangi In (sekarang Gedung Pancasila), para anggota membahas mengenai tema dasar negara. Sidang berjalan sekitar hampir 5 hari, kemudian pada tanggal 1 Juni 1945, Soekarno menyampaikan ide serta gagasannya terkait dasar negara Indonesia, yang dinamai “Pancasila”. Panca artinya lima, sedangkan sila artinya prinsip atau asas.\"\n",
        "questions = generate_questions(text, num_questions=5)\n",
        "\n",
        "for i, q in enumerate(questions, 1):\n",
        "    print(f\"{i}. {q}\")"
      ]
    },
    {
      "cell_type": "markdown",
      "source": [
        "## Evaluation"
      ],
      "metadata": {
        "id": "4xqdfy5fSym8"
      }
    },
    {
      "cell_type": "code",
      "source": [
        "scorer = rouge_scorer.RougeScorer(['rouge1', 'rouge2', 'rougeL'], use_stemmer=True)"
      ],
      "metadata": {
        "id": "hCeONS8bcgaF"
      },
      "execution_count": 97,
      "outputs": []
    },
    {
      "cell_type": "markdown",
      "source": [
        "### Data Train 500"
      ],
      "metadata": {
        "id": "lwWAqyD7dYpn"
      }
    },
    {
      "cell_type": "code",
      "source": [
        "sample_data = raw_dataset['train'][500]\n",
        "context_500 = sample_data['context']\n",
        "reference_question_500 = sample_data['question']\n",
        "\n",
        "print(\"Konteks:\\n\", context_500)\n",
        "print(\"\\nPertanyaan:\\n\", reference_question_500)"
      ],
      "metadata": {
        "colab": {
          "base_uri": "https://localhost:8080/"
        },
        "id": "JTfyK-rnTfE1",
        "outputId": "2b9d246d-8ea2-4492-e16b-7812a1891d20"
      },
      "execution_count": 98,
      "outputs": [
        {
          "output_type": "stream",
          "name": "stdout",
          "text": [
            "Konteks:\n",
            " Paralel terhadap perkembangan militer muncul juga terus-menerus lebih rumit kode chivalric perilaku untuk kelas prajurit. etos baru ini dapat dilihat sebagai respon terhadap berkurangnya peran militer dari aristokrasi, dan secara bertahap menjadi hampir sepenuhnya terpisah dari asal militernya. Semangat ksatria diberikan ekspresi melalui jenis baru chivalric order; yang pertama adalah Orde St. George, didirikan oleh Charles I dari Hongaria pada tahun 1325, sementara yang paling dikenal mungkin Orde Inggris Garter, didirikan oleh Edward III pada tahun 1348.\n",
            "\n",
            "Pertanyaan:\n",
            " Pada tahun berapa Order of the Garter didirikan?\n"
          ]
        }
      ]
    },
    {
      "cell_type": "code",
      "source": [
        "questions_500 = generate_questions(context_500, num_questions=5)\n",
        "generated_question_500 = []\n",
        "\n",
        "for i, q in enumerate(questions_500, 1):\n",
        "    generated_question_500.append(q)\n",
        "    print(f\"{i}. {q}\")"
      ],
      "metadata": {
        "colab": {
          "base_uri": "https://localhost:8080/"
        },
        "id": "ITTrf6PXT2U_",
        "outputId": "3d817f1b-2300-4946-d74f-06126170cd96"
      },
      "execution_count": 99,
      "outputs": [
        {
          "output_type": "stream",
          "name": "stdout",
          "text": [
            "1. Apa yang disebut sebagai chivalric yang menyerang.\n",
            "2. Kapan George didirikan Charles I dari Hongaria?\n",
            "3. Siapa yang memberikan definisi bagaimana chivalric-sminse?\n",
            "4. Siapa yang mendirikan George pada tahun 1325?\n",
            "5. Istilah apa yang digunakan untuk apa?\n"
          ]
        }
      ]
    },
    {
      "cell_type": "code",
      "source": [
        "for i, q in enumerate(generated_question_500, 1):\n",
        "    scores = scorer.score(reference_question_500, q)\n",
        "    print(f\"{i}. {scores}\")"
      ],
      "metadata": {
        "colab": {
          "base_uri": "https://localhost:8080/"
        },
        "id": "cIUyCXjcS2a5",
        "outputId": "70ff387f-5fc5-4796-a3fb-607d4a979a03"
      },
      "execution_count": 100,
      "outputs": [
        {
          "output_type": "stream",
          "name": "stdout",
          "text": [
            "1. {'rouge1': Score(precision=0.0, recall=0.0, fmeasure=0.0), 'rouge2': Score(precision=0.0, recall=0.0, fmeasure=0.0), 'rougeL': Score(precision=0.0, recall=0.0, fmeasure=0.0)}\n",
            "2. {'rouge1': Score(precision=0.14285714285714285, recall=0.125, fmeasure=0.13333333333333333), 'rouge2': Score(precision=0.0, recall=0.0, fmeasure=0.0), 'rougeL': Score(precision=0.14285714285714285, recall=0.125, fmeasure=0.13333333333333333)}\n",
            "3. {'rouge1': Score(precision=0.0, recall=0.0, fmeasure=0.0), 'rouge2': Score(precision=0.0, recall=0.0, fmeasure=0.0), 'rougeL': Score(precision=0.0, recall=0.0, fmeasure=0.0)}\n",
            "4. {'rouge1': Score(precision=0.2857142857142857, recall=0.25, fmeasure=0.26666666666666666), 'rouge2': Score(precision=0.16666666666666666, recall=0.14285714285714285, fmeasure=0.15384615384615383), 'rougeL': Score(precision=0.2857142857142857, recall=0.25, fmeasure=0.26666666666666666)}\n",
            "5. {'rouge1': Score(precision=0.0, recall=0.0, fmeasure=0.0), 'rouge2': Score(precision=0.0, recall=0.0, fmeasure=0.0), 'rougeL': Score(precision=0.0, recall=0.0, fmeasure=0.0)}\n"
          ]
        }
      ]
    },
    {
      "cell_type": "markdown",
      "source": [
        "### Data Train 250"
      ],
      "metadata": {
        "id": "MT30W-snderu"
      }
    },
    {
      "cell_type": "code",
      "source": [
        "sample_data = raw_dataset['train'][250]\n",
        "context_250 = sample_data['context']\n",
        "reference_question_250 = sample_data['question']\n",
        "\n",
        "print(\"Konteks:\\n\", context_250)\n",
        "print(\"\\nPertanyaan:\\n\", reference_question_250)"
      ],
      "metadata": {
        "colab": {
          "base_uri": "https://localhost:8080/"
        },
        "id": "pTObfB4CZbQx",
        "outputId": "001af6fe-077d-40f7-bf0e-34db06e3a98f"
      },
      "execution_count": 101,
      "outputs": [
        {
          "output_type": "stream",
          "name": "stdout",
          "text": [
            "Konteks:\n",
            " Kenneth Gergen merumuskan klasifikasi tambahan, yang mencakup manipulator strategis, kepribadian pastiche, dan relasi diri. Manipulator strategis adalah orang yang mulai menganggap semua indra identitas hanya sebagai latihan bermain peran, dan secara bertahap menjadi terasing dari dirinya sendiri. Kepribadian pasdiche meninggalkan semua aspirasi menuju identitas yang benar atau \"penting,\" daripada melihat interaksi sosial sebagai kesempatan untuk bermain, dan oleh karena itu menjadi, peran mereka bermain. Akhirnya, diri relasional adalah sudut pandang orang - orang yang meninggalkan semua rasa diri yang eksklusif, dan memandang semua rasa identitas dalam hal keterlibatan sosial dengan orang lain. Bagi Gergen, strategi ini saling mengikuti dalam tahapan, dan mereka dikaitkan dengan meningkatnya popularitas budaya postmodern dan munculnya teknologi telekomunikasi.\n",
            "\n",
            "Pertanyaan:\n",
            " Dalam klasifikasi apa seseorang yang menyerahkan diri eksklusif mereka dan mendefinisikan dirinya hanya dalam hal keterlibatan sosial?\n"
          ]
        }
      ]
    },
    {
      "cell_type": "code",
      "source": [
        "questions_250 = generate_questions(context_250, num_questions=5)\n",
        "generated_question_250 = []\n",
        "\n",
        "for i, q in enumerate(questions_250, 1):\n",
        "    generated_question_250.append(q)\n",
        "    print(f\"{i}. {q}\")"
      ],
      "metadata": {
        "colab": {
          "base_uri": "https://localhost:8080/"
        },
        "id": "1j1Zl6lNZkFR",
        "outputId": "2b6cb0e4-4a61-42ab-8035-5c304dcc84d4"
      },
      "execution_count": 102,
      "outputs": [
        {
          "output_type": "stream",
          "name": "stdout",
          "text": [
            "1. Bagaimana Gergen merumuskannya?\n",
            "2. Apa namanya dia meninggalkan aspirasi untuk menjadi 'penting'?\n",
            "3. Siapa yang merumuskan manipulator?\n",
            "4. Apa nama manipulatif?\n",
            "5. Apa klasifikasi ini?\n"
          ]
        }
      ]
    },
    {
      "cell_type": "code",
      "source": [
        "for i, q in enumerate(generated_question_250, 1):\n",
        "    scores = scorer.score(reference_question_250, q)\n",
        "    print(f\"{i}. {scores}\")"
      ],
      "metadata": {
        "colab": {
          "base_uri": "https://localhost:8080/"
        },
        "id": "OrzGzR38cV7L",
        "outputId": "57c9236a-72d2-4805-8479-cbe3e4192d6e"
      },
      "execution_count": 103,
      "outputs": [
        {
          "output_type": "stream",
          "name": "stdout",
          "text": [
            "1. {'rouge1': Score(precision=0.0, recall=0.0, fmeasure=0.0), 'rouge2': Score(precision=0.0, recall=0.0, fmeasure=0.0), 'rougeL': Score(precision=0.0, recall=0.0, fmeasure=0.0)}\n",
            "2. {'rouge1': Score(precision=0.125, recall=0.058823529411764705, fmeasure=0.07999999999999999), 'rouge2': Score(precision=0.0, recall=0.0, fmeasure=0.0), 'rougeL': Score(precision=0.125, recall=0.058823529411764705, fmeasure=0.07999999999999999)}\n",
            "3. {'rouge1': Score(precision=0.25, recall=0.058823529411764705, fmeasure=0.09523809523809523), 'rouge2': Score(precision=0.0, recall=0.0, fmeasure=0.0), 'rougeL': Score(precision=0.25, recall=0.058823529411764705, fmeasure=0.09523809523809523)}\n",
            "4. {'rouge1': Score(precision=0.3333333333333333, recall=0.058823529411764705, fmeasure=0.1), 'rouge2': Score(precision=0.0, recall=0.0, fmeasure=0.0), 'rougeL': Score(precision=0.3333333333333333, recall=0.058823529411764705, fmeasure=0.1)}\n",
            "5. {'rouge1': Score(precision=0.6666666666666666, recall=0.11764705882352941, fmeasure=0.2), 'rouge2': Score(precision=0.0, recall=0.0, fmeasure=0.0), 'rougeL': Score(precision=0.3333333333333333, recall=0.058823529411764705, fmeasure=0.1)}\n"
          ]
        }
      ]
    },
    {
      "cell_type": "markdown",
      "source": [
        "### Data Train 150"
      ],
      "metadata": {
        "id": "M_Qtap90do-R"
      }
    },
    {
      "cell_type": "code",
      "source": [
        "sample_data = raw_dataset['train'][150]\n",
        "context_150 = sample_data['context']\n",
        "reference_question_150 = sample_data['question']\n",
        "\n",
        "print(\"Konteks:\\n\", context_150)\n",
        "print(\"\\nPertanyaan:\\n\", reference_question_150)"
      ],
      "metadata": {
        "colab": {
          "base_uri": "https://localhost:8080/"
        },
        "id": "dUrUrAk-dzBC",
        "outputId": "5f7dadc5-b1a6-4e04-c03b-a66ad513c49b"
      },
      "execution_count": 104,
      "outputs": [
        {
          "output_type": "stream",
          "name": "stdout",
          "text": [
            "Konteks:\n",
            " Pada tahun 1565, pangeran kuat Rinbung digulingkan oleh salah satu menteri mereka sendiri, Karma Tseten yang bergaya dirinya sebagai Tsangpa, \"salah satu dari Tsang\", dan mendirikan basis kekuasaan di Shigatse. Penerus kedua dari raja Tsang pertama ini, Karma Phuntsok Namgyal, mengambil alih seluruh Central Tibet (#-Tsang), yang berkuasa dari 16111621. Meskipun demikian, para pemimpin Lhasa masih mengklaim kesetiaan mereka kepada Phagmodru serta Gelug, sementara raja Tsang bersekutu dengan Karmapa. Ketegangan meningkat antara penguasa nasionalistik-Tsang dan Mongol yang menjaga mereka Mongol Dalai Lama di Lhasa. Dalai Lama keempat menolak untuk memberikan penonton kepada raja #-Tsang, yang memicu konflik sebagai yang terakhir mulai menyerang biara Gelug. Chen menulis tentang spekulasi atas kematian misterius Dalai Lama keempat dan plot raja #-Tsang untuk memiliki dia dibunuh untuk \"menghukum\" dia dengan penyakit, meskipun Chen menulis bahwa pembunuhan kemungkinan besar hasil dari perebutan kekuasaan feodal. Pada tahun 1618, hanya dua tahun setelah Yonten Gyatso meninggal, Gelug dan Karma Kargyu pergi berperang, Karma Kargyu didukung oleh seorang raja sekuler / Tsang. Penguasa Tsang memiliki sejumlah besar Gelugpa lamas dibunuh, diduduki biara mereka di Drepung dan Sera, dan dilarang setiap upaya untuk menemukan lain Dalai Lama. Pada tahun 1621, raja Tsang meninggal dan berhasil oleh anak mudanya Karma Tenkyong, sebuah peristiwa yang menstimulasi upaya perang sebagai yang terakhir menerima Lozang Gyatso enam tahun sebagai Dalai Lama yang baru. Terlepas dari upaya diplomatik Dalai Lama yang baru untuk mempertahankan hubungan bersahabat dengan penguasa baru # Tsang, Sonam Rapten (1595), kepala pengurus dan bendahara Dalai Lama di Drepang, berupaya menggulingkan raja yang lain. Pada tahun 1633, Gelugpas dan beberapa ribu pengikut Mongol mengalahkan pasukan raja Tsang dekat Lhasa sebelum negosiasi damai diselesaikan. Goldstein menulis bahwa dalam \"Mongols lagi memainkan peran penting dalam urusan Tibet, kali ini sebagai lengan militer Dalai Lama.\"\n",
            "\n",
            "Pertanyaan:\n",
            " Siapa yang menolak penonton dengan raja Tsang?\n"
          ]
        }
      ]
    },
    {
      "cell_type": "code",
      "source": [
        "questions_150 = generate_questions(context_150, num_questions=5)\n",
        "generated_question_150 = []\n",
        "\n",
        "for i, q in enumerate(questions_150, 1):\n",
        "    generated_question_150.append(q)\n",
        "    print(f\"{i}. {q}\")"
      ],
      "metadata": {
        "colab": {
          "base_uri": "https://localhost:8080/"
        },
        "id": "52g485CjeK38",
        "outputId": "8212390a-e822-4036-e2dc-fa7089cd7d6f"
      },
      "execution_count": 105,
      "outputs": [
        {
          "output_type": "stream",
          "name": "stdout",
          "text": [
            "1. Pada tahun 1565, pangeran kuat Rinbung digulingkan oleh salah satu menterinya sendiri, Karma Tseten.\n",
            "2. Apa yang mendorong kekuatan Rinbung digulingkan?\n",
            "3. Siapa yang memerintah orang lain yang disebut sebagai Tsangpa?\n",
            "4. Siapa yang disebut oleh Dalai Lama?\n",
            "5. Apa pemimpin Tibet yang sebelumnya menguasai seluruh Central Tibet?\n"
          ]
        }
      ]
    },
    {
      "cell_type": "code",
      "source": [
        "for i, q in enumerate(generated_question_150, 1):\n",
        "    scores = scorer.score(reference_question_150, q)\n",
        "    print(f\"{i}. {scores}\")"
      ],
      "metadata": {
        "colab": {
          "base_uri": "https://localhost:8080/"
        },
        "id": "t9_RITbNeRYr",
        "outputId": "2545ae59-1212-4bac-c3c2-6d173049de9b"
      },
      "execution_count": 106,
      "outputs": [
        {
          "output_type": "stream",
          "name": "stdout",
          "text": [
            "1. {'rouge1': Score(precision=0.0, recall=0.0, fmeasure=0.0), 'rouge2': Score(precision=0.0, recall=0.0, fmeasure=0.0), 'rougeL': Score(precision=0.0, recall=0.0, fmeasure=0.0)}\n",
            "2. {'rouge1': Score(precision=0.16666666666666666, recall=0.14285714285714285, fmeasure=0.15384615384615383), 'rouge2': Score(precision=0.0, recall=0.0, fmeasure=0.0), 'rougeL': Score(precision=0.16666666666666666, recall=0.14285714285714285, fmeasure=0.15384615384615383)}\n",
            "3. {'rouge1': Score(precision=0.2222222222222222, recall=0.2857142857142857, fmeasure=0.25), 'rouge2': Score(precision=0.125, recall=0.16666666666666666, fmeasure=0.14285714285714288), 'rougeL': Score(precision=0.2222222222222222, recall=0.2857142857142857, fmeasure=0.25)}\n",
            "4. {'rouge1': Score(precision=0.3333333333333333, recall=0.2857142857142857, fmeasure=0.30769230769230765), 'rouge2': Score(precision=0.2, recall=0.16666666666666666, fmeasure=0.1818181818181818), 'rougeL': Score(precision=0.3333333333333333, recall=0.2857142857142857, fmeasure=0.30769230769230765)}\n",
            "5. {'rouge1': Score(precision=0.1111111111111111, recall=0.14285714285714285, fmeasure=0.125), 'rouge2': Score(precision=0.0, recall=0.0, fmeasure=0.0), 'rougeL': Score(precision=0.1111111111111111, recall=0.14285714285714285, fmeasure=0.125)}\n"
          ]
        }
      ]
    },
    {
      "cell_type": "markdown",
      "source": [
        "### Data Train 50"
      ],
      "metadata": {
        "id": "_NMuU3IOwDhe"
      }
    },
    {
      "cell_type": "code",
      "source": [
        "sample_data = raw_dataset['train'][50]\n",
        "context_50 = sample_data['context']\n",
        "reference_question_50 = sample_data['question']\n",
        "\n",
        "print(\"Konteks:\\n\", context_50)\n",
        "print(\"\\nPertanyaan:\\n\", reference_question_50)"
      ],
      "metadata": {
        "colab": {
          "base_uri": "https://localhost:8080/"
        },
        "id": "hjjgYyQiwGC0",
        "outputId": "ea360361-e0d4-43e1-c8f5-6ceaf9f43a13"
      },
      "execution_count": 107,
      "outputs": [
        {
          "output_type": "stream",
          "name": "stdout",
          "text": [
            "Konteks:\n",
            " Penyebab yang tepat dan motivasi untuk konflik militer Roma dan perluasan selama republik ini tunduk pada perdebatan luas. Meskipun mereka dapat dipandang dimotivasi oleh agresi dan imperialisme yang terang - terangan, para sejarawan biasanya memiliki pandangan yang jauh lebih bernuansa. Mereka berpendapat bahwa ekspansi Roma didorong oleh faktor pertahanan jangka pendek dan antar negara (yaitu, hubungan dengan negara-kota dan kerajaan-kerajaan di luar hegemoni Roma), dan kontinjensi baru yang dibuat keputusan-keputusan ini. Dalam sejarah awal, sebagai Roma berhasil mempertahankan diri terhadap ancaman asing di pusat dan kemudian Italia utara, negara-kota tetangga mencari perlindungan aliansi Romawi akan membawa. Dengan demikian, Roma Republik awal bukanlah sebuah \"empire\" atau \"state\" dalam arti modern, tetapi aliansi negara-kota independen (sama dengan hegemoni Yunani dari periode yang sama) dengan berbagai derajat kemerdekaan sejati (yang berubah dari waktu ke waktu) terlibat dalam aliansi saling melindungi diri sendiri, tetapi dipimpin oleh Roma. Dengan beberapa pengecualian yang penting, perang - perang yang sukses di Roma republik - republik masa awal umumnya tidak mengarah keekspansi atau pendudukan militer, tetapi untuk memulihkan keadaan. Tetapi, kota yang dikalahkan itu akan menjadi lemah (kadang - kadang dengan konsesi tanah yang terang - terangan) dan dengan demikian tidak mampu menolak pengaruh - pengaruh Romawi, seperti para pemukim Romawi yang mencari tanah atau perdagangan dengan konfederasi Romawi yang semakin besar. Hal ini juga kurang mampu mempertahankan diri terhadap musuh non-Roman, yang membuat serangan oleh musuh-musuh ini lebih mungkin. Oleh karena itu, lebih besar kemungkinannya untuk mencari persekutuan perlindungan dengan Roma.\n",
            "\n",
            "Pertanyaan:\n",
            " Para pemukim Romawi biasanya mencari apa?\n"
          ]
        }
      ]
    },
    {
      "cell_type": "code",
      "source": [
        "questions_50 = generate_questions(context_50, num_questions=5)\n",
        "generated_question_50 = []\n",
        "\n",
        "for i, q in enumerate(questions_50, 1):\n",
        "    generated_question_50.append(q)\n",
        "    print(f\"{i}. {q}\")"
      ],
      "metadata": {
        "colab": {
          "base_uri": "https://localhost:8080/"
        },
        "id": "1R4KS4QKwMJe",
        "outputId": "8cd24c06-0345-4644-c1d1-e8472dee3581"
      },
      "execution_count": 108,
      "outputs": [
        {
          "output_type": "stream",
          "name": "stdout",
          "text": [
            "1. Apa yang dianggap sebagai penyebab konflik militer Roma?\n",
            "2. Apa yang membuat orang-orang Roma tidak mampu mempertahankan diri?\n",
            "3. Apa alasan yang digunakan untuk konflik militer Roma?\n",
            "4. Apa jenis pasukan Roma yang berperang dengan apa yang telah terjadi?\n",
            "5. Apa alasan mengapa Roma dapat dimotivasi oleh imperialisme?\n"
          ]
        }
      ]
    },
    {
      "cell_type": "code",
      "source": [
        "for i, q in enumerate(generated_question_50, 1):\n",
        "    scores = scorer.score(reference_question_50, q)\n",
        "    print(f\"{i}. {scores}\")"
      ],
      "metadata": {
        "colab": {
          "base_uri": "https://localhost:8080/"
        },
        "id": "7Ozgl_r1wSDR",
        "outputId": "43a30354-d146-4336-c4c6-0fa201d1f0a0"
      },
      "execution_count": 109,
      "outputs": [
        {
          "output_type": "stream",
          "name": "stdout",
          "text": [
            "1. {'rouge1': Score(precision=0.125, recall=0.16666666666666666, fmeasure=0.14285714285714288), 'rouge2': Score(precision=0.0, recall=0.0, fmeasure=0.0), 'rougeL': Score(precision=0.125, recall=0.16666666666666666, fmeasure=0.14285714285714288)}\n",
            "2. {'rouge1': Score(precision=0.1, recall=0.16666666666666666, fmeasure=0.125), 'rouge2': Score(precision=0.0, recall=0.0, fmeasure=0.0), 'rougeL': Score(precision=0.1, recall=0.16666666666666666, fmeasure=0.125)}\n",
            "3. {'rouge1': Score(precision=0.125, recall=0.16666666666666666, fmeasure=0.14285714285714288), 'rouge2': Score(precision=0.0, recall=0.0, fmeasure=0.0), 'rougeL': Score(precision=0.125, recall=0.16666666666666666, fmeasure=0.14285714285714288)}\n",
            "4. {'rouge1': Score(precision=0.09090909090909091, recall=0.16666666666666666, fmeasure=0.11764705882352942), 'rouge2': Score(precision=0.0, recall=0.0, fmeasure=0.0), 'rougeL': Score(precision=0.09090909090909091, recall=0.16666666666666666, fmeasure=0.11764705882352942)}\n",
            "5. {'rouge1': Score(precision=0.125, recall=0.16666666666666666, fmeasure=0.14285714285714288), 'rouge2': Score(precision=0.0, recall=0.0, fmeasure=0.0), 'rougeL': Score(precision=0.125, recall=0.16666666666666666, fmeasure=0.14285714285714288)}\n"
          ]
        }
      ]
    },
    {
      "cell_type": "markdown",
      "source": [
        "### Data Train 5"
      ],
      "metadata": {
        "id": "VxVawvTvwtpp"
      }
    },
    {
      "cell_type": "code",
      "source": [
        "sample_data = raw_dataset['train'][5]\n",
        "context_5 = sample_data['context']\n",
        "reference_question_5 = sample_data['question']\n",
        "\n",
        "print(\"Konteks:\\n\", context_5)\n",
        "print(\"\\nPertanyaan:\\n\", reference_question_5)"
      ],
      "metadata": {
        "colab": {
          "base_uri": "https://localhost:8080/"
        },
        "id": "cmQh3Xd5wwRw",
        "outputId": "a080dd78-4074-4843-d808-1a217ba4d1cb"
      },
      "execution_count": 110,
      "outputs": [
        {
          "output_type": "stream",
          "name": "stdout",
          "text": [
            "Konteks:\n",
            " Paket - paket buatan tangan hanya terdiri dari satu PID byte, dan umumnya dikirim sebagai tanggapan terhadap paket data. Deteksi galat disediakan dengan mentransmisikan empat bit yang mewakili tipe paket dua kali, dalam satu PID byte menggunakan formulir komplemen. Tiga tipe dasar adalah ACK, yang menunjukkan bahwa data berhasil diterima, NAK, menunjukkan bahwa data tidak dapat diterima dan harus dicoba ulang, dan STALL, menunjukkan bahwa perangkat tersebut memiliki kondisi galat dan tidak dapat mentransfer data sampai beberapa aksi perbaikan (seperti perangkat inisialisasi) terjadi.\n",
            "\n",
            "Pertanyaan:\n",
            " Apa yang disediakan dengan transmisi empat bit yang mewakili tipe paket dua kali, dalam satu PID byte menggunakan bentuk komplemen?\n"
          ]
        }
      ]
    },
    {
      "cell_type": "code",
      "source": [
        "questions_5 = generate_questions(context_5, num_questions=5)\n",
        "generated_question_5 = []\n",
        "\n",
        "for i, q in enumerate(questions_5, 1):\n",
        "    generated_question_5.append(q)\n",
        "    print(f\"{i}. {q}\")"
      ],
      "metadata": {
        "colab": {
          "base_uri": "https://localhost:8080/"
        },
        "id": "x03fOxtWw1AC",
        "outputId": "3d1a2b67-d745-4ee0-b776-ff7d8af84057"
      },
      "execution_count": 111,
      "outputs": [
        {
          "output_type": "stream",
          "name": "stdout",
          "text": [
            "1. Apa penjelasan dari CTG yang dibuat dengan menggunakan kebotan dan defisile?\n",
            "2. Pada suatu pada waktu apa perangkat inisialisasi?\n",
            "3. Apa yang membuat dua tipe, dan berapa banyak orang - orang yang mengalami perbaikan?\n",
            "4. Apa jenis paket buatan tangan yang digunakan untuk mengirim data?\n",
            "5. Apa bentuk paket yang digunakan dalam paket mesin buatan tangan?\n"
          ]
        }
      ]
    },
    {
      "cell_type": "code",
      "source": [
        "for i, q in enumerate(generated_question_5, 1):\n",
        "    scores = scorer.score(reference_question_5, q)\n",
        "    print(f\"{i}. {scores}\")"
      ],
      "metadata": {
        "colab": {
          "base_uri": "https://localhost:8080/"
        },
        "id": "paKSjwE7w7l5",
        "outputId": "73f7ade4-c0bd-47af-b63b-e95af5db52f4"
      },
      "execution_count": 112,
      "outputs": [
        {
          "output_type": "stream",
          "name": "stdout",
          "text": [
            "1. {'rouge1': Score(precision=0.36363636363636365, recall=0.2, fmeasure=0.25806451612903225), 'rouge2': Score(precision=0.0, recall=0.0, fmeasure=0.0), 'rougeL': Score(precision=0.36363636363636365, recall=0.2, fmeasure=0.25806451612903225)}\n",
            "2. {'rouge1': Score(precision=0.14285714285714285, recall=0.05, fmeasure=0.07407407407407408), 'rouge2': Score(precision=0.0, recall=0.0, fmeasure=0.0), 'rougeL': Score(precision=0.14285714285714285, recall=0.05, fmeasure=0.07407407407407408)}\n",
            "3. {'rouge1': Score(precision=0.38461538461538464, recall=0.25, fmeasure=0.30303030303030304), 'rouge2': Score(precision=0.08333333333333333, recall=0.05263157894736842, fmeasure=0.06451612903225808), 'rougeL': Score(precision=0.23076923076923078, recall=0.15, fmeasure=0.18181818181818185)}\n",
            "4. {'rouge1': Score(precision=0.3, recall=0.15, fmeasure=0.2), 'rouge2': Score(precision=0.0, recall=0.0, fmeasure=0.0), 'rougeL': Score(precision=0.2, recall=0.1, fmeasure=0.13333333333333333)}\n",
            "5. {'rouge1': Score(precision=0.5, recall=0.25, fmeasure=0.3333333333333333), 'rouge2': Score(precision=0.0, recall=0.0, fmeasure=0.0), 'rougeL': Score(precision=0.3, recall=0.15, fmeasure=0.2)}\n"
          ]
        }
      ]
    },
    {
      "cell_type": "markdown",
      "metadata": {
        "id": "qIgEOJqquOLg"
      },
      "source": [
        "## Save Pretrained Model and Tokenizer"
      ]
    },
    {
      "cell_type": "code",
      "execution_count": 81,
      "metadata": {
        "colab": {
          "base_uri": "https://localhost:8080/"
        },
        "id": "tbBkqaqweOZT",
        "outputId": "2c7ba5c3-a19b-4560-f9a1-9fffeb448fdc"
      },
      "outputs": [
        {
          "output_type": "execute_result",
          "data": {
            "text/plain": [
              "('qg_model/tokenizer_config.json',\n",
              " 'qg_model/special_tokens_map.json',\n",
              " 'qg_model/spiece.model',\n",
              " 'qg_model/added_tokens.json')"
            ]
          },
          "metadata": {},
          "execution_count": 81
        }
      ],
      "source": [
        "t5_model.save_pretrained(\"qg_model\")\n",
        "tokenizer.save_pretrained(\"qg_model\")"
      ]
    }
  ],
  "metadata": {
    "colab": {
      "provenance": [],
      "gpuType": "T4"
    },
    "kernelspec": {
      "display_name": "Python 3",
      "name": "python3"
    },
    "language_info": {
      "name": "python"
    },
    "widgets": {
      "application/vnd.jupyter.widget-state+json": {
        "6d9d6d23f0b9484088c863a1c076738d": {
          "model_module": "@jupyter-widgets/controls",
          "model_name": "HBoxModel",
          "model_module_version": "1.5.0",
          "state": {
            "_dom_classes": [],
            "_model_module": "@jupyter-widgets/controls",
            "_model_module_version": "1.5.0",
            "_model_name": "HBoxModel",
            "_view_count": null,
            "_view_module": "@jupyter-widgets/controls",
            "_view_module_version": "1.5.0",
            "_view_name": "HBoxView",
            "box_style": "",
            "children": [
              "IPY_MODEL_f05389aae3b24c698537eca30463161c",
              "IPY_MODEL_672d3a87791d4bbdaf9426e5107c8c5d",
              "IPY_MODEL_35b50b6a99f64e50b7c5fbad847fcfa5"
            ],
            "layout": "IPY_MODEL_28d020f0804b405d95725a44adfcbd4a"
          }
        },
        "f05389aae3b24c698537eca30463161c": {
          "model_module": "@jupyter-widgets/controls",
          "model_name": "HTMLModel",
          "model_module_version": "1.5.0",
          "state": {
            "_dom_classes": [],
            "_model_module": "@jupyter-widgets/controls",
            "_model_module_version": "1.5.0",
            "_model_name": "HTMLModel",
            "_view_count": null,
            "_view_module": "@jupyter-widgets/controls",
            "_view_module_version": "1.5.0",
            "_view_name": "HTMLView",
            "description": "",
            "description_tooltip": null,
            "layout": "IPY_MODEL_8c1957339b714acaa5a5ad4b37713c12",
            "placeholder": "​",
            "style": "IPY_MODEL_b280fe92f1474dbc971b2c441bc99789",
            "value": "Map: 100%"
          }
        },
        "672d3a87791d4bbdaf9426e5107c8c5d": {
          "model_module": "@jupyter-widgets/controls",
          "model_name": "FloatProgressModel",
          "model_module_version": "1.5.0",
          "state": {
            "_dom_classes": [],
            "_model_module": "@jupyter-widgets/controls",
            "_model_module_version": "1.5.0",
            "_model_name": "FloatProgressModel",
            "_view_count": null,
            "_view_module": "@jupyter-widgets/controls",
            "_view_module_version": "1.5.0",
            "_view_name": "ProgressView",
            "bar_style": "success",
            "description": "",
            "description_tooltip": null,
            "layout": "IPY_MODEL_66fa8dc11197405caa78190bc2bd3f49",
            "max": 1600,
            "min": 0,
            "orientation": "horizontal",
            "style": "IPY_MODEL_a047abdb027a4ff4af5e6aab44445651",
            "value": 1600
          }
        },
        "35b50b6a99f64e50b7c5fbad847fcfa5": {
          "model_module": "@jupyter-widgets/controls",
          "model_name": "HTMLModel",
          "model_module_version": "1.5.0",
          "state": {
            "_dom_classes": [],
            "_model_module": "@jupyter-widgets/controls",
            "_model_module_version": "1.5.0",
            "_model_name": "HTMLModel",
            "_view_count": null,
            "_view_module": "@jupyter-widgets/controls",
            "_view_module_version": "1.5.0",
            "_view_name": "HTMLView",
            "description": "",
            "description_tooltip": null,
            "layout": "IPY_MODEL_faec33e5e5f143a38c80efb4df23f303",
            "placeholder": "​",
            "style": "IPY_MODEL_e5024ef06cf6409b9b35aaf042b1a976",
            "value": " 1600/1600 [00:03&lt;00:00, 340.65 examples/s]"
          }
        },
        "28d020f0804b405d95725a44adfcbd4a": {
          "model_module": "@jupyter-widgets/base",
          "model_name": "LayoutModel",
          "model_module_version": "1.2.0",
          "state": {
            "_model_module": "@jupyter-widgets/base",
            "_model_module_version": "1.2.0",
            "_model_name": "LayoutModel",
            "_view_count": null,
            "_view_module": "@jupyter-widgets/base",
            "_view_module_version": "1.2.0",
            "_view_name": "LayoutView",
            "align_content": null,
            "align_items": null,
            "align_self": null,
            "border": null,
            "bottom": null,
            "display": null,
            "flex": null,
            "flex_flow": null,
            "grid_area": null,
            "grid_auto_columns": null,
            "grid_auto_flow": null,
            "grid_auto_rows": null,
            "grid_column": null,
            "grid_gap": null,
            "grid_row": null,
            "grid_template_areas": null,
            "grid_template_columns": null,
            "grid_template_rows": null,
            "height": null,
            "justify_content": null,
            "justify_items": null,
            "left": null,
            "margin": null,
            "max_height": null,
            "max_width": null,
            "min_height": null,
            "min_width": null,
            "object_fit": null,
            "object_position": null,
            "order": null,
            "overflow": null,
            "overflow_x": null,
            "overflow_y": null,
            "padding": null,
            "right": null,
            "top": null,
            "visibility": null,
            "width": null
          }
        },
        "8c1957339b714acaa5a5ad4b37713c12": {
          "model_module": "@jupyter-widgets/base",
          "model_name": "LayoutModel",
          "model_module_version": "1.2.0",
          "state": {
            "_model_module": "@jupyter-widgets/base",
            "_model_module_version": "1.2.0",
            "_model_name": "LayoutModel",
            "_view_count": null,
            "_view_module": "@jupyter-widgets/base",
            "_view_module_version": "1.2.0",
            "_view_name": "LayoutView",
            "align_content": null,
            "align_items": null,
            "align_self": null,
            "border": null,
            "bottom": null,
            "display": null,
            "flex": null,
            "flex_flow": null,
            "grid_area": null,
            "grid_auto_columns": null,
            "grid_auto_flow": null,
            "grid_auto_rows": null,
            "grid_column": null,
            "grid_gap": null,
            "grid_row": null,
            "grid_template_areas": null,
            "grid_template_columns": null,
            "grid_template_rows": null,
            "height": null,
            "justify_content": null,
            "justify_items": null,
            "left": null,
            "margin": null,
            "max_height": null,
            "max_width": null,
            "min_height": null,
            "min_width": null,
            "object_fit": null,
            "object_position": null,
            "order": null,
            "overflow": null,
            "overflow_x": null,
            "overflow_y": null,
            "padding": null,
            "right": null,
            "top": null,
            "visibility": null,
            "width": null
          }
        },
        "b280fe92f1474dbc971b2c441bc99789": {
          "model_module": "@jupyter-widgets/controls",
          "model_name": "DescriptionStyleModel",
          "model_module_version": "1.5.0",
          "state": {
            "_model_module": "@jupyter-widgets/controls",
            "_model_module_version": "1.5.0",
            "_model_name": "DescriptionStyleModel",
            "_view_count": null,
            "_view_module": "@jupyter-widgets/base",
            "_view_module_version": "1.2.0",
            "_view_name": "StyleView",
            "description_width": ""
          }
        },
        "66fa8dc11197405caa78190bc2bd3f49": {
          "model_module": "@jupyter-widgets/base",
          "model_name": "LayoutModel",
          "model_module_version": "1.2.0",
          "state": {
            "_model_module": "@jupyter-widgets/base",
            "_model_module_version": "1.2.0",
            "_model_name": "LayoutModel",
            "_view_count": null,
            "_view_module": "@jupyter-widgets/base",
            "_view_module_version": "1.2.0",
            "_view_name": "LayoutView",
            "align_content": null,
            "align_items": null,
            "align_self": null,
            "border": null,
            "bottom": null,
            "display": null,
            "flex": null,
            "flex_flow": null,
            "grid_area": null,
            "grid_auto_columns": null,
            "grid_auto_flow": null,
            "grid_auto_rows": null,
            "grid_column": null,
            "grid_gap": null,
            "grid_row": null,
            "grid_template_areas": null,
            "grid_template_columns": null,
            "grid_template_rows": null,
            "height": null,
            "justify_content": null,
            "justify_items": null,
            "left": null,
            "margin": null,
            "max_height": null,
            "max_width": null,
            "min_height": null,
            "min_width": null,
            "object_fit": null,
            "object_position": null,
            "order": null,
            "overflow": null,
            "overflow_x": null,
            "overflow_y": null,
            "padding": null,
            "right": null,
            "top": null,
            "visibility": null,
            "width": null
          }
        },
        "a047abdb027a4ff4af5e6aab44445651": {
          "model_module": "@jupyter-widgets/controls",
          "model_name": "ProgressStyleModel",
          "model_module_version": "1.5.0",
          "state": {
            "_model_module": "@jupyter-widgets/controls",
            "_model_module_version": "1.5.0",
            "_model_name": "ProgressStyleModel",
            "_view_count": null,
            "_view_module": "@jupyter-widgets/base",
            "_view_module_version": "1.2.0",
            "_view_name": "StyleView",
            "bar_color": null,
            "description_width": ""
          }
        },
        "faec33e5e5f143a38c80efb4df23f303": {
          "model_module": "@jupyter-widgets/base",
          "model_name": "LayoutModel",
          "model_module_version": "1.2.0",
          "state": {
            "_model_module": "@jupyter-widgets/base",
            "_model_module_version": "1.2.0",
            "_model_name": "LayoutModel",
            "_view_count": null,
            "_view_module": "@jupyter-widgets/base",
            "_view_module_version": "1.2.0",
            "_view_name": "LayoutView",
            "align_content": null,
            "align_items": null,
            "align_self": null,
            "border": null,
            "bottom": null,
            "display": null,
            "flex": null,
            "flex_flow": null,
            "grid_area": null,
            "grid_auto_columns": null,
            "grid_auto_flow": null,
            "grid_auto_rows": null,
            "grid_column": null,
            "grid_gap": null,
            "grid_row": null,
            "grid_template_areas": null,
            "grid_template_columns": null,
            "grid_template_rows": null,
            "height": null,
            "justify_content": null,
            "justify_items": null,
            "left": null,
            "margin": null,
            "max_height": null,
            "max_width": null,
            "min_height": null,
            "min_width": null,
            "object_fit": null,
            "object_position": null,
            "order": null,
            "overflow": null,
            "overflow_x": null,
            "overflow_y": null,
            "padding": null,
            "right": null,
            "top": null,
            "visibility": null,
            "width": null
          }
        },
        "e5024ef06cf6409b9b35aaf042b1a976": {
          "model_module": "@jupyter-widgets/controls",
          "model_name": "DescriptionStyleModel",
          "model_module_version": "1.5.0",
          "state": {
            "_model_module": "@jupyter-widgets/controls",
            "_model_module_version": "1.5.0",
            "_model_name": "DescriptionStyleModel",
            "_view_count": null,
            "_view_module": "@jupyter-widgets/base",
            "_view_module_version": "1.2.0",
            "_view_name": "StyleView",
            "description_width": ""
          }
        },
        "d2fcd926338a41a4a613e665458bab08": {
          "model_module": "@jupyter-widgets/controls",
          "model_name": "HBoxModel",
          "model_module_version": "1.5.0",
          "state": {
            "_dom_classes": [],
            "_model_module": "@jupyter-widgets/controls",
            "_model_module_version": "1.5.0",
            "_model_name": "HBoxModel",
            "_view_count": null,
            "_view_module": "@jupyter-widgets/controls",
            "_view_module_version": "1.5.0",
            "_view_name": "HBoxView",
            "box_style": "",
            "children": [
              "IPY_MODEL_98bf8cfca0db425da659d89dfec178ce",
              "IPY_MODEL_96fffe29dd3d4ad9badd10e3b10a08d5",
              "IPY_MODEL_2cad095dfa224df393e22a9128d75017"
            ],
            "layout": "IPY_MODEL_70faf87ebafa4423aba71f85b1d8fc24"
          }
        },
        "98bf8cfca0db425da659d89dfec178ce": {
          "model_module": "@jupyter-widgets/controls",
          "model_name": "HTMLModel",
          "model_module_version": "1.5.0",
          "state": {
            "_dom_classes": [],
            "_model_module": "@jupyter-widgets/controls",
            "_model_module_version": "1.5.0",
            "_model_name": "HTMLModel",
            "_view_count": null,
            "_view_module": "@jupyter-widgets/controls",
            "_view_module_version": "1.5.0",
            "_view_name": "HTMLView",
            "description": "",
            "description_tooltip": null,
            "layout": "IPY_MODEL_da321fabf99c44c2b3da1dfca4915291",
            "placeholder": "​",
            "style": "IPY_MODEL_4aa66b10942f4496aa486fccbe7dd9fb",
            "value": "Map: 100%"
          }
        },
        "96fffe29dd3d4ad9badd10e3b10a08d5": {
          "model_module": "@jupyter-widgets/controls",
          "model_name": "FloatProgressModel",
          "model_module_version": "1.5.0",
          "state": {
            "_dom_classes": [],
            "_model_module": "@jupyter-widgets/controls",
            "_model_module_version": "1.5.0",
            "_model_name": "FloatProgressModel",
            "_view_count": null,
            "_view_module": "@jupyter-widgets/controls",
            "_view_module_version": "1.5.0",
            "_view_name": "ProgressView",
            "bar_style": "success",
            "description": "",
            "description_tooltip": null,
            "layout": "IPY_MODEL_74c19486d9be433390af4cf16b056412",
            "max": 400,
            "min": 0,
            "orientation": "horizontal",
            "style": "IPY_MODEL_ec3e97bfc047439d9e1d4a03899c1e24",
            "value": 400
          }
        },
        "2cad095dfa224df393e22a9128d75017": {
          "model_module": "@jupyter-widgets/controls",
          "model_name": "HTMLModel",
          "model_module_version": "1.5.0",
          "state": {
            "_dom_classes": [],
            "_model_module": "@jupyter-widgets/controls",
            "_model_module_version": "1.5.0",
            "_model_name": "HTMLModel",
            "_view_count": null,
            "_view_module": "@jupyter-widgets/controls",
            "_view_module_version": "1.5.0",
            "_view_name": "HTMLView",
            "description": "",
            "description_tooltip": null,
            "layout": "IPY_MODEL_ce9c3e8fa8d2406483a886413fd0b8c7",
            "placeholder": "​",
            "style": "IPY_MODEL_544175e17e444f08b6165a1bcfd5f4aa",
            "value": " 400/400 [00:00&lt;00:00, 750.38 examples/s]"
          }
        },
        "70faf87ebafa4423aba71f85b1d8fc24": {
          "model_module": "@jupyter-widgets/base",
          "model_name": "LayoutModel",
          "model_module_version": "1.2.0",
          "state": {
            "_model_module": "@jupyter-widgets/base",
            "_model_module_version": "1.2.0",
            "_model_name": "LayoutModel",
            "_view_count": null,
            "_view_module": "@jupyter-widgets/base",
            "_view_module_version": "1.2.0",
            "_view_name": "LayoutView",
            "align_content": null,
            "align_items": null,
            "align_self": null,
            "border": null,
            "bottom": null,
            "display": null,
            "flex": null,
            "flex_flow": null,
            "grid_area": null,
            "grid_auto_columns": null,
            "grid_auto_flow": null,
            "grid_auto_rows": null,
            "grid_column": null,
            "grid_gap": null,
            "grid_row": null,
            "grid_template_areas": null,
            "grid_template_columns": null,
            "grid_template_rows": null,
            "height": null,
            "justify_content": null,
            "justify_items": null,
            "left": null,
            "margin": null,
            "max_height": null,
            "max_width": null,
            "min_height": null,
            "min_width": null,
            "object_fit": null,
            "object_position": null,
            "order": null,
            "overflow": null,
            "overflow_x": null,
            "overflow_y": null,
            "padding": null,
            "right": null,
            "top": null,
            "visibility": null,
            "width": null
          }
        },
        "da321fabf99c44c2b3da1dfca4915291": {
          "model_module": "@jupyter-widgets/base",
          "model_name": "LayoutModel",
          "model_module_version": "1.2.0",
          "state": {
            "_model_module": "@jupyter-widgets/base",
            "_model_module_version": "1.2.0",
            "_model_name": "LayoutModel",
            "_view_count": null,
            "_view_module": "@jupyter-widgets/base",
            "_view_module_version": "1.2.0",
            "_view_name": "LayoutView",
            "align_content": null,
            "align_items": null,
            "align_self": null,
            "border": null,
            "bottom": null,
            "display": null,
            "flex": null,
            "flex_flow": null,
            "grid_area": null,
            "grid_auto_columns": null,
            "grid_auto_flow": null,
            "grid_auto_rows": null,
            "grid_column": null,
            "grid_gap": null,
            "grid_row": null,
            "grid_template_areas": null,
            "grid_template_columns": null,
            "grid_template_rows": null,
            "height": null,
            "justify_content": null,
            "justify_items": null,
            "left": null,
            "margin": null,
            "max_height": null,
            "max_width": null,
            "min_height": null,
            "min_width": null,
            "object_fit": null,
            "object_position": null,
            "order": null,
            "overflow": null,
            "overflow_x": null,
            "overflow_y": null,
            "padding": null,
            "right": null,
            "top": null,
            "visibility": null,
            "width": null
          }
        },
        "4aa66b10942f4496aa486fccbe7dd9fb": {
          "model_module": "@jupyter-widgets/controls",
          "model_name": "DescriptionStyleModel",
          "model_module_version": "1.5.0",
          "state": {
            "_model_module": "@jupyter-widgets/controls",
            "_model_module_version": "1.5.0",
            "_model_name": "DescriptionStyleModel",
            "_view_count": null,
            "_view_module": "@jupyter-widgets/base",
            "_view_module_version": "1.2.0",
            "_view_name": "StyleView",
            "description_width": ""
          }
        },
        "74c19486d9be433390af4cf16b056412": {
          "model_module": "@jupyter-widgets/base",
          "model_name": "LayoutModel",
          "model_module_version": "1.2.0",
          "state": {
            "_model_module": "@jupyter-widgets/base",
            "_model_module_version": "1.2.0",
            "_model_name": "LayoutModel",
            "_view_count": null,
            "_view_module": "@jupyter-widgets/base",
            "_view_module_version": "1.2.0",
            "_view_name": "LayoutView",
            "align_content": null,
            "align_items": null,
            "align_self": null,
            "border": null,
            "bottom": null,
            "display": null,
            "flex": null,
            "flex_flow": null,
            "grid_area": null,
            "grid_auto_columns": null,
            "grid_auto_flow": null,
            "grid_auto_rows": null,
            "grid_column": null,
            "grid_gap": null,
            "grid_row": null,
            "grid_template_areas": null,
            "grid_template_columns": null,
            "grid_template_rows": null,
            "height": null,
            "justify_content": null,
            "justify_items": null,
            "left": null,
            "margin": null,
            "max_height": null,
            "max_width": null,
            "min_height": null,
            "min_width": null,
            "object_fit": null,
            "object_position": null,
            "order": null,
            "overflow": null,
            "overflow_x": null,
            "overflow_y": null,
            "padding": null,
            "right": null,
            "top": null,
            "visibility": null,
            "width": null
          }
        },
        "ec3e97bfc047439d9e1d4a03899c1e24": {
          "model_module": "@jupyter-widgets/controls",
          "model_name": "ProgressStyleModel",
          "model_module_version": "1.5.0",
          "state": {
            "_model_module": "@jupyter-widgets/controls",
            "_model_module_version": "1.5.0",
            "_model_name": "ProgressStyleModel",
            "_view_count": null,
            "_view_module": "@jupyter-widgets/base",
            "_view_module_version": "1.2.0",
            "_view_name": "StyleView",
            "bar_color": null,
            "description_width": ""
          }
        },
        "ce9c3e8fa8d2406483a886413fd0b8c7": {
          "model_module": "@jupyter-widgets/base",
          "model_name": "LayoutModel",
          "model_module_version": "1.2.0",
          "state": {
            "_model_module": "@jupyter-widgets/base",
            "_model_module_version": "1.2.0",
            "_model_name": "LayoutModel",
            "_view_count": null,
            "_view_module": "@jupyter-widgets/base",
            "_view_module_version": "1.2.0",
            "_view_name": "LayoutView",
            "align_content": null,
            "align_items": null,
            "align_self": null,
            "border": null,
            "bottom": null,
            "display": null,
            "flex": null,
            "flex_flow": null,
            "grid_area": null,
            "grid_auto_columns": null,
            "grid_auto_flow": null,
            "grid_auto_rows": null,
            "grid_column": null,
            "grid_gap": null,
            "grid_row": null,
            "grid_template_areas": null,
            "grid_template_columns": null,
            "grid_template_rows": null,
            "height": null,
            "justify_content": null,
            "justify_items": null,
            "left": null,
            "margin": null,
            "max_height": null,
            "max_width": null,
            "min_height": null,
            "min_width": null,
            "object_fit": null,
            "object_position": null,
            "order": null,
            "overflow": null,
            "overflow_x": null,
            "overflow_y": null,
            "padding": null,
            "right": null,
            "top": null,
            "visibility": null,
            "width": null
          }
        },
        "544175e17e444f08b6165a1bcfd5f4aa": {
          "model_module": "@jupyter-widgets/controls",
          "model_name": "DescriptionStyleModel",
          "model_module_version": "1.5.0",
          "state": {
            "_model_module": "@jupyter-widgets/controls",
            "_model_module_version": "1.5.0",
            "_model_name": "DescriptionStyleModel",
            "_view_count": null,
            "_view_module": "@jupyter-widgets/base",
            "_view_module_version": "1.2.0",
            "_view_name": "StyleView",
            "description_width": ""
          }
        }
      }
    },
    "accelerator": "GPU"
  },
  "nbformat": 4,
  "nbformat_minor": 0
}