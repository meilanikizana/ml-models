{
  "cells": [
    {
      "cell_type": "markdown",
      "metadata": {
        "id": "wAr5azfEqaty"
      },
      "source": [
        "# Question Generator (QG) Model Using HuggingFace T5"
      ]
    },
    {
      "cell_type": "markdown",
      "metadata": {
        "id": "bluzWYavqn6t"
      },
      "source": [
        "## Install and Import Needed Library"
      ]
    },
    {
      "cell_type": "code",
      "execution_count": null,
      "metadata": {
        "colab": {
          "base_uri": "https://localhost:8080/"
        },
        "id": "yr9nPpVE2KJA",
        "outputId": "c08bbe88-80bb-4995-eff3-71dffb85e4cb"
      },
      "outputs": [
        {
          "name": "stdout",
          "output_type": "stream",
          "text": [
            "Requirement already satisfied: transformers in /usr/local/lib/python3.11/dist-packages (4.52.2)\n",
            "Requirement already satisfied: datasets in /usr/local/lib/python3.11/dist-packages (2.14.4)\n",
            "Requirement already satisfied: sentencepiece in /usr/local/lib/python3.11/dist-packages (0.2.0)\n",
            "Requirement already satisfied: filelock in /usr/local/lib/python3.11/dist-packages (from transformers) (3.18.0)\n",
            "Requirement already satisfied: huggingface-hub<1.0,>=0.30.0 in /usr/local/lib/python3.11/dist-packages (from transformers) (0.31.4)\n",
            "Requirement already satisfied: numpy>=1.17 in /usr/local/lib/python3.11/dist-packages (from transformers) (2.0.2)\n",
            "Requirement already satisfied: packaging>=20.0 in /usr/local/lib/python3.11/dist-packages (from transformers) (24.2)\n",
            "Requirement already satisfied: pyyaml>=5.1 in /usr/local/lib/python3.11/dist-packages (from transformers) (6.0.2)\n",
            "Requirement already satisfied: regex!=2019.12.17 in /usr/local/lib/python3.11/dist-packages (from transformers) (2024.11.6)\n",
            "Requirement already satisfied: requests in /usr/local/lib/python3.11/dist-packages (from transformers) (2.32.3)\n",
            "Requirement already satisfied: tokenizers<0.22,>=0.21 in /usr/local/lib/python3.11/dist-packages (from transformers) (0.21.1)\n",
            "Requirement already satisfied: safetensors>=0.4.3 in /usr/local/lib/python3.11/dist-packages (from transformers) (0.5.3)\n",
            "Requirement already satisfied: tqdm>=4.27 in /usr/local/lib/python3.11/dist-packages (from transformers) (4.67.1)\n",
            "Requirement already satisfied: pyarrow>=8.0.0 in /usr/local/lib/python3.11/dist-packages (from datasets) (18.1.0)\n",
            "Requirement already satisfied: dill<0.3.8,>=0.3.0 in /usr/local/lib/python3.11/dist-packages (from datasets) (0.3.7)\n",
            "Requirement already satisfied: pandas in /usr/local/lib/python3.11/dist-packages (from datasets) (2.2.2)\n",
            "Requirement already satisfied: xxhash in /usr/local/lib/python3.11/dist-packages (from datasets) (3.5.0)\n",
            "Requirement already satisfied: multiprocess in /usr/local/lib/python3.11/dist-packages (from datasets) (0.70.15)\n",
            "Requirement already satisfied: fsspec>=2021.11.1 in /usr/local/lib/python3.11/dist-packages (from fsspec[http]>=2021.11.1->datasets) (2025.3.2)\n",
            "Requirement already satisfied: aiohttp in /usr/local/lib/python3.11/dist-packages (from datasets) (3.11.15)\n",
            "Requirement already satisfied: aiohappyeyeballs>=2.3.0 in /usr/local/lib/python3.11/dist-packages (from aiohttp->datasets) (2.6.1)\n",
            "Requirement already satisfied: aiosignal>=1.1.2 in /usr/local/lib/python3.11/dist-packages (from aiohttp->datasets) (1.3.2)\n",
            "Requirement already satisfied: attrs>=17.3.0 in /usr/local/lib/python3.11/dist-packages (from aiohttp->datasets) (25.3.0)\n",
            "Requirement already satisfied: frozenlist>=1.1.1 in /usr/local/lib/python3.11/dist-packages (from aiohttp->datasets) (1.6.0)\n",
            "Requirement already satisfied: multidict<7.0,>=4.5 in /usr/local/lib/python3.11/dist-packages (from aiohttp->datasets) (6.4.4)\n",
            "Requirement already satisfied: propcache>=0.2.0 in /usr/local/lib/python3.11/dist-packages (from aiohttp->datasets) (0.3.1)\n",
            "Requirement already satisfied: yarl<2.0,>=1.17.0 in /usr/local/lib/python3.11/dist-packages (from aiohttp->datasets) (1.20.0)\n",
            "Requirement already satisfied: typing-extensions>=3.7.4.3 in /usr/local/lib/python3.11/dist-packages (from huggingface-hub<1.0,>=0.30.0->transformers) (4.13.2)\n",
            "Requirement already satisfied: charset-normalizer<4,>=2 in /usr/local/lib/python3.11/dist-packages (from requests->transformers) (3.4.2)\n",
            "Requirement already satisfied: idna<4,>=2.5 in /usr/local/lib/python3.11/dist-packages (from requests->transformers) (3.10)\n",
            "Requirement already satisfied: urllib3<3,>=1.21.1 in /usr/local/lib/python3.11/dist-packages (from requests->transformers) (2.4.0)\n",
            "Requirement already satisfied: certifi>=2017.4.17 in /usr/local/lib/python3.11/dist-packages (from requests->transformers) (2025.4.26)\n",
            "Requirement already satisfied: python-dateutil>=2.8.2 in /usr/local/lib/python3.11/dist-packages (from pandas->datasets) (2.9.0.post0)\n",
            "Requirement already satisfied: pytz>=2020.1 in /usr/local/lib/python3.11/dist-packages (from pandas->datasets) (2025.2)\n",
            "Requirement already satisfied: tzdata>=2022.7 in /usr/local/lib/python3.11/dist-packages (from pandas->datasets) (2025.2)\n",
            "Requirement already satisfied: six>=1.5 in /usr/local/lib/python3.11/dist-packages (from python-dateutil>=2.8.2->pandas->datasets) (1.17.0)\n"
          ]
        }
      ],
      "source": [
        "!pip install transformers datasets sentencepiece"
      ]
    },
    {
      "cell_type": "code",
      "execution_count": null,
      "metadata": {
        "colab": {
          "base_uri": "https://localhost:8080/"
        },
        "id": "cqDMjc7hvEos",
        "outputId": "ef22e6c2-72d0-44b4-e44c-d204ece919ab"
      },
      "outputs": [
        {
          "name": "stdout",
          "output_type": "stream",
          "text": [
            "Requirement already satisfied: transformers in /usr/local/lib/python3.11/dist-packages (4.52.2)\n",
            "Collecting seqeval\n",
            "  Downloading seqeval-1.2.2.tar.gz (43 kB)\n",
            "\u001b[2K     \u001b[90m━━━━━━━━━━━━━━━━━━━━━━━━━━━━━━━━━━━━━━━━\u001b[0m \u001b[32m43.6/43.6 kB\u001b[0m \u001b[31m2.0 MB/s\u001b[0m eta \u001b[36m0:00:00\u001b[0m\n",
            "\u001b[?25h  Preparing metadata (setup.py) ... \u001b[?25l\u001b[?25hdone\n",
            "Requirement already satisfied: filelock in /usr/local/lib/python3.11/dist-packages (from transformers) (3.18.0)\n",
            "Requirement already satisfied: huggingface-hub<1.0,>=0.30.0 in /usr/local/lib/python3.11/dist-packages (from transformers) (0.31.4)\n",
            "Requirement already satisfied: numpy>=1.17 in /usr/local/lib/python3.11/dist-packages (from transformers) (2.0.2)\n",
            "Requirement already satisfied: packaging>=20.0 in /usr/local/lib/python3.11/dist-packages (from transformers) (24.2)\n",
            "Requirement already satisfied: pyyaml>=5.1 in /usr/local/lib/python3.11/dist-packages (from transformers) (6.0.2)\n",
            "Requirement already satisfied: regex!=2019.12.17 in /usr/local/lib/python3.11/dist-packages (from transformers) (2024.11.6)\n",
            "Requirement already satisfied: requests in /usr/local/lib/python3.11/dist-packages (from transformers) (2.32.3)\n",
            "Requirement already satisfied: tokenizers<0.22,>=0.21 in /usr/local/lib/python3.11/dist-packages (from transformers) (0.21.1)\n",
            "Requirement already satisfied: safetensors>=0.4.3 in /usr/local/lib/python3.11/dist-packages (from transformers) (0.5.3)\n",
            "Requirement already satisfied: tqdm>=4.27 in /usr/local/lib/python3.11/dist-packages (from transformers) (4.67.1)\n",
            "Requirement already satisfied: scikit-learn>=0.21.3 in /usr/local/lib/python3.11/dist-packages (from seqeval) (1.6.1)\n",
            "Requirement already satisfied: fsspec>=2023.5.0 in /usr/local/lib/python3.11/dist-packages (from huggingface-hub<1.0,>=0.30.0->transformers) (2025.3.2)\n",
            "Requirement already satisfied: typing-extensions>=3.7.4.3 in /usr/local/lib/python3.11/dist-packages (from huggingface-hub<1.0,>=0.30.0->transformers) (4.13.2)\n",
            "Requirement already satisfied: scipy>=1.6.0 in /usr/local/lib/python3.11/dist-packages (from scikit-learn>=0.21.3->seqeval) (1.15.3)\n",
            "Requirement already satisfied: joblib>=1.2.0 in /usr/local/lib/python3.11/dist-packages (from scikit-learn>=0.21.3->seqeval) (1.5.0)\n",
            "Requirement already satisfied: threadpoolctl>=3.1.0 in /usr/local/lib/python3.11/dist-packages (from scikit-learn>=0.21.3->seqeval) (3.6.0)\n",
            "Requirement already satisfied: charset-normalizer<4,>=2 in /usr/local/lib/python3.11/dist-packages (from requests->transformers) (3.4.2)\n",
            "Requirement already satisfied: idna<4,>=2.5 in /usr/local/lib/python3.11/dist-packages (from requests->transformers) (3.10)\n",
            "Requirement already satisfied: urllib3<3,>=1.21.1 in /usr/local/lib/python3.11/dist-packages (from requests->transformers) (2.4.0)\n",
            "Requirement already satisfied: certifi>=2017.4.17 in /usr/local/lib/python3.11/dist-packages (from requests->transformers) (2025.4.26)\n",
            "Building wheels for collected packages: seqeval\n",
            "  Building wheel for seqeval (setup.py) ... \u001b[?25l\u001b[?25hdone\n",
            "  Created wheel for seqeval: filename=seqeval-1.2.2-py3-none-any.whl size=16162 sha256=806845b3c46655f96a8b89d10fb6255a6033e511b644b87017646ee65df3d28e\n",
            "  Stored in directory: /root/.cache/pip/wheels/bc/92/f0/243288f899c2eacdfa8c5f9aede4c71a9bad0ee26a01dc5ead\n",
            "Successfully built seqeval\n",
            "Installing collected packages: seqeval\n",
            "Successfully installed seqeval-1.2.2\n"
          ]
        }
      ],
      "source": [
        "!pip install transformers seqeval"
      ]
    },
    {
      "cell_type": "code",
      "execution_count": 2,
      "metadata": {
        "colab": {
          "base_uri": "https://localhost:8080/"
        },
        "id": "1rEGfngDMG8V",
        "outputId": "b5f92350-daf3-47ee-e197-329a5cae6477"
      },
      "outputs": [
        {
          "output_type": "stream",
          "name": "stdout",
          "text": [
            "Collecting rouge-score\n",
            "  Downloading rouge_score-0.1.2.tar.gz (17 kB)\n",
            "  Preparing metadata (setup.py) ... \u001b[?25l\u001b[?25hdone\n",
            "Requirement already satisfied: absl-py in /usr/local/lib/python3.11/dist-packages (from rouge-score) (1.4.0)\n",
            "Requirement already satisfied: nltk in /usr/local/lib/python3.11/dist-packages (from rouge-score) (3.9.1)\n",
            "Requirement already satisfied: numpy in /usr/local/lib/python3.11/dist-packages (from rouge-score) (2.0.2)\n",
            "Requirement already satisfied: six>=1.14.0 in /usr/local/lib/python3.11/dist-packages (from rouge-score) (1.17.0)\n",
            "Requirement already satisfied: click in /usr/local/lib/python3.11/dist-packages (from nltk->rouge-score) (8.2.1)\n",
            "Requirement already satisfied: joblib in /usr/local/lib/python3.11/dist-packages (from nltk->rouge-score) (1.5.1)\n",
            "Requirement already satisfied: regex>=2021.8.3 in /usr/local/lib/python3.11/dist-packages (from nltk->rouge-score) (2024.11.6)\n",
            "Requirement already satisfied: tqdm in /usr/local/lib/python3.11/dist-packages (from nltk->rouge-score) (4.67.1)\n",
            "Building wheels for collected packages: rouge-score\n",
            "  Building wheel for rouge-score (setup.py) ... \u001b[?25l\u001b[?25hdone\n",
            "  Created wheel for rouge-score: filename=rouge_score-0.1.2-py3-none-any.whl size=24934 sha256=e1346d2080fc6469f5da7a8819631ab024523637d89506228c49e204a5805495\n",
            "  Stored in directory: /root/.cache/pip/wheels/1e/19/43/8a442dc83660ca25e163e1bd1f89919284ab0d0c1475475148\n",
            "Successfully built rouge-score\n",
            "Installing collected packages: rouge-score\n",
            "Successfully installed rouge-score-0.1.2\n"
          ]
        }
      ],
      "source": [
        "!pip install rouge-score"
      ]
    },
    {
      "cell_type": "code",
      "execution_count": 3,
      "metadata": {
        "id": "pfBskCJn3tJu"
      },
      "outputs": [],
      "source": [
        "from google.colab import files\n",
        "import pandas as pd\n",
        "import random\n",
        "from datasets import Dataset\n",
        "import torch\n",
        "import re\n",
        "from transformers import T5Tokenizer, T5ForConditionalGeneration, TrainingArguments, Trainer\n",
        "from transformers import AutoTokenizer, AutoModelForTokenClassification, pipeline\n",
        "from rouge_score import rouge_scorer"
      ]
    },
    {
      "cell_type": "markdown",
      "metadata": {
        "id": "HxF-pWQfrIAI"
      },
      "source": [
        "## Data Loading"
      ]
    },
    {
      "cell_type": "code",
      "execution_count": 4,
      "metadata": {
        "colab": {
          "base_uri": "https://localhost:8080/",
          "height": 90
        },
        "id": "i_4SOyYy3v2f",
        "outputId": "956d85b2-5b1d-4c40-a170-4e9f6c35f5bf"
      },
      "outputs": [
        {
          "output_type": "display_data",
          "data": {
            "text/plain": [
              "<IPython.core.display.HTML object>"
            ],
            "text/html": [
              "\n",
              "     <input type=\"file\" id=\"files-9a083863-2c09-465d-bfb2-6b6321e9efc2\" name=\"files[]\" multiple disabled\n",
              "        style=\"border:none\" />\n",
              "     <output id=\"result-9a083863-2c09-465d-bfb2-6b6321e9efc2\">\n",
              "      Upload widget is only available when the cell has been executed in the\n",
              "      current browser session. Please rerun this cell to enable.\n",
              "      </output>\n",
              "      <script>// Copyright 2017 Google LLC\n",
              "//\n",
              "// Licensed under the Apache License, Version 2.0 (the \"License\");\n",
              "// you may not use this file except in compliance with the License.\n",
              "// You may obtain a copy of the License at\n",
              "//\n",
              "//      http://www.apache.org/licenses/LICENSE-2.0\n",
              "//\n",
              "// Unless required by applicable law or agreed to in writing, software\n",
              "// distributed under the License is distributed on an \"AS IS\" BASIS,\n",
              "// WITHOUT WARRANTIES OR CONDITIONS OF ANY KIND, either express or implied.\n",
              "// See the License for the specific language governing permissions and\n",
              "// limitations under the License.\n",
              "\n",
              "/**\n",
              " * @fileoverview Helpers for google.colab Python module.\n",
              " */\n",
              "(function(scope) {\n",
              "function span(text, styleAttributes = {}) {\n",
              "  const element = document.createElement('span');\n",
              "  element.textContent = text;\n",
              "  for (const key of Object.keys(styleAttributes)) {\n",
              "    element.style[key] = styleAttributes[key];\n",
              "  }\n",
              "  return element;\n",
              "}\n",
              "\n",
              "// Max number of bytes which will be uploaded at a time.\n",
              "const MAX_PAYLOAD_SIZE = 100 * 1024;\n",
              "\n",
              "function _uploadFiles(inputId, outputId) {\n",
              "  const steps = uploadFilesStep(inputId, outputId);\n",
              "  const outputElement = document.getElementById(outputId);\n",
              "  // Cache steps on the outputElement to make it available for the next call\n",
              "  // to uploadFilesContinue from Python.\n",
              "  outputElement.steps = steps;\n",
              "\n",
              "  return _uploadFilesContinue(outputId);\n",
              "}\n",
              "\n",
              "// This is roughly an async generator (not supported in the browser yet),\n",
              "// where there are multiple asynchronous steps and the Python side is going\n",
              "// to poll for completion of each step.\n",
              "// This uses a Promise to block the python side on completion of each step,\n",
              "// then passes the result of the previous step as the input to the next step.\n",
              "function _uploadFilesContinue(outputId) {\n",
              "  const outputElement = document.getElementById(outputId);\n",
              "  const steps = outputElement.steps;\n",
              "\n",
              "  const next = steps.next(outputElement.lastPromiseValue);\n",
              "  return Promise.resolve(next.value.promise).then((value) => {\n",
              "    // Cache the last promise value to make it available to the next\n",
              "    // step of the generator.\n",
              "    outputElement.lastPromiseValue = value;\n",
              "    return next.value.response;\n",
              "  });\n",
              "}\n",
              "\n",
              "/**\n",
              " * Generator function which is called between each async step of the upload\n",
              " * process.\n",
              " * @param {string} inputId Element ID of the input file picker element.\n",
              " * @param {string} outputId Element ID of the output display.\n",
              " * @return {!Iterable<!Object>} Iterable of next steps.\n",
              " */\n",
              "function* uploadFilesStep(inputId, outputId) {\n",
              "  const inputElement = document.getElementById(inputId);\n",
              "  inputElement.disabled = false;\n",
              "\n",
              "  const outputElement = document.getElementById(outputId);\n",
              "  outputElement.innerHTML = '';\n",
              "\n",
              "  const pickedPromise = new Promise((resolve) => {\n",
              "    inputElement.addEventListener('change', (e) => {\n",
              "      resolve(e.target.files);\n",
              "    });\n",
              "  });\n",
              "\n",
              "  const cancel = document.createElement('button');\n",
              "  inputElement.parentElement.appendChild(cancel);\n",
              "  cancel.textContent = 'Cancel upload';\n",
              "  const cancelPromise = new Promise((resolve) => {\n",
              "    cancel.onclick = () => {\n",
              "      resolve(null);\n",
              "    };\n",
              "  });\n",
              "\n",
              "  // Wait for the user to pick the files.\n",
              "  const files = yield {\n",
              "    promise: Promise.race([pickedPromise, cancelPromise]),\n",
              "    response: {\n",
              "      action: 'starting',\n",
              "    }\n",
              "  };\n",
              "\n",
              "  cancel.remove();\n",
              "\n",
              "  // Disable the input element since further picks are not allowed.\n",
              "  inputElement.disabled = true;\n",
              "\n",
              "  if (!files) {\n",
              "    return {\n",
              "      response: {\n",
              "        action: 'complete',\n",
              "      }\n",
              "    };\n",
              "  }\n",
              "\n",
              "  for (const file of files) {\n",
              "    const li = document.createElement('li');\n",
              "    li.append(span(file.name, {fontWeight: 'bold'}));\n",
              "    li.append(span(\n",
              "        `(${file.type || 'n/a'}) - ${file.size} bytes, ` +\n",
              "        `last modified: ${\n",
              "            file.lastModifiedDate ? file.lastModifiedDate.toLocaleDateString() :\n",
              "                                    'n/a'} - `));\n",
              "    const percent = span('0% done');\n",
              "    li.appendChild(percent);\n",
              "\n",
              "    outputElement.appendChild(li);\n",
              "\n",
              "    const fileDataPromise = new Promise((resolve) => {\n",
              "      const reader = new FileReader();\n",
              "      reader.onload = (e) => {\n",
              "        resolve(e.target.result);\n",
              "      };\n",
              "      reader.readAsArrayBuffer(file);\n",
              "    });\n",
              "    // Wait for the data to be ready.\n",
              "    let fileData = yield {\n",
              "      promise: fileDataPromise,\n",
              "      response: {\n",
              "        action: 'continue',\n",
              "      }\n",
              "    };\n",
              "\n",
              "    // Use a chunked sending to avoid message size limits. See b/62115660.\n",
              "    let position = 0;\n",
              "    do {\n",
              "      const length = Math.min(fileData.byteLength - position, MAX_PAYLOAD_SIZE);\n",
              "      const chunk = new Uint8Array(fileData, position, length);\n",
              "      position += length;\n",
              "\n",
              "      const base64 = btoa(String.fromCharCode.apply(null, chunk));\n",
              "      yield {\n",
              "        response: {\n",
              "          action: 'append',\n",
              "          file: file.name,\n",
              "          data: base64,\n",
              "        },\n",
              "      };\n",
              "\n",
              "      let percentDone = fileData.byteLength === 0 ?\n",
              "          100 :\n",
              "          Math.round((position / fileData.byteLength) * 100);\n",
              "      percent.textContent = `${percentDone}% done`;\n",
              "\n",
              "    } while (position < fileData.byteLength);\n",
              "  }\n",
              "\n",
              "  // All done.\n",
              "  yield {\n",
              "    response: {\n",
              "      action: 'complete',\n",
              "    }\n",
              "  };\n",
              "}\n",
              "\n",
              "scope.google = scope.google || {};\n",
              "scope.google.colab = scope.google.colab || {};\n",
              "scope.google.colab._files = {\n",
              "  _uploadFiles,\n",
              "  _uploadFilesContinue,\n",
              "};\n",
              "})(self);\n",
              "</script> "
            ]
          },
          "metadata": {}
        },
        {
          "output_type": "stream",
          "name": "stdout",
          "text": [
            "Saving kaggle.json to kaggle.json\n"
          ]
        },
        {
          "output_type": "execute_result",
          "data": {
            "text/plain": [
              "{'kaggle.json': b'{\"username\":\"meilanikizana\",\"key\":\"230db92153864ff31f16103462e6c659\"}'}"
            ]
          },
          "metadata": {},
          "execution_count": 4
        }
      ],
      "source": [
        "files.upload()"
      ]
    },
    {
      "cell_type": "code",
      "execution_count": 5,
      "metadata": {
        "id": "OyeyNBEH3x4W"
      },
      "outputs": [],
      "source": [
        "!mkdir -p ~/.kaggle\n",
        "!cp kaggle.json ~/.kaggle/\n",
        "!chmod 600 ~/.kaggle/kaggle.json"
      ]
    },
    {
      "cell_type": "code",
      "execution_count": 6,
      "metadata": {
        "colab": {
          "base_uri": "https://localhost:8080/"
        },
        "id": "RcVV1rvL322t",
        "outputId": "d8c8df22-d93e-445e-cb3f-b74498b1d43e"
      },
      "outputs": [
        {
          "output_type": "stream",
          "name": "stdout",
          "text": [
            "Dataset URL: https://www.kaggle.com/datasets/mintupsidup/squad-variated-indo\n",
            "License(s): apache-2.0\n",
            "Downloading squad-variated-indo.zip to /content\n",
            " 86% 88.0M/103M [00:00<00:00, 919MB/s]\n",
            "100% 103M/103M [00:00<00:00, 922MB/s] \n",
            "Archive:  squad-variated-indo.zip\n",
            "  inflating: dev-v2.0.json           \n",
            "  inflating: glove_50d_Indo.txt      \n",
            "  inflating: train-v2.0.json         \n",
            "  inflating: train_df_variated_new.csv  \n",
            "  inflating: valid_df_variated_new.csv  \n"
          ]
        }
      ],
      "source": [
        "!kaggle datasets download -d mintupsidup/squad-variated-indo\n",
        "!unzip squad-variated-indo.zip"
      ]
    },
    {
      "cell_type": "code",
      "execution_count": 7,
      "metadata": {
        "colab": {
          "base_uri": "https://localhost:8080/",
          "height": 424
        },
        "id": "uh1D7cuL4E6L",
        "outputId": "e50e5860-6b53-42de-df79-9ecd7e2d130c"
      },
      "outputs": [
        {
          "output_type": "execute_result",
          "data": {
            "text/plain": [
              "    version                                               data\n",
              "0      v2.0  {'title': 'Beyoncé', 'paragraphs': [{'context'...\n",
              "1      v2.0  {'title': 'Frédéric_Chopin', 'paragraphs': [{'...\n",
              "2      v2.0  {'title': 'Sino-Tibetan_relations_during_the_M...\n",
              "3      v2.0  {'title': 'IPod', 'paragraphs': [{'context': '...\n",
              "4      v2.0  {'title': 'The_Legend_of_Zelda:_Twilight_Princ...\n",
              "..      ...                                                ...\n",
              "472    v2.0  {'title': 'Islamism', 'paragraphs': [{'context...\n",
              "473    v2.0  {'title': 'Imperialism', 'paragraphs': [{'cont...\n",
              "474    v2.0  {'title': 'Warsaw', 'paragraphs': [{'context':...\n",
              "475    v2.0  {'title': 'French_and_Indian_War', 'paragraphs...\n",
              "476    v2.0  {'title': 'Force', 'paragraphs': [{'context': ...\n",
              "\n",
              "[477 rows x 2 columns]"
            ],
            "text/html": [
              "\n",
              "  <div id=\"df-2200f50a-5702-4854-a67f-292412d9e63e\" class=\"colab-df-container\">\n",
              "    <div>\n",
              "<style scoped>\n",
              "    .dataframe tbody tr th:only-of-type {\n",
              "        vertical-align: middle;\n",
              "    }\n",
              "\n",
              "    .dataframe tbody tr th {\n",
              "        vertical-align: top;\n",
              "    }\n",
              "\n",
              "    .dataframe thead th {\n",
              "        text-align: right;\n",
              "    }\n",
              "</style>\n",
              "<table border=\"1\" class=\"dataframe\">\n",
              "  <thead>\n",
              "    <tr style=\"text-align: right;\">\n",
              "      <th></th>\n",
              "      <th>version</th>\n",
              "      <th>data</th>\n",
              "    </tr>\n",
              "  </thead>\n",
              "  <tbody>\n",
              "    <tr>\n",
              "      <th>0</th>\n",
              "      <td>v2.0</td>\n",
              "      <td>{'title': 'Beyoncé', 'paragraphs': [{'context'...</td>\n",
              "    </tr>\n",
              "    <tr>\n",
              "      <th>1</th>\n",
              "      <td>v2.0</td>\n",
              "      <td>{'title': 'Frédéric_Chopin', 'paragraphs': [{'...</td>\n",
              "    </tr>\n",
              "    <tr>\n",
              "      <th>2</th>\n",
              "      <td>v2.0</td>\n",
              "      <td>{'title': 'Sino-Tibetan_relations_during_the_M...</td>\n",
              "    </tr>\n",
              "    <tr>\n",
              "      <th>3</th>\n",
              "      <td>v2.0</td>\n",
              "      <td>{'title': 'IPod', 'paragraphs': [{'context': '...</td>\n",
              "    </tr>\n",
              "    <tr>\n",
              "      <th>4</th>\n",
              "      <td>v2.0</td>\n",
              "      <td>{'title': 'The_Legend_of_Zelda:_Twilight_Princ...</td>\n",
              "    </tr>\n",
              "    <tr>\n",
              "      <th>...</th>\n",
              "      <td>...</td>\n",
              "      <td>...</td>\n",
              "    </tr>\n",
              "    <tr>\n",
              "      <th>472</th>\n",
              "      <td>v2.0</td>\n",
              "      <td>{'title': 'Islamism', 'paragraphs': [{'context...</td>\n",
              "    </tr>\n",
              "    <tr>\n",
              "      <th>473</th>\n",
              "      <td>v2.0</td>\n",
              "      <td>{'title': 'Imperialism', 'paragraphs': [{'cont...</td>\n",
              "    </tr>\n",
              "    <tr>\n",
              "      <th>474</th>\n",
              "      <td>v2.0</td>\n",
              "      <td>{'title': 'Warsaw', 'paragraphs': [{'context':...</td>\n",
              "    </tr>\n",
              "    <tr>\n",
              "      <th>475</th>\n",
              "      <td>v2.0</td>\n",
              "      <td>{'title': 'French_and_Indian_War', 'paragraphs...</td>\n",
              "    </tr>\n",
              "    <tr>\n",
              "      <th>476</th>\n",
              "      <td>v2.0</td>\n",
              "      <td>{'title': 'Force', 'paragraphs': [{'context': ...</td>\n",
              "    </tr>\n",
              "  </tbody>\n",
              "</table>\n",
              "<p>477 rows × 2 columns</p>\n",
              "</div>\n",
              "    <div class=\"colab-df-buttons\">\n",
              "\n",
              "  <div class=\"colab-df-container\">\n",
              "    <button class=\"colab-df-convert\" onclick=\"convertToInteractive('df-2200f50a-5702-4854-a67f-292412d9e63e')\"\n",
              "            title=\"Convert this dataframe to an interactive table.\"\n",
              "            style=\"display:none;\">\n",
              "\n",
              "  <svg xmlns=\"http://www.w3.org/2000/svg\" height=\"24px\" viewBox=\"0 -960 960 960\">\n",
              "    <path d=\"M120-120v-720h720v720H120Zm60-500h600v-160H180v160Zm220 220h160v-160H400v160Zm0 220h160v-160H400v160ZM180-400h160v-160H180v160Zm440 0h160v-160H620v160ZM180-180h160v-160H180v160Zm440 0h160v-160H620v160Z\"/>\n",
              "  </svg>\n",
              "    </button>\n",
              "\n",
              "  <style>\n",
              "    .colab-df-container {\n",
              "      display:flex;\n",
              "      gap: 12px;\n",
              "    }\n",
              "\n",
              "    .colab-df-convert {\n",
              "      background-color: #E8F0FE;\n",
              "      border: none;\n",
              "      border-radius: 50%;\n",
              "      cursor: pointer;\n",
              "      display: none;\n",
              "      fill: #1967D2;\n",
              "      height: 32px;\n",
              "      padding: 0 0 0 0;\n",
              "      width: 32px;\n",
              "    }\n",
              "\n",
              "    .colab-df-convert:hover {\n",
              "      background-color: #E2EBFA;\n",
              "      box-shadow: 0px 1px 2px rgba(60, 64, 67, 0.3), 0px 1px 3px 1px rgba(60, 64, 67, 0.15);\n",
              "      fill: #174EA6;\n",
              "    }\n",
              "\n",
              "    .colab-df-buttons div {\n",
              "      margin-bottom: 4px;\n",
              "    }\n",
              "\n",
              "    [theme=dark] .colab-df-convert {\n",
              "      background-color: #3B4455;\n",
              "      fill: #D2E3FC;\n",
              "    }\n",
              "\n",
              "    [theme=dark] .colab-df-convert:hover {\n",
              "      background-color: #434B5C;\n",
              "      box-shadow: 0px 1px 3px 1px rgba(0, 0, 0, 0.15);\n",
              "      filter: drop-shadow(0px 1px 2px rgba(0, 0, 0, 0.3));\n",
              "      fill: #FFFFFF;\n",
              "    }\n",
              "  </style>\n",
              "\n",
              "    <script>\n",
              "      const buttonEl =\n",
              "        document.querySelector('#df-2200f50a-5702-4854-a67f-292412d9e63e button.colab-df-convert');\n",
              "      buttonEl.style.display =\n",
              "        google.colab.kernel.accessAllowed ? 'block' : 'none';\n",
              "\n",
              "      async function convertToInteractive(key) {\n",
              "        const element = document.querySelector('#df-2200f50a-5702-4854-a67f-292412d9e63e');\n",
              "        const dataTable =\n",
              "          await google.colab.kernel.invokeFunction('convertToInteractive',\n",
              "                                                    [key], {});\n",
              "        if (!dataTable) return;\n",
              "\n",
              "        const docLinkHtml = 'Like what you see? Visit the ' +\n",
              "          '<a target=\"_blank\" href=https://colab.research.google.com/notebooks/data_table.ipynb>data table notebook</a>'\n",
              "          + ' to learn more about interactive tables.';\n",
              "        element.innerHTML = '';\n",
              "        dataTable['output_type'] = 'display_data';\n",
              "        await google.colab.output.renderOutput(dataTable, element);\n",
              "        const docLink = document.createElement('div');\n",
              "        docLink.innerHTML = docLinkHtml;\n",
              "        element.appendChild(docLink);\n",
              "      }\n",
              "    </script>\n",
              "  </div>\n",
              "\n",
              "\n",
              "    <div id=\"df-7ac6d0b0-2e9f-43c9-9dd1-341ebf756da0\">\n",
              "      <button class=\"colab-df-quickchart\" onclick=\"quickchart('df-7ac6d0b0-2e9f-43c9-9dd1-341ebf756da0')\"\n",
              "                title=\"Suggest charts\"\n",
              "                style=\"display:none;\">\n",
              "\n",
              "<svg xmlns=\"http://www.w3.org/2000/svg\" height=\"24px\"viewBox=\"0 0 24 24\"\n",
              "     width=\"24px\">\n",
              "    <g>\n",
              "        <path d=\"M19 3H5c-1.1 0-2 .9-2 2v14c0 1.1.9 2 2 2h14c1.1 0 2-.9 2-2V5c0-1.1-.9-2-2-2zM9 17H7v-7h2v7zm4 0h-2V7h2v10zm4 0h-2v-4h2v4z\"/>\n",
              "    </g>\n",
              "</svg>\n",
              "      </button>\n",
              "\n",
              "<style>\n",
              "  .colab-df-quickchart {\n",
              "      --bg-color: #E8F0FE;\n",
              "      --fill-color: #1967D2;\n",
              "      --hover-bg-color: #E2EBFA;\n",
              "      --hover-fill-color: #174EA6;\n",
              "      --disabled-fill-color: #AAA;\n",
              "      --disabled-bg-color: #DDD;\n",
              "  }\n",
              "\n",
              "  [theme=dark] .colab-df-quickchart {\n",
              "      --bg-color: #3B4455;\n",
              "      --fill-color: #D2E3FC;\n",
              "      --hover-bg-color: #434B5C;\n",
              "      --hover-fill-color: #FFFFFF;\n",
              "      --disabled-bg-color: #3B4455;\n",
              "      --disabled-fill-color: #666;\n",
              "  }\n",
              "\n",
              "  .colab-df-quickchart {\n",
              "    background-color: var(--bg-color);\n",
              "    border: none;\n",
              "    border-radius: 50%;\n",
              "    cursor: pointer;\n",
              "    display: none;\n",
              "    fill: var(--fill-color);\n",
              "    height: 32px;\n",
              "    padding: 0;\n",
              "    width: 32px;\n",
              "  }\n",
              "\n",
              "  .colab-df-quickchart:hover {\n",
              "    background-color: var(--hover-bg-color);\n",
              "    box-shadow: 0 1px 2px rgba(60, 64, 67, 0.3), 0 1px 3px 1px rgba(60, 64, 67, 0.15);\n",
              "    fill: var(--button-hover-fill-color);\n",
              "  }\n",
              "\n",
              "  .colab-df-quickchart-complete:disabled,\n",
              "  .colab-df-quickchart-complete:disabled:hover {\n",
              "    background-color: var(--disabled-bg-color);\n",
              "    fill: var(--disabled-fill-color);\n",
              "    box-shadow: none;\n",
              "  }\n",
              "\n",
              "  .colab-df-spinner {\n",
              "    border: 2px solid var(--fill-color);\n",
              "    border-color: transparent;\n",
              "    border-bottom-color: var(--fill-color);\n",
              "    animation:\n",
              "      spin 1s steps(1) infinite;\n",
              "  }\n",
              "\n",
              "  @keyframes spin {\n",
              "    0% {\n",
              "      border-color: transparent;\n",
              "      border-bottom-color: var(--fill-color);\n",
              "      border-left-color: var(--fill-color);\n",
              "    }\n",
              "    20% {\n",
              "      border-color: transparent;\n",
              "      border-left-color: var(--fill-color);\n",
              "      border-top-color: var(--fill-color);\n",
              "    }\n",
              "    30% {\n",
              "      border-color: transparent;\n",
              "      border-left-color: var(--fill-color);\n",
              "      border-top-color: var(--fill-color);\n",
              "      border-right-color: var(--fill-color);\n",
              "    }\n",
              "    40% {\n",
              "      border-color: transparent;\n",
              "      border-right-color: var(--fill-color);\n",
              "      border-top-color: var(--fill-color);\n",
              "    }\n",
              "    60% {\n",
              "      border-color: transparent;\n",
              "      border-right-color: var(--fill-color);\n",
              "    }\n",
              "    80% {\n",
              "      border-color: transparent;\n",
              "      border-right-color: var(--fill-color);\n",
              "      border-bottom-color: var(--fill-color);\n",
              "    }\n",
              "    90% {\n",
              "      border-color: transparent;\n",
              "      border-bottom-color: var(--fill-color);\n",
              "    }\n",
              "  }\n",
              "</style>\n",
              "\n",
              "      <script>\n",
              "        async function quickchart(key) {\n",
              "          const quickchartButtonEl =\n",
              "            document.querySelector('#' + key + ' button');\n",
              "          quickchartButtonEl.disabled = true;  // To prevent multiple clicks.\n",
              "          quickchartButtonEl.classList.add('colab-df-spinner');\n",
              "          try {\n",
              "            const charts = await google.colab.kernel.invokeFunction(\n",
              "                'suggestCharts', [key], {});\n",
              "          } catch (error) {\n",
              "            console.error('Error during call to suggestCharts:', error);\n",
              "          }\n",
              "          quickchartButtonEl.classList.remove('colab-df-spinner');\n",
              "          quickchartButtonEl.classList.add('colab-df-quickchart-complete');\n",
              "        }\n",
              "        (() => {\n",
              "          let quickchartButtonEl =\n",
              "            document.querySelector('#df-7ac6d0b0-2e9f-43c9-9dd1-341ebf756da0 button');\n",
              "          quickchartButtonEl.style.display =\n",
              "            google.colab.kernel.accessAllowed ? 'block' : 'none';\n",
              "        })();\n",
              "      </script>\n",
              "    </div>\n",
              "\n",
              "  <div id=\"id_f91f32b2-1bb5-45b3-9b3e-b93c828387f6\">\n",
              "    <style>\n",
              "      .colab-df-generate {\n",
              "        background-color: #E8F0FE;\n",
              "        border: none;\n",
              "        border-radius: 50%;\n",
              "        cursor: pointer;\n",
              "        display: none;\n",
              "        fill: #1967D2;\n",
              "        height: 32px;\n",
              "        padding: 0 0 0 0;\n",
              "        width: 32px;\n",
              "      }\n",
              "\n",
              "      .colab-df-generate:hover {\n",
              "        background-color: #E2EBFA;\n",
              "        box-shadow: 0px 1px 2px rgba(60, 64, 67, 0.3), 0px 1px 3px 1px rgba(60, 64, 67, 0.15);\n",
              "        fill: #174EA6;\n",
              "      }\n",
              "\n",
              "      [theme=dark] .colab-df-generate {\n",
              "        background-color: #3B4455;\n",
              "        fill: #D2E3FC;\n",
              "      }\n",
              "\n",
              "      [theme=dark] .colab-df-generate:hover {\n",
              "        background-color: #434B5C;\n",
              "        box-shadow: 0px 1px 3px 1px rgba(0, 0, 0, 0.15);\n",
              "        filter: drop-shadow(0px 1px 2px rgba(0, 0, 0, 0.3));\n",
              "        fill: #FFFFFF;\n",
              "      }\n",
              "    </style>\n",
              "    <button class=\"colab-df-generate\" onclick=\"generateWithVariable('init_df')\"\n",
              "            title=\"Generate code using this dataframe.\"\n",
              "            style=\"display:none;\">\n",
              "\n",
              "  <svg xmlns=\"http://www.w3.org/2000/svg\" height=\"24px\"viewBox=\"0 0 24 24\"\n",
              "       width=\"24px\">\n",
              "    <path d=\"M7,19H8.4L18.45,9,17,7.55,7,17.6ZM5,21V16.75L18.45,3.32a2,2,0,0,1,2.83,0l1.4,1.43a1.91,1.91,0,0,1,.58,1.4,1.91,1.91,0,0,1-.58,1.4L9.25,21ZM18.45,9,17,7.55Zm-12,3A5.31,5.31,0,0,0,4.9,8.1,5.31,5.31,0,0,0,1,6.5,5.31,5.31,0,0,0,4.9,4.9,5.31,5.31,0,0,0,6.5,1,5.31,5.31,0,0,0,8.1,4.9,5.31,5.31,0,0,0,12,6.5,5.46,5.46,0,0,0,6.5,12Z\"/>\n",
              "  </svg>\n",
              "    </button>\n",
              "    <script>\n",
              "      (() => {\n",
              "      const buttonEl =\n",
              "        document.querySelector('#id_f91f32b2-1bb5-45b3-9b3e-b93c828387f6 button.colab-df-generate');\n",
              "      buttonEl.style.display =\n",
              "        google.colab.kernel.accessAllowed ? 'block' : 'none';\n",
              "\n",
              "      buttonEl.onclick = () => {\n",
              "        google.colab.notebook.generateWithVariable('init_df');\n",
              "      }\n",
              "      })();\n",
              "    </script>\n",
              "  </div>\n",
              "\n",
              "    </div>\n",
              "  </div>\n"
            ],
            "application/vnd.google.colaboratory.intrinsic+json": {
              "type": "dataframe",
              "variable_name": "init_df",
              "summary": "{\n  \"name\": \"init_df\",\n  \"rows\": 477,\n  \"fields\": [\n    {\n      \"column\": \"version\",\n      \"properties\": {\n        \"dtype\": \"category\",\n        \"num_unique_values\": 1,\n        \"samples\": [\n          \"v2.0\"\n        ],\n        \"semantic_type\": \"\",\n        \"description\": \"\"\n      }\n    },\n    {\n      \"column\": \"data\",\n      \"properties\": {\n        \"dtype\": \"object\",\n        \"semantic_type\": \"\",\n        \"description\": \"\"\n      }\n    }\n  ]\n}"
            }
          },
          "metadata": {},
          "execution_count": 7
        }
      ],
      "source": [
        "train = pd.read_json('train-v2.0.json', orient='column')\n",
        "dev = pd.read_json('dev-v2.0.json', orient='column')\n",
        "\n",
        "init_df = pd.concat([train, dev], ignore_index=True)\n",
        "init_df"
      ]
    },
    {
      "cell_type": "code",
      "execution_count": 8,
      "metadata": {
        "colab": {
          "base_uri": "https://localhost:8080/"
        },
        "id": "WAvJD0LWTSRp",
        "outputId": "c3dd68b6-736a-43a6-cf74-e5b62b906fde"
      },
      "outputs": [
        {
          "output_type": "stream",
          "name": "stdout",
          "text": [
            "<class 'pandas.core.frame.DataFrame'>\n",
            "RangeIndex: 477 entries, 0 to 476\n",
            "Data columns (total 2 columns):\n",
            " #   Column   Non-Null Count  Dtype \n",
            "---  ------   --------------  ----- \n",
            " 0   version  477 non-null    object\n",
            " 1   data     477 non-null    object\n",
            "dtypes: object(2)\n",
            "memory usage: 7.6+ KB\n"
          ]
        }
      ],
      "source": [
        "init_df.info()"
      ]
    },
    {
      "cell_type": "markdown",
      "metadata": {
        "id": "pZu8eXLLsK6I"
      },
      "source": [
        "## Data Preparation"
      ]
    },
    {
      "cell_type": "markdown",
      "metadata": {
        "id": "xR5gHudurQdp"
      },
      "source": [
        "### Extract Features"
      ]
    },
    {
      "cell_type": "code",
      "execution_count": 9,
      "metadata": {
        "colab": {
          "base_uri": "https://localhost:8080/"
        },
        "id": "4dkQdZRt4RVN",
        "outputId": "4f3da352-7b7c-4a60-b374-68e83c02b9b4"
      },
      "outputs": [
        {
          "output_type": "stream",
          "name": "stdout",
          "text": [
            "Total data pertanyaan: 92749\n"
          ]
        }
      ],
      "source": [
        "contexts, questions, answers = [], [], []\n",
        "\n",
        "for data in init_df['data']:\n",
        "    for para in data['paragraphs']:\n",
        "        context = para['context']\n",
        "        for all_questions in para['qas']:\n",
        "            if not all_questions.get(\"is_impossible\", False):\n",
        "                question = all_questions['question']\n",
        "                answer_list = all_questions['answers']\n",
        "                if len(answer_list) > 0:\n",
        "                    answer = answer_list[0]['text']\n",
        "                    questions.append(question)\n",
        "                    contexts.append(context)\n",
        "                    answers.append(answer)\n",
        "\n",
        "print(f\"Total data pertanyaan: {len(questions)}\")"
      ]
    },
    {
      "cell_type": "code",
      "execution_count": 10,
      "metadata": {
        "colab": {
          "base_uri": "https://localhost:8080/",
          "height": 424
        },
        "id": "qYWycFeKJ3Ec",
        "outputId": "074e2b15-0981-40bc-d119-e18917ce0425"
      },
      "outputs": [
        {
          "output_type": "execute_result",
          "data": {
            "text/plain": [
              "                                                 context  \\\n",
              "0      Beyoncé Giselle Knowles-Carter (/bijanse / bee...   \n",
              "1      Beyoncé Giselle Knowles-Carter (/bijanse / bee...   \n",
              "2      Beyoncé Giselle Knowles-Carter (/bijanse / bee...   \n",
              "3      Beyoncé Giselle Knowles-Carter (/bijanse / bee...   \n",
              "4      Beyoncé Giselle Knowles-Carter (/bijanse / bee...   \n",
              "...                                                  ...   \n",
              "92744  Pound-force memiliki mitra metrik, kurang umum...   \n",
              "92745  Pound-force memiliki mitra metrik, kurang umum...   \n",
              "92746  Pound-force memiliki mitra metrik, kurang umum...   \n",
              "92747  Pound-force memiliki mitra metrik, kurang umum...   \n",
              "92748  Pound-force memiliki mitra metrik, kurang umum...   \n",
              "\n",
              "                                                question              answer  \n",
              "0                   Kapan Beyonce mulai menjadi populer?  pada akhir 1990-an  \n",
              "1      Daerah mana saja yang bersaing dengan Beyonce ...        menyanyi dan  \n",
              "2      Kapan Beyonce meninggalkan Destiny's Child dan...                2003  \n",
              "3                Di kota dan negara mana Beyonce tumbuh?      Houston, Texas  \n",
              "4             Pada dekade mana Beyonce menjadi terkenal?       akhir 1990-an  \n",
              "...                                                  ...                 ...  \n",
              "92744  Apa istilah metrik yang kurang digunakan dari ...      kilogram-force  \n",
              "92745  Apa daya kilogram kadang-kadang direffer ke se...            kilopond  \n",
              "92746  Apa yang jarang digunakan unit massa dalam sis...               siput  \n",
              "92747  Apa yang jarang digunakan istilah unit kekuata...                 kip  \n",
              "92748  Apa yang jarang digunakan unit gaya sama denga...              sthène  \n",
              "\n",
              "[92749 rows x 3 columns]"
            ],
            "text/html": [
              "\n",
              "  <div id=\"df-84f73de0-ad9b-4963-b0b5-b727e8a8a6ea\" class=\"colab-df-container\">\n",
              "    <div>\n",
              "<style scoped>\n",
              "    .dataframe tbody tr th:only-of-type {\n",
              "        vertical-align: middle;\n",
              "    }\n",
              "\n",
              "    .dataframe tbody tr th {\n",
              "        vertical-align: top;\n",
              "    }\n",
              "\n",
              "    .dataframe thead th {\n",
              "        text-align: right;\n",
              "    }\n",
              "</style>\n",
              "<table border=\"1\" class=\"dataframe\">\n",
              "  <thead>\n",
              "    <tr style=\"text-align: right;\">\n",
              "      <th></th>\n",
              "      <th>context</th>\n",
              "      <th>question</th>\n",
              "      <th>answer</th>\n",
              "    </tr>\n",
              "  </thead>\n",
              "  <tbody>\n",
              "    <tr>\n",
              "      <th>0</th>\n",
              "      <td>Beyoncé Giselle Knowles-Carter (/bijanse / bee...</td>\n",
              "      <td>Kapan Beyonce mulai menjadi populer?</td>\n",
              "      <td>pada akhir 1990-an</td>\n",
              "    </tr>\n",
              "    <tr>\n",
              "      <th>1</th>\n",
              "      <td>Beyoncé Giselle Knowles-Carter (/bijanse / bee...</td>\n",
              "      <td>Daerah mana saja yang bersaing dengan Beyonce ...</td>\n",
              "      <td>menyanyi dan</td>\n",
              "    </tr>\n",
              "    <tr>\n",
              "      <th>2</th>\n",
              "      <td>Beyoncé Giselle Knowles-Carter (/bijanse / bee...</td>\n",
              "      <td>Kapan Beyonce meninggalkan Destiny's Child dan...</td>\n",
              "      <td>2003</td>\n",
              "    </tr>\n",
              "    <tr>\n",
              "      <th>3</th>\n",
              "      <td>Beyoncé Giselle Knowles-Carter (/bijanse / bee...</td>\n",
              "      <td>Di kota dan negara mana Beyonce tumbuh?</td>\n",
              "      <td>Houston, Texas</td>\n",
              "    </tr>\n",
              "    <tr>\n",
              "      <th>4</th>\n",
              "      <td>Beyoncé Giselle Knowles-Carter (/bijanse / bee...</td>\n",
              "      <td>Pada dekade mana Beyonce menjadi terkenal?</td>\n",
              "      <td>akhir 1990-an</td>\n",
              "    </tr>\n",
              "    <tr>\n",
              "      <th>...</th>\n",
              "      <td>...</td>\n",
              "      <td>...</td>\n",
              "      <td>...</td>\n",
              "    </tr>\n",
              "    <tr>\n",
              "      <th>92744</th>\n",
              "      <td>Pound-force memiliki mitra metrik, kurang umum...</td>\n",
              "      <td>Apa istilah metrik yang kurang digunakan dari ...</td>\n",
              "      <td>kilogram-force</td>\n",
              "    </tr>\n",
              "    <tr>\n",
              "      <th>92745</th>\n",
              "      <td>Pound-force memiliki mitra metrik, kurang umum...</td>\n",
              "      <td>Apa daya kilogram kadang-kadang direffer ke se...</td>\n",
              "      <td>kilopond</td>\n",
              "    </tr>\n",
              "    <tr>\n",
              "      <th>92746</th>\n",
              "      <td>Pound-force memiliki mitra metrik, kurang umum...</td>\n",
              "      <td>Apa yang jarang digunakan unit massa dalam sis...</td>\n",
              "      <td>siput</td>\n",
              "    </tr>\n",
              "    <tr>\n",
              "      <th>92747</th>\n",
              "      <td>Pound-force memiliki mitra metrik, kurang umum...</td>\n",
              "      <td>Apa yang jarang digunakan istilah unit kekuata...</td>\n",
              "      <td>kip</td>\n",
              "    </tr>\n",
              "    <tr>\n",
              "      <th>92748</th>\n",
              "      <td>Pound-force memiliki mitra metrik, kurang umum...</td>\n",
              "      <td>Apa yang jarang digunakan unit gaya sama denga...</td>\n",
              "      <td>sthène</td>\n",
              "    </tr>\n",
              "  </tbody>\n",
              "</table>\n",
              "<p>92749 rows × 3 columns</p>\n",
              "</div>\n",
              "    <div class=\"colab-df-buttons\">\n",
              "\n",
              "  <div class=\"colab-df-container\">\n",
              "    <button class=\"colab-df-convert\" onclick=\"convertToInteractive('df-84f73de0-ad9b-4963-b0b5-b727e8a8a6ea')\"\n",
              "            title=\"Convert this dataframe to an interactive table.\"\n",
              "            style=\"display:none;\">\n",
              "\n",
              "  <svg xmlns=\"http://www.w3.org/2000/svg\" height=\"24px\" viewBox=\"0 -960 960 960\">\n",
              "    <path d=\"M120-120v-720h720v720H120Zm60-500h600v-160H180v160Zm220 220h160v-160H400v160Zm0 220h160v-160H400v160ZM180-400h160v-160H180v160Zm440 0h160v-160H620v160ZM180-180h160v-160H180v160Zm440 0h160v-160H620v160Z\"/>\n",
              "  </svg>\n",
              "    </button>\n",
              "\n",
              "  <style>\n",
              "    .colab-df-container {\n",
              "      display:flex;\n",
              "      gap: 12px;\n",
              "    }\n",
              "\n",
              "    .colab-df-convert {\n",
              "      background-color: #E8F0FE;\n",
              "      border: none;\n",
              "      border-radius: 50%;\n",
              "      cursor: pointer;\n",
              "      display: none;\n",
              "      fill: #1967D2;\n",
              "      height: 32px;\n",
              "      padding: 0 0 0 0;\n",
              "      width: 32px;\n",
              "    }\n",
              "\n",
              "    .colab-df-convert:hover {\n",
              "      background-color: #E2EBFA;\n",
              "      box-shadow: 0px 1px 2px rgba(60, 64, 67, 0.3), 0px 1px 3px 1px rgba(60, 64, 67, 0.15);\n",
              "      fill: #174EA6;\n",
              "    }\n",
              "\n",
              "    .colab-df-buttons div {\n",
              "      margin-bottom: 4px;\n",
              "    }\n",
              "\n",
              "    [theme=dark] .colab-df-convert {\n",
              "      background-color: #3B4455;\n",
              "      fill: #D2E3FC;\n",
              "    }\n",
              "\n",
              "    [theme=dark] .colab-df-convert:hover {\n",
              "      background-color: #434B5C;\n",
              "      box-shadow: 0px 1px 3px 1px rgba(0, 0, 0, 0.15);\n",
              "      filter: drop-shadow(0px 1px 2px rgba(0, 0, 0, 0.3));\n",
              "      fill: #FFFFFF;\n",
              "    }\n",
              "  </style>\n",
              "\n",
              "    <script>\n",
              "      const buttonEl =\n",
              "        document.querySelector('#df-84f73de0-ad9b-4963-b0b5-b727e8a8a6ea button.colab-df-convert');\n",
              "      buttonEl.style.display =\n",
              "        google.colab.kernel.accessAllowed ? 'block' : 'none';\n",
              "\n",
              "      async function convertToInteractive(key) {\n",
              "        const element = document.querySelector('#df-84f73de0-ad9b-4963-b0b5-b727e8a8a6ea');\n",
              "        const dataTable =\n",
              "          await google.colab.kernel.invokeFunction('convertToInteractive',\n",
              "                                                    [key], {});\n",
              "        if (!dataTable) return;\n",
              "\n",
              "        const docLinkHtml = 'Like what you see? Visit the ' +\n",
              "          '<a target=\"_blank\" href=https://colab.research.google.com/notebooks/data_table.ipynb>data table notebook</a>'\n",
              "          + ' to learn more about interactive tables.';\n",
              "        element.innerHTML = '';\n",
              "        dataTable['output_type'] = 'display_data';\n",
              "        await google.colab.output.renderOutput(dataTable, element);\n",
              "        const docLink = document.createElement('div');\n",
              "        docLink.innerHTML = docLinkHtml;\n",
              "        element.appendChild(docLink);\n",
              "      }\n",
              "    </script>\n",
              "  </div>\n",
              "\n",
              "\n",
              "    <div id=\"df-83790b80-370c-406f-9a4d-4fc60e53ea2a\">\n",
              "      <button class=\"colab-df-quickchart\" onclick=\"quickchart('df-83790b80-370c-406f-9a4d-4fc60e53ea2a')\"\n",
              "                title=\"Suggest charts\"\n",
              "                style=\"display:none;\">\n",
              "\n",
              "<svg xmlns=\"http://www.w3.org/2000/svg\" height=\"24px\"viewBox=\"0 0 24 24\"\n",
              "     width=\"24px\">\n",
              "    <g>\n",
              "        <path d=\"M19 3H5c-1.1 0-2 .9-2 2v14c0 1.1.9 2 2 2h14c1.1 0 2-.9 2-2V5c0-1.1-.9-2-2-2zM9 17H7v-7h2v7zm4 0h-2V7h2v10zm4 0h-2v-4h2v4z\"/>\n",
              "    </g>\n",
              "</svg>\n",
              "      </button>\n",
              "\n",
              "<style>\n",
              "  .colab-df-quickchart {\n",
              "      --bg-color: #E8F0FE;\n",
              "      --fill-color: #1967D2;\n",
              "      --hover-bg-color: #E2EBFA;\n",
              "      --hover-fill-color: #174EA6;\n",
              "      --disabled-fill-color: #AAA;\n",
              "      --disabled-bg-color: #DDD;\n",
              "  }\n",
              "\n",
              "  [theme=dark] .colab-df-quickchart {\n",
              "      --bg-color: #3B4455;\n",
              "      --fill-color: #D2E3FC;\n",
              "      --hover-bg-color: #434B5C;\n",
              "      --hover-fill-color: #FFFFFF;\n",
              "      --disabled-bg-color: #3B4455;\n",
              "      --disabled-fill-color: #666;\n",
              "  }\n",
              "\n",
              "  .colab-df-quickchart {\n",
              "    background-color: var(--bg-color);\n",
              "    border: none;\n",
              "    border-radius: 50%;\n",
              "    cursor: pointer;\n",
              "    display: none;\n",
              "    fill: var(--fill-color);\n",
              "    height: 32px;\n",
              "    padding: 0;\n",
              "    width: 32px;\n",
              "  }\n",
              "\n",
              "  .colab-df-quickchart:hover {\n",
              "    background-color: var(--hover-bg-color);\n",
              "    box-shadow: 0 1px 2px rgba(60, 64, 67, 0.3), 0 1px 3px 1px rgba(60, 64, 67, 0.15);\n",
              "    fill: var(--button-hover-fill-color);\n",
              "  }\n",
              "\n",
              "  .colab-df-quickchart-complete:disabled,\n",
              "  .colab-df-quickchart-complete:disabled:hover {\n",
              "    background-color: var(--disabled-bg-color);\n",
              "    fill: var(--disabled-fill-color);\n",
              "    box-shadow: none;\n",
              "  }\n",
              "\n",
              "  .colab-df-spinner {\n",
              "    border: 2px solid var(--fill-color);\n",
              "    border-color: transparent;\n",
              "    border-bottom-color: var(--fill-color);\n",
              "    animation:\n",
              "      spin 1s steps(1) infinite;\n",
              "  }\n",
              "\n",
              "  @keyframes spin {\n",
              "    0% {\n",
              "      border-color: transparent;\n",
              "      border-bottom-color: var(--fill-color);\n",
              "      border-left-color: var(--fill-color);\n",
              "    }\n",
              "    20% {\n",
              "      border-color: transparent;\n",
              "      border-left-color: var(--fill-color);\n",
              "      border-top-color: var(--fill-color);\n",
              "    }\n",
              "    30% {\n",
              "      border-color: transparent;\n",
              "      border-left-color: var(--fill-color);\n",
              "      border-top-color: var(--fill-color);\n",
              "      border-right-color: var(--fill-color);\n",
              "    }\n",
              "    40% {\n",
              "      border-color: transparent;\n",
              "      border-right-color: var(--fill-color);\n",
              "      border-top-color: var(--fill-color);\n",
              "    }\n",
              "    60% {\n",
              "      border-color: transparent;\n",
              "      border-right-color: var(--fill-color);\n",
              "    }\n",
              "    80% {\n",
              "      border-color: transparent;\n",
              "      border-right-color: var(--fill-color);\n",
              "      border-bottom-color: var(--fill-color);\n",
              "    }\n",
              "    90% {\n",
              "      border-color: transparent;\n",
              "      border-bottom-color: var(--fill-color);\n",
              "    }\n",
              "  }\n",
              "</style>\n",
              "\n",
              "      <script>\n",
              "        async function quickchart(key) {\n",
              "          const quickchartButtonEl =\n",
              "            document.querySelector('#' + key + ' button');\n",
              "          quickchartButtonEl.disabled = true;  // To prevent multiple clicks.\n",
              "          quickchartButtonEl.classList.add('colab-df-spinner');\n",
              "          try {\n",
              "            const charts = await google.colab.kernel.invokeFunction(\n",
              "                'suggestCharts', [key], {});\n",
              "          } catch (error) {\n",
              "            console.error('Error during call to suggestCharts:', error);\n",
              "          }\n",
              "          quickchartButtonEl.classList.remove('colab-df-spinner');\n",
              "          quickchartButtonEl.classList.add('colab-df-quickchart-complete');\n",
              "        }\n",
              "        (() => {\n",
              "          let quickchartButtonEl =\n",
              "            document.querySelector('#df-83790b80-370c-406f-9a4d-4fc60e53ea2a button');\n",
              "          quickchartButtonEl.style.display =\n",
              "            google.colab.kernel.accessAllowed ? 'block' : 'none';\n",
              "        })();\n",
              "      </script>\n",
              "    </div>\n",
              "\n",
              "  <div id=\"id_9beffb10-5c6b-4297-ba7e-9c9991713e31\">\n",
              "    <style>\n",
              "      .colab-df-generate {\n",
              "        background-color: #E8F0FE;\n",
              "        border: none;\n",
              "        border-radius: 50%;\n",
              "        cursor: pointer;\n",
              "        display: none;\n",
              "        fill: #1967D2;\n",
              "        height: 32px;\n",
              "        padding: 0 0 0 0;\n",
              "        width: 32px;\n",
              "      }\n",
              "\n",
              "      .colab-df-generate:hover {\n",
              "        background-color: #E2EBFA;\n",
              "        box-shadow: 0px 1px 2px rgba(60, 64, 67, 0.3), 0px 1px 3px 1px rgba(60, 64, 67, 0.15);\n",
              "        fill: #174EA6;\n",
              "      }\n",
              "\n",
              "      [theme=dark] .colab-df-generate {\n",
              "        background-color: #3B4455;\n",
              "        fill: #D2E3FC;\n",
              "      }\n",
              "\n",
              "      [theme=dark] .colab-df-generate:hover {\n",
              "        background-color: #434B5C;\n",
              "        box-shadow: 0px 1px 3px 1px rgba(0, 0, 0, 0.15);\n",
              "        filter: drop-shadow(0px 1px 2px rgba(0, 0, 0, 0.3));\n",
              "        fill: #FFFFFF;\n",
              "      }\n",
              "    </style>\n",
              "    <button class=\"colab-df-generate\" onclick=\"generateWithVariable('df')\"\n",
              "            title=\"Generate code using this dataframe.\"\n",
              "            style=\"display:none;\">\n",
              "\n",
              "  <svg xmlns=\"http://www.w3.org/2000/svg\" height=\"24px\"viewBox=\"0 0 24 24\"\n",
              "       width=\"24px\">\n",
              "    <path d=\"M7,19H8.4L18.45,9,17,7.55,7,17.6ZM5,21V16.75L18.45,3.32a2,2,0,0,1,2.83,0l1.4,1.43a1.91,1.91,0,0,1,.58,1.4,1.91,1.91,0,0,1-.58,1.4L9.25,21ZM18.45,9,17,7.55Zm-12,3A5.31,5.31,0,0,0,4.9,8.1,5.31,5.31,0,0,0,1,6.5,5.31,5.31,0,0,0,4.9,4.9,5.31,5.31,0,0,0,6.5,1,5.31,5.31,0,0,0,8.1,4.9,5.31,5.31,0,0,0,12,6.5,5.46,5.46,0,0,0,6.5,12Z\"/>\n",
              "  </svg>\n",
              "    </button>\n",
              "    <script>\n",
              "      (() => {\n",
              "      const buttonEl =\n",
              "        document.querySelector('#id_9beffb10-5c6b-4297-ba7e-9c9991713e31 button.colab-df-generate');\n",
              "      buttonEl.style.display =\n",
              "        google.colab.kernel.accessAllowed ? 'block' : 'none';\n",
              "\n",
              "      buttonEl.onclick = () => {\n",
              "        google.colab.notebook.generateWithVariable('df');\n",
              "      }\n",
              "      })();\n",
              "    </script>\n",
              "  </div>\n",
              "\n",
              "    </div>\n",
              "  </div>\n"
            ],
            "application/vnd.google.colaboratory.intrinsic+json": {
              "type": "dataframe",
              "variable_name": "df",
              "summary": "{\n  \"name\": \"df\",\n  \"rows\": 92749,\n  \"fields\": [\n    {\n      \"column\": \"context\",\n      \"properties\": {\n        \"dtype\": \"category\",\n        \"num_unique_values\": 20081,\n        \"samples\": [\n          \"Sebagaimana disebutkan di atas, ada 55 kirkhundla di Swaziland dan masing - masing memilih satu wakil ke Gedung Kebaktian Swaziland. Setiap inkhundla memiliki komite pengembangan (bucopho) terpilih dari berbagai konstituen kepemimpinan di daerahnya selama lima tahun. Bucopho membawa ke Inkhundla segala sesuatu yang menarik perhatian dan perhatian kepada berbagai tokoh terkemuka mereka, dan membawa kembali ke kerajaan-kerajaan terkemuka keputusan-keputusan inkhundla. Ketua bucopho terpilih di Inkhundla dan disebut indvuna kalian nkhundla.\",\n          \"Pada tahun 1903, Josiah White III membeli sebidang tanah dekat Ohio Avenue dan boardwalk dan membangun Queen Anne gaya Marlborough House. Hotel itu sukses dan, pada tahun 190506, ia memilih untuk memperluas hotel dan membeli sebidang tanah lain di sebelah rumah Marlborough nya. Dalam upaya menjadikan hotel barunya sebagai sumber percakapan, White menyewa perusahaan arsitektur Price dan McLanahan. Perusahaan itu menggunakan beton yang diperkuat, bahan bangunan baru yang ditemukan oleh Jean-Louis Lambot pada tahun 1848 (Joseph Monier menerima paten pada tahun 1867). The hotel Spanyol dan Moor temaes, ditutup dengan kubah tanda tangan dan cerobong asap, mewakili sebuah langkah maju dari hotel-hotel lain yang memiliki pengaruh klasik dirancang. White bernama hotel baru Blenheim dan menggabungkan dua hotel ke Marlborough-Blenheim. Kota Atlantik Bally belakangan dibangun di lokasi ini.\",\n          \"Gereja - gereja Armenia yang pertama dibangun antara abad ke - 4 dan ke - 7, dimulai sewaktu Armenia beralih ke Kekristenan, dan berakhir dengan penyerbuan Arab di Armenia. Gereja - gereja masa awal sebagian besar adalah basilika sederhana, tetapi beberapa dengan apes sampingan. Pada abad kelima, kerucut cupola yang khas di tengahnya telah digunakan secara luas. Pada abad ketujuh, gereja - gereja yang direncanakan secara pusat telah dibangun dan gaya Himpunan pantat yang lebih rumit serta radiate Hrip'sim\\u00e9 telah terbentuk. Pada saat invasi Arab, sebagian besar yang kita sekarang tahu sebagai arsitektur klasik Armenia telah terbentuk.\"\n        ],\n        \"semantic_type\": \"\",\n        \"description\": \"\"\n      }\n    },\n    {\n      \"column\": \"question\",\n      \"properties\": {\n        \"dtype\": \"string\",\n        \"num_unique_values\": 92589,\n        \"samples\": [\n          \"Di mana Sekretaris Permanen melayani sebagai PNS senior?\",\n          \"Pada tahun berapa Comcast mengambil alih mayoritas minat di QVC?\",\n          \"Ethnohistory dapat mempelajari sejarah kelompok jenis apa yang mungkin ada atau tidak ada dewasa ini?\"\n        ],\n        \"semantic_type\": \"\",\n        \"description\": \"\"\n      }\n    },\n    {\n      \"column\": \"answer\",\n      \"properties\": {\n        \"dtype\": \"string\",\n        \"num_unique_values\": 67837,\n        \"samples\": [\n          \"Myanma Ekonomi Bank berbagi 51 persen\",\n          \"untuk merekam data atau menyampaikan informasi langsung\",\n          \"Ritchie Blackmore\"\n        ],\n        \"semantic_type\": \"\",\n        \"description\": \"\"\n      }\n    }\n  ]\n}"
            }
          },
          "metadata": {},
          "execution_count": 10
        }
      ],
      "source": [
        "df = pd.DataFrame({\n",
        "    \"context\": contexts,\n",
        "    \"question\": questions,\n",
        "    \"answer\": answers\n",
        "})\n",
        "\n",
        "df"
      ]
    },
    {
      "cell_type": "markdown",
      "metadata": {
        "id": "MUpxL4-_sT44"
      },
      "source": [
        "### Handling Missing Values and Duplicated Data"
      ]
    },
    {
      "cell_type": "code",
      "execution_count": 11,
      "metadata": {
        "colab": {
          "base_uri": "https://localhost:8080/"
        },
        "id": "6IfICG1gKuSD",
        "outputId": "94984e83-99a4-4d83-9485-ee74c3b48aab"
      },
      "outputs": [
        {
          "output_type": "stream",
          "name": "stdout",
          "text": [
            "<class 'pandas.core.frame.DataFrame'>\n",
            "RangeIndex: 92749 entries, 0 to 92748\n",
            "Data columns (total 3 columns):\n",
            " #   Column    Non-Null Count  Dtype \n",
            "---  ------    --------------  ----- \n",
            " 0   context   92749 non-null  object\n",
            " 1   question  92749 non-null  object\n",
            " 2   answer    92749 non-null  object\n",
            "dtypes: object(3)\n",
            "memory usage: 2.1+ MB\n"
          ]
        }
      ],
      "source": [
        "df.info()"
      ]
    },
    {
      "cell_type": "code",
      "execution_count": 12,
      "metadata": {
        "colab": {
          "base_uri": "https://localhost:8080/"
        },
        "id": "KhhBXctBK0ta",
        "outputId": "89047eef-e1da-46a9-9393-969204a32f4d"
      },
      "outputs": [
        {
          "output_type": "stream",
          "name": "stdout",
          "text": [
            "Missing values:\n",
            " context     0\n",
            "question    0\n",
            "answer      0\n",
            "dtype: int64\n",
            "\n",
            "Duplikasi baris: 55\n"
          ]
        }
      ],
      "source": [
        "print(\"Missing values:\\n\", df.isnull().sum())\n",
        "print(\"\\nDuplikasi baris:\", df.duplicated().sum())"
      ]
    },
    {
      "cell_type": "code",
      "execution_count": 13,
      "metadata": {
        "colab": {
          "base_uri": "https://localhost:8080/",
          "height": 424
        },
        "id": "7N4CR3yVLJ41",
        "outputId": "6826572f-956b-4c2d-916f-f2a9f7af819b"
      },
      "outputs": [
        {
          "output_type": "execute_result",
          "data": {
            "text/plain": [
              "                                                 context  \\\n",
              "0      Beyoncé Giselle Knowles-Carter (/bijanse / bee...   \n",
              "1      Beyoncé Giselle Knowles-Carter (/bijanse / bee...   \n",
              "2      Beyoncé Giselle Knowles-Carter (/bijanse / bee...   \n",
              "3      Beyoncé Giselle Knowles-Carter (/bijanse / bee...   \n",
              "4      Beyoncé Giselle Knowles-Carter (/bijanse / bee...   \n",
              "...                                                  ...   \n",
              "92689  Pound-force memiliki mitra metrik, kurang umum...   \n",
              "92690  Pound-force memiliki mitra metrik, kurang umum...   \n",
              "92691  Pound-force memiliki mitra metrik, kurang umum...   \n",
              "92692  Pound-force memiliki mitra metrik, kurang umum...   \n",
              "92693  Pound-force memiliki mitra metrik, kurang umum...   \n",
              "\n",
              "                                                question              answer  \n",
              "0                   Kapan Beyonce mulai menjadi populer?  pada akhir 1990-an  \n",
              "1      Daerah mana saja yang bersaing dengan Beyonce ...        menyanyi dan  \n",
              "2      Kapan Beyonce meninggalkan Destiny's Child dan...                2003  \n",
              "3                Di kota dan negara mana Beyonce tumbuh?      Houston, Texas  \n",
              "4             Pada dekade mana Beyonce menjadi terkenal?       akhir 1990-an  \n",
              "...                                                  ...                 ...  \n",
              "92689  Apa istilah metrik yang kurang digunakan dari ...      kilogram-force  \n",
              "92690  Apa daya kilogram kadang-kadang direffer ke se...            kilopond  \n",
              "92691  Apa yang jarang digunakan unit massa dalam sis...               siput  \n",
              "92692  Apa yang jarang digunakan istilah unit kekuata...                 kip  \n",
              "92693  Apa yang jarang digunakan unit gaya sama denga...              sthène  \n",
              "\n",
              "[92694 rows x 3 columns]"
            ],
            "text/html": [
              "\n",
              "  <div id=\"df-908d4ecc-2ddd-403b-b11d-459797d2fd69\" class=\"colab-df-container\">\n",
              "    <div>\n",
              "<style scoped>\n",
              "    .dataframe tbody tr th:only-of-type {\n",
              "        vertical-align: middle;\n",
              "    }\n",
              "\n",
              "    .dataframe tbody tr th {\n",
              "        vertical-align: top;\n",
              "    }\n",
              "\n",
              "    .dataframe thead th {\n",
              "        text-align: right;\n",
              "    }\n",
              "</style>\n",
              "<table border=\"1\" class=\"dataframe\">\n",
              "  <thead>\n",
              "    <tr style=\"text-align: right;\">\n",
              "      <th></th>\n",
              "      <th>context</th>\n",
              "      <th>question</th>\n",
              "      <th>answer</th>\n",
              "    </tr>\n",
              "  </thead>\n",
              "  <tbody>\n",
              "    <tr>\n",
              "      <th>0</th>\n",
              "      <td>Beyoncé Giselle Knowles-Carter (/bijanse / bee...</td>\n",
              "      <td>Kapan Beyonce mulai menjadi populer?</td>\n",
              "      <td>pada akhir 1990-an</td>\n",
              "    </tr>\n",
              "    <tr>\n",
              "      <th>1</th>\n",
              "      <td>Beyoncé Giselle Knowles-Carter (/bijanse / bee...</td>\n",
              "      <td>Daerah mana saja yang bersaing dengan Beyonce ...</td>\n",
              "      <td>menyanyi dan</td>\n",
              "    </tr>\n",
              "    <tr>\n",
              "      <th>2</th>\n",
              "      <td>Beyoncé Giselle Knowles-Carter (/bijanse / bee...</td>\n",
              "      <td>Kapan Beyonce meninggalkan Destiny's Child dan...</td>\n",
              "      <td>2003</td>\n",
              "    </tr>\n",
              "    <tr>\n",
              "      <th>3</th>\n",
              "      <td>Beyoncé Giselle Knowles-Carter (/bijanse / bee...</td>\n",
              "      <td>Di kota dan negara mana Beyonce tumbuh?</td>\n",
              "      <td>Houston, Texas</td>\n",
              "    </tr>\n",
              "    <tr>\n",
              "      <th>4</th>\n",
              "      <td>Beyoncé Giselle Knowles-Carter (/bijanse / bee...</td>\n",
              "      <td>Pada dekade mana Beyonce menjadi terkenal?</td>\n",
              "      <td>akhir 1990-an</td>\n",
              "    </tr>\n",
              "    <tr>\n",
              "      <th>...</th>\n",
              "      <td>...</td>\n",
              "      <td>...</td>\n",
              "      <td>...</td>\n",
              "    </tr>\n",
              "    <tr>\n",
              "      <th>92689</th>\n",
              "      <td>Pound-force memiliki mitra metrik, kurang umum...</td>\n",
              "      <td>Apa istilah metrik yang kurang digunakan dari ...</td>\n",
              "      <td>kilogram-force</td>\n",
              "    </tr>\n",
              "    <tr>\n",
              "      <th>92690</th>\n",
              "      <td>Pound-force memiliki mitra metrik, kurang umum...</td>\n",
              "      <td>Apa daya kilogram kadang-kadang direffer ke se...</td>\n",
              "      <td>kilopond</td>\n",
              "    </tr>\n",
              "    <tr>\n",
              "      <th>92691</th>\n",
              "      <td>Pound-force memiliki mitra metrik, kurang umum...</td>\n",
              "      <td>Apa yang jarang digunakan unit massa dalam sis...</td>\n",
              "      <td>siput</td>\n",
              "    </tr>\n",
              "    <tr>\n",
              "      <th>92692</th>\n",
              "      <td>Pound-force memiliki mitra metrik, kurang umum...</td>\n",
              "      <td>Apa yang jarang digunakan istilah unit kekuata...</td>\n",
              "      <td>kip</td>\n",
              "    </tr>\n",
              "    <tr>\n",
              "      <th>92693</th>\n",
              "      <td>Pound-force memiliki mitra metrik, kurang umum...</td>\n",
              "      <td>Apa yang jarang digunakan unit gaya sama denga...</td>\n",
              "      <td>sthène</td>\n",
              "    </tr>\n",
              "  </tbody>\n",
              "</table>\n",
              "<p>92694 rows × 3 columns</p>\n",
              "</div>\n",
              "    <div class=\"colab-df-buttons\">\n",
              "\n",
              "  <div class=\"colab-df-container\">\n",
              "    <button class=\"colab-df-convert\" onclick=\"convertToInteractive('df-908d4ecc-2ddd-403b-b11d-459797d2fd69')\"\n",
              "            title=\"Convert this dataframe to an interactive table.\"\n",
              "            style=\"display:none;\">\n",
              "\n",
              "  <svg xmlns=\"http://www.w3.org/2000/svg\" height=\"24px\" viewBox=\"0 -960 960 960\">\n",
              "    <path d=\"M120-120v-720h720v720H120Zm60-500h600v-160H180v160Zm220 220h160v-160H400v160Zm0 220h160v-160H400v160ZM180-400h160v-160H180v160Zm440 0h160v-160H620v160ZM180-180h160v-160H180v160Zm440 0h160v-160H620v160Z\"/>\n",
              "  </svg>\n",
              "    </button>\n",
              "\n",
              "  <style>\n",
              "    .colab-df-container {\n",
              "      display:flex;\n",
              "      gap: 12px;\n",
              "    }\n",
              "\n",
              "    .colab-df-convert {\n",
              "      background-color: #E8F0FE;\n",
              "      border: none;\n",
              "      border-radius: 50%;\n",
              "      cursor: pointer;\n",
              "      display: none;\n",
              "      fill: #1967D2;\n",
              "      height: 32px;\n",
              "      padding: 0 0 0 0;\n",
              "      width: 32px;\n",
              "    }\n",
              "\n",
              "    .colab-df-convert:hover {\n",
              "      background-color: #E2EBFA;\n",
              "      box-shadow: 0px 1px 2px rgba(60, 64, 67, 0.3), 0px 1px 3px 1px rgba(60, 64, 67, 0.15);\n",
              "      fill: #174EA6;\n",
              "    }\n",
              "\n",
              "    .colab-df-buttons div {\n",
              "      margin-bottom: 4px;\n",
              "    }\n",
              "\n",
              "    [theme=dark] .colab-df-convert {\n",
              "      background-color: #3B4455;\n",
              "      fill: #D2E3FC;\n",
              "    }\n",
              "\n",
              "    [theme=dark] .colab-df-convert:hover {\n",
              "      background-color: #434B5C;\n",
              "      box-shadow: 0px 1px 3px 1px rgba(0, 0, 0, 0.15);\n",
              "      filter: drop-shadow(0px 1px 2px rgba(0, 0, 0, 0.3));\n",
              "      fill: #FFFFFF;\n",
              "    }\n",
              "  </style>\n",
              "\n",
              "    <script>\n",
              "      const buttonEl =\n",
              "        document.querySelector('#df-908d4ecc-2ddd-403b-b11d-459797d2fd69 button.colab-df-convert');\n",
              "      buttonEl.style.display =\n",
              "        google.colab.kernel.accessAllowed ? 'block' : 'none';\n",
              "\n",
              "      async function convertToInteractive(key) {\n",
              "        const element = document.querySelector('#df-908d4ecc-2ddd-403b-b11d-459797d2fd69');\n",
              "        const dataTable =\n",
              "          await google.colab.kernel.invokeFunction('convertToInteractive',\n",
              "                                                    [key], {});\n",
              "        if (!dataTable) return;\n",
              "\n",
              "        const docLinkHtml = 'Like what you see? Visit the ' +\n",
              "          '<a target=\"_blank\" href=https://colab.research.google.com/notebooks/data_table.ipynb>data table notebook</a>'\n",
              "          + ' to learn more about interactive tables.';\n",
              "        element.innerHTML = '';\n",
              "        dataTable['output_type'] = 'display_data';\n",
              "        await google.colab.output.renderOutput(dataTable, element);\n",
              "        const docLink = document.createElement('div');\n",
              "        docLink.innerHTML = docLinkHtml;\n",
              "        element.appendChild(docLink);\n",
              "      }\n",
              "    </script>\n",
              "  </div>\n",
              "\n",
              "\n",
              "    <div id=\"df-aa72ef61-6483-40bd-815b-ed4c198ab002\">\n",
              "      <button class=\"colab-df-quickchart\" onclick=\"quickchart('df-aa72ef61-6483-40bd-815b-ed4c198ab002')\"\n",
              "                title=\"Suggest charts\"\n",
              "                style=\"display:none;\">\n",
              "\n",
              "<svg xmlns=\"http://www.w3.org/2000/svg\" height=\"24px\"viewBox=\"0 0 24 24\"\n",
              "     width=\"24px\">\n",
              "    <g>\n",
              "        <path d=\"M19 3H5c-1.1 0-2 .9-2 2v14c0 1.1.9 2 2 2h14c1.1 0 2-.9 2-2V5c0-1.1-.9-2-2-2zM9 17H7v-7h2v7zm4 0h-2V7h2v10zm4 0h-2v-4h2v4z\"/>\n",
              "    </g>\n",
              "</svg>\n",
              "      </button>\n",
              "\n",
              "<style>\n",
              "  .colab-df-quickchart {\n",
              "      --bg-color: #E8F0FE;\n",
              "      --fill-color: #1967D2;\n",
              "      --hover-bg-color: #E2EBFA;\n",
              "      --hover-fill-color: #174EA6;\n",
              "      --disabled-fill-color: #AAA;\n",
              "      --disabled-bg-color: #DDD;\n",
              "  }\n",
              "\n",
              "  [theme=dark] .colab-df-quickchart {\n",
              "      --bg-color: #3B4455;\n",
              "      --fill-color: #D2E3FC;\n",
              "      --hover-bg-color: #434B5C;\n",
              "      --hover-fill-color: #FFFFFF;\n",
              "      --disabled-bg-color: #3B4455;\n",
              "      --disabled-fill-color: #666;\n",
              "  }\n",
              "\n",
              "  .colab-df-quickchart {\n",
              "    background-color: var(--bg-color);\n",
              "    border: none;\n",
              "    border-radius: 50%;\n",
              "    cursor: pointer;\n",
              "    display: none;\n",
              "    fill: var(--fill-color);\n",
              "    height: 32px;\n",
              "    padding: 0;\n",
              "    width: 32px;\n",
              "  }\n",
              "\n",
              "  .colab-df-quickchart:hover {\n",
              "    background-color: var(--hover-bg-color);\n",
              "    box-shadow: 0 1px 2px rgba(60, 64, 67, 0.3), 0 1px 3px 1px rgba(60, 64, 67, 0.15);\n",
              "    fill: var(--button-hover-fill-color);\n",
              "  }\n",
              "\n",
              "  .colab-df-quickchart-complete:disabled,\n",
              "  .colab-df-quickchart-complete:disabled:hover {\n",
              "    background-color: var(--disabled-bg-color);\n",
              "    fill: var(--disabled-fill-color);\n",
              "    box-shadow: none;\n",
              "  }\n",
              "\n",
              "  .colab-df-spinner {\n",
              "    border: 2px solid var(--fill-color);\n",
              "    border-color: transparent;\n",
              "    border-bottom-color: var(--fill-color);\n",
              "    animation:\n",
              "      spin 1s steps(1) infinite;\n",
              "  }\n",
              "\n",
              "  @keyframes spin {\n",
              "    0% {\n",
              "      border-color: transparent;\n",
              "      border-bottom-color: var(--fill-color);\n",
              "      border-left-color: var(--fill-color);\n",
              "    }\n",
              "    20% {\n",
              "      border-color: transparent;\n",
              "      border-left-color: var(--fill-color);\n",
              "      border-top-color: var(--fill-color);\n",
              "    }\n",
              "    30% {\n",
              "      border-color: transparent;\n",
              "      border-left-color: var(--fill-color);\n",
              "      border-top-color: var(--fill-color);\n",
              "      border-right-color: var(--fill-color);\n",
              "    }\n",
              "    40% {\n",
              "      border-color: transparent;\n",
              "      border-right-color: var(--fill-color);\n",
              "      border-top-color: var(--fill-color);\n",
              "    }\n",
              "    60% {\n",
              "      border-color: transparent;\n",
              "      border-right-color: var(--fill-color);\n",
              "    }\n",
              "    80% {\n",
              "      border-color: transparent;\n",
              "      border-right-color: var(--fill-color);\n",
              "      border-bottom-color: var(--fill-color);\n",
              "    }\n",
              "    90% {\n",
              "      border-color: transparent;\n",
              "      border-bottom-color: var(--fill-color);\n",
              "    }\n",
              "  }\n",
              "</style>\n",
              "\n",
              "      <script>\n",
              "        async function quickchart(key) {\n",
              "          const quickchartButtonEl =\n",
              "            document.querySelector('#' + key + ' button');\n",
              "          quickchartButtonEl.disabled = true;  // To prevent multiple clicks.\n",
              "          quickchartButtonEl.classList.add('colab-df-spinner');\n",
              "          try {\n",
              "            const charts = await google.colab.kernel.invokeFunction(\n",
              "                'suggestCharts', [key], {});\n",
              "          } catch (error) {\n",
              "            console.error('Error during call to suggestCharts:', error);\n",
              "          }\n",
              "          quickchartButtonEl.classList.remove('colab-df-spinner');\n",
              "          quickchartButtonEl.classList.add('colab-df-quickchart-complete');\n",
              "        }\n",
              "        (() => {\n",
              "          let quickchartButtonEl =\n",
              "            document.querySelector('#df-aa72ef61-6483-40bd-815b-ed4c198ab002 button');\n",
              "          quickchartButtonEl.style.display =\n",
              "            google.colab.kernel.accessAllowed ? 'block' : 'none';\n",
              "        })();\n",
              "      </script>\n",
              "    </div>\n",
              "\n",
              "  <div id=\"id_9ae6ab21-753c-4340-80a7-9aab75e6de76\">\n",
              "    <style>\n",
              "      .colab-df-generate {\n",
              "        background-color: #E8F0FE;\n",
              "        border: none;\n",
              "        border-radius: 50%;\n",
              "        cursor: pointer;\n",
              "        display: none;\n",
              "        fill: #1967D2;\n",
              "        height: 32px;\n",
              "        padding: 0 0 0 0;\n",
              "        width: 32px;\n",
              "      }\n",
              "\n",
              "      .colab-df-generate:hover {\n",
              "        background-color: #E2EBFA;\n",
              "        box-shadow: 0px 1px 2px rgba(60, 64, 67, 0.3), 0px 1px 3px 1px rgba(60, 64, 67, 0.15);\n",
              "        fill: #174EA6;\n",
              "      }\n",
              "\n",
              "      [theme=dark] .colab-df-generate {\n",
              "        background-color: #3B4455;\n",
              "        fill: #D2E3FC;\n",
              "      }\n",
              "\n",
              "      [theme=dark] .colab-df-generate:hover {\n",
              "        background-color: #434B5C;\n",
              "        box-shadow: 0px 1px 3px 1px rgba(0, 0, 0, 0.15);\n",
              "        filter: drop-shadow(0px 1px 2px rgba(0, 0, 0, 0.3));\n",
              "        fill: #FFFFFF;\n",
              "      }\n",
              "    </style>\n",
              "    <button class=\"colab-df-generate\" onclick=\"generateWithVariable('df')\"\n",
              "            title=\"Generate code using this dataframe.\"\n",
              "            style=\"display:none;\">\n",
              "\n",
              "  <svg xmlns=\"http://www.w3.org/2000/svg\" height=\"24px\"viewBox=\"0 0 24 24\"\n",
              "       width=\"24px\">\n",
              "    <path d=\"M7,19H8.4L18.45,9,17,7.55,7,17.6ZM5,21V16.75L18.45,3.32a2,2,0,0,1,2.83,0l1.4,1.43a1.91,1.91,0,0,1,.58,1.4,1.91,1.91,0,0,1-.58,1.4L9.25,21ZM18.45,9,17,7.55Zm-12,3A5.31,5.31,0,0,0,4.9,8.1,5.31,5.31,0,0,0,1,6.5,5.31,5.31,0,0,0,4.9,4.9,5.31,5.31,0,0,0,6.5,1,5.31,5.31,0,0,0,8.1,4.9,5.31,5.31,0,0,0,12,6.5,5.46,5.46,0,0,0,6.5,12Z\"/>\n",
              "  </svg>\n",
              "    </button>\n",
              "    <script>\n",
              "      (() => {\n",
              "      const buttonEl =\n",
              "        document.querySelector('#id_9ae6ab21-753c-4340-80a7-9aab75e6de76 button.colab-df-generate');\n",
              "      buttonEl.style.display =\n",
              "        google.colab.kernel.accessAllowed ? 'block' : 'none';\n",
              "\n",
              "      buttonEl.onclick = () => {\n",
              "        google.colab.notebook.generateWithVariable('df');\n",
              "      }\n",
              "      })();\n",
              "    </script>\n",
              "  </div>\n",
              "\n",
              "    </div>\n",
              "  </div>\n"
            ],
            "application/vnd.google.colaboratory.intrinsic+json": {
              "type": "dataframe",
              "variable_name": "df",
              "summary": "{\n  \"name\": \"df\",\n  \"rows\": 92694,\n  \"fields\": [\n    {\n      \"column\": \"context\",\n      \"properties\": {\n        \"dtype\": \"category\",\n        \"num_unique_values\": 20081,\n        \"samples\": [\n          \"Sebagaimana disebutkan di atas, ada 55 kirkhundla di Swaziland dan masing - masing memilih satu wakil ke Gedung Kebaktian Swaziland. Setiap inkhundla memiliki komite pengembangan (bucopho) terpilih dari berbagai konstituen kepemimpinan di daerahnya selama lima tahun. Bucopho membawa ke Inkhundla segala sesuatu yang menarik perhatian dan perhatian kepada berbagai tokoh terkemuka mereka, dan membawa kembali ke kerajaan-kerajaan terkemuka keputusan-keputusan inkhundla. Ketua bucopho terpilih di Inkhundla dan disebut indvuna kalian nkhundla.\",\n          \"Pada tahun 1903, Josiah White III membeli sebidang tanah dekat Ohio Avenue dan boardwalk dan membangun Queen Anne gaya Marlborough House. Hotel itu sukses dan, pada tahun 190506, ia memilih untuk memperluas hotel dan membeli sebidang tanah lain di sebelah rumah Marlborough nya. Dalam upaya menjadikan hotel barunya sebagai sumber percakapan, White menyewa perusahaan arsitektur Price dan McLanahan. Perusahaan itu menggunakan beton yang diperkuat, bahan bangunan baru yang ditemukan oleh Jean-Louis Lambot pada tahun 1848 (Joseph Monier menerima paten pada tahun 1867). The hotel Spanyol dan Moor temaes, ditutup dengan kubah tanda tangan dan cerobong asap, mewakili sebuah langkah maju dari hotel-hotel lain yang memiliki pengaruh klasik dirancang. White bernama hotel baru Blenheim dan menggabungkan dua hotel ke Marlborough-Blenheim. Kota Atlantik Bally belakangan dibangun di lokasi ini.\",\n          \"Gereja - gereja Armenia yang pertama dibangun antara abad ke - 4 dan ke - 7, dimulai sewaktu Armenia beralih ke Kekristenan, dan berakhir dengan penyerbuan Arab di Armenia. Gereja - gereja masa awal sebagian besar adalah basilika sederhana, tetapi beberapa dengan apes sampingan. Pada abad kelima, kerucut cupola yang khas di tengahnya telah digunakan secara luas. Pada abad ketujuh, gereja - gereja yang direncanakan secara pusat telah dibangun dan gaya Himpunan pantat yang lebih rumit serta radiate Hrip'sim\\u00e9 telah terbentuk. Pada saat invasi Arab, sebagian besar yang kita sekarang tahu sebagai arsitektur klasik Armenia telah terbentuk.\"\n        ],\n        \"semantic_type\": \"\",\n        \"description\": \"\"\n      }\n    },\n    {\n      \"column\": \"question\",\n      \"properties\": {\n        \"dtype\": \"string\",\n        \"num_unique_values\": 92589,\n        \"samples\": [\n          \"Di mana Sekretaris Permanen melayani sebagai PNS senior?\",\n          \"Pada tahun berapa Comcast mengambil alih mayoritas minat di QVC?\",\n          \"Ethnohistory dapat mempelajari sejarah kelompok jenis apa yang mungkin ada atau tidak ada dewasa ini?\"\n        ],\n        \"semantic_type\": \"\",\n        \"description\": \"\"\n      }\n    },\n    {\n      \"column\": \"answer\",\n      \"properties\": {\n        \"dtype\": \"string\",\n        \"num_unique_values\": 67837,\n        \"samples\": [\n          \"Myanma Ekonomi Bank berbagi 51 persen\",\n          \"untuk merekam data atau menyampaikan informasi langsung\",\n          \"Ritchie Blackmore\"\n        ],\n        \"semantic_type\": \"\",\n        \"description\": \"\"\n      }\n    }\n  ]\n}"
            }
          },
          "metadata": {},
          "execution_count": 13
        }
      ],
      "source": [
        "df.drop_duplicates(inplace=True)\n",
        "df.reset_index(drop=True, inplace=True)\n",
        "df"
      ]
    },
    {
      "cell_type": "code",
      "execution_count": 14,
      "metadata": {
        "colab": {
          "base_uri": "https://localhost:8080/"
        },
        "id": "LGIUiBGVMJwC",
        "outputId": "49da4428-9b0d-4c11-9e37-01f6f44d1b07"
      },
      "outputs": [
        {
          "output_type": "stream",
          "name": "stdout",
          "text": [
            "Duplikasi baris: 0\n"
          ]
        }
      ],
      "source": [
        "print(\"Duplikasi baris:\", df.duplicated().sum())"
      ]
    },
    {
      "cell_type": "markdown",
      "metadata": {
        "id": "dj1apfiGsjLY"
      },
      "source": [
        "### Data Sampling, Convert to HuggingFace Dataset & Split to Train and Test"
      ]
    },
    {
      "cell_type": "code",
      "execution_count": 15,
      "metadata": {
        "colab": {
          "base_uri": "https://localhost:8080/"
        },
        "id": "Rcjn-Dc2MQBQ",
        "outputId": "726a12dc-1641-4cc8-8b82-3029200a0cc3"
      },
      "outputs": [
        {
          "output_type": "execute_result",
          "data": {
            "text/plain": [
              "DatasetDict({\n",
              "    train: Dataset({\n",
              "        features: ['context', 'question', 'answer'],\n",
              "        num_rows: 800\n",
              "    })\n",
              "    test: Dataset({\n",
              "        features: ['context', 'question', 'answer'],\n",
              "        num_rows: 200\n",
              "    })\n",
              "})"
            ]
          },
          "metadata": {},
          "execution_count": 15
        }
      ],
      "source": [
        "sample_size = 1000\n",
        "df_sample = df.sample(n=sample_size, random_state=42).reset_index(drop=True)\n",
        "\n",
        "contexts_list = df_sample['context'].tolist()\n",
        "questions_list = df_sample['question'].tolist()\n",
        "answers_list = df_sample['answer'].tolist()\n",
        "\n",
        "raw_dataset = Dataset.from_dict({\n",
        "    \"context\": contexts_list,\n",
        "    \"question\": questions_list,\n",
        "    \"answer\": answers_list\n",
        "})\n",
        "\n",
        "raw_dataset = raw_dataset.train_test_split(test_size=0.2)\n",
        "raw_dataset"
      ]
    },
    {
      "cell_type": "markdown",
      "metadata": {
        "id": "9tdNYA1As4oH"
      },
      "source": [
        "### Preprocessing and Tokenization"
      ]
    },
    {
      "cell_type": "code",
      "execution_count": 16,
      "metadata": {
        "colab": {
          "base_uri": "https://localhost:8080/",
          "height": 385,
          "referenced_widgets": [
            "6a7cfc00bab34c28b9d794a2fe797da0",
            "7fcbfdeb382a4c8d80bf5b92be698bb8",
            "c13566895f8447ddb204b9b8b028db11",
            "ec46677dc8b944e08657cdef924b874a",
            "ed5b725f580544dd87270fa253f1fa08",
            "c1f2e1f208fc43e6bc14962d53a618dc",
            "0b918bcfbcaa4ea2b212c48a9dc55f5a",
            "c061f13bb7f84ebfb43c5e80205263fe",
            "83968430daae4f179db13042ed9f0db3",
            "9fe2c8e17f934eb78ad358ebca94a208",
            "eb9088621d0a47af9189096afe3cea7c",
            "0ad308f80a414e178970e60db8f8eca2",
            "9f462283bf004e6ba458de8814ac7d0c",
            "7c54e7cf0beb4d26bbdbb24e43a4197d",
            "816cd0842a894687b313b2fe7d09c21a",
            "6de5d225385c4e89b52ab99032c35336",
            "31a7da9bb0084d66b01eeb2f60ad8fd0",
            "6087d985146441c8a23afedf4c6221a4",
            "d945a3e44f8c4ade9ef6cbd94b7ffa74",
            "644a05d1675546f3948be29148bd5569",
            "e7edaf754c294277a1fd53ebabffc291",
            "08bfa3f53ef042ad99bf4c1d65909d02",
            "c27d96f4774045e7a96609a52e1963cd",
            "74a87310d9ce4a38b9a60b141d7f7e6b",
            "a9283ea4d83a4749832a78f7a5df54fc",
            "34790ac3db8a496daa2c4cd629d75c52",
            "c2e01c0947574cdca64a52b7cc851c55",
            "f56bb6537c1b41278ec8672930851026",
            "b835f666da8b45cfaf219d3fc5ad7e89",
            "9c9a5b4d5b81477db845c63423730bf9",
            "00df6945a4b346c490de38902fdccd43",
            "cd8e45468ba34071bc609bebeb62589a",
            "254d63ffda3d4d159a34b16ba6f5ed68",
            "2b024d6fb79e4a139b0b533c52361c48",
            "aba38c50cc28425eb1d1a1cfd5752e5b",
            "27a0011cfac542fa9777662ce2201858",
            "4f92b414daf6439d93c0898caa3fb2bd",
            "23b45ac3129a45b29a378430c38e15e6",
            "7a69a08d962544c69927e35f6ac7f622",
            "37b2792e6baa4b1db1a54b9979e361ba",
            "e6888e599e594dbc9580e98e4d626494",
            "651daab40a2245708e86145c13c750a0",
            "5985308acaab4967a627067fbb66e6df",
            "6cf643e7872b4916a592f480b0c1a196",
            "c0fe98d179ef4f2a8b0363d4fa44e9fe",
            "38ce8e2cf0cb4aa482baac4410e8a4d2",
            "ba8aa31e1b574e85a256e655f816783f",
            "7183c4f4ac324fb39e95519c2e1a7994",
            "4d954c15ea704c6db0426f36c9492eda",
            "55a6d1f2f73b41588dc6a1dd7c65c923",
            "6783c76b382b44b3afc69446ce74d393",
            "223b928571db403ebe8eb8bb3ac00922",
            "c32cf441ed684fd9b613913bde88eace",
            "f2684430b05a45c6aac11d23b2297141",
            "f223b82314cc4d8d969cec4a23165a48",
            "326b3be23fde4ee8b59299b36cf40333",
            "6c450b10dc7d4211923b1499da57f349",
            "984b3200f6724a689ab3d1e27248b9c9",
            "b7367a48ff3f4f98b4b0f501caa9fb6e",
            "9f7a31bb0d1f490ca235313ad45668de",
            "77e3cf2aec2b44c798312820e313c62f",
            "e46cfbff066f4882a9975c0c5da87008",
            "e1401dfb0b694d349e95a12d4a2216f4",
            "0d5ed7f8a1f84f76a7ecead3378d1be0",
            "4969ee04bcde42a184b7e62cf86415e5",
            "10303cc9debc4babb9729e2c760bb272"
          ]
        },
        "id": "8NRek5nr4jha",
        "outputId": "29f026fc-13ab-4f0e-bba7-2e646376155c"
      },
      "outputs": [
        {
          "output_type": "stream",
          "name": "stderr",
          "text": [
            "/usr/local/lib/python3.11/dist-packages/huggingface_hub/utils/_auth.py:94: UserWarning: \n",
            "The secret `HF_TOKEN` does not exist in your Colab secrets.\n",
            "To authenticate with the Hugging Face Hub, create a token in your settings tab (https://huggingface.co/settings/tokens), set it as secret in your Google Colab and restart your session.\n",
            "You will be able to reuse this secret in all of your notebooks.\n",
            "Please note that authentication is recommended but still optional to access public models or datasets.\n",
            "  warnings.warn(\n"
          ]
        },
        {
          "output_type": "display_data",
          "data": {
            "text/plain": [
              "tokenizer_config.json:   0%|          | 0.00/2.07k [00:00<?, ?B/s]"
            ],
            "application/vnd.jupyter.widget-view+json": {
              "version_major": 2,
              "version_minor": 0,
              "model_id": "6a7cfc00bab34c28b9d794a2fe797da0"
            }
          },
          "metadata": {}
        },
        {
          "output_type": "display_data",
          "data": {
            "text/plain": [
              "spiece.model:   0%|          | 0.00/793k [00:00<?, ?B/s]"
            ],
            "application/vnd.jupyter.widget-view+json": {
              "version_major": 2,
              "version_minor": 0,
              "model_id": "0ad308f80a414e178970e60db8f8eca2"
            }
          },
          "metadata": {}
        },
        {
          "output_type": "display_data",
          "data": {
            "text/plain": [
              "special_tokens_map.json:   0%|          | 0.00/1.79k [00:00<?, ?B/s]"
            ],
            "application/vnd.jupyter.widget-view+json": {
              "version_major": 2,
              "version_minor": 0,
              "model_id": "c27d96f4774045e7a96609a52e1963cd"
            }
          },
          "metadata": {}
        },
        {
          "output_type": "display_data",
          "data": {
            "text/plain": [
              "config.json:   0%|          | 0.00/657 [00:00<?, ?B/s]"
            ],
            "application/vnd.jupyter.widget-view+json": {
              "version_major": 2,
              "version_minor": 0,
              "model_id": "2b024d6fb79e4a139b0b533c52361c48"
            }
          },
          "metadata": {}
        },
        {
          "output_type": "stream",
          "name": "stderr",
          "text": [
            "You are using the default legacy behaviour of the <class 'transformers.models.t5.tokenization_t5.T5Tokenizer'>. This is expected, and simply means that the `legacy` (previous) behavior will be used so nothing changes for you. If you want to use the new behaviour, set `legacy=False`. This should only be set if you understand what it means, and thoroughly read the reason why this was added as explained in https://github.com/huggingface/transformers/pull/24565\n"
          ]
        },
        {
          "output_type": "display_data",
          "data": {
            "text/plain": [
              "Map:   0%|          | 0/800 [00:00<?, ? examples/s]"
            ],
            "application/vnd.jupyter.widget-view+json": {
              "version_major": 2,
              "version_minor": 0,
              "model_id": "c0fe98d179ef4f2a8b0363d4fa44e9fe"
            }
          },
          "metadata": {}
        },
        {
          "output_type": "stream",
          "name": "stderr",
          "text": [
            "/usr/local/lib/python3.11/dist-packages/transformers/tokenization_utils_base.py:3959: UserWarning: `as_target_tokenizer` is deprecated and will be removed in v5 of Transformers. You can tokenize your labels by using the argument `text_target` of the regular `__call__` method (either in the same call as your input texts if you use the same keyword arguments, or in a separate call.\n",
            "  warnings.warn(\n"
          ]
        },
        {
          "output_type": "display_data",
          "data": {
            "text/plain": [
              "Map:   0%|          | 0/200 [00:00<?, ? examples/s]"
            ],
            "application/vnd.jupyter.widget-view+json": {
              "version_major": 2,
              "version_minor": 0,
              "model_id": "326b3be23fde4ee8b59299b36cf40333"
            }
          },
          "metadata": {}
        }
      ],
      "source": [
        "tokenizer = T5Tokenizer.from_pretrained(\"cahya/t5-base-indonesian-summarization-cased\")\n",
        "\n",
        "def preprocess(text):\n",
        "    input_text = f\"generate question: context: {text['context']} answer: {text['answer']}\"\n",
        "    target_text = text[\"question\"]\n",
        "\n",
        "    model_inputs = tokenizer(\n",
        "        input_text, max_length=512, padding=\"max_length\", truncation=True\n",
        "    )\n",
        "\n",
        "    with tokenizer.as_target_tokenizer():\n",
        "        labels = tokenizer(\n",
        "            target_text, max_length=64, padding=\"max_length\", truncation=True\n",
        "        )\n",
        "\n",
        "    model_inputs[\"labels\"] = labels[\"input_ids\"]\n",
        "    return model_inputs\n",
        "\n",
        "\n",
        "tokenized_dataset = raw_dataset.map(preprocess, batched=False)"
      ]
    },
    {
      "cell_type": "markdown",
      "metadata": {
        "id": "vk-PcvJrt5g5"
      },
      "source": [
        "## Load and Configure T5 Model"
      ]
    },
    {
      "cell_type": "code",
      "execution_count": 17,
      "metadata": {
        "id": "Fn9e9yFh2SNZ",
        "colab": {
          "base_uri": "https://localhost:8080/",
          "height": 81,
          "referenced_widgets": [
            "1884edc6c3514cba9b44f0291d22c142",
            "f02e107c06f0410bb7c044f3fa353b91",
            "ac9a8caed5234a64a0684a9fbc28c144",
            "e90cfa08d0464374bd035a30ed4f4384",
            "c5c33bfbe80a45b5a1c95f244c99e397",
            "ad96a0c25d7344e89544a9168c0f7ad2",
            "433e115f038949cfb9642d64cd2b56e1",
            "39c11b2fec144bbc92d86f55afa2d251",
            "8176fd998f9548ab8330a9453667ff25",
            "1b1fafdf0623459a9bde4aa64eb64b4c",
            "beecc48e29da44a1977a4b53b88e4e95",
            "41199ee155a14b7aa87b2afd5fc19e9e",
            "3243a9086e134fb9ae1af7fe43694e19",
            "a56f0eb9a88e48ed96bdd65159fa2879",
            "624e2f9f00ad427bb76ad1a617341f8e",
            "0cd8760eac944970a9207baf7f19c585",
            "843d4527cc784b34a3f6448285d6b42b",
            "2fc0c5938805482dac65ce65f54f4d4c",
            "ffb3684426694bd487ed4687ce829230",
            "0656de33c21640d0b4a2f03a9ee7ed7a",
            "67315f4ecb2c4f7d9d4e08d893c5d2a0",
            "5460ac6b692c4fc5872cd855b74e0bac"
          ]
        },
        "outputId": "4c0a582f-0752-4d9f-c6ba-dc3a485290af"
      },
      "outputs": [
        {
          "output_type": "display_data",
          "data": {
            "text/plain": [
              "pytorch_model.bin:   0%|          | 0.00/892M [00:00<?, ?B/s]"
            ],
            "application/vnd.jupyter.widget-view+json": {
              "version_major": 2,
              "version_minor": 0,
              "model_id": "1884edc6c3514cba9b44f0291d22c142"
            }
          },
          "metadata": {}
        },
        {
          "output_type": "display_data",
          "data": {
            "text/plain": [
              "model.safetensors:   0%|          | 0.00/892M [00:00<?, ?B/s]"
            ],
            "application/vnd.jupyter.widget-view+json": {
              "version_major": 2,
              "version_minor": 0,
              "model_id": "41199ee155a14b7aa87b2afd5fc19e9e"
            }
          },
          "metadata": {}
        }
      ],
      "source": [
        "t5_model = T5ForConditionalGeneration.from_pretrained(\"cahya/t5-base-indonesian-summarization-cased\")"
      ]
    },
    {
      "cell_type": "code",
      "execution_count": 18,
      "metadata": {
        "colab": {
          "base_uri": "https://localhost:8080/",
          "height": 165
        },
        "id": "hXFCgf7l7hUj",
        "outputId": "dacb1d8f-4c14-4e49-d4c5-9a36402e8def"
      },
      "outputs": [
        {
          "output_type": "stream",
          "name": "stderr",
          "text": [
            "Passing a tuple of `past_key_values` is deprecated and will be removed in Transformers v4.48.0. You should pass an instance of `EncoderDecoderCache` instead, e.g. `past_key_values=EncoderDecoderCache.from_legacy_cache(past_key_values)`.\n"
          ]
        },
        {
          "output_type": "display_data",
          "data": {
            "text/plain": [
              "<IPython.core.display.HTML object>"
            ],
            "text/html": [
              "\n",
              "    <div>\n",
              "      \n",
              "      <progress value='200' max='200' style='width:300px; height:20px; vertical-align: middle;'></progress>\n",
              "      [200/200 01:34, Epoch 1/1]\n",
              "    </div>\n",
              "    <table border=\"1\" class=\"dataframe\">\n",
              "  <thead>\n",
              " <tr style=\"text-align: left;\">\n",
              "      <th>Step</th>\n",
              "      <th>Training Loss</th>\n",
              "    </tr>\n",
              "  </thead>\n",
              "  <tbody>\n",
              "  </tbody>\n",
              "</table><p>"
            ]
          },
          "metadata": {}
        },
        {
          "output_type": "execute_result",
          "data": {
            "text/plain": [
              "TrainOutput(global_step=200, training_loss=0.822532958984375, metrics={'train_runtime': 96.2696, 'train_samples_per_second': 8.31, 'train_steps_per_second': 2.077, 'total_flos': 487166312448000.0, 'train_loss': 0.822532958984375, 'epoch': 1.0})"
            ]
          },
          "metadata": {},
          "execution_count": 18
        }
      ],
      "source": [
        "training_args = TrainingArguments(\n",
        "    output_dir=\"./results\",\n",
        "    learning_rate=2e-4,\n",
        "    per_device_train_batch_size=4,\n",
        "    per_device_eval_batch_size=4,\n",
        "    num_train_epochs=1,\n",
        "    weight_decay=0.01,\n",
        "    logging_dir=\"./logs\",\n",
        "    logging_steps=500,\n",
        "    report_to=\"none\",\n",
        "    fp16=True\n",
        ")\n",
        "\n",
        "trainer = Trainer(\n",
        "    model=t5_model,\n",
        "    args=training_args,\n",
        "    train_dataset=tokenized_dataset[\"train\"],\n",
        "    eval_dataset=tokenized_dataset[\"test\"],\n",
        ")\n",
        "\n",
        "trainer.train()"
      ]
    },
    {
      "cell_type": "markdown",
      "metadata": {
        "id": "cj4WSU-Ct_84"
      },
      "source": [
        "## Load Indonesian Named Entity Recognition (NER) Model"
      ]
    },
    {
      "cell_type": "code",
      "execution_count": 19,
      "metadata": {
        "colab": {
          "base_uri": "https://localhost:8080/",
          "height": 301,
          "referenced_widgets": [
            "be0c33425f7242058bfe8972d2174f2f",
            "62a31d039be542e7bd6393261a68b5f4",
            "b1573a336c304ac6bad1a99e446c3f12",
            "c952ac01f3e04302afa43f289cadffc3",
            "5190aae85f8f44bd808b7d6492dc8617",
            "16a4d63d28724c6dbe3439042cfe4cef",
            "c078bf2b4f7f40f1a2fb38853ae511a3",
            "3fb2e0eb11eb42668b81d6990ee8cdeb",
            "88f020c86f6642fe81463f6a1b66a11f",
            "bb76f4a47fd7426997cf6dcf04ae3b59",
            "8320c294c8e04d98be0b03a4246a684d",
            "d43b37d6960b4b5e8b36bf2270ca30af",
            "b44210435863462c844fe052bdff8821",
            "29d4dd7be4144901baaf1036a22fd1fc",
            "e1b074b5aae241628a937e5bcfa1f623",
            "d7411c33217945d493e540678080a04d",
            "694928a9f75e465c86d12ebeea6e6da8",
            "d29f86682a9a4f18adccb00b374bab0e",
            "58355043ca9142938fcee85ff4f36ca5",
            "fdd4fc469f244244bb6f909b5fd7e21c",
            "12b36cdc78c34cd8aabfd3e1eebfa729",
            "f2b82f7a8c044d03b87dba3febd9002f",
            "3d3a35f4a9914cf69aae2ffafce14cb7",
            "1226a53e73c0450abf28738d2e827f23",
            "c9bb4a8600ad4f37b8b0867edaf16bdd",
            "722c7c68991b4aa5940c6c4628a019cf",
            "1a7ac7bb4c4b4d1d91cbbab6345ee547",
            "a7793895cd3941c08f112af69d5041a8",
            "81940c22e0cc447b8a4ea8d273cb9517",
            "b38113b1df6b46888dcc6ff508d0e369",
            "661dd0bc65bb4f38acc5a16824b161ae",
            "53aff986c4e74b17aaa672d3f43e795c",
            "b9b08d90976543b580857dc2b9fcf866",
            "9c8ef2b7a3a24c609339af825b9f65a5",
            "d15104769cce4e1fbd6ea3e253597f8e",
            "e159bbb6310f4105881c0c15d0aad0a2",
            "cfdf3d802d7f4be59601a39761e3567e",
            "da7128d18c4b4b15b7efe4f51f0823e4",
            "224c317f468142e1832e2491885057dd",
            "b5f352b207234e01bac7e1512be49fa4",
            "dfe1452a851f49728e60b8034dd86c71",
            "04f658d4fa5e486fb416220e15b5f051",
            "c5db34de6eeb40ba896a0c7e87d59101",
            "7f2253f5d5ef4422a5f3f3413c9cf3c7",
            "728307e2388d436e8baff1fe0df01a5e",
            "1e0874bb23f541a7af055a879c256add",
            "39c530cc139e4248a9a4d33667134281",
            "33244ffef30d4f039d9884eb5c1468bf",
            "5a38d914c4a348c7a167471c9b949f1d",
            "c70c302a5d4447b89f2c8c57e63a74d5",
            "2419deff3c444f8ea2bc3c8750b2fd2f",
            "7052fd93de5b48c9a69859fb0211f889",
            "6bca663f854e48f982592cafdc9fe5c0",
            "932ec28d93b1479a9b310025c58f6fe4",
            "0d0a5ff7bd1a426eb824279d7b9601eb"
          ]
        },
        "id": "nty1M7Y_v-Lw",
        "outputId": "2becf2c0-1fb8-4990-cffd-9fc4ed97898f"
      },
      "outputs": [
        {
          "output_type": "display_data",
          "data": {
            "text/plain": [
              "tokenizer_config.json:   0%|          | 0.00/85.0 [00:00<?, ?B/s]"
            ],
            "application/vnd.jupyter.widget-view+json": {
              "version_major": 2,
              "version_minor": 0,
              "model_id": "be0c33425f7242058bfe8972d2174f2f"
            }
          },
          "metadata": {}
        },
        {
          "output_type": "display_data",
          "data": {
            "text/plain": [
              "config.json:   0%|          | 0.00/1.97k [00:00<?, ?B/s]"
            ],
            "application/vnd.jupyter.widget-view+json": {
              "version_major": 2,
              "version_minor": 0,
              "model_id": "d43b37d6960b4b5e8b36bf2270ca30af"
            }
          },
          "metadata": {}
        },
        {
          "output_type": "display_data",
          "data": {
            "text/plain": [
              "vocab.txt:   0%|          | 0.00/230k [00:00<?, ?B/s]"
            ],
            "application/vnd.jupyter.widget-view+json": {
              "version_major": 2,
              "version_minor": 0,
              "model_id": "3d3a35f4a9914cf69aae2ffafce14cb7"
            }
          },
          "metadata": {}
        },
        {
          "output_type": "display_data",
          "data": {
            "text/plain": [
              "special_tokens_map.json:   0%|          | 0.00/112 [00:00<?, ?B/s]"
            ],
            "application/vnd.jupyter.widget-view+json": {
              "version_major": 2,
              "version_minor": 0,
              "model_id": "9c8ef2b7a3a24c609339af825b9f65a5"
            }
          },
          "metadata": {}
        },
        {
          "output_type": "display_data",
          "data": {
            "text/plain": [
              "pytorch_model.bin:   0%|          | 0.00/443M [00:00<?, ?B/s]"
            ],
            "application/vnd.jupyter.widget-view+json": {
              "version_major": 2,
              "version_minor": 0,
              "model_id": "728307e2388d436e8baff1fe0df01a5e"
            }
          },
          "metadata": {}
        },
        {
          "output_type": "stream",
          "name": "stderr",
          "text": [
            "Some weights of the model checkpoint at cahya/bert-base-indonesian-NER were not used when initializing BertForTokenClassification: ['bert.pooler.dense.bias', 'bert.pooler.dense.weight']\n",
            "- This IS expected if you are initializing BertForTokenClassification from the checkpoint of a model trained on another task or with another architecture (e.g. initializing a BertForSequenceClassification model from a BertForPreTraining model).\n",
            "- This IS NOT expected if you are initializing BertForTokenClassification from the checkpoint of a model that you expect to be exactly identical (initializing a BertForSequenceClassification model from a BertForSequenceClassification model).\n",
            "Device set to use cuda:0\n",
            "/usr/local/lib/python3.11/dist-packages/transformers/pipelines/token_classification.py:170: UserWarning: `grouped_entities` is deprecated and will be removed in version v5.0.0, defaulted to `aggregation_strategy=\"AggregationStrategy.SIMPLE\"` instead.\n",
            "  warnings.warn(\n"
          ]
        }
      ],
      "source": [
        "ner_tokenizer = AutoTokenizer.from_pretrained(\"cahya/bert-base-indonesian-NER\")\n",
        "ner_model = AutoModelForTokenClassification.from_pretrained(\"cahya/bert-base-indonesian-NER\")\n",
        "\n",
        "ner_pipe = pipeline(\"ner\", model=ner_model, tokenizer=ner_tokenizer, grouped_entities=True)"
      ]
    },
    {
      "cell_type": "markdown",
      "metadata": {
        "id": "Xenp2jt2uqdK"
      },
      "source": [
        "## Functions"
      ]
    },
    {
      "cell_type": "code",
      "execution_count": 20,
      "metadata": {
        "id": "RZjbT79IeP_p"
      },
      "outputs": [],
      "source": [
        "def extract_entities(text, max_entities=5):\n",
        "    entities = ner_pipe(text)\n",
        "    answers = []\n",
        "    for entity in entities:\n",
        "        if entity['entity_group'] in ['PER', 'LOC', 'DAT']:\n",
        "            word = entity['word'].replace('##', '').strip()\n",
        "            if word not in answers:\n",
        "                answers.append(word)\n",
        "        if len(answers) >= max_entities:\n",
        "            break\n",
        "    return answers"
      ]
    },
    {
      "cell_type": "code",
      "execution_count": 47,
      "metadata": {
        "id": "mwr6aZjpZmja"
      },
      "outputs": [],
      "source": [
        "device = torch.device(\"cuda\" if torch.cuda.is_available() else \"cpu\")\n",
        "t5_model.to(device)\n",
        "\n",
        "def get_sentence_with_answer(text, answer):\n",
        "    sentences = re.split(r'(?<=[.!?]) +', text)\n",
        "    for sentence in sentences:\n",
        "        if answer in sentence:\n",
        "            return sentence\n",
        "    return text\n",
        "\n",
        "def generate_question_from_input(input_text):\n",
        "    inputs = tokenizer(\n",
        "        input_text,\n",
        "        return_tensors=\"pt\",\n",
        "        padding=True,\n",
        "        truncation=True,\n",
        "        max_length=512\n",
        "    ).to(device)\n",
        "\n",
        "    outputs = t5_model.generate(\n",
        "        inputs[\"input_ids\"],\n",
        "        max_length=64,\n",
        "        num_return_sequences=1,\n",
        "        do_sample=True,\n",
        "        top_k=50,\n",
        "        top_p=0.95,\n",
        "        temperature=0.8\n",
        "    )\n",
        "\n",
        "    return tokenizer.decode(outputs[0], skip_special_tokens=True)\n",
        "\n",
        "def generate_questions(text, num_questions=5):\n",
        "    answers = extract_entities(text, max_entities=num_questions)\n",
        "    questions = []\n",
        "\n",
        "    if answers:\n",
        "        for ans in answers:\n",
        "            context = get_sentence_with_answer(text, ans)\n",
        "            input_text = f\"generate question: context: {context} answer: {ans}\"\n",
        "            question = generate_question_from_input(input_text)\n",
        "            questions.append(question)\n",
        "            remaining_questions = num_questions - len(questions)\n",
        "        if remaining_questions > 0:\n",
        "            for i in range(remaining_questions):\n",
        "                input_text = f\"generate question: context: {text}\"\n",
        "                question = generate_question_from_input(input_text)\n",
        "                questions.append(question)\n",
        "    else:\n",
        "        for _ in range(num_questions):\n",
        "            input_text = f\"generate question: context: {text}\"\n",
        "            question = generate_question_from_input(input_text)\n",
        "            questions.append(question)\n",
        "\n",
        "    return questions"
      ]
    },
    {
      "cell_type": "markdown",
      "metadata": {
        "id": "KshIvBcNui-E"
      },
      "source": [
        "## Inference Process"
      ]
    },
    {
      "cell_type": "code",
      "execution_count": null,
      "metadata": {
        "colab": {
          "base_uri": "https://localhost:8080/",
          "height": 141
        },
        "id": "kPQO-ffDYj3h",
        "outputId": "ba5e5034-15eb-4c32-f55f-ebf3943c06bf"
      },
      "outputs": [
        {
          "output_type": "stream",
          "name": "stderr",
          "text": [
            "Asking to truncate to max_length but no maximum length is provided and the model has no predefined maximum length. Default to no truncation.\n"
          ]
        },
        {
          "output_type": "stream",
          "name": "stdout",
          "text": [
            "1. Kapan Dokuritsu Junbi Cosakai memulai sidang pertamanya?\n",
            "2. Apa yang dimaksudkan pada hari lahir Pancasila?\n",
            "3. Hari ulang tahun untuk apa ini terjadi?\n",
            "4. Apa yang disampaikan Presiden pertama Indonesia pada sidang Dokuritsu Junbi Cosakai?\n",
            "5. Pada tanggal 1 Juni 1945, Presiden pertama Indonesia Ir Soekarno duduk dalam sidang Dokuritsu Junbi Cosakai.\n"
          ]
        }
      ],
      "source": [
        "text = \"Hari lahir Pancasila jatuh pada tanggal 1 Juni yang ditandai oleh pidato yang dilakukan oleh Presiden pertama Indonesia Ir Soekarno pada tanggal 1 Juni 1945 dalam sidang Dokuritsu Junbi Cosakai (Badan Penyelidik Usaha Persiapan Kemerdekaan). Dalam pidatonya pertama kali mengemukakan konsep awal Pancasila yang menjadi dasar negara Indonesia. Adapun sejarahnya berawal dari kekalahan Jepang pada perang pasifik, mereka kemudian berusaha mendapatkan hati masyarakat dengan menjanjikan kemerdekaan kepada Indonesia dan membentuk sebuah Lembaga yang tugasnya untuk mempersiapkan hal tersebut. Lembaga ini dinamai Dokuritsu Junbi Cosakai. Pada sidang pertamanya di tanggal 29 Mei 1945 yang diadakan di Gedung Chuo Sangi In (sekarang Gedung Pancasila), para anggota membahas mengenai tema dasar negara. Sidang berjalan sekitar hampir 5 hari, kemudian pada tanggal 1 Juni 1945, Soekarno menyampaikan ide serta gagasannya terkait dasar negara Indonesia, yang dinamai “Pancasila”. Panca artinya lima, sedangkan sila artinya prinsip atau asas.\"\n",
        "questions = generate_questions(text, num_questions=5)\n",
        "\n",
        "for i, q in enumerate(questions, 1):\n",
        "    print(f\"{i}. {q}\")"
      ]
    },
    {
      "cell_type": "markdown",
      "source": [
        "## Evaluation"
      ],
      "metadata": {
        "id": "4xqdfy5fSym8"
      }
    },
    {
      "cell_type": "code",
      "source": [
        "scorer = rouge_scorer.RougeScorer(['rouge1', 'rouge2', 'rougeL'], use_stemmer=True)"
      ],
      "metadata": {
        "id": "hCeONS8bcgaF"
      },
      "execution_count": 22,
      "outputs": []
    },
    {
      "cell_type": "markdown",
      "source": [
        "### Data Train 500"
      ],
      "metadata": {
        "id": "lwWAqyD7dYpn"
      }
    },
    {
      "cell_type": "code",
      "source": [
        "sample_data = raw_dataset['train'][500]\n",
        "context_500 = sample_data['context']\n",
        "reference_question_500 = sample_data['question']\n",
        "\n",
        "print(\"Konteks:\\n\", context_500)\n",
        "print(\"\\nPertanyaan:\\n\", reference_question_500)"
      ],
      "metadata": {
        "colab": {
          "base_uri": "https://localhost:8080/"
        },
        "id": "JTfyK-rnTfE1",
        "outputId": "3ad41735-57f6-408a-d973-287b511804f4"
      },
      "execution_count": 23,
      "outputs": [
        {
          "output_type": "stream",
          "name": "stdout",
          "text": [
            "Konteks:\n",
            " Populasi Inggris meningkat pesat selama abad ke - 19 dan ke - 20 sedangkan populasi Skotlandia dan Wales tidak banyak meningkat selama abad ke - 20, dengan populasi Skotlandia yang tersisa tidak berubah sejak 1951. Irlandia untuk sebagian besar sejarahnya terdiri atas penduduk yang proporsional dengan daerah daratannya (sekitar sepertiga dari total populasi). Akan tetapi, karena Bala Kelaparan Irlandia Besar, populasi Irlandia telah merosot hingga kurang dari sepersepuluh penduduk Kepulauan Inggris. Kelaparan, yang menyebabkan penurunan populasi selama berabad-abad, secara drastis mengurangi populasi Irlandia dan secara permanen mengubah susunan demografis dari Kepulauan Inggris. Dalam skala global, bencana ini menyebabkan penciptaan diaspora Irlandia yang berjumlah 15 kali populasi pulau ini saat ini.\n",
            "\n",
            "Pertanyaan:\n",
            " Yang dua daerah di Kepulauan Inggris belum mengalami pertumbuhan populasi besar dalam seratus tahun terakhir?\n"
          ]
        }
      ]
    },
    {
      "cell_type": "code",
      "source": [
        "questions_500 = generate_questions(context_500, num_questions=5)\n",
        "generated_question_500 = []\n",
        "\n",
        "for i, q in enumerate(questions_500, 1):\n",
        "    generated_question_500.append(q)\n",
        "    print(f\"{i}. {q}\")"
      ],
      "metadata": {
        "colab": {
          "base_uri": "https://localhost:8080/"
        },
        "id": "ITTrf6PXT2U_",
        "outputId": "dd0c6839-00db-4649-b73a-373ea5ba1e63"
      },
      "execution_count": 48,
      "outputs": [
        {
          "output_type": "stream",
          "name": "stdout",
          "text": [
            "1. Populasi Inggris dari seluruh dunia?\n",
            "2. Apa yang menyebabkan pengurangan populasi?\n",
            "3. Apa yang menyebabkan populasi pulau Irlandia menurun dan menyusut selama berabad-abad?\n",
            "4. Apa yang terjadi pada Kepulauan Inggris?\n",
            "5. Apa masalah Irlandia dan Kepulauan Inggris?\n"
          ]
        }
      ]
    },
    {
      "cell_type": "code",
      "source": [
        "for i, q in enumerate(generated_question_500, 1):\n",
        "    scores = scorer.score(reference_question_500, q)\n",
        "    print(f\"{i}. {scores}\")"
      ],
      "metadata": {
        "colab": {
          "base_uri": "https://localhost:8080/"
        },
        "id": "cIUyCXjcS2a5",
        "outputId": "3a4e582c-f6e4-4b77-9d68-16c358a35910"
      },
      "execution_count": 49,
      "outputs": [
        {
          "output_type": "stream",
          "name": "stdout",
          "text": [
            "1. {'rouge1': Score(precision=0.4, recall=0.13333333333333333, fmeasure=0.2), 'rouge2': Score(precision=0.0, recall=0.0, fmeasure=0.0), 'rougeL': Score(precision=0.2, recall=0.06666666666666667, fmeasure=0.1)}\n",
            "2. {'rouge1': Score(precision=0.4, recall=0.13333333333333333, fmeasure=0.2), 'rouge2': Score(precision=0.0, recall=0.0, fmeasure=0.0), 'rougeL': Score(precision=0.4, recall=0.13333333333333333, fmeasure=0.2)}\n",
            "3. {'rouge1': Score(precision=0.16666666666666666, recall=0.13333333333333333, fmeasure=0.14814814814814814), 'rouge2': Score(precision=0.0, recall=0.0, fmeasure=0.0), 'rougeL': Score(precision=0.16666666666666666, recall=0.13333333333333333, fmeasure=0.14814814814814814)}\n",
            "4. {'rouge1': Score(precision=0.5, recall=0.2, fmeasure=0.28571428571428575), 'rouge2': Score(precision=0.2, recall=0.07142857142857142, fmeasure=0.10526315789473682), 'rougeL': Score(precision=0.5, recall=0.2, fmeasure=0.28571428571428575)}\n",
            "5. {'rouge1': Score(precision=0.3333333333333333, recall=0.13333333333333333, fmeasure=0.19047619047619044), 'rouge2': Score(precision=0.2, recall=0.07142857142857142, fmeasure=0.10526315789473682), 'rougeL': Score(precision=0.3333333333333333, recall=0.13333333333333333, fmeasure=0.19047619047619044)}\n"
          ]
        }
      ]
    },
    {
      "cell_type": "markdown",
      "source": [
        "### Data Train 250"
      ],
      "metadata": {
        "id": "MT30W-snderu"
      }
    },
    {
      "cell_type": "code",
      "source": [
        "sample_data = raw_dataset['train'][250]\n",
        "context_250 = sample_data['context']\n",
        "reference_question_250 = sample_data['question']\n",
        "\n",
        "print(\"Konteks:\\n\", context_250)\n",
        "print(\"\\nPertanyaan:\\n\", reference_question_250)"
      ],
      "metadata": {
        "colab": {
          "base_uri": "https://localhost:8080/"
        },
        "id": "pTObfB4CZbQx",
        "outputId": "a7c4e3e3-4dd0-4eda-f2a1-1ebe3059c96f"
      },
      "execution_count": 54,
      "outputs": [
        {
          "output_type": "stream",
          "name": "stdout",
          "text": [
            "Konteks:\n",
            " Compact Disc adalah evolusi teknologi Laser Disc, di mana sinar laser yang terfokus digunakan yang memungkinkan kepadatan informasi tinggi yang diperlukan untuk sinyal audio digital berkualitas tinggi. Prototipe dikembangkan oleh Philips dan Sony secara independen pada akhir 1970-an. Pada tahun 1979, Sony dan Philips mendirikan satuan tugas gabungan para insinyur untuk merancang cakram audio digital yang baru. Setelah satu tahun eksperimen dan diskusi, standar CD-DA Buku Merah diterbitkan pada tahun 1980. Setelah rilis komersial mereka pada tahun 1982, compact disc dan pemain mereka sangat populer. Meskipun harganya mencapai 1.000 dolar, lebih dari 400.000 pemutar CD dijual di Amerika Serikat antara tahun 1983 dan 1984. Keberhasilan cakram compact telah dianggap sebagai hasil kerja sama antara Philips dan Sony, yang datang bersama - sama untuk menyetujui dan mengembangkan perangkat keras yang kompatibel. Desain terpadu dari cakram compact memungkinkan konsumen membeli cakram atau pemutar apapun dari perusahaan mana pun, dan membiarkan CD mendominasi pasar musik di rumah tak tertandingi.\n",
            "\n",
            "Pertanyaan:\n",
            " Apa yang memungkinkan CD dimainkan pada CD player perusahaan mana pun?\n"
          ]
        }
      ]
    },
    {
      "cell_type": "code",
      "source": [
        "questions_250 = generate_questions(context_250, num_questions=5)\n",
        "generated_question_250 = []\n",
        "\n",
        "for i, q in enumerate(questions_250, 1):\n",
        "    generated_question_250.append(q)\n",
        "    print(f\"{i}. {q}\")"
      ],
      "metadata": {
        "colab": {
          "base_uri": "https://localhost:8080/"
        },
        "id": "1j1Zl6lNZkFR",
        "outputId": "2060af09-4027-402e-d31e-98a9fac67e58"
      },
      "execution_count": 55,
      "outputs": [
        {
          "output_type": "stream",
          "name": "stdout",
          "text": [
            "1. Kapan The Stungs?\n",
            "2. Pada tahun 1979, Sony dan Philips mendirikan sebuah negara yang menggabungkan insinyur untuk menyusun cakram audio digital baru.\n",
            "3. Berapa lama standar CD-DA Buku Merah diterbitkan?\n",
            "4. Apa yang dishec bermain disc pada tahun 1982?\n",
            "5. Berapa banyak pemutar CD yang dijual di Amerika Serikat antara tahun 1983 dan 1984?\n"
          ]
        }
      ]
    },
    {
      "cell_type": "code",
      "source": [
        "for i, q in enumerate(generated_question_250, 1):\n",
        "    scores = scorer.score(reference_question_250, q)\n",
        "    print(f\"{i}. {scores}\")"
      ],
      "metadata": {
        "colab": {
          "base_uri": "https://localhost:8080/"
        },
        "id": "OrzGzR38cV7L",
        "outputId": "6da1ff0f-d62f-424f-9995-c1101633bc11"
      },
      "execution_count": 56,
      "outputs": [
        {
          "output_type": "stream",
          "name": "stdout",
          "text": [
            "1. {'rouge1': Score(precision=0.0, recall=0.0, fmeasure=0.0), 'rouge2': Score(precision=0.0, recall=0.0, fmeasure=0.0), 'rougeL': Score(precision=0.0, recall=0.0, fmeasure=0.0)}\n",
            "2. {'rouge1': Score(precision=0.1111111111111111, recall=0.18181818181818182, fmeasure=0.13793103448275862), 'rouge2': Score(precision=0.0, recall=0.0, fmeasure=0.0), 'rougeL': Score(precision=0.05555555555555555, recall=0.09090909090909091, fmeasure=0.06896551724137931)}\n",
            "3. {'rouge1': Score(precision=0.125, recall=0.09090909090909091, fmeasure=0.10526315789473685), 'rouge2': Score(precision=0.0, recall=0.0, fmeasure=0.0), 'rougeL': Score(precision=0.125, recall=0.09090909090909091, fmeasure=0.10526315789473685)}\n",
            "4. {'rouge1': Score(precision=0.375, recall=0.2727272727272727, fmeasure=0.3157894736842105), 'rouge2': Score(precision=0.14285714285714285, recall=0.1, fmeasure=0.11764705882352941), 'rougeL': Score(precision=0.375, recall=0.2727272727272727, fmeasure=0.3157894736842105)}\n",
            "5. {'rouge1': Score(precision=0.14285714285714285, recall=0.18181818181818182, fmeasure=0.16), 'rouge2': Score(precision=0.0, recall=0.0, fmeasure=0.0), 'rougeL': Score(precision=0.07142857142857142, recall=0.09090909090909091, fmeasure=0.08)}\n"
          ]
        }
      ]
    },
    {
      "cell_type": "markdown",
      "source": [
        "### Data Train 150"
      ],
      "metadata": {
        "id": "M_Qtap90do-R"
      }
    },
    {
      "cell_type": "code",
      "source": [
        "sample_data = raw_dataset['train'][150]\n",
        "context_150 = sample_data['context']\n",
        "reference_question_150 = sample_data['question']\n",
        "\n",
        "print(\"Konteks:\\n\", context_150)\n",
        "print(\"\\nPertanyaan:\\n\", reference_question_150)"
      ],
      "metadata": {
        "colab": {
          "base_uri": "https://localhost:8080/"
        },
        "id": "dUrUrAk-dzBC",
        "outputId": "963b44c9-627d-4410-d1ef-e40fd8e3268f"
      },
      "execution_count": 63,
      "outputs": [
        {
          "output_type": "stream",
          "name": "stdout",
          "text": [
            "Konteks:\n",
            " BBC juga memperkenalkan Ceefax, layanan teleteks pertama, mulai tahun 1974. Layanan ini memungkinkan pemirsa BBC untuk melihat informasi tekstual seperti berita terbaru di televisi mereka. CEEFAX belum membuat transisi penuh ke televisi digital, alih-alih digantikan oleh layanan BBCi interaktif baru.\n",
            "\n",
            "Pertanyaan:\n",
            " Kapan Ceefax diluncurkan?\n"
          ]
        }
      ]
    },
    {
      "cell_type": "code",
      "source": [
        "questions_150 = generate_questions(context_150, num_questions=5)\n",
        "generated_question_150 = []\n",
        "\n",
        "for i, q in enumerate(questions_150, 1):\n",
        "    generated_question_150.append(q)\n",
        "    print(f\"{i}. {q}\")"
      ],
      "metadata": {
        "colab": {
          "base_uri": "https://localhost:8080/"
        },
        "id": "52g485CjeK38",
        "outputId": "1d7a4fb1-2b80-46be-c774-7359dcfddb74"
      },
      "execution_count": 64,
      "outputs": [
        {
          "output_type": "stream",
          "name": "stdout",
          "text": [
            "1. Siapa penyedia telekomunikasi pertama?\n",
            "2. Apa nama Ceefax?\n",
            "3. Di mana CEEFMX diperkenalkan?\n",
            "4. Kapan Ceefax diperkenalkan?\n",
            "5. Siapa yang \"terdebat sepenuhnya ke televisi digital?\"\n"
          ]
        }
      ]
    },
    {
      "cell_type": "code",
      "source": [
        "for i, q in enumerate(generated_question_150, 1):\n",
        "    scores = scorer.score(reference_question_150, q)\n",
        "    print(f\"{i}. {scores}\")"
      ],
      "metadata": {
        "colab": {
          "base_uri": "https://localhost:8080/"
        },
        "id": "t9_RITbNeRYr",
        "outputId": "4bc26d01-f139-4580-dcc6-042af1caa690"
      },
      "execution_count": 65,
      "outputs": [
        {
          "output_type": "stream",
          "name": "stdout",
          "text": [
            "1. {'rouge1': Score(precision=0.0, recall=0.0, fmeasure=0.0), 'rouge2': Score(precision=0.0, recall=0.0, fmeasure=0.0), 'rougeL': Score(precision=0.0, recall=0.0, fmeasure=0.0)}\n",
            "2. {'rouge1': Score(precision=0.3333333333333333, recall=0.3333333333333333, fmeasure=0.3333333333333333), 'rouge2': Score(precision=0.0, recall=0.0, fmeasure=0.0), 'rougeL': Score(precision=0.3333333333333333, recall=0.3333333333333333, fmeasure=0.3333333333333333)}\n",
            "3. {'rouge1': Score(precision=0.0, recall=0.0, fmeasure=0.0), 'rouge2': Score(precision=0.0, recall=0.0, fmeasure=0.0), 'rougeL': Score(precision=0.0, recall=0.0, fmeasure=0.0)}\n",
            "4. {'rouge1': Score(precision=0.6666666666666666, recall=0.6666666666666666, fmeasure=0.6666666666666666), 'rouge2': Score(precision=0.5, recall=0.5, fmeasure=0.5), 'rougeL': Score(precision=0.6666666666666666, recall=0.6666666666666666, fmeasure=0.6666666666666666)}\n",
            "5. {'rouge1': Score(precision=0.0, recall=0.0, fmeasure=0.0), 'rouge2': Score(precision=0.0, recall=0.0, fmeasure=0.0), 'rougeL': Score(precision=0.0, recall=0.0, fmeasure=0.0)}\n"
          ]
        }
      ]
    },
    {
      "cell_type": "markdown",
      "source": [
        "### Data Train 50"
      ],
      "metadata": {
        "id": "_NMuU3IOwDhe"
      }
    },
    {
      "cell_type": "code",
      "source": [
        "sample_data = raw_dataset['train'][50]\n",
        "context_50 = sample_data['context']\n",
        "reference_question_50 = sample_data['question']\n",
        "\n",
        "print(\"Konteks:\\n\", context_50)\n",
        "print(\"\\nPertanyaan:\\n\", reference_question_50)"
      ],
      "metadata": {
        "colab": {
          "base_uri": "https://localhost:8080/"
        },
        "id": "hjjgYyQiwGC0",
        "outputId": "5d86ce5a-9c2e-4188-dde9-4e57aaa8b63b"
      },
      "execution_count": 68,
      "outputs": [
        {
          "output_type": "stream",
          "name": "stdout",
          "text": [
            "Konteks:\n",
            " Gletser membentuk di mana akumulasi salju dan es melebihi ablasi. Daerah di mana bentuk gletser disebut sirque (korie atau cwm) - yang biasanya berbentuk kursi fitur geologi (seperti depresi antara gunung yang tertutup oleh arêtes) - yang mengumpulkan dan memampatkan melalui gravitasi salju yang jatuh ke dalamnya. Salju ini mengumpulkan dan dipadatkan oleh berat salju yang jatuh di atasnya membentuk névé. Lebih menghancurkan setiap kepingan salju dan meremas udara dari salju mengubahnya menjadi 'es glocial'. Es glacial ini akan mengisi Cirque sampai 'overflows' melalui kelemahan geologi atau kekosongan, seperti kesenjangan antara dua gunung. Ketika massa salju dan es cukup tebal, mulai bergerak karena kombinasi lereng permukaan, gravitasi dan tekanan. Di lereng yang curam, ini dapat terjadi dengan hanya 15 meter (50 kaki) es salju.\n",
            "\n",
            "Pertanyaan:\n",
            " Apa itu Cirque?\n"
          ]
        }
      ]
    },
    {
      "cell_type": "code",
      "source": [
        "questions_50 = generate_questions(context_50, num_questions=5)\n",
        "generated_question_50 = []\n",
        "\n",
        "for i, q in enumerate(questions_50, 1):\n",
        "    generated_question_50.append(q)\n",
        "    print(f\"{i}. {q}\")"
      ],
      "metadata": {
        "colab": {
          "base_uri": "https://localhost:8080/"
        },
        "id": "1R4KS4QKwMJe",
        "outputId": "69bfb844-331e-46c5-c9da-81b6b1166c38"
      },
      "execution_count": 71,
      "outputs": [
        {
          "output_type": "stream",
          "name": "stdout",
          "text": [
            "1. Apa yang paling kerap digunakan sebagai tempat penimbangan salju?\n",
            "2. Apa yang di mana sirque atau cwm disebut?\n",
            "3. Di mana gletser disebut sirque, atau Cwm?\n",
            "4. Apa arti es glocial?\n",
            "5. Apa itu es glacial?\n"
          ]
        }
      ]
    },
    {
      "cell_type": "code",
      "source": [
        "for i, q in enumerate(generated_question_50, 1):\n",
        "    scores = scorer.score(reference_question_50, q)\n",
        "    print(f\"{i}. {scores}\")"
      ],
      "metadata": {
        "colab": {
          "base_uri": "https://localhost:8080/"
        },
        "id": "7Ozgl_r1wSDR",
        "outputId": "e0e95229-6e18-4d76-835e-bb677421c6da"
      },
      "execution_count": 72,
      "outputs": [
        {
          "output_type": "stream",
          "name": "stdout",
          "text": [
            "1. {'rouge1': Score(precision=0.1111111111111111, recall=0.3333333333333333, fmeasure=0.16666666666666666), 'rouge2': Score(precision=0.0, recall=0.0, fmeasure=0.0), 'rougeL': Score(precision=0.1111111111111111, recall=0.3333333333333333, fmeasure=0.16666666666666666)}\n",
            "2. {'rouge1': Score(precision=0.125, recall=0.3333333333333333, fmeasure=0.18181818181818182), 'rouge2': Score(precision=0.0, recall=0.0, fmeasure=0.0), 'rougeL': Score(precision=0.125, recall=0.3333333333333333, fmeasure=0.18181818181818182)}\n",
            "3. {'rouge1': Score(precision=0.0, recall=0.0, fmeasure=0.0), 'rouge2': Score(precision=0.0, recall=0.0, fmeasure=0.0), 'rougeL': Score(precision=0.0, recall=0.0, fmeasure=0.0)}\n",
            "4. {'rouge1': Score(precision=0.25, recall=0.3333333333333333, fmeasure=0.28571428571428575), 'rouge2': Score(precision=0.0, recall=0.0, fmeasure=0.0), 'rougeL': Score(precision=0.25, recall=0.3333333333333333, fmeasure=0.28571428571428575)}\n",
            "5. {'rouge1': Score(precision=0.5, recall=0.6666666666666666, fmeasure=0.5714285714285715), 'rouge2': Score(precision=0.3333333333333333, recall=0.5, fmeasure=0.4), 'rougeL': Score(precision=0.5, recall=0.6666666666666666, fmeasure=0.5714285714285715)}\n"
          ]
        }
      ]
    },
    {
      "cell_type": "markdown",
      "source": [
        "### Data Train 5"
      ],
      "metadata": {
        "id": "VxVawvTvwtpp"
      }
    },
    {
      "cell_type": "code",
      "source": [
        "sample_data = raw_dataset['train'][5]\n",
        "context_5 = sample_data['context']\n",
        "reference_question_5 = sample_data['question']\n",
        "\n",
        "print(\"Konteks:\\n\", context_5)\n",
        "print(\"\\nPertanyaan:\\n\", reference_question_5)"
      ],
      "metadata": {
        "colab": {
          "base_uri": "https://localhost:8080/"
        },
        "id": "cmQh3Xd5wwRw",
        "outputId": "3778f771-94b4-491d-ae92-8833cb7cc7b4"
      },
      "execution_count": 78,
      "outputs": [
        {
          "output_type": "stream",
          "name": "stdout",
          "text": [
            "Konteks:\n",
            " Teknik pemisahan modern seperti menggiling, centrifugasi, dan menekan telah memungkinkan konsentrasi komponen makanan tertentu, menghasilkan tepung, minyak, jus, dan sebagainya, dan bahkan asam lemak yang terpisah, asam amino, vitamin, dan mineral. Tak pelak lagi, konsentrasi besar-besaran ini mengubah kandungan gizi makanan, menyimpan nutrisi tertentu sambil menyingkirkan yang lain. Teknik Heating juga dapat mengurangi kandungan makanan dari banyak nutrisi panas-labile seperti vitamin tertentu dan fitokimia, dan mungkin lainnya belum ditemukan zat. Karena nilai gizi yang berkurang, makanan olahan sering kali 'dikayakan' atau 'dibentengi' dengan beberapa nutrisi yang paling penting (biasanya vitamin tertentu) yang hilang selama proses. Meskipun demikian, makanan olahan cenderung memiliki profil gizi rendah dibandingkan dengan makanan yang utuh dan segar, sehubungan dengan kandungan baik gula maupun tinggi GI pati, kalium/sodium, vitamin, serat, dan asam lemak yang utuh, tidak teroksidasi (penting). Selain itu, makanan olahan sering kali mengandung zat - zat berbahaya seperti lemak teroksidasi dan asam lemak trans.\n",
            "\n",
            "Pertanyaan:\n",
            " Efek samping yang disayangkan karena memusatkan komponen makanan adalah apa yang menyebabkan perubahan makanan?\n"
          ]
        }
      ]
    },
    {
      "cell_type": "code",
      "source": [
        "questions_5 = generate_questions(context_5, num_questions=5)\n",
        "generated_question_5 = []\n",
        "\n",
        "for i, q in enumerate(questions_5, 1):\n",
        "    generated_question_5.append(q)\n",
        "    print(f\"{i}. {q}\")"
      ],
      "metadata": {
        "colab": {
          "base_uri": "https://localhost:8080/"
        },
        "id": "x03fOxtWw1AC",
        "outputId": "f8d63c7b-69e9-49a2-aaf4-e21fd93ade41"
      },
      "execution_count": 79,
      "outputs": [
        {
          "output_type": "stream",
          "name": "stdout",
          "text": [
            "1. Makan apa yang mendapat manfaat?\n",
            "2. Bagaimana teknik pemisahan bisnis?\n",
            "3. Apa yang disebut \"penggunaan yang paling berkesan\"?\n",
            "4. Apa yang membuat makanan olahan mengandung zat-zat apa?\n",
            "5. Apa yang dilakukan dengan cara ini?\n"
          ]
        }
      ]
    },
    {
      "cell_type": "code",
      "source": [
        "for i, q in enumerate(generated_question_5, 1):\n",
        "    scores = scorer.score(reference_question_5, q)\n",
        "    print(f\"{i}. {scores}\")"
      ],
      "metadata": {
        "colab": {
          "base_uri": "https://localhost:8080/"
        },
        "id": "paKSjwE7w7l5",
        "outputId": "f9da2796-5fd2-4abe-a4f8-60b493b44ab2"
      },
      "execution_count": 80,
      "outputs": [
        {
          "output_type": "stream",
          "name": "stdout",
          "text": [
            "1. {'rouge1': Score(precision=0.4, recall=0.14285714285714285, fmeasure=0.21052631578947364), 'rouge2': Score(precision=0.25, recall=0.07692307692307693, fmeasure=0.11764705882352941), 'rougeL': Score(precision=0.4, recall=0.14285714285714285, fmeasure=0.21052631578947364)}\n",
            "2. {'rouge1': Score(precision=0.0, recall=0.0, fmeasure=0.0), 'rouge2': Score(precision=0.0, recall=0.0, fmeasure=0.0), 'rougeL': Score(precision=0.0, recall=0.0, fmeasure=0.0)}\n",
            "3. {'rouge1': Score(precision=0.42857142857142855, recall=0.21428571428571427, fmeasure=0.2857142857142857), 'rouge2': Score(precision=0.16666666666666666, recall=0.07692307692307693, fmeasure=0.10526315789473684), 'rougeL': Score(precision=0.2857142857142857, recall=0.14285714285714285, fmeasure=0.19047619047619047)}\n",
            "4. {'rouge1': Score(precision=0.3333333333333333, recall=0.21428571428571427, fmeasure=0.2608695652173913), 'rouge2': Score(precision=0.125, recall=0.07692307692307693, fmeasure=0.09523809523809525), 'rougeL': Score(precision=0.3333333333333333, recall=0.21428571428571427, fmeasure=0.2608695652173913)}\n",
            "5. {'rouge1': Score(precision=0.3333333333333333, recall=0.14285714285714285, fmeasure=0.2), 'rouge2': Score(precision=0.2, recall=0.07692307692307693, fmeasure=0.1111111111111111), 'rougeL': Score(precision=0.3333333333333333, recall=0.14285714285714285, fmeasure=0.2)}\n"
          ]
        }
      ]
    },
    {
      "cell_type": "markdown",
      "metadata": {
        "id": "qIgEOJqquOLg"
      },
      "source": [
        "## Save Pretrained Model and Tokenizer"
      ]
    },
    {
      "cell_type": "code",
      "execution_count": 81,
      "metadata": {
        "colab": {
          "base_uri": "https://localhost:8080/"
        },
        "id": "tbBkqaqweOZT",
        "outputId": "2c7ba5c3-a19b-4560-f9a1-9fffeb448fdc"
      },
      "outputs": [
        {
          "output_type": "execute_result",
          "data": {
            "text/plain": [
              "('qg_model/tokenizer_config.json',\n",
              " 'qg_model/special_tokens_map.json',\n",
              " 'qg_model/spiece.model',\n",
              " 'qg_model/added_tokens.json')"
            ]
          },
          "metadata": {},
          "execution_count": 81
        }
      ],
      "source": [
        "t5_model.save_pretrained(\"qg_model\")\n",
        "tokenizer.save_pretrained(\"qg_model\")"
      ]
    }
  ],
  "metadata": {
    "colab": {
      "provenance": [],
      "toc_visible": true,
      "gpuType": "T4"
    },
    "kernelspec": {
      "display_name": "Python 3",
      "name": "python3"
    },
    "language_info": {
      "name": "python"
    },
    "accelerator": "GPU"
  },
  "nbformat": 4,
  "nbformat_minor": 0
}
